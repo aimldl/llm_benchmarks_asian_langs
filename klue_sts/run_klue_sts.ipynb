{
 "cells": [
  {
   "cell_type": "markdown",
   "id": "d4d2c1f6-cdb1-40df-b5df-2efe81b471a0",
   "metadata": {},
   "source": [
    "# Running the KLUE STS (Semantic Textual Similarity) Benchmark\n",
    "\n",
    "## Ensure `klue_sts` is the current working directory\n",
    "\n"
   ]
  },
  {
   "cell_type": "code",
   "execution_count": 1,
   "id": "efaae47f-aed1-4327-a0af-02905cc78f4c",
   "metadata": {},
   "outputs": [
    {
     "data": {
      "text/plain": [
       "'/usr/local/google/home/thekim/github/aimldl/llm_benchmarks_asian_langs/klue_sts'"
      ]
     },
     "execution_count": 1,
     "metadata": {},
     "output_type": "execute_result"
    }
   ],
   "source": [
    "%pwd"
   ]
  },
  {
   "cell_type": "code",
   "execution_count": 2,
   "id": "8827fecd-ff3f-41e3-8d14-e1bcb22b8328",
   "metadata": {},
   "outputs": [
    {
     "name": "stdout",
     "output_type": "stream",
     "text": [
      "ABOUT_KLUE_STS.md   \u001b[0m\u001b[01;32minstall_dependencies.sh\u001b[0m*    \u001b[01;32mrun\u001b[0m*\n",
      "README.md           klue_sts-gemini2_5flash.py  run_klue_sts.ipynb\n",
      "\u001b[01;34mbenchmark_results\u001b[0m/  \u001b[01;34mlogs\u001b[0m/                       \u001b[01;32msetup.sh\u001b[0m*\n",
      "\u001b[01;34meval_dataset\u001b[0m/       requirements.txt            test_setup.py\n",
      "\u001b[01;32mget_errors.sh\u001b[0m*      \u001b[01;34mresult_analysis\u001b[0m/\n"
     ]
    }
   ],
   "source": [
    "%ls"
   ]
  },
  {
   "cell_type": "markdown",
   "id": "a24c70d5-c26c-451d-9381-cf0dc38bf54f",
   "metadata": {},
   "source": [
    "### Set up"
   ]
  },
  {
   "cell_type": "code",
   "execution_count": 3,
   "id": "25b7fdbd-b93d-45cb-af90-dedb6e4f8af2",
   "metadata": {},
   "outputs": [
    {
     "name": "stdout",
     "output_type": "stream",
     "text": [
      "\u001b[0;34m[INFO]\u001b[0m Running complete setup...\n",
      "\u001b[0;34m[INFO]\u001b[0m Checking prerequisites...\n",
      "\u001b[0;32m[SUCCESS]\u001b[0m Python 3.11 found\n",
      "\u001b[0;32m[SUCCESS]\u001b[0m pip found\n",
      "\u001b[0;32m[SUCCESS]\u001b[0m Google Cloud SDK found\n",
      "\u001b[0;32m[SUCCESS]\u001b[0m Prerequisites check passed\n",
      "\u001b[0;34m[INFO]\u001b[0m Installing Python dependencies...\n",
      "\u001b[0;32m[SUCCESS]\u001b[0m Dependencies installed successfully!\n",
      "\u001b[0;34m[INFO]\u001b[0m Creating necessary directories...\n",
      "\u001b[0;32m[SUCCESS]\u001b[0m Directories created successfully!\n",
      "\u001b[0;34m[INFO]\u001b[0m Verifying KLUE STS dataset...\n",
      "\u001b[0;32m[SUCCESS]\u001b[0m KLUE STS dataset found\n",
      "\u001b[0;32m[SUCCESS]\u001b[0m KLUE STS extracted dataset found\n",
      "\u001b[0;34m[INFO]\u001b[0m Checking Google Cloud authentication...\n",
      "\u001b[0;32m[SUCCESS]\u001b[0m Google Cloud authentication found\n",
      "\u001b[0;34m[INFO]\u001b[0m Running setup tests...\n",
      "============================================================\n",
      "KLUE STS Benchmark Setup Test (Vertex AI)\n",
      "============================================================\n",
      "Testing package imports...\n",
      "✓ google.cloud.aiplatform\n",
      "✓ vertexai\n",
      "✓ datasets\n",
      "✓ pandas\n",
      "✓ tqdm\n",
      "✓ huggingface_hub\n",
      "✓ google.auth\n",
      "✓ sklearn\n",
      "✓ numpy\n",
      "\n",
      "✅ All packages imported successfully!\n",
      "\n",
      "Testing environment variables...\n",
      "✓ GOOGLE_CLOUD_PROJECT: vertex-workbench-notebook\n",
      "⚠ GOOGLE_APPLICATION_CREDENTIALS: Not set (using default credentials)\n",
      "\n",
      "Testing KLUE STS dataset loading...\n",
      "train-00000-of-00001.parquet: 100%|████████| 1.52M/1.52M [00:00<00:00, 3.36MB/s]\n",
      "validation-00000-of-00001.parquet: 100%|███| 68.8k/68.8k [00:00<00:00, 37.9MB/s]\n",
      "Generating train split: 100%|█| 11668/11668 [00:00<00:00, 1039466.86 examples/s]\n",
      "Generating validation split: 100%|█| 519/519 [00:00<00:00, 228156.77 examples/s]\n",
      "✓ KLUE STS dataset loaded successfully\n",
      "  - Train samples: 11668\n",
      "  - Validation samples: 519\n",
      "  - Sample from validation set:\n",
      "    - Sentence 1: 무엇보다도 호스트분들이 너무 친절하셨습니다....\n",
      "    - Sentence 2: 무엇보다도, 호스트들은 매우 친절했습니다....\n",
      "    - Similarity Score: 4.9\n",
      "\n",
      "Testing Vertex AI authentication...\n",
      "✓ Credentials found\n",
      "  - Project: vertex-workbench-notebook\n",
      "  - Credentials type: Credentials\n",
      "✓ Vertex AI initialization works\n",
      "✗ Failed to test metrics calculation: cannot import name 'pearsonr' from 'sklearn.metrics' (/usr/local/google/home/thekim/anaconda3/envs/klue/lib/python3.11/site-packages/sklearn/metrics/__init__.py)\n",
      "\n",
      "============================================================\n",
      "Test Summary\n",
      "============================================================\n",
      "❌ Some tests failed. Please fix the issues above.\n",
      "\u001b[0;31m[ERROR]\u001b[0m Setup tests failed\n"
     ]
    }
   ],
   "source": [
    "!./setup.sh full"
   ]
  },
  {
   "cell_type": "markdown",
   "id": "f019c70b-c9e5-42ca-9a94-9228a44bcfb5",
   "metadata": {},
   "source": [
    "### Test-run"
   ]
  },
  {
   "cell_type": "code",
   "execution_count": 4,
   "id": "eb9dc522-2977-462e-892d-f3c79e94ffad",
   "metadata": {},
   "outputs": [
    {
     "name": "stdout",
     "output_type": "stream",
     "text": [
      "\u001b[0;34m[INFO]\u001b[0m Using Google Cloud project: vertex-workbench-notebook\n",
      "\u001b[0;34m[INFO]\u001b[0m Running test benchmark with 10 samples...\n",
      "Traceback (most recent call last):\n",
      "  File \"/usr/local/google/home/thekim/github/aimldl/llm_benchmarks_asian_langs/klue_sts/klue_sts-gemini2_5flash.py\", line 26, in <module>\n",
      "    from sklearn.metrics import pearsonr, spearmanr, mean_squared_error, mean_absolute_error\n",
      "ImportError: cannot import name 'pearsonr' from 'sklearn.metrics' (/usr/local/google/home/thekim/anaconda3/envs/klue/lib/python3.11/site-packages/sklearn/metrics/__init__.py)\n",
      "\u001b[0;32m[SUCCESS]\u001b[0m Test benchmark completed!\n"
     ]
    }
   ],
   "source": [
    "!./run test"
   ]
  },
  {
   "cell_type": "markdown",
   "id": "1eb5d028-76a8-4ff0-8737-a2fb73d73b11",
   "metadata": {},
   "source": [
    "#### Test with More Samples"
   ]
  },
  {
   "cell_type": "code",
   "execution_count": 5,
   "id": "47e7096a-3323-4a9b-9f0b-85eebfb0ff82",
   "metadata": {},
   "outputs": [
    {
     "name": "stdout",
     "output_type": "stream",
     "text": [
      "\u001b[0;34m[INFO]\u001b[0m Using Google Cloud project: vertex-workbench-notebook\n",
      "\u001b[0;34m[INFO]\u001b[0m Running custom benchmark with 50 samples...\n",
      "Traceback (most recent call last):\n",
      "  File \"/usr/local/google/home/thekim/github/aimldl/llm_benchmarks_asian_langs/klue_sts/klue_sts-gemini2_5flash.py\", line 26, in <module>\n",
      "    from sklearn.metrics import pearsonr, spearmanr, mean_squared_error, mean_absolute_error\n",
      "ImportError: cannot import name 'pearsonr' from 'sklearn.metrics' (/usr/local/google/home/thekim/anaconda3/envs/klue/lib/python3.11/site-packages/sklearn/metrics/__init__.py)\n",
      "\u001b[0;32m[SUCCESS]\u001b[0m Custom benchmark completed!\n"
     ]
    }
   ],
   "source": [
    "!./run custom 50"
   ]
  },
  {
   "cell_type": "markdown",
   "id": "0f05838d",
   "metadata": {},
   "source": [
    "### Baseline Performance\n",
    "To evaluate baseline performance, use the `./run full` command. Be aware that this process is time-consuming and may run overnight or for a full workday.\n",
    "\n",
    "To ensure uninterrupted execution, even if your terminal disconnects, we highly recommend running `./run full` within a `tmux` session.\n",
    "\n",
    "#### `tmux` Session Commands:\n",
    "- Create and start a new session: tmux new -s klue\n",
    "- Run the command within the session: ./run full\n",
    "- Detach from the session: Press Ctrl+b then d\n",
    "- Reattach to the klue session: tmux attach -t klue\n",
    "For more detailed information on tmux, refer to background_processing_with_tmux.md\n",
    "\n",
    "Alternatively, you can use the nohup command to run the process in the background, allowing it to continue after you log out of your session.\n",
    "\n",
    "# Running the command in the background is recommended.\n",
    "# Uncomment the following command if you still wish to run it in a cell\n",
    "#!./run full\n"
   ]
  },
  {
   "cell_type": "markdown",
   "id": "842935be-5252-4fba-bf65-7500b0e296f7",
   "metadata": {},
   "source": [
    "#### Test with All Samples"
   ]
  },
  {
   "cell_type": "code",
   "execution_count": null,
   "id": "b97db76d-c340-4e7b-9551-2e3ec24e064d",
   "metadata": {},
   "outputs": [],
   "source": [
    "!./run full"
   ]
  }
 ],
 "metadata": {
  "kernelspec": {
   "display_name": "Python 3 (ipykernel)",
   "language": "python",
   "name": "python3"
  },
  "language_info": {
   "codemirror_mode": {
    "name": "ipython",
    "version": 3
   },
   "file_extension": ".py",
   "mimetype": "text/x-python",
   "name": "python",
   "nbconvert_exporter": "python",
   "pygments_lexer": "ipython3",
   "version": "3.11.13"
  }
 },
 "nbformat": 4,
 "nbformat_minor": 5
}
