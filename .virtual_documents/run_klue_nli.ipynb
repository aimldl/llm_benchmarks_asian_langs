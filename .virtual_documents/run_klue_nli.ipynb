


%pwd





%cd klue_nli


%ls





!./setup.sh full





!./run test





!./run full








!./run test






