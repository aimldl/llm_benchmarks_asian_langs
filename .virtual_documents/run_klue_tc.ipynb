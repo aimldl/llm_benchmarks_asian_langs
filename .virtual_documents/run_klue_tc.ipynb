


%pwd





%cd klue_tc


%ls





!./setup.sh full





!./run test


!./run test


!./run test





!./run test





!./run custom 100






