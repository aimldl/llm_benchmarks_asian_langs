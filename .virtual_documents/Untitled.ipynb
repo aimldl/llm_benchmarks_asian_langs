





%cd klue_tc


%pwd



