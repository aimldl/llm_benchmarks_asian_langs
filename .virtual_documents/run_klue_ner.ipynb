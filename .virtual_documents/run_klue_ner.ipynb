


%pwd





%cd klue_ner


%ls





!./setup.sh full





!./run test








!./run custom 100





!./run full
