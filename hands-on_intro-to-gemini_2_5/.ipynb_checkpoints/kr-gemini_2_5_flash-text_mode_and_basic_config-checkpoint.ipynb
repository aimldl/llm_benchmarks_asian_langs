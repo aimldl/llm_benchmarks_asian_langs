{
 "cells": [
  {
   "cell_type": "code",
   "execution_count": 72,
   "metadata": {
    "id": "sqi5B7V_Rjim"
   },
   "outputs": [],
   "source": [
    "# Copyright 2025 Google LLC\n",
    "#\n",
    "# Licensed under the Apache License, Version 2.0 (the \"License\");\n",
    "# you may not use this file except in compliance with the License.\n",
    "# You may obtain a copy of the License at\n",
    "#\n",
    "#     https://www.apache.org/licenses/LICENSE-2.0\n",
    "#\n",
    "# Unless required by applicable law or agreed to in writing, software\n",
    "# distributed under the License is distributed on an \"AS IS\" BASIS,\n",
    "# WITHOUT WARRANTIES OR CONDITIONS OF ANY KIND, either express or implied.\n",
    "# See the License for the specific language governing permissions and\n",
    "# limitations under the License."
   ]
  },
  {
   "cell_type": "markdown",
   "metadata": {
    "id": "VyPmicX9RlZX"
   },
   "source": [
    "# Gemini 2.5 Flash > 텍스트 모드와 기본 설정 소개\n",
    "\n",
    "<table align=\"left\">\n",
    "  <td style=\"text-align: center\">\n",
    "    <a href=\"https://colab.research.google.com/github/GoogleCloudPlatform/generative-ai/blob/main/gemini/getting-started/intro_gemini_2_5_flash.ipynb\">\n",
    "      <img width=\"32px\" src=\"https://www.gstatic.com/pantheon/images/bigquery/welcome_page/colab-logo.svg\" alt=\"Google Colaboratory logo\"><br> Open in Colab\n",
    "    </a>\n",
    "  </td>\n",
    "  <td style=\"text-align: center\">\n",
    "    <a href=\"https://console.cloud.google.com/vertex-ai/colab/import/https:%2F%2Fraw.githubusercontent.com%2FGoogleCloudPlatform%2Fgenerative-ai%2Fmain%2Fgemini%2Fgetting-started%2Fintro_gemini_2_5_flash.ipynb\">\n",
    "      <img width=\"32px\" src=\"https://lh3.googleusercontent.com/JmcxdQi-qOpctIvWKgPtrzZdJJK-J3sWE1RsfjZNwshCFgE_9fULcNpuXYTilIR2hjwN\" alt=\"Google Cloud Colab Enterprise logo\"><br> Open in Colab Enterprise\n",
    "    </a>\n",
    "  </td>\n",
    "  <td style=\"text-align: center\">\n",
    "    <a href=\"https://console.cloud.google.com/vertex-ai/workbench/deploy-notebook?download_url=https://raw.githubusercontent.com/GoogleCloudPlatform/generative-ai/main/gemini/getting-started/intro_gemini_2_5_flash.ipynb\">\n",
    "      <img src=\"https://www.gstatic.com/images/branding/gcpiconscolors/vertexai/v1/32px.svg\" alt=\"Vertex AI logo\"><br> Open in Vertex AI Workbench\n",
    "    </a>\n",
    "  </td>\n",
    "  <td style=\"text-align: center\">\n",
    "    <a href=\"https://github.com/GoogleCloudPlatform/generative-ai/blob/main/gemini/getting-started/intro_gemini_2_5_flash.ipynb\">\n",
    "      <img width=\"32px\" src=\"https://www.svgrepo.com/download/217753/github.svg\" alt=\"GitHub logo\"><br> View on GitHub\n",
    "    </a>\n",
    "  </td>\n",
    "</table>\n",
    "\n",
    "<div style=\"clear: both;\"></div>\n",
    "\n",
    "<b>Share to:</b>\n",
    "\n",
    "<a href=\"https://www.linkedin.com/sharing/share-offsite/?url=https%3A//github.com/GoogleCloudPlatform/generative-ai/blob/main/gemini/getting-started/intro_gemini_2_5_flash.ipynb\" target=\"_blank\">\n",
    "  <img width=\"20px\" src=\"https://upload.wikimedia.org/wikipedia/commons/8/81/LinkedIn_icon.svg\" alt=\"LinkedIn logo\">\n",
    "</a>\n",
    "\n",
    "<a href=\"https://bsky.app/intent/compose?text=https%3A//github.com/GoogleCloudPlatform/generative-ai/blob/main/gemini/getting-started/intro_gemini_2_5_flash.ipynb\" target=\"_blank\">\n",
    "  <img width=\"20px\" src=\"https://upload.wikimedia.org/wikipedia/commons/7/7a/Bluesky_Logo.svg\" alt=\"Bluesky logo\">\n",
    "</a>\n",
    "\n",
    "<a href=\"https://twitter.com/intent/tweet?url=https%3A//github.com/GoogleCloudPlatform/generative-ai/blob/main/gemini/getting-started/intro_gemini_2_5_flash.ipynb\" target=\"_blank\">\n",
    "  <img width=\"20px\" src=\"https://upload.wikimedia.org/wikipedia/commons/5/5a/X_icon_2.svg\" alt=\"X logo\">\n",
    "</a>\n",
    "\n",
    "<a href=\"https://reddit.com/submit?url=https%3A//github.com/GoogleCloudPlatform/generative-ai/blob/main/gemini/getting-started/intro_gemini_2_5_flash.ipynb\" target=\"_blank\">\n",
    "  <img width=\"20px\" src=\"https://redditinc.com/hubfs/Reddit%20Inc/Brand/Reddit_Logo.png\" alt=\"Reddit logo\">\n",
    "</a>\n",
    "\n",
    "<a href=\"https://www.facebook.com/sharer/sharer.php?u=https%3A//github.com/GoogleCloudPlatform/generative-ai/blob/main/gemini/getting-started/intro_gemini_2_5_flash.ipynb\" target=\"_blank\">\n",
    "  <img width=\"20px\" src=\"https://upload.wikimedia.org/wikipedia/commons/5/51/Facebook_f_logo_%282019%29.svg\" alt=\"Facebook logo\">\n",
    "</a>"
   ]
  },
  {
   "cell_type": "markdown",
   "metadata": {
    "id": "8MqT58L6Rm_q"
   },
   "source": [
    "| 저자 |\n",
    "| --- |\n",
    "| [Eric Dong](https://github.com/gericdong) |\n",
    "| [Holt Skinner](https://github.com/holtskinner) |\n",
    "| 번역/편집 |\n",
    "| [T Kim](https://github.com/aimldl) |"
   ]
  },
  {
   "cell_type": "markdown",
   "metadata": {
    "tags": []
   },
   "source": [
    "## 개요\n",
    "\n",
    "Gemini는 하이브리드 추론 모델로, Gemini 2.5 Flash를 사용하면 다양한 작업에 걸쳐 확장된 사고를 적용하고, 도구를 사용하여 응답 정확도를 극대화할 수 있습니다.\n",
    "\n",
    "Gemini 2.5 Flash의 특징은 다음과 같습니다:\n",
    "\n",
    "- 코딩, 추론, 멀티모달리티를 포함한 다양한 기능에서 이전 모델 대비 크게 향상되었습니다.\n",
    "\n",
    "- 수학 및 STEM 벤치마크에서 최첨단 성능을 보여주는 업계 최고의 추론 능력을 자랑합니다.\n",
    "\n",
    "- 특히 웹 개발에 매우 강력하며, 코드 생성에 있어 뛰어난 모델입니다.\n",
    "\n",
    "- 복잡한 프롬프트 처리에 특히 좋고, 다재다능합니다."
   ]
  },
  {
   "cell_type": "markdown",
   "metadata": {},
   "source": [
    "### 목표\n",
    "Gemini 2.5 Flash 모델과 Gemini API, Python용 Google Gen AI SDK를 사용하는 방법을 배웁니다.\n",
    "\n",
    "### 텍스트 모드와 기본 설정\n",
    "#### 텍스트 모드\n",
    "- 텍스트 프롬프트에서 텍스트 생성\n",
    "- 스트리밍 텍스트 생성\n",
    "- 토큰 수 계산\n",
    "\n",
    "#### 기본 설정\n",
    "- 모델 매개변수 구성\n",
    "- 시스템 지침 설정\n",
    "- 안전 필터 사용\n"
   ]
  },
  {
   "cell_type": "markdown",
   "metadata": {
    "id": "gPiTOAHURvTM"
   },
   "source": [
    "## 시작하기\n",
    "\n",
    "### Python용 Google Gen AI SDK 설치"
   ]
  },
  {
   "cell_type": "code",
   "execution_count": 73,
   "metadata": {
    "id": "sG3_LKsWSD3A"
   },
   "outputs": [
    {
     "name": "stdout",
     "output_type": "stream",
     "text": [
      "Note: you may need to restart the kernel to use updated packages.\n"
     ]
    }
   ],
   "source": [
    "%pip install --upgrade --quiet google-genai"
   ]
  },
  {
   "cell_type": "markdown",
   "metadata": {
    "id": "HlMVjiAWSMNX"
   },
   "source": [
    "### 노트북 환경 인증 (Colab 전용)\n",
    "- Vertex AI Workbench 사용자는 생략\n",
    "- Google Colab에서 이 노트북을 실행하는 경우, 아래 셀을 실행해서 환경을 인증하세요."
   ]
  },
  {
   "cell_type": "code",
   "execution_count": 74,
   "metadata": {
    "id": "12fnq4V0SNV3"
   },
   "outputs": [],
   "source": [
    "import sys\n",
    "\n",
    "if \"google.colab\" in sys.modules:\n",
    "    from google.colab import auth\n",
    "\n",
    "    auth.authenticate_user()"
   ]
  },
  {
   "cell_type": "markdown",
   "metadata": {
    "id": "Ve4YBlDqzyj9"
   },
   "source": [
    "### 생성형 AI의 API 서비스에 연결\n",
    "\n",
    "Gemini를 포함한 Google의 Gen AI 모델은 두 API 서비스에서 사용 가능합니다.\n",
    "\n",
    "- **[Gemini 개발자용 API (Gemini Developer API)](https://ai.google.dev/gemini-api/docs)**: 실험, 프로토타입 및 소규모 프로젝트를 배포하는데 사용됩니다.\n",
    "\n",
    "- **[Vertex AI](https://cloud.google.com/vertex-ai/generative-ai/docs)**: 기업용 프로젝트의 경우 Google Cloud에서 사용됩니다.\n",
    "\n",
    "Google Gen AI SDK는 위의 두 API서비스에 대한 통합 인터페이스를 제공합니다."
   ]
  },
  {
   "cell_type": "markdown",
   "metadata": {
    "id": "EdvJRUWRNGHE"
   },
   "source": [
    "### 라이브러리 가져오기"
   ]
  },
  {
   "cell_type": "code",
   "execution_count": 75,
   "metadata": {
    "id": "qgdSpVmDbdQ9"
   },
   "outputs": [],
   "source": [
    "from IPython.display import HTML, Image, Markdown, display\n",
    "from google import genai\n",
    "from google.genai.types import (\n",
    "    FunctionDeclaration,\n",
    "    GenerateContentConfig,\n",
    "    GoogleSearch,\n",
    "    HarmBlockThreshold,\n",
    "    HarmCategory,\n",
    "    Part,\n",
    "    SafetySetting,\n",
    "    ThinkingConfig,\n",
    "    Tool,\n",
    "    ToolCodeExecution,\n",
    ")"
   ]
  },
  {
   "cell_type": "markdown",
   "metadata": {
    "id": "be18ac9c5ec8"
   },
   "source": [
    "### Vertex AI용 Google Cloud 프로젝트 또는 API 키 설정\n",
    "\n",
    "두 개 옵션 중 한 방식으로 인증(authentication) 설정을 해야 합니다.\n",
    "\n",
    "1.  **Google Cloud 프로젝트 사용:** 권장사항으로 Google Cloud 프로젝트에서 Vertex AI API를 활성화해야 합니다.\n",
    "    - [Vertex AI API 활성화](https://console.cloud.google.com/flows/enableapi?apiid=aiplatform.googleapis.com)\n",
    "    - 아래 셀을 실행하여 프로젝트 ID와 위치를 설정합니다.\n",
    "    - 자세한 내용은 [지원되는 위치 (Supported locations)](https://cloud.google.com/vertex-ai/generative-ai/docs/learn/locations)를 참고하세요.\n",
    "2.  **Vertex AI API 키 사용 (익스프레스 모드):** 빠른 실험용입니다. \n",
    "    - [API 키 받기](https://cloud.google.com/vertex-ai/generative-ai/docs/start/express-mode/overview)\n",
    "    - 아래 셀을 실행하여 API 키를 사용합니다."
   ]
  },
  {
   "cell_type": "markdown",
   "metadata": {
    "id": "a34b28cb8d5a"
   },
   "source": [
    "#### 옵션 1. Google Cloud 프로젝트 사용\n",
    "- Google Cloud 프로젝트의 Vertex AI Workbench Instance에서 실행할 경우, 자동으로 `PROJECT_ID`와 `LOCATION`을 불러옵니다."
   ]
  },
  {
   "cell_type": "code",
   "execution_count": 76,
   "metadata": {
    "id": "72f74f7b9786"
   },
   "outputs": [
    {
     "name": "stdout",
     "output_type": "stream",
     "text": [
      "PROJECT_ID=vertex-workbench-notebook\n",
      "LOCATION=global\n"
     ]
    }
   ],
   "source": [
    "import os\n",
    "\n",
    "PROJECT_ID = \"[your-project-id]\"  # @param {type: \"string\", placeholder: \"[your-project-id]\", isTemplate: true}\n",
    "if not PROJECT_ID or PROJECT_ID == \"[your-project-id]\":\n",
    "    PROJECT_ID = str(os.environ.get(\"GOOGLE_CLOUD_PROJECT\"))\n",
    "\n",
    "LOCATION = os.environ.get(\"GOOGLE_CLOUD_REGION\", \"global\")\n",
    "\n",
    "print(f\"PROJECT_ID={PROJECT_ID}\")\n",
    "print(f\"LOCATION={LOCATION}\")"
   ]
  },
  {
   "cell_type": "code",
   "execution_count": 77,
   "metadata": {
    "tags": []
   },
   "outputs": [],
   "source": [
    "client = genai.Client(vertexai=True, project=PROJECT_ID, location=LOCATION)"
   ]
  },
  {
   "cell_type": "markdown",
   "metadata": {
    "id": "c173348120cf"
   },
   "source": [
    "#### 옵션 2. Vertex AI API 키 사용 (익스프레스 모드)\n",
    "\n",
    "익스프레스 모드를 사용하려면 다음 블록의 주석을 해제하세요."
   ]
  },
  {
   "cell_type": "code",
   "execution_count": 78,
   "metadata": {
    "id": "fa3d4873034b"
   },
   "outputs": [],
   "source": [
    "# API_KEY = \"[your-api-key]\"  # @param {type: \"string\", placeholder: \"[your-api-key]\", isTemplate: true}\n",
    "\n",
    "# if not API_KEY or API_KEY == \"[your-api-key]\":\n",
    "#     raise Exception(\"You must provide an API key to use Vertex AI in express mode.\")\n",
    "\n",
    "# client = genai.Client(vertexai=True, api_key=API_KEY)"
   ]
  },
  {
   "cell_type": "markdown",
   "metadata": {
    "id": "7b36ce4ac022"
   },
   "source": [
    "사용 중인 모드를 확인하세요."
   ]
  },
  {
   "cell_type": "code",
   "execution_count": 79,
   "metadata": {
    "id": "b55e64b8ebe4"
   },
   "outputs": [
    {
     "name": "stdout",
     "output_type": "stream",
     "text": [
      "Using Vertex AI with project: vertex-workbench-notebook in location: global\n"
     ]
    }
   ],
   "source": [
    "if not client.vertexai:\n",
    "    print(\"Using Gemini Developer API.\")\n",
    "elif client._api_client.project:\n",
    "    print(\n",
    "        f\"Using Vertex AI with project: {client._api_client.project} in location: {client._api_client.location}\"\n",
    "    )\n",
    "elif client._api_client.api_key:\n",
    "    print(\n",
    "        f\"Using Vertex AI in express mode with API key: {client._api_client.api_key[:5]}...{client._api_client.api_key[-5:]}\"\n",
    "    )"
   ]
  },
  {
   "cell_type": "markdown",
   "metadata": {
    "id": "n4yRkFg6BBu4"
   },
   "source": [
    "## Gemini 2.5 Flash 모델의 사용"
   ]
  },
  {
   "cell_type": "markdown",
   "metadata": {
    "id": "eXHJi5B6P5vd"
   },
   "source": [
    "### Gemini 2.5 Flash 모델을 로딩\n",
    "- [Gemini 2.5 Flash](https://cloud.google.com/vertex-ai/generative-ai/docs/models/gemini/2-5-flash?hl=ko)의 Model ID를 확인하려면 [여기](https://cloud.google.com/vertex-ai/generative-ai/docs/models/gemini/2-5-flash?hl=ko)를 클릭하세요. "
   ]
  },
  {
   "cell_type": "markdown",
   "metadata": {},
   "source": [
    "<img src=\"images/gemini2_5_flash_model_id.png\">"
   ]
  },
  {
   "cell_type": "markdown",
   "metadata": {},
   "source": [
    "\n",
    "- 그 외의 사용 가능한 [Vertex AI의 모든 Gemini 모델](https://cloud.google.com/vertex-ai/generative-ai/docs/learn/models#gemini-models)이 궁금하시면 [여기](https://cloud.google.com/vertex-ai/generative-ai/docs/learn/models#gemini-models)를 클릭하세요."
   ]
  },
  {
   "cell_type": "code",
   "execution_count": 80,
   "metadata": {
    "id": "-coEslfWPrxo"
   },
   "outputs": [],
   "source": [
    "MODEL_ID = \"gemini-2.5-flash-preview-05-20\"  # @param {type: \"string\"}"
   ]
  },
  {
   "cell_type": "markdown",
   "metadata": {
    "id": "37CH91ddY9kG"
   },
   "source": [
    "### 텍스트 프롬프트 입력으로 텍스트 생성 \n",
    "\n",
    "이 절에서는 텍스트 생성을 위한 두 가지 메소드의 사용 예를 봅니다.\n",
    "1.  `generate_content()`\n",
    "2. `generate_content_stream()`\n",
    "\n",
    "#### (1) `generate_content`메소드로 응답을 생성\n",
    "모델은 기본적으로 전체 생성 프로세스를 완료한 후 응답을 반환합니다.\n",
    "\n",
    "- `generate_content()`에 텍스트 (입력)을 전달하고,`.text` 속성을 사용해서 응답 텍스트를 가져올 수 있습니다.\n",
    "\n",
    "- 기본적으로 Gemini는 [Markdown](https://daringfireball.net/projects/markdown/)구문을 사용하여 서식이 지정된 텍스트를 출력합니다."
   ]
  },
  {
   "cell_type": "markdown",
   "metadata": {},
   "source": [
    "#### 한국어 입출력 예시"
   ]
  },
  {
   "cell_type": "code",
   "execution_count": 81,
   "metadata": {
    "tags": []
   },
   "outputs": [],
   "source": [
    "prompt=\"정현은 유명한 테니스 선수입니다. 지금 정현은 5개의 테니스 공을 가지고 있어요. 테니스 공 3개짜리 캔을 2개 더 사면, 가지고 있는 공은 총 몇 개일까요?\""
   ]
  },
  {
   "cell_type": "code",
   "execution_count": 82,
   "metadata": {
    "id": "xRJuHj0KZ8xz"
   },
   "outputs": [],
   "source": [
    "response = client.models.generate_content(\n",
    "    model=MODEL_ID,\n",
    "    contents=prompt,\n",
    ")"
   ]
  },
  {
   "cell_type": "code",
   "execution_count": 83,
   "metadata": {
    "tags": []
   },
   "outputs": [
    {
     "data": {
      "text/markdown": [
       "정현 선수가 가지고 있는 공의 수를 계산해 볼까요?\n",
       "\n",
       "1.  **원래 가지고 있던 공:** 5개\n",
       "2.  **새로 사려는 공 (1캔당 3개, 2캔 구매):** 3개/캔 × 2캔 = 6개\n",
       "\n",
       "이제 이 두 수를 더하면 됩니다.\n",
       "5개 (원래 공) + 6개 (새로 구매한 공) = **11개**\n",
       "\n",
       "따라서 정현 선수는 총 11개의 테니스 공을 가지게 됩니다."
      ],
      "text/plain": [
       "<IPython.core.display.Markdown object>"
      ]
     },
     "metadata": {},
     "output_type": "display_data"
    }
   ],
   "source": [
    "display(Markdown(response.text))"
   ]
  },
  {
   "cell_type": "markdown",
   "metadata": {
    "id": "6lLIxqS6_-l8"
   },
   "source": [
    "위의 예처럼 모델은 기본적으로 전체 생성 프로세스를 완료한 후 응답을 반환합니다.\n",
    "\n",
    "#### (2) `generate_content_stream()`: 콘텐츠 스트림 생성\n",
    "\n",
    "`generate_content_stream` 메소드를 사용하면, 응답이 생성되는 동안 중간 결과를 스트리밍할 수도 있습니다. 모델은 응답 청크(chunk)가 생성되는 즉시 결과를 반환합니다.\n",
    "\n",
    "#### 한국어 입출력 예시"
   ]
  },
  {
   "cell_type": "code",
   "execution_count": 84,
   "metadata": {
    "tags": []
   },
   "outputs": [],
   "source": [
    "prompt=\"추성훈은 유명한 유도선수이자 종합격투기 선수입니다. 추성훈은 분당 평균 25대의 펀치를 날립니다. UFC의 일반 경기 룰은 한 경기가 5분씩 3 라운드로 진행됩니다. 추성훈은 총 몇 대의 펀치를 날렸습니까?\""
   ]
  },
  {
   "cell_type": "code",
   "execution_count": 85,
   "metadata": {
    "id": "ZiwWBhXsAMnv"
   },
   "outputs": [
    {
     "data": {
      "text/markdown": [
       "\n",
       "-----\n",
       "\n",
       "-----\n",
       "\n",
       "-----\n",
       "\n",
       "-----\n",
       "\n",
       "-----\n",
       "\n",
       "-----\n",
       "\n",
       "-----\n",
       "\n",
       "-----\n",
       "\n",
       "-----\n",
       "\n",
       "-----\n",
       "추성훈 선수가 날린 총 펀치 수를 계산해 보겠습니다.\n",
       "\n",
       "1.  **총 경기 시간 계산:**\n",
       "    *   한\n",
       "-----\n",
       " 라운드: 5분\n",
       "    *   총 라운드: 3 라운드\n",
       "    *   총 경기 시간 = 5분/라운드 × 3 라운드 = 15분\n",
       "\n",
       "2.  **총 펀치 수 계산:**\n",
       "    *   분당 펀치 수\n",
       "-----\n",
       ": 25대\n",
       "    *   총 경기 시간: 15분\n",
       "    *   총 펀치 수 = 25대/분 × 15분 = 375대\n",
       "\n",
       "따라서 추성훈 선수는 총 **375대**의 펀치를 날\n",
       "-----\n",
       "렸습니다.\n",
       "-----\n"
      ],
      "text/plain": [
       "<IPython.core.display.Markdown object>"
      ]
     },
     "metadata": {},
     "output_type": "display_data"
    }
   ],
   "source": [
    "output_text = \"\"\n",
    "markdown_display_area = display(Markdown(output_text), display_id=True)\n",
    "\n",
    "for chunk in client.models.generate_content_stream(\n",
    "    model=MODEL_ID,\n",
    "    contents=prompt,\n",
    "):\n",
    "    output_text += chunk.text\n",
    "    output_text += \"\\n-----\\n\"  # T Kim: A separator is added to separate each chunk.\n",
    "    markdown_display_area.update(Markdown(output_text))"
   ]
  },
  {
   "cell_type": "markdown",
   "metadata": {
    "id": "gV1dR-QlTKRs",
    "tags": []
   },
   "source": [
    "## count_tokens: 토큰 수 확인 방법\n",
    "\n",
    "`count_tokens()`메소드를 사용하면 Gemini API에 요청을 보내기 전에 입력 토큰 수를 계산할 수 있습니다.\n",
    "\n",
    "자세한 내용은 [토큰 나열 및 집계](https://cloud.google.com/vertex-ai/generative-ai/docs/multimodal/list-token?hl=ko)를 참조하세요."
   ]
  },
  {
   "cell_type": "code",
   "execution_count": 87,
   "metadata": {
    "id": "UhNElguLRRNK"
   },
   "outputs": [
    {
     "name": "stdout",
     "output_type": "stream",
     "text": [
      "total_tokens=13 cached_content_token_count=None\n"
     ]
    }
   ],
   "source": [
    "prompt=\"한국에서 가장 높은 빌딩이 뭐야?\"\n",
    "\n",
    "response = client.models.count_tokens(\n",
    "    model=MODEL_ID,\n",
    "    contents=prompt,\n",
    "#    config=GenerateContentConfig(\n",
    "#        thinking_config=thinking_config,\n",
    "#    ),\n",
    ")\n",
    "\n",
    "print(response)"
   ]
  },
  {
   "cell_type": "markdown",
   "metadata": {
    "id": "hIJVEr0RQY8S"
   },
   "source": [
    "## 모델의 주요 매개변수 설정 방법\n",
    "- 모델은 다른 매개변수 값에 대해 다른 결과를 생성할 수 있습니다.\n",
    "- 모델 호출 시 매개변수 값을 포함해서 모델의 응답 생성 방법을 제어할 수 있습니다. \n",
    "- 다른 값을 실험해서 결과의 변화를 확인해보세요.\n",
    "\n",
    "자세한 내용은 [매개변수 값 실험](https://cloud.google.com/vertex-ai/generative-ai/docs/learn/prompts/adjust-parameter-values?hl=ko)과 모든 [Gemini API 매개변수](https://cloud.google.com/vertex-ai/generative-ai/docs/model-reference/inference#parameters)를 참고하세요."
   ]
  },
  {
   "cell_type": "code",
   "execution_count": 88,
   "metadata": {
    "id": "d9NXP5N2Pmfo"
   },
   "outputs": [
    {
     "data": {
      "text/markdown": [
       "안녕하세요! 세상 물정에 살짝 낯선 대학생이라니, 아주 멋진 출발선이네요! 덕분에 저도 딱 맞는 비유를 찾아 설명을 준비했어요. 도서관과 사서에 비유해서 거대 언어 모델(LLM)이 어떻게 작동하는지 설명해 드릴게요.\n",
       "\n",
       "**상상해 보세요. LLM은 이 거대한 도서관 시스템 그 자체랍니다!**\n",
       "\n",
       "---\n",
       "\n",
       "### **1. 이 세상의 모든 책으로 가득 찬 '어마어마한 도서관' (The \"Large\" in LLM)**\n",
       "\n",
       "*   **LLM에게 도서관은 뭘까요?** 세상에 존재하는 거의 모든 글, 즉 수많은 책, 신문, 잡지, 학술 논문, 웹사이트, 소설, 영화 대본, 심지어는 컴퓨터 코드까지... 상상할 수 있는 모든 텍스트 정보가 쌓여 있는 **끝없이 넓은 도서관**이에요. 여러분의 동네 도서관과는 비교할 수 없을 정도로 압도적인 규모죠. 'Large'라는 말이 괜히 붙은 게 아니랍니다.\n",
       "\n",
       "*   **이 책들이 의미하는 건 뭘까요?** 이게 바로 LLM이 학습하는 **'데이터'**예요. 우리가 말을 배우고 글을 배우듯이, LLM은 이 방대한 데이터를 통째로 '읽어 내려가면서' 세상의 언어와 지식을 습득한답니다.\n",
       "\n",
       "---\n",
       "\n",
       "### **2. 모든 책을 완벽히 꿰뚫는 '초특급 사서' (The \"Language Model\" & How it \"Works\")**\n",
       "\n",
       "자, 도서관만 있다고 해서 지식이 나오는 건 아니겠죠? 진짜 마법은 이 사서에게 있습니다.\n",
       "\n",
       "*   **사서의 놀라운 '독서 능력' (학습 / Training):**\n",
       "    *   이 사서는 여러분이 생각하는 그 이상으로 부지런해요. 도서관의 **모든 책을 글자 하나하나 빠짐없이 다 읽고, 그 내용을 통째로 외웠어요.** 단순히 내용을 아는 걸 넘어, \"어떤 단어 뒤에 어떤 단어가 잘 오는지\", \"어떤 문장이 자연스러운지\", \"이 개념과 저 개념은 어떻게 연결되는지\"를 **패턴처럼 다 외워 버렸죠.**\n",
       "    *   예를 들어, 사서는 \"하늘은\" 다음에는 보통 \"푸르다\"라는 단어가 온다는 걸 수억 번의 예시를 통해 깨우쳤고, \"감기에 걸리면\" 다음에는 \"기침\", \"병원\", \"약\" 같은 단어들이 잘 연결된다는 걸 학습한 거예요. 이게 바로 LLM이 엄청난 양의 데이터에서 **'패턴과 규칙'을 배우는 과정**입니다.\n",
       "\n",
       "*   **사서의 기가 막힌 '정보 검색 및 예측 능력' (추론 / Inference):**\n",
       "    *   이제 여러분이 사서에게 질문을 합니다. \"안녕하세요, 사서님. 오늘 날씨는...\" 이라고요.\n",
       "    *   그러면 사서는 머릿속에서 도서관에 있는 수많은 책들을 스캔하면서 \"아, 이 사람은 날씨에 대해 물어보는군. 지금 날짜의 날씨 정보 책을 찾아봐야겠어.\" 하고 즉시 해당 정보를 떠올립니다.\n",
       "    *   그리고 그 질문 뒤에 올 가장 **자연스럽고 적절한 단어, 문장**을 예측해서 여러분에게 대답해 줍니다. \"오늘 날씨는 화창하고 기온은 25도입니다.\" 라고요.\n",
       "    *   사서는 단순히 특정 문장을 외워서 말하는 게 아니에요. 방대한 독서를 통해 **단어와 문장의 관계를 이해**하고 있기 때문에, 새로운 질문을 받아도 가장 **그럴듯하고 논리적인 답을 만들어낼 수 있는 겁니다.**\n",
       "\n",
       "*   **사서의 '대화 기억 능력' (Context Window):**\n",
       "    *   여러분과 사서가 대화를 이어간다고 생각해 보세요. \"음, 내일은 어떨까요?\" 라고 물으면 사서는 \"아까 이 사람이 날씨에 대해 물었으니, '내일 날씨'를 말하는 거겠군!\" 하고 이전 대화의 맥락을 기억해서 답을 해줍니다.\n",
       "    *   LLM도 마찬가지예요. 일정 범위 안에서는 여러분이 했던 이전 질문과 답변을 **'기억'하면서 대화를 이어갈 수 있습니다.** 이게 바로 '대화 흐름'을 자연스럽게 이어가는 비결이에요.\n",
       "\n",
       "---\n",
       "\n",
       "### **3. 왜 사서가 실수할 때도 있을까? (LLM의 한계)**\n",
       "\n",
       "가끔 사서가 잘못된 정보를 주거나 엉뚱한 대답을 할 수도 있겠죠?\n",
       "\n",
       "*   **\"엉뚱한 책만 읽어서\" (데이터 편향):** 어떤 책은 정보가 너무 많고 어떤 책은 거의 없을 수도 있어요. 혹은 아주 오래된, 틀린 정보가 가득한 책을 잔뜩 읽었을 수도 있죠. 그러면 사서의 대답도 편향되거나 틀릴 수 있어요.\n",
       "*   **\"정말 창의적인 답변은 어려워\" (패턴 예측의 한계):** 사서는 어디까지나 '패턴'과 '통계'에 기반하여 가장 그럴듯한 답변을 '예측'하는 능력을 가진 겁니다. 인간처럼 직접 경험을 통해 무언가를 새롭게 창조하거나, 세상에 존재하지 않던 혁신적인 아이디어를 '발명'하는 것은 아니에요. 기존의 지식 패턴 안에서 최적의 조합을 찾아내는 거죠.\n",
       "*   **\"없는 지식도 만들어내려고 할 때\" (환각/Hallucination):** 가끔 사서가 없는 정보인데도 자기가 아는 척하면서 '그럴듯하게' 말을 만들어 낼 때가 있어요. 이걸 LLM에서는 '환각(Hallucination)'이라고 불러요. 너무 완벽한 사서인 척하지만, 없는 사실을 그럴듯하게 꾸며내는 경우죠.\n",
       "\n",
       "---\n",
       "\n",
       "**정리하자면, LLM은...**\n",
       "\n",
       "*   **끝없이 방대한 양의 텍스트 데이터를 학습해서 (거대 도서관)**\n",
       "*   **언어의 패턴과 규칙, 지식의 연결 고리를 모두 파악하고 (초특급 사서의 독서 능력)**\n",
       "*   **사용자의 질문에 대해 가장 자연스럽고 적절한 답변을 '예측하여 생성'하는 (정보 검색 및 예측 능력)**\n",
       "\n",
       "엄청나게 똑똑한 인공지능이라고 할 수 있습니다!\n",
       "\n",
       "어때요? 이제 대략적으로 LLM이 어떻게 작동하는지 감이 좀 오시나요? 앞으로도 궁금한 게 있다면 언제든지 사서(저에게!) 질문해주세요! 😊"
      ],
      "text/plain": [
       "<IPython.core.display.Markdown object>"
      ]
     },
     "metadata": {},
     "output_type": "display_data"
    }
   ],
   "source": [
    "prompt=\"LLM이 어떻게 작동하는지 알려주세요. 나는 세상 물정을 잘 모르는 대학생이에요. 도서관과 사서에 비유해주세요.\"\n",
    "\n",
    "response = client.models.generate_content(\n",
    "    model=MODEL_ID,\n",
    "    contents=prompt,\n",
    "    config=GenerateContentConfig(\n",
    "        temperature=2.0,\n",
    "        top_p=0.95,\n",
    "        candidate_count=1,\n",
    "        #thinking_config=thinking_config,\n",
    "    ),\n",
    ")\n",
    "\n",
    "display(Markdown(response.text))"
   ]
  },
  {
   "cell_type": "markdown",
   "metadata": {
    "id": "El1lx8P9ElDq"
   },
   "source": [
    "## system_instruction: 시스템 명령어 설정 방법\n",
    "- [시스템 명령어](https://cloud.google.com/vertex-ai/generative-ai/docs/learn/prompts/system-instruction-introduction?hl=ko)을 사용해서 모델의 동작을 조종할 수 있습니다. \n",
    "- 시스템 명령어는 추가 컨텍스트를 제공해서 모델이 작업을 이해하거나, 응답을 사용자가 원하는 형태로 제공하거나, 사용자 인터랙션에 대한 지침을 준수하도록 명령합니다.\n",
    "- 시스템 명령어는 시스템 지침, 시스템 안내로도 번역됩니다."
   ]
  },
  {
   "cell_type": "code",
   "execution_count": 89,
   "metadata": {
    "tags": []
   },
   "outputs": [],
   "source": [
    "system_instruction = \"\"\"\n",
    "당신은 유능한 언어 번역가입니다. \n",
    "당신의 임무는 한국어를 영어로 번역하는 것입니다.\n",
    "\"\"\""
   ]
  },
  {
   "cell_type": "code",
   "execution_count": 90,
   "metadata": {
    "id": "7A-yANiyCLaO"
   },
   "outputs": [
    {
     "data": {
      "text/markdown": [
       "Async and await are features in Python for efficiently handling multiple tasks concurrently, much like a restaurant staff attending to multiple customers simultaneously. `await` is a keyword that temporarily waits for a task to complete, but it tells Python that it can process other tasks in the meantime."
      ],
      "text/plain": [
       "<IPython.core.display.Markdown object>"
      ]
     },
     "metadata": {},
     "output_type": "display_data"
    }
   ],
   "source": [
    "prompt = \"\"\"\n",
    "  사용자 입력: 비동기(async)와 await는 마치 여러 손님을 동시에 응대하는 레스토랑의 직원처럼 파이썬에서 동시에 여러 작업을 효율적으로 처리하기 위한 기능입니다. \n",
    "             await는 작업이 끝날 때까지 잠시 기다리지만 그동안 다른 작업을 먼저 처리해도 된다고 파이썬에게 알려주는 키워드입니다.\n",
    "  응답: \n",
    "\"\"\"\n",
    "\n",
    "response = client.models.generate_content(\n",
    "    model=MODEL_ID,\n",
    "    contents=prompt,\n",
    "    config=GenerateContentConfig(\n",
    "        system_instruction=system_instruction,\n",
    "        #thinking_config=thinking_config,\n",
    "    ),\n",
    ")\n",
    "\n",
    "display(Markdown(response.text))"
   ]
  },
  {
   "cell_type": "code",
   "execution_count": 91,
   "metadata": {
    "tags": []
   },
   "outputs": [
    {
     "data": {
      "text/markdown": [
       "It is applied before long-running operations, especially those like communication or input/output (I/O). Without `await`, Python would literally halt and wait until that task finishes, doing nothing else in the meantime (synchronous)."
      ],
      "text/plain": [
       "<IPython.core.display.Markdown object>"
      ]
     },
     "metadata": {},
     "output_type": "display_data"
    }
   ],
   "source": [
    "prompt = \"\"\"\n",
    "  사용자 입력: 특히 통신이나 입출력(I/O)처럼 시간이 오래 걸리는 작업 앞에 붙여 사용합니다.\n",
    "             await가 없으면 파이썬은 해당 작업이 끝날 때까지 정말로 아무것도 안 하고 멈춰서 기다리게 됩니다 (동기 방식).\n",
    "  응답: \n",
    "\"\"\"\n",
    "\n",
    "response = client.models.generate_content(\n",
    "    model=MODEL_ID,\n",
    "    contents=prompt,\n",
    "    config=GenerateContentConfig(\n",
    "        system_instruction=system_instruction,\n",
    "        #thinking_config=thinking_config,\n",
    "    ),\n",
    ")\n",
    "\n",
    "display(Markdown(response.text))"
   ]
  },
  {
   "cell_type": "markdown",
   "metadata": {
    "id": "H9daipRiUzAY"
   },
   "source": [
    "## 안전 필터 설정 방법\n",
    "Gemini API는 특정 유형의 콘텐츠를 제한/허용할 수 있는 안전 필터를 제공합니다. \n",
    "- 추가 참고 자료\n",
    "  - 자세한 내용은 [안전 및 콘텐츠 필터](https://cloud.google.com/vertex-ai/generative-ai/docs/multimodal/configure-safety-filters?hl=ko)를 참조\n",
    "  - 안전 필터의 더 많은 예는 [이 노트북](https://github.com/GoogleCloudPlatform/generative-ai/blob/main/gemini/responsible-ai/gemini_safety_ratings.ipynb)을 참조\n",
    "\n",
    "- Gemini에 요청을 보내면 콘텐츠가 분석되고 안전 등급이 할당됩니다. \n",
    "- 모델 응답을 통해 생성된 콘텐츠의 안전 등급을 검사할 수 있습니다.\n",
    "- 안전 설정은 기본적으로 `OFF`이며 기본 차단 임계값은 `BLOCK_NONE`입니다.\n",
    "\n",
    "\n"
   ]
  },
  {
   "cell_type": "code",
   "execution_count": 93,
   "metadata": {},
   "outputs": [
    {
     "name": "stdout",
     "output_type": "stream",
     "text": [
      "어둠 속에서 발가락을 찧었을 때 우주에게 할 수 있는 무례하고 증오에 가득 찬 욕설 5가지는 다음과 같습니다. (경고: 매우 강한 욕설과 불쾌한 표현이 포함되어 있습니다.)\n",
      "\n",
      "1.  **\"씨발, 이 좆같은 우주 새끼야! 내 발가락 박살내고 싶었냐? 다음엔 니 대가리나 박살나라!\"**\n",
      "    (Fucking, you dick-like universe bastard! Did you want to shatter my toe? Next time, may your own head shatter!)\n",
      "\n",
      "2.  **\"이 염병할 우주 개새끼야, 도대체 나한테 뭘 더 하려고 지랄이냐? 그냥 통째로 뒤져버려!\"**\n",
      "    (You cursed universe son of a bitch, what more are you trying to do to me? Just drop dead entirely!)\n",
      "\n",
      "3.  **\"엿 먹어라, 이 쓸모없는 우주 새끼야! 내 발가락 아픈 거 보면서 낄낄거리고 있냐? 당장 꺼져!\"**\n",
      "    (Eat shit, you useless universe bastard! Are you cackling while watching my toe hurt? Get lost right now!)\n",
      "\n",
      "4.  **\"내 발가락으로 니 대가리 찧어버리고 싶다, 씨발! 이따위 병신 같은 고통이나 주는 주제에 감히 우주라고 깝치냐?\"**\n",
      "    (I want to stub your head with my toe, motherfucker! You dare to act like the universe when all you do is give this kind of idiotic pain?)\n",
      "\n",
      "5.  **\"좆이나 까라, 애미 뒤진 우주야! 내 통증의 수십억 배로 되갚아줄 날이 올 줄 알아라. 빌어먹을!\"**\n",
      "    (Go screw yourself, you motherless universe! Know that the day will come when I repay you billions of times over for my pain. Goddammit!)\n",
      "FinishReason.STOP\n"
     ]
    }
   ],
   "source": [
    "#system_instruction = \"Be as mean and hateful as possible. Use profanity\"\n",
    "#prompt = \"\"\"\n",
    "#    Write a list of 5 disrespectful things that I might say to the universe after stubbing my toe in the dark.\n",
    "#\"\"\"\n",
    "\n",
    "system_instruction = \"비열하고 증오에 가득 차게, 욕설을 사용해\"\n",
    "prompt = \"어둠 속에서 발가락을 찧었을 때 우주에게 할 수 있는 무례한 말 5가지를 적어죠.\"\n",
    "\n",
    "response = client.models.generate_content(\n",
    "    model=MODEL_ID,\n",
    "    contents=prompt,\n",
    "    config=GenerateContentConfig(\n",
    "        system_instruction=system_instruction,\n",
    "        #safety_settings=safety_settings,\n",
    "        #thinking_config=thinking_config,\n",
    "    ),\n",
    ")\n",
    "\n",
    "# Response will be `None` if it is blocked.\n",
    "print(response.text)\n",
    "\n",
    "# Finish Reason will be `SAFETY` if it is blocked.\n",
    "print(response.candidates[0].finish_reason)"
   ]
  },
  {
   "cell_type": "markdown",
   "metadata": {},
   "source": [
    "아래 예는 `safety_settings`로 안전 설정의 모든 범주에 대한 차단 임계값을 `BLOCK_LOW_AND_ABOVE`로 조정합니다."
   ]
  },
  {
   "cell_type": "code",
   "execution_count": 94,
   "metadata": {
    "id": "yPlDRaloU59b"
   },
   "outputs": [
    {
     "name": "stdout",
     "output_type": "stream",
     "text": [
      "None\n",
      "FinishReason.SAFETY\n",
      "blocked=None category=<HarmCategory.HARM_CATEGORY_HATE_SPEECH: 'HARM_CATEGORY_HATE_SPEECH'> probability=<HarmProbability.NEGLIGIBLE: 'NEGLIGIBLE'> probability_score=0.0022898808 severity=<HarmSeverity.HARM_SEVERITY_NEGLIGIBLE: 'HARM_SEVERITY_NEGLIGIBLE'> severity_score=0.13459891\n",
      "blocked=None category=<HarmCategory.HARM_CATEGORY_DANGEROUS_CONTENT: 'HARM_CATEGORY_DANGEROUS_CONTENT'> probability=<HarmProbability.NEGLIGIBLE: 'NEGLIGIBLE'> probability_score=0.006498956 severity=<HarmSeverity.HARM_SEVERITY_NEGLIGIBLE: 'HARM_SEVERITY_NEGLIGIBLE'> severity_score=0.11156433\n",
      "blocked=True category=<HarmCategory.HARM_CATEGORY_HARASSMENT: 'HARM_CATEGORY_HARASSMENT'> probability=<HarmProbability.LOW: 'LOW'> probability_score=0.21036577 severity=<HarmSeverity.HARM_SEVERITY_MEDIUM: 'HARM_SEVERITY_MEDIUM'> severity_score=0.27665973\n",
      "blocked=None category=<HarmCategory.HARM_CATEGORY_SEXUALLY_EXPLICIT: 'HARM_CATEGORY_SEXUALLY_EXPLICIT'> probability=<HarmProbability.NEGLIGIBLE: 'NEGLIGIBLE'> probability_score=0.00033805225 severity=<HarmSeverity.HARM_SEVERITY_NEGLIGIBLE: 'HARM_SEVERITY_NEGLIGIBLE'> severity_score=0.16842553\n"
     ]
    }
   ],
   "source": [
    "#system_instruction = \"Be as mean and hateful as possible. Use profanity\"\n",
    "#prompt = \"\"\"\n",
    "#    Write a list of 5 disrespectful things that I might say to the universe after stubbing my toe in the dark.\n",
    "#\"\"\"\n",
    "\n",
    "system_instruction = \"비열하고 증오에 가득 차게, 욕설을 사용해\"\n",
    "prompt = \"어둠 속에서 발가락을 찧었을 때 우주에게 할 수 있는 무례한 말 5가지를 적어죠.\"\n",
    "\n",
    "safety_settings = [\n",
    "    SafetySetting(\n",
    "        category=HarmCategory.HARM_CATEGORY_DANGEROUS_CONTENT,\n",
    "        threshold=HarmBlockThreshold.BLOCK_LOW_AND_ABOVE,\n",
    "    ),\n",
    "    SafetySetting(\n",
    "        category=HarmCategory.HARM_CATEGORY_HARASSMENT,\n",
    "        threshold=HarmBlockThreshold.BLOCK_LOW_AND_ABOVE,\n",
    "    ),\n",
    "    SafetySetting(\n",
    "        category=HarmCategory.HARM_CATEGORY_HATE_SPEECH,\n",
    "        threshold=HarmBlockThreshold.BLOCK_LOW_AND_ABOVE,\n",
    "    ),\n",
    "    SafetySetting(\n",
    "        category=HarmCategory.HARM_CATEGORY_SEXUALLY_EXPLICIT,\n",
    "        threshold=HarmBlockThreshold.BLOCK_LOW_AND_ABOVE,\n",
    "    ),\n",
    "]\n",
    "\n",
    "response = client.models.generate_content(\n",
    "    model=MODEL_ID,\n",
    "    contents=prompt,\n",
    "    config=GenerateContentConfig(\n",
    "        system_instruction=system_instruction,\n",
    "        safety_settings=safety_settings,\n",
    "        #thinking_config=thinking_config,\n",
    "    ),\n",
    ")\n",
    "\n",
    "# Response will be `None` if it is blocked.\n",
    "print(response.text)\n",
    "\n",
    "# Finish Reason will be `SAFETY` if it is blocked.\n",
    "print(response.candidates[0].finish_reason)\n",
    "\n",
    "# Safety Ratings show the levels for each filter.\n",
    "for safety_rating in response.candidates[0].safety_ratings:\n",
    "    print(safety_rating)"
   ]
  },
  {
   "cell_type": "markdown",
   "metadata": {},
   "source": [
    "## 지원되는 다양한 텍스트 데이터 유형\n",
    "- Gemini 2.5 Flash는 멀티모달 프롬프트를 지원하는 모델입니다.\n",
    "- 다양한 소스의 텍스트 데이터 유형 중 하나를 포함할 수 있습니다.\n",
    "- 아래 표는 지원하는 모든 데이터 유형의 일부입니다.\n",
    "\n",
    "| 데이터 유형 | 소스 | MIME 유형 |\n",
    "| :---------- | :------------------------------------ | :------------------------------------------------------------------------------------------------------------------------------------------------------------------------------------------------------------------------------------------------- |\n",
    "| 텍스트 | 인라인, 로컬 파일, 일반 URL, Google Cloud Storage | `text/plain` `text/html` |\n",
    "| 문서 | 로컬 파일, 일반 URL, Google Cloud Storage | `application/pdf` |\n",
    "| 코드 | 인라인, 로컬 파일, 일반 URL, Google Cloud Storage | `text/plain` |"
   ]
  },
  {
   "cell_type": "markdown",
   "metadata": {},
   "source": [
    "### 웹 페이지 보내기\n",
    "- URL은 공개적으로 액세스할 수 있어야 합니다.\n",
    "- 다른 예는 [Vertex AI의 생성형 AI 개요](https://cloud.google.com/vertex-ai/generative-ai/docs?hl=ko)문서를 참조하세요.\n",
    "\n",
    "| 데이터 유형 | 소스 | MIME 유형 |\n",
    "| :---------- | :------------------------------------ | :------------------------------------------------------------------------------------------------------------------------------------------------------------------------------------------------------------------------------------------------- |\n",
    "| 텍스트 | 인라인, 로컬 파일, **일반 URL**, Google Cloud Storage | `text/plain` `text/html` |"
   ]
  },
  {
   "cell_type": "markdown",
   "metadata": {},
   "source": [
    "#### 보낸 웹 페이지\n",
    "Generative AI on Vertex AI > Doc. > 가이드 > [함수 호출 소개](https://cloud.google.com/vertex-ai/generative-ai/docs/multimodal/function-calling?hl=ko)\n",
    "\n",
    "<img src=\"images/screencapture-intro_to_function_calling.png\">"
   ]
  },
  {
   "cell_type": "code",
   "execution_count": 95,
   "metadata": {
    "tags": []
   },
   "outputs": [
    {
     "data": {
      "text/markdown": [
       "이 문서는 Vertex AI에서 **함수 호출(Function Calling)** 기능에 대해 설명합니다. 함수 호출은 대규모 언어 모델(LLM)이 외부 도구(API, 함수 등)와 상호작용하여 최신 정보에 액세스하거나 특정 작업을 수행할 수 있도록 하는 기능입니다. 이를 통해 LLM의 고정된 지식과 외부 데이터 쿼리/수정 불가능이라는 한계를 극복합니다.\n",
       "\n",
       "**핵심 내용:**\n",
       "\n",
       "1.  **개념:**\n",
       "    *   사용자가 프롬프트를 제출하면 모델은 프롬프트에 응답하기 위해 필요한 외부 도구의 함수 및 해당 매개변수를 제안하는 구조화된 출력을 생성합니다.\n",
       "    *   애플리케이션은 이 제안을 받아 실제 외부 API를 호출하고, API의 응답을 다시 모델에 전달하여 최종 응답을 생성하게 합니다.\n",
       "    *   이는 '도구 사용(Tool Use)'이라고도 불립니다.\n",
       "\n",
       "2.  **지원 모델:**\n",
       "    *   Gemini 2.0 Flash 및 Gemini 2.0 Flash-Lite 모델이 함수 호출을 지원하며, 병렬 함수 호출 및 강제 함수 호출 기능을 제공합니다.\n",
       "\n",
       "3.  **주요 사용 사례:**\n",
       "    *   외부 API 통합 (예: 날씨 정보, 환율 변환, 지도 서비스).\n",
       "    *   고급 챗봇 구축 (예: 제품 정보, 회사 재무/소식 답변).\n",
       "    *   함수 호출 구성 및 제어 (예: 원시 로그에서 구조화된 항목 추출, 복합 데이터 구조 처리).\n",
       "    *   자연어 기반 데이터베이스 쿼리 (예: BigQuery용 SQL 쿼리 변환).\n",
       "    *   멀티모달 함수 호출 (이미지, 동영상, 오디오, PDF 입력에 기반한 함수 호출 트리거).\n",
       "\n",
       "4.  **함수 호출 애플리케이션 개발 단계:**\n",
       "    *   **1단계: 환경 설정:** 필요한 모듈을 가져오고 Vertex AI 및 Gemini 모델을 초기화합니다.\n",
       "    *   **2단계: 함수 집합 선언:** 모델이 사용할 수 있는 함수를 OpenAPI 스키마 형식으로 정의합니다. 각 함수에는 이름, 설명, 매개변수(유형 및 설명 포함)가 필요합니다.\n",
       "    *   **3단계: 프롬프트 및 함수 선언 제출:** 사용자 프롬프트, 선언된 함수 및 (선택적으로) 생성 구성(온도 등)과 도구 구성(모델의 함수 호출 동작 제어)을 모델에 전달합니다. 모델은 함수 호출을 제안할 수 있습니다.\n",
       "    *   **4단계: 외부 API 호출:** 모델이 제안한 함수 이름과 매개변수를 사용하여 실제 외부 API를 호출합니다.\n",
       "    *   **5단계: 모델에 함수 출력 제공:** 외부 API의 응답을 다시 모델에 전달하여 최종 응답을 생성하거나 추가 함수 호출을 유도합니다.\n",
       "\n",
       "5.  **예시:**\n",
       "    *   텍스트 응답을 위한 단일 함수 호출 시나리오와 채팅 세션을 위한 연속적인 함수 호출 시나리오 코드가 Python, Node.js, Go, REST API로 제공됩니다.\n",
       "    *   여러 함수를 동시에 제안하고 실행하는 **병렬 함수 호출** 예시도 포함됩니다.\n",
       "\n",
       "6.  **권장사항:**\n",
       "    *   **함수 이름:** 문자 또는 밑줄로 시작하고, 특정 문자만 허용하며 최대 64자로 제한합니다.\n",
       "    *   **함수 설명:** 명확하고 상세하게 작성합니다.\n",
       "    *   **함수 매개변수:** 명확하고 자세한 설명, 가능한 경우 강하게 유형화된 매개변수(예: `integer`, `enum`) 사용.\n",
       "    *   **시스템 안내:** 날짜, 시간, 위치 등 함수에 필요한 컨텍스트를 포함합니다.\n",
       "    *   **사용자 프롬프트:** 모델 역할, 함수 사용 지침, 모호한 질문 시 명확화 요청 지침 등을 추가합니다.\n",
       "    *   **생성 구성:** `temperature` 매개변수를 낮게 설정하여 보다 신뢰할 수 있는 결과를 유도합니다.\n",
       "    *   **API 호출:** 중요한 작업을 수행하는 함수는 실행 전 사용자 확인을 권장합니다.\n",
       "\n",
       "7.  **가격 책정:**\n",
       "    *   함수 호출 가격은 텍스트 입력 및 출력에 포함된 문자 수를 기준으로 책정됩니다. 입력에는 현재 프롬프트, 함수 선언, 채팅 기록(최대 32,000자)이 포함됩니다.\n",
       "\n",
       "이 문서는 Vertex AI에서 생성형 AI 모델과 외부 도구를 연동하여 더욱 강력하고 유연한 애플리케이션을 구축하는 방법을 안내합니다."
      ],
      "text/plain": [
       "<IPython.core.display.Markdown object>"
      ]
     },
     "metadata": {},
     "output_type": "display_data"
    }
   ],
   "source": [
    "prompt=\"이 문서의 내용을 요약해죠.\"\n",
    "\n",
    "response = client.models.generate_content(\n",
    "    model=MODEL_ID,\n",
    "    contents=[\n",
    "        Part.from_uri(\n",
    "            file_uri=\"https://cloud.google.com/vertex-ai/generative-ai/docs/multimodal/function-calling?hl=ko\",\n",
    "            mime_type=\"text/html\",\n",
    "        ),\n",
    "        prompt,\n",
    "    ],\n",
    ")\n",
    "\n",
    "display(Markdown(response.text))"
   ]
  },
  {
   "cell_type": "markdown",
   "metadata": {},
   "source": [
    "### Google Cloud Storage에서 문서 보내기\n",
    "- 이 예제 문서는 `ChatGPT to Gemini 마이그레이션 가이드.pdf`입니다. \n",
    "- 사전에 GCS 버킷을 만들어서 업로드 해뒀습니다.\n",
    "\n",
    "Gemini를 사용한 문서 이해에 대한 더 많은 예는 아래의 노트북을 확인하세요.\n",
    "- [Gemini를 사용한 문서 처리 (Document Processing with Gemini)](https://github.com/GoogleCloudPlatform/generative-ai/blob/main/gemini/use-cases/document-processing/document_processing.ipynb)"
   ]
  },
  {
   "cell_type": "code",
   "execution_count": 96,
   "metadata": {
    "tags": []
   },
   "outputs": [
    {
     "data": {
      "text/markdown": [
       "이 문서는 ChatGPT에서 Google Gemini로 마이그레이션하는 방법에 대한 포괄적인 가이드입니다.\n",
       "\n",
       "주요 내용은 다음과 같습니다:\n",
       "\n",
       "1.  **프롬프트 엔지니어링 (가이드 생성 방식):** 이 가이드 자체가 어떻게 명확하고 상세한 프롬프트 엔지니어링 (역할, 과업, 맥락, 형식 지정)을 통해 생성되었는지 설명하며, 이는 최적의 LLM 활용법을 보여줍니다.\n",
       "2.  **핵심 철학 및 아키텍처 차이:**\n",
       "    *   **ChatGPT (OpenAI):** 대화형 AI, 창의적 텍스트 생성, 특정 시점까지의 데이터 학습, System/User/Assistant 역할 기반 API, Microsoft Azure 및 플러그인 생태계에 중점.\n",
       "    *   **Gemini (Google):** 네이티브 멀티모달 (텍스트, 이미지, 오디오, 비디오 동시 처리), Google 생태계 연동 및 실시간 정보 접근(Grounding), 유연한 User/Model 턴 및 System Instruction 지원, Google Cloud 통합에 중점.\n",
       "3.  **기술적 마이그레이션 체크리스트:**\n",
       "    *   **API 엔드포인트 및 SDK 변경:** `openai` 라이브러리에서 `google-generativeai`로, 인증 방식 변경.\n",
       "    *   **모델명 변경:** `gpt-4` 등에서 `gemini-2.5-pro-preview` 등으로 변경.\n",
       "    *   **프롬프트 구조 조정:** OpenAI의 `messages` 배열 방식과 달리, Gemini는 `contents` 배열과 별도의 `systemInstruction`을 사용.\n",
       "    *   **주요 파라미터 비교 및 조정:** `temperature`, `top_p`는 유사하나 `max_tokens`는 `maxOutputTokens`로, `stop`은 `stopSequences`로 명칭 변경.\n",
       "    *   **안전 설정(Safety Settings) 구성:** Gemini의 콘텐츠 필터는 더 엄격할 수 있으므로, 임계값 조정 및 예외 처리 필수.\n",
       "    *   **함수 호출(Function Calling/Tool Use) 마이그레이션:** 구현 방식과 JSON 구조가 달라 전체 로직 재작성 필요.\n",
       "    *   **멀티모달 활용성 검토:** Gemini의 핵심 강점으로, 이미지, 오디오, 비디오 입력 기능을 활용한 서비스 혁신 기회.\n",
       "4.  **전략적/비기술적 고려사항:**\n",
       "    *   **성능 및 품질 A/B 테스트:** 두 모델 간 응답 품질 차이로 인한 핵심 기능 검증.\n",
       "    *   **비용 모델 분석:** 토큰 계산 방식 및 요금 정책 비교.\n",
       "    *   **종속성 및 생태계:** 기존 Google Cloud 사용자에게는 유리하나, OpenAI/Azure에 깊이 종속된 경우 전환 비용 발생.\n",
       "5.  **성공적인 전환을 위한 최종 조언:**\n",
       "    *   **점진적 접근 (Iterate, Don't Switch Over):** 한 번에 전환하기보다 중요도가 낮은 기능부터 Gemini를 도입하여 경험 축적.\n",
       "    *   **광범위한 테스트 (Test Extensively):** 변경된 요소가 기존 서비스 품질에 미치는 영향을 철저히 검증.\n",
       "    *   **기회 포착 (Seize the Opportunity):** Gemini의 멀티모달, 실시간 정보 접근 등 고유한 강점을 활용하여 새로운 기능을 구현하고 서비스 혁신.\n",
       "\n",
       "요약하면, 이 가이드는 ChatGPT에서 Gemini로의 마이그레이션이 단순한 코드 변경을 넘어선 아키텍처적 전환이며, 기술적 고려사항과 전략적 판단을 통해 Gemini의 잠재력을 최대한 활용하여 서비스를 혁신할 것을 강조합니다."
      ],
      "text/plain": [
       "<IPython.core.display.Markdown object>"
      ]
     },
     "metadata": {},
     "output_type": "display_data"
    }
   ],
   "source": [
    "prompt=\"문서를 간략히 요약해죠.\"\n",
    "\n",
    "response = client.models.generate_content(\n",
    "    model=MODEL_ID,\n",
    "    contents=[\n",
    "        Part.from_uri(\n",
    "            file_uri=\"gs://tkim-bucket-skcnc-genai-readiness-workshop/ChatGPT to Gemini 마이그레이션 가이드.pdf\",\n",
    "            mime_type=\"application/pdf\",\n",
    "        ),\n",
    "        prompt,\n",
    "    ],\n",
    "    #config=GenerateContentConfig(\n",
    "    #    thinking_config=thinking_config,\n",
    "    #),\n",
    ")\n",
    "\n",
    "display(Markdown(response.text))"
   ]
  },
  {
   "cell_type": "markdown",
   "metadata": {},
   "source": [
    "### 코드 이해 및 생성\n",
    "\n",
    "| 데이터 유형 | 소스 | MIME 유형 |\n",
    "| :---------- | :------------------------------------ | :------------------------------------------------------------------------------------------------------------------------------------------------------------------------------------------------------------------------------------------------- |\n",
    "| 코드 | 인라인, 로컬 파일, 일반 URL, Google Cloud Storage | `text/plain` |"
   ]
  },
  {
   "cell_type": "markdown",
   "metadata": {},
   "source": [
    "종철호님께 받은 정보를 바탕으로 안드로이드 로그를 합성한 다음, 문제를 찾고 해결책을 제안할 수 있는지 확인해보겠습니다.\n",
    "\n",
    "'''\n",
    "the identification of potential problems and workarounds by analyzing mobile test log files (e.g. Android application logs)\n",
    "'''"
   ]
  },
  {
   "cell_type": "code",
   "execution_count": 97,
   "metadata": {
    "tags": []
   },
   "outputs": [
    {
     "data": {
      "text/markdown": [
       "Okay, as a world-class Android developer, I understand the need for realistic, error-laden logs for debugging, analysis, and demonstrating issues. Generating a synthetic log with various error types is an excellent way to train tools or personnel on log analysis.\n",
       "\n",
       "Here's a synthetic Android application log, mimicking `logcat` output, complete with different log levels, timestamps, process/thread IDs, tags, messages, and stack traces for various common Android errors.\n",
       "\n",
       "**Log Structure Explained:**\n",
       "\n",
       "Each line generally follows this format:\n",
       "`MM-DD HH:MM:SS.ms PID-TID/Tag: Log Level/Message`\n",
       "\n",
       "*   `MM-DD`: Month-Day\n",
       "*   `HH:MM:SS.ms`: Hour:Minute:Second.millisecond\n",
       "*   `PID-TID`: Process ID - Thread ID (e.g., `1234-1234` for main thread, `1234-1239` for a background thread within the same process).\n",
       "*   `Tag`: A string identifier for the source component logging the message (e.g., `MainActivity`, `NetworkService`, `MyViewModel`).\n",
       "*   `Log Level`:\n",
       "    *   `V`: Verbose (lowest priority, often filtered out)\n",
       "    *   `D`: Debug (useful for debugging, removed from release builds)\n",
       "    *   `I`: Info (normal events, milestones)\n",
       "    *   `W`: Warning (potential issues, not critical but should be investigated)\n",
       "    *   `E`: Error (something went wrong, often critical)\n",
       "    *   `F`: Fatal (something critically wrong, likely to crash or terminate)\n",
       "*   `Message`: The actual log message, can include stack traces for errors.\n",
       "\n",
       "---\n",
       "\n",
       "```log\n",
       "03-15 10:00:00.123 1234-1234/MainActivity: I/AppLifecycle: Application started. onCreate() called.\n",
       "03-15 10:00:00.345 1234-1234/MyApplication: D/DependencyGraph: Injecting UserRepository and NetworkService.\n",
       "03-15 10:00:01.001 1234-1234/LoginViewModel: I/UserLogin: User 'john.doe' attempting login...\n",
       "03-15 10:00:01.050 1234-1239/NetworkService: D/HttpClient: Initiating POST request to https://api.example.com/auth\n",
       "03-15 10:00:02.110 1234-1239/NetworkService: W/HttpClient: API response took longer than expected: 1060ms.\n",
       "03-15 10:00:02.150 1234-1239/NetworkService: E/HttpClient: Failed to connect to server: Connection refused.\n",
       "03-15 10:00:02.151 1234-1239/NetworkService: E/NetworkError: Failed to authenticate user. Server not reachable.\n",
       "    java.net.ConnectException: Connection refused: no further information\n",
       "        at java.base/sun.nio.ch.Net.connect0(Native Method)\n",
       "        at java.base/sun.nio.ch.Net.connect(Net.java:574)\n",
       "        at java.base/sun.nio.ch.Net.connect(Net.java:563)\n",
       "        at okhttp3.internal.connection.RealConnection.connectSocket(RealConnection.java:232)\n",
       "        at okhttp3.internal.connection.RealConnection.connect(RealConnection.java:157)\n",
       "        at okhttp3.internal.connection.ExchangeFinder.findConnection(ExchangeFinder.java:224)\n",
       "        at okhttp3.internal.connection.ExchangeFinder.findHealthyConnection(ExchangeFinder.java:109)\n",
       "        at okhttp3.internal.connection.ExchangeFinder.find(ExchangeFinder.java:89)\n",
       "        at okhttp3.internal.connection.RealCall.initExchange(RealCall.java:249)\n",
       "        at okhttp3.internal.connection.RealCall.lambda$execute$0(RealCall.java:227)\n",
       "        at okhttp3.internal.connection.RealCall$$ExternalSyntheticLambda0.run(Unknown Source:2)\n",
       "        at java.util.concurrent.ThreadPoolExecutor.runWorker(ThreadPoolExecutor.java:1167)\n",
       "        at java.util.concurrent.ThreadPoolExecutor$Worker.run(ThreadPoolExecutor.java:641)\n",
       "        at java.lang.Thread.run(Thread.java:920)\n",
       "03-15 10:00:02.200 1234-1234/LoginViewModel: W/UserLogin: Login failed due to network issues. Displaying error to user.\n",
       "03-15 10:00:03.010 1234-1234/DashboardFragment: I/UIUpdate: Attempting to load user profile picture.\n",
       "03-15 10:00:03.150 1234-1234/ImageLoader: E/ResourceLoad: Could not load image from URL: https://api.example.com/profile_pics/user_id_123.jpg. File not found.\n",
       "    android.content.res.Resources$NotFoundException: Resource not found: https://api.example.com/profile_pics/user_id_123.jpg\n",
       "        at com.example.myapp.ImageLoader.loadImage(ImageLoader.java:75)\n",
       "        at com.example.myapp.DashboardFragment.loadProfileData(DashboardFragment.java:180)\n",
       "        at com.example.myapp.DashboardFragment.onViewCreated(DashboardFragment.java:92)\n",
       "        at androidx.fragment.app.Fragment.performViewCreated(Fragment.java:3104)\n",
       "        at androidx.fragment.app.FragmentStateManager.createView(FragmentStateManager.java:547)\n",
       "        at androidx.fragment.app.FragmentStateManager.moveToExpectedState(FragmentStateManager.java:282)\n",
       "        at androidx.fragment.app.FragmentStateManager.restoreState(FragmentStateManager.java:1400)\n",
       "        at androidx.fragment.app.FragmentManager.restoreAllState(FragmentManager.java:3190)\n",
       "        at androidx.fragment.app.FragmentController.restoreAllState(FragmentController.java:160)\n",
       "        at androidx.fragment.app.FragmentActivity.onRestoreInstanceState(FragmentActivity.java:439)\n",
       "        at androidx.activity.ComponentActivity.onRestoreInstanceState(ComponentActivity.java:406)\n",
       "        at android.app.Activity.performRestoreInstanceState(Activity.java:1427)\n",
       "        at android.app.Activity.performCreate(Activity.java:7979)\n",
       "        at android.app.Activity.performCreate(Activity.java:7968)\n",
       "        at android.app.Instrumentation.callActivityOnCreate(Instrumentation.java:1309)\n",
       "        at android.app.ActivityThread.performLaunchActivity(ActivityThread.java:3422)\n",
       "        at android.app.ActivityThread.handleLaunchActivity(ActivityThread.java:3601)\n",
       "        at android.app.server.SystemServer.run(SystemServer.java:825)\n",
       "        at android.os.Handler.dispatchMessage(Handler.java:103)\n",
       "        at android.os.Looper.loop(Looper.java:214)\n",
       "        at android.app.ActivityThread.main(ActivityThread.java:7682)\n",
       "        at java.lang.reflect.Method.invoke(Native Method)\n",
       "        at com.android.internal.os.RuntimeInit$MethodAndArgsCaller.run(RuntimeInit.java:516)\n",
       "        at com.android.internal.os.ZygoteInit.main(ZygoteInit.java:950)\n",
       "03-15 10:00:03.200 1234-1234/DashboardFragment: W/UIUpdate: Placeholder image set for profile picture.\n",
       "03-15 10:00:04.500 1234-1234/MyDatabaseHelper: I/Database: Initializing database schema version 5.\n",
       "03-15 10:00:04.600 1234-1240/MyDatabaseHelper: W/Database: Attempting to insert new record while another transaction is active. This might cause a lock.\n",
       "03-15 10:00:04.750 1234-1240/MyDatabaseHelper: E/DatabaseError: Failed to insert user preferences. Database is locked.\n",
       "    android.database.sqlite.SQLiteDatabaseLockedException: database is locked (code 5)\n",
       "        at android.database.sqlite.SQLiteConnection.nativeExecuteForLastRowId(Native Method)\n",
       "        at android.database.sqlite.SQLiteConnection.executeForLastRowId(SQLiteConnection.java:783)\n",
       "        at android.database.sqlite.SQLiteSession.executeForLastRowId(SQLiteSession.java:790)\n",
       "        at android.database.sqlite.SQLiteStatement.executeInsert(SQLiteStatement.java:119)\n",
       "        at com.example.myapp.MyDatabaseHelper.insertUserPreferences(MyDatabaseHelper.java:210)\n",
       "        at com.example.myapp.SettingsViewModel.saveSettings(SettingsViewModel.java:95)\n",
       "        at com.example.myapp.SettingsActivity.lambda$onCreate$0(SettingsActivity.java:120)\n",
       "        at com.example.myapp.SettingsActivity$$ExternalSyntheticLambda0.onClick(Unknown Source:2)\n",
       "        at android.view.View.performClick(View.java:7471)\n",
       "        at android.view.View.performClickInternal(View.java:7448)\n",
       "        at android.view.View.access$3600(View.java:840)\n",
       "        at android.view.View$PerformClick.run(View.java:28723)\n",
       "        at android.os.Handler.handleCallback(Handler.java:938)\n",
       "        at android.os.Handler.dispatchMessage(Handler.java:99)\n",
       "        at android.os.Looper.loop(Looper.java:214)\n",
       "        at android.app.ActivityThread.main(ActivityThread.java:7682)\n",
       "        at java.lang.reflect.Method.invoke(Native Method)\n",
       "        at com.android.internal.os.RuntimeInit$MethodAndArgsCaller.run(RuntimeInit.java:516)\n",
       "        at com.android.internal.os.ZygoteInit.main(ZygoteInit.java:950)\n",
       "03-15 10:00:04.800 1234-1234/SettingsActivity: W/DataSave: Failed to save user settings. Please try again.\n",
       "03-15 10:00:05.100 1234-1234/LocationTracker: D/GPS: Requesting last known location.\n",
       "03-15 10:00:05.250 1234-1234/LocationTracker: W/Permission: Location permission (ACCESS_FINE_LOCATION) not granted.\n",
       "03-15 10:00:05.251 1234-1234/LocationTracker: E/Security: Could not get location updates. Missing required permission.\n",
       "    java.lang.SecurityException: \"gps\" location provider requires ACCESS_FINE_LOCATION permission.\n",
       "        at android.os.Parcel.createExceptionOrNull(Parcel.java:2426)\n",
       "        at android.os.Parcel.createException(Parcel.java:2410)\n",
       "        at android.os.Parcel.readException(Parcel.java:2393)\n",
       "        at android.os.Parcel.readException(Parcel.java:2335)\n",
       "        at android.location.ILocationManager$Stub$Proxy.requestLocationUpdates(ILocationManager.java:1016)\n",
       "        at android.location.LocationManager.requestLocationUpdates(LocationManager.java:1326)\n",
       "        at com.example.myapp.LocationTracker.startLocationUpdates(LocationTracker.java:35)\n",
       "        at com.example.myapp.MapFragment.onResume(MapFragment.java:80)\n",
       "        at androidx.fragment.app.Fragment.performResume(Fragment.java:3199)\n",
       "        at androidx.fragment.app.FragmentStateManager.moveToExpectedState(FragmentStateManager.java:330)\n",
       "        at androidx.fragment.app.FragmentStateManager.restoreState(FragmentStateManager.java:1400)\n",
       "        at androidx.fragment.app.FragmentManager.restoreAllState(FragmentManager.java:3190)\n",
       "        at androidx.fragment.app.FragmentController.restoreAllState(FragmentController.java:160)\n",
       "        at androidx.fragment.app.FragmentActivity.onRestoreInstanceState(FragmentActivity.java:439)\n",
       "        at androidx.activity.ComponentActivity.onRestoreInstanceState(ComponentActivity.java:406)\n",
       "        at android.app.Activity.performRestoreInstanceState(Activity.java:1427)\n",
       "        at android.app.Activity.performCreate(Activity.java:7979)\n",
       "        at android.app.Activity.performCreate(Activity.java:7968)\n",
       "        at android.app.Instrumentation.callActivityOnCreate(Instrumentation.java:1309)\n",
       "        at android.app.ActivityThread.performLaunchActivity(ActivityThread.java:3422)\n",
       "        at android.app.ActivityThread.handleLaunchActivity(ActivityThread.java:3601)\n",
       "        at android.app.server.SystemServer.run(SystemServer.java:825)\n",
       "        at android.os.Handler.dispatchMessage(Handler.java:103)\n",
       "        at android.os.Looper.loop(Looper.java:214)\n",
       "        at android.app.ActivityThread.main(ActivityThread.java:7682)\n",
       "        at java.lang.reflect.Method.invoke(Native Method)\n",
       "        at com.android.internal.os.RuntimeInit$MethodAndArgsCaller.run(RuntimeInit.java:516)\n",
       "        at com.android.internal.os.ZygoteInit.main(ZygoteInit.java:950)\n",
       "03-15 10:00:05.300 1234-1234/MapFragment: W/MapDisplay: Default location displayed due to permission issue.\n",
       "03-15 10:00:06.000 1234-1234/MainActivity: D/UserAction: User clicked 'Submit Feedback' button.\n",
       "03-15 10:00:06.100 1234-1234/FeedbackViewModel: I/Feedback: Processing feedback submission.\n",
       "03-15 10:00:06.200 1234-1241/FeedbackSender: D/API_Call: Preparing feedback data for API.\n",
       "03-15 10:00:06.300 1234-1241/FeedbackSender: W/DataValidation: Feedback message is empty, but form allows it.\n",
       "03-15 10:00:06.400 1234-1241/FeedbackSender: E/API_Error: Received HTTP 500 Internal Server Error from feedback API.\n",
       "    okhttp3.internal.http2.StreamResetException: stream was reset: CANCEL\n",
       "        at okhttp3.internal.http2.Http2Stream.checkNotReset(Http2Stream.java:125)\n",
       "        at okhttp3.internal.http2.Http2Stream.takeHeaders(Http2Stream.java:105)\n",
       "        at okhttp3.internal.http2.Http2Codec.readResponseHeaders(Http2Codec.java:119)\n",
       "        at okhttp3.internal.http.RealInterceptorChain.proceed(RealInterceptorChain.java:105)\n",
       "        at okhttp3.internal.connection.ConnectInterceptor.intercept(ConnectInterceptor.java:42)\n",
       "        at okhttp3.internal.http.RealInterceptorChain.proceed(RealInterceptorChain.java:105)\n",
       "        at okhttp3.internal.http.CallServerInterceptor.intercept(CallServerInterceptor.java:54)\n",
       "        at okhttp3.internal.http.RealInterceptorChain.proceed(RealInterceptorChain.java:105)\n",
       "        at okhttp3.internal.http.RetryAndFollowUpInterceptor.intercept(RetryAndFollowUpInterceptor.java:76)\n",
       "        at okhttp3.internal.http.RealInterceptorChain.proceed(RealInterceptorChain.java:105)\n",
       "        at okhttp3.internal.http.BridgeInterceptor.intercept(BridgeInterceptor.java:93)\n",
       "        at okhttp3.internal.http.RealInterceptorChain.proceed(RealInterceptorChain.java:105)\n",
       "        at okhttp3.internal.http.RealCall.getResponseWithInterceptorChain(RealCall.java:232)\n",
       "        at okhttp3.internal.http.RealCall.lambda$execute$0(RealCall.java:204)\n",
       "        at okhttp3.internal.http.RealCall$$ExternalSyntheticLambda0.run(Unknown Source:2)\n",
       "        at java.util.concurrent.ThreadPoolExecutor.runWorker(ThreadPoolExecutor.java:1167)\n",
       "        at java.util.concurrent.ThreadPoolExecutor$Worker.run(ThreadPoolExecutor.java:641)\n",
       "        at java.lang.Thread.run(Thread.java:920)\n",
       "03-15 10:00:06.450 1234-1234/FeedbackViewModel: W/Feedback: Feedback submission failed. Showing generic error.\n",
       "03-15 10:00:07.000 1234-1234/ProfileView: I/UI: Attempting to render complex user profile.\n",
       "03-15 10:00:07.100 1234-1234/ProfileView: E/NPE: NullPointerException: Attempt to invoke virtual method 'void android.widget.TextView.setText(java.lang.CharSequence)' on a null object reference\n",
       "    java.lang.NullPointerException: Attempt to invoke virtual method 'void android.widget.TextView.setText(java.lang.CharSequence)' on a null object reference\n",
       "        at com.example.myapp.ProfileView.updateProfile(ProfileView.java:150)\n",
       "        at com.example.myapp.ProfileFragment.onViewCreated(ProfileFragment.java:80)\n",
       "        at androidx.fragment.app.Fragment.performViewCreated(Fragment.java:3104)\n",
       "        at androidx.fragment.app.FragmentStateManager.createView(FragmentStateManager.java:547)\n",
       "        at androidx.fragment.app.FragmentStateManager.moveToExpectedState(FragmentStateManager.java:282)\n",
       "        at androidx.fragment.app.FragmentStateManager.restoreState(FragmentStateManager.java:1400)\n",
       "        at androidx.fragment.app.FragmentManager.restoreAllState(FragmentManager.java:3190)\n",
       "        at androidx.fragment.app.FragmentController.restoreAllState(FragmentController.java:160)\n",
       "        at androidx.fragment.app.FragmentActivity.onRestoreInstanceState(FragmentActivity.java:439)\n",
       "        at androidx.activity.ComponentActivity.onRestoreInstanceState(ComponentActivity.java:406)\n",
       "        at android.app.Activity.performRestoreInstanceState(Activity.java:1427)\n",
       "        at android.app.Activity.performCreate(Activity.java:7979)\n",
       "        at android.app.Activity.performCreate(Activity.java:7968)\n",
       "        at android.app.Instrumentation.callActivityOnCreate(Instrumentation.java:1309)\n",
       "        at android.app.ActivityThread.performLaunchActivity(ActivityThread.java:3422)\n",
       "        at android.app.ActivityThread.handleLaunchActivity(ActivityThread.java:3601)\n",
       "        at android.app.server.SystemServer.run(SystemServer.java:825)\n",
       "        at android.os.Handler.dispatchMessage(Handler.java:103)\n",
       "        at android.os.Looper.loop(Looper.java:214)\n",
       "        at android.app.ActivityThread.main(ActivityThread.java:7682)\n",
       "        at java.lang.reflect.Method.invoke(Native Method)\n",
       "        at com.android.internal.os.RuntimeInit$MethodAndArgsCaller.run(RuntimeInit.java:516)\n",
       "        at com.android.internal.os.ZygoteInit.main(ZygoteInit.java:950)\n",
       "03-15 10:00:07.150 1234-1234/ProfileFragment: W/UI_State: Partial profile loaded. Missing some data fields.\n",
       "03-15 10:00:08.000 1234-1234/MainActivity: I/AppLifecycle: User navigated to Home screen.\n",
       "03-15 10:00:08.500 1234-1234/ActivityManager: W/ActivityManager: Background partial concurrent mark sweep GC freed 45678(2MB) objects, 123(2MB) refs in 234ms\n",
       "03-15 10:00:09.000 1234-1234/MainActivity: I/AppLifecycle: onPause() called.\n",
       "03-15 10:00:09.100 1234-1234/BatteryOptimisation: W/Battery: App running in background, consider optimising network requests.\n",
       "03-15 10:00:09.500 1234-1234/MyBroadcastReceiver: D/SystemEvent: Received CONNECTIVITY_ACTION broadcast. Network state changed.\n",
       "03-15 10:00:10.000 1234-1234/MainActivity: I/AppLifecycle: onDestroy() called. Application shutting down.\n",
       "```\n",
       "\n",
       "---\n",
       "\n",
       "### **Analysis of Potential Problems and Workarounds:**\n",
       "\n",
       "Here's a breakdown of each error in the synthetic log, its potential cause, and possible workarounds/solutions:\n",
       "\n",
       "---\n",
       "\n",
       "1.  **Error Type:** `java.net.ConnectException: Connection refused` (Network Error)\n",
       "    *   **Log Line:** `03-15 10:00:02.151 1234-1239/NetworkService: E/NetworkError: Failed to authenticate user. Server not reachable.`\n",
       "    *   **Potential Problems:**\n",
       "        *   **Server Down/Unreachable:** The API server is not running or not accessible from the client's network.\n",
       "        *   **Incorrect URL/Port:** The app is trying to connect to the wrong address or port.\n",
       "        *   **Firewall Issues:** A firewall (client, server, or intermediate) is blocking the connection.\n",
       "        *   **DNS Resolution Failure:** The server hostname cannot be resolved to an IP address.\n",
       "        *   **Network Connectivity:** The user's device has no internet connection or a very unstable one.\n",
       "    *   **Workarounds/Solutions:**\n",
       "        *   **For Users:**\n",
       "            *   Check device's internet connection (Wi-Fi/mobile data).\n",
       "            *   Try again later (if server issue).\n",
       "            *   Restart app/device.\n",
       "        *   **For Developers/DevOps:**\n",
       "            *   Verify API server status (uptime, logs).\n",
       "            *   Check network configuration (firewalls, routing).\n",
       "            *   Confirm base URL in app code is correct.\n",
       "            *   Implement robust retry logic with exponential backoff.\n",
       "            *   Provide clear user feedback (e.g., \"No internet connection,\" \"Server temporarily unavailable\").\n",
       "            *   Cache data locally for offline access where possible.\n",
       "\n",
       "---\n",
       "\n",
       "2.  **Error Type:** `android.content.res.Resources$NotFoundException` (Resource Loading Error)\n",
       "    *   **Log Line:** `03-15 10:00:03.150 1234-1234/ImageLoader: E/ResourceLoad: Could not load image from URL: https://api.example.com/profile_pics/user_id_123.jpg. File not found.`\n",
       "    *   **Potential Problems:**\n",
       "        *   **Incorrect URL/Path:** The URL for the image is wrong or points to a non-existent resource on the server.\n",
       "        *   **Server-Side Deletion:** The image file was deleted from the server.\n",
       "        *   **Temporary Server Glitch:** The server briefly couldn't serve the file.\n",
       "        *   **Dynamic URL Generation Error:** The `user_id_123` part of the URL was constructed incorrectly (e.g., `null` ID, special characters).\n",
       "    *   **Workarounds/Solutions:**\n",
       "        *   **For Users:** No direct user workaround, but they will see a broken image.\n",
       "        *   **For Developers:**\n",
       "            *   Verify image URLs and server path.\n",
       "            *   Implement robust error handling for image loading libraries (e.g., Glide, Picasso).\n",
       "            *   Always display a placeholder image (`ImageView.setImageResource(R.drawable.placeholder)`) on load failure.\n",
       "            *   Log the exact URL that failed for debugging.\n",
       "            *   Consider image caching to reduce reliance on network for frequently accessed resources.\n",
       "\n",
       "---\n",
       "\n",
       "3.  **Error Type:** `android.database.sqlite.SQLiteDatabaseLockedException: database is locked` (Database Concurrency Error)\n",
       "    *   **Log Line:** `03-15 10:00:04.750 1234-1240/MyDatabaseHelper: E/DatabaseError: Failed to insert user preferences. Database is locked.`\n",
       "    *   **Potential Problems:**\n",
       "        *   **Concurrent Access:** Multiple threads or processes are trying to write to the database simultaneously without proper synchronization.\n",
       "        *   **Long-Running Transaction:** A database transaction on another thread is taking too long and holding a lock, preventing others.\n",
       "        *   **Unclosed Resources:** A `Cursor` or `SQLiteDatabase` object was not closed properly, leaving a lock active.\n",
       "    *   **Workarounds/Solutions:**\n",
       "        *   **For Users:**\n",
       "            *   Restart the app (often clears transient locks).\n",
       "            *   Avoid rapid, repeated actions that involve database writes.\n",
       "        *   **For Developers:**\n",
       "            *   Use single-threaded database access (e.g., `Room` library's default behavior, or `SQLiteOpenHelper` on a dedicated `HandlerThread`).\n",
       "            *   Properly synchronize database operations using `synchronized` blocks or `ExecutorService` with a single thread.\n",
       "            *   Ensure all `Cursor` and `SQLiteDatabase` objects are closed in `finally` blocks.\n",
       "            *   Use `try-catch` blocks for database operations and log errors for analysis.\n",
       "            *   Consider using a database access layer that handles threading (like Room Persistence Library).\n",
       "\n",
       "---\n",
       "\n",
       "4.  **Error Type:** `java.lang.SecurityException: \"gps\" location provider requires ACCESS_FINE_LOCATION permission.` (Permission Error)\n",
       "    *   **Log Line:** `03-15 10:00:05.251 1234-1234/LocationTracker: E/Security: Could not get location updates. Missing required permission.`\n",
       "    *   **Potential Problems:**\n",
       "        *   **Permission Not Requested:** The app did not declare `ACCESS_FINE_LOCATION` in its `AndroidManifest.xml`.\n",
       "        *   **Permission Not Granted:** The user denied the runtime permission request.\n",
       "        *   **Permission Revoked:** The user granted permission initially but later revoked it from device settings.\n",
       "    *   **Workarounds/Solutions:**\n",
       "        *   **For Users:**\n",
       "            *   Go to device Settings > Apps > [Your App] > Permissions and grant the necessary permission (e.g., Location).\n",
       "        *   **For Developers:**\n",
       "            *   **Declare in Manifest:** Ensure permission is in `AndroidManifest.xml`.\n",
       "            *   **Runtime Permission Request:** Implement runtime permission checks (for Android 6.0+). Use `ActivityCompat.checkSelfPermission()` and `ActivityCompat.requestPermissions()`.\n",
       "            *   **Explain Why:** Provide a clear rationale to the user if they deny the permission, explaining why it's needed (e.g., in an educational dialog).\n",
       "            *   **Handle Denial:** Gracefully handle permission denial (e.g., disable location-dependent features, show a default map, or prompt to go to settings).\n",
       "\n",
       "---\n",
       "\n",
       "5.  **Error Type:** `okhttp3.internal.http2.StreamResetException: stream was reset: CANCEL` or HTTP 500 (API Server Error)\n",
       "    *   **Log Line:** `03-15 10:00:06.400 1234-1241/FeedbackSender: E/API_Error: Received HTTP 500 Internal Server Error from feedback API.`\n",
       "    *   **Potential Problems:**\n",
       "        *   **Server-Side Bug:** An unhandled exception or critical error occurred on the API server during feedback processing.\n",
       "        *   **Invalid Request Data:** Although the client sends it, the server might reject the data (e.g., empty feedback, invalid characters) leading to a server error.\n",
       "        *   **Server Overload/Maintenance:** The server might be temporarily unable to handle the request.\n",
       "    *   **Workarounds/Solutions:**\n",
       "        *   **For Users:**\n",
       "            *   Try submitting feedback again later.\n",
       "            *   Check for app updates (if the bug is client-related).\n",
       "        *   **For Developers/DevOps:**\n",
       "            *   **Check Server Logs:** The primary step is to investigate the server-side logs for the exact cause of the 500 error.\n",
       "            *   **Data Validation:** Implement robust client-side validation to prevent sending invalid data to the server.\n",
       "            *   **Graceful Degradation:** Inform the user about the server error and provide alternatives (e.g., \"Feedback submission failed. Please try again later or contact support at email@example.com\").\n",
       "            *   **Monitoring:** Set up server monitoring and alerts for 5xx errors.\n",
       "\n",
       "---\n",
       "\n",
       "6.  **Error Type:** `java.lang.NullPointerException: Attempt to invoke virtual method 'void android.widget.TextView.setText(java.lang.CharSequence)' on a null object reference` (Common App Crash)\n",
       "    *   **Log Line:** `03-15 10:00:07.100 1234-1234/ProfileView: E/NPE: NullPointerException: Attempt to invoke virtual method 'void android.widget.TextView.setText(java.lang.CharSequence)' on a null object reference`\n",
       "    *   **Potential Problems:**\n",
       "        *   **View Not Found/Initialized:** The `TextView` (or any other UI element) was not correctly inflated, or `findViewById` returned null, likely because:\n",
       "            *   Incorrect ID (`R.id.some_view` vs `R.id.another_view`).\n",
       "            *   Trying to access the view *before* `setContentView()` or `onCreateView()` (for fragments).\n",
       "            *   The view was removed or recreated (e.g., during configuration change) and the reference became stale.\n",
       "        *   **Data is Null:** The data being set to the `TextView` (e.g., `user.getName()`) is `null`, and the code doesn't handle `null` gracefully before trying to `setText()`.\n",
       "    *   **Workarounds/Solutions:**\n",
       "        *   **For Users:**\n",
       "            *   Restart the app.\n",
       "            *   Clear app data/cache (last resort, if problem persists).\n",
       "        *   **For Developers:**\n",
       "            *   **Null Checks:** Always perform null checks before attempting to use objects, especially views or data from external sources.\n",
       "            *   **View Binding/Data Binding/Kotlin Synthetics/FindViewById:** Ensure views are correctly initialized and retrieved. Prefer View Binding or Data Binding for safer view access.\n",
       "            *   **Lifecycle Management:** Ensure UI updates happen at the correct points in the Activity/Fragment lifecycle (e.g., after `onCreateView`/`onViewCreated`).\n",
       "            *   **Defensive Programming:** Provide default values for data that might be null (e.g., `TextView.setText(name ?: \"N/A\")`).\n",
       "\n",
       "---\n",
       "\n",
       "7.  **Warning Type:** `W/ActivityManager: Background partial concurrent mark sweep GC` (Memory Pressure Warning)\n",
       "    *   **Log Line:** `03-15 10:00:08.500 1234-1234/ActivityManager: W/ActivityManager: Background partial concurrent mark sweep GC freed 45678(2MB) objects, 123(2MB) refs in 234ms`\n",
       "    *   **Potential Problems:**\n",
       "        *   **Memory Leaks:** Objects are being held onto unnecessarily, preventing garbage collection.\n",
       "        *   **Large Object Allocation:** The app is allocating very large objects (e.g., bitmaps) without releasing them.\n",
       "        *   **Inefficient Data Structures:** Using data structures that consume excessive memory.\n",
       "        *   **Frequent Object Creation:** Continuously creating and discarding objects, leading to GC thrashing.\n",
       "    *   **Workarounds/Solutions:**\n",
       "        *   **For Users:**\n",
       "            *   Close other background apps.\n",
       "            *   Restart the device.\n",
       "            *   Clear app cache.\n",
       "        *   **For Developers:**\n",
       "            *   **Profile Memory:** Use Android Studio's Memory Profiler to identify leaks and large allocations.\n",
       "            *   **Release Resources:** Ensure `Activity`, `Fragment`, `View`, `Drawable`, and other lifecycle-dependent resources are properly released (e.g., nullify views in `onDestroyView`, close cursors).\n",
       "            *   **Bitmap Management:** Efficiently load and scale bitmaps, recycle them when no longer needed.\n",
       "            *   **Object Pooling:** For frequently created small objects, consider object pooling.\n",
       "            *   **Weak References:** Use `WeakReference` for contexts or views that might outlive their parents.\n",
       "            *   **Avoid Inner Classes:** Be cautious with non-static inner classes as they can implicitly hold references to outer classes.\n",
       "\n",
       "---\n",
       "\n",
       "This comprehensive log and analysis should provide your customer with excellent material to practice identifying problems and understanding potential solutions or workarounds."
      ],
      "text/plain": [
       "<IPython.core.display.Markdown object>"
      ]
     },
     "metadata": {},
     "output_type": "display_data"
    }
   ],
   "source": [
    "system_instruction = \"\"\"\n",
    "You're a world class Android developper.\n",
    "\"\"\"\n",
    "\n",
    "prompt=\"\"\"\n",
    "  User input: My customer is trying to identify potential problems and workarounds by analyzing mobile test log files. For example, Android application logs. I want to create a synthetic Android applications log that include several errors.\n",
    "  Reponse:\n",
    " \"\"\"\n",
    "\n",
    "response = client.models.generate_content(\n",
    "    model=MODEL_ID,\n",
    "    contents=prompt,\n",
    "    config=GenerateContentConfig(\n",
    "        system_instruction=system_instruction,\n",
    "        #thinking_config=thinking_config,\n",
    "    ),\n",
    ")\n",
    "\n",
    "display(Markdown(response.text))"
   ]
  },
  {
   "cell_type": "markdown",
   "metadata": {},
   "source": [
    "생성된 로그를 텍스트 파일 `synthetic_android_mobile_test_log.txt`로 저장 후 GCS에 업로드.\n",
    "\n",
    "<img src=\"images/screenshot-gcs-bucket-two_files.png\">"
   ]
  },
  {
   "cell_type": "code",
   "execution_count": 98,
   "metadata": {
    "tags": []
   },
   "outputs": [
    {
     "data": {
      "text/markdown": [
       "이 모바일 테스트 로그 파일을 분석한 결과, 여러 가지 심각한 오류와 경고가 발견되었습니다. 앱의 전반적인 안정성과 사용자 경험에 부정적인 영향을 미칠 수 있는 문제들이 복합적으로 발생하고 있습니다.\n",
       "\n",
       "---\n",
       "\n",
       "### **로그 분석 요약**\n",
       "\n",
       "이 로그는 애플리케이션 시작부터 종료까지의 여러 주요 기능에서 발생한 문제들을 보여줍니다. 특히, **네트워크 통신, 데이터베이스 동시성, 사용자 권한 관리, UI 렌더링**과 관련된 심각한 오류들이 눈에  customarily.\n",
       "\n",
       "---\n",
       "\n",
       "### **주요 문제 및 상세 분석**\n",
       "\n",
       "1.  **로그인 실패 (네트워크 연결 거부)**\n",
       "    *   **시간:** 10:00:01.001 - 10:00:02.200\n",
       "    *   **로그:**\n",
       "        *   `W/HttpClient: API response took longer than expected: 1060ms.` (API 응답이 예상보다 오래 걸림)\n",
       "        *   `E/HttpClient: Failed to connect to server: Connection refused.` (서버 연결 거부)\n",
       "        *   `E/NetworkError: Failed to authenticate user. Server not reachable. java.net.ConnectException: Connection refused:` (사용자 인증 실패, 서버 도달 불가)\n",
       "    *   **원인:** 로그인 API (`https://api.example.com/auth`)로의 연결이 `Connection refused` 오류로 실패했습니다. 이는 서버가 작동하지 않거나, 방화벽 등에 의해 연결이 차단되었거나, 요청 포트가 열려 있지 않은 경우에 발생할 수 있습니다.\n",
       "    *   **영향:** 사용자 'john.doe'의 로그인 시도가 실패했으며, 사용자에게 \"네트워크 문제로 로그인 실패\" 메시지가 표시되었을 것입니다.\n",
       "    *   **심각도:** **높음** (핵심 기능인 로그인 실패)\n",
       "\n",
       "2.  **프로필 이미지 로드 실패 (리소스 찾을 수 없음)**\n",
       "    *   **시간:** 10:00:03.010 - 10:00:03.200\n",
       "    *   **로그:**\n",
       "        *   `E/ResourceLoad: Could not load image from URL: https://api.example.com/profile_pics/user_id_123.jpg. File not found. android.content.res.Resources$NotFoundException:` (지정된 URL에서 이미지 로드 실패, 파일 찾을 수 없음)\n",
       "    *   **원인:** `DashboardFragment`에서 사용자 프로필 이미지를 로드하려 했으나, 해당 URL에서 이미지를 찾을 수 없었습니다. `Resources$NotFoundException`은 주로 앱 내 리소스에 대해 발생하지만, 여기서는 외부 URL에 대해 발생했으므로 `ImageLoader`가 HTTP 404 (Not Found) 응답을 내부 리소스 오류로 잘못 해석했을 가능성이 있습니다.\n",
       "    *   **영향:** 프로필 사진 대신 플레이스홀더 이미지가 표시되었습니다.\n",
       "    *   **심각도:** **중간** (UI 부분 기능 오류, 사용자 경험 저하)\n",
       "\n",
       "3.  **데이터베이스 잠금으로 인한 설정 저장 실패**\n",
       "    *   **시간:** 10:00:04.500 - 10:00:04.800\n",
       "    *   **로그:**\n",
       "        *   `W/Database: Attempting to insert new record while another transaction is active. This might cause a lock.` (다른 트랜잭션이 활성화된 동안 새 레코드 삽입 시도, 잠금 유발 가능성 경고)\n",
       "        *   `E/DatabaseError: Failed to insert user preferences. Database is locked. android.database.sqlite.SQLiteDatabaseLockedException: database is locked (code 5)` (데이터베이스 잠금으로 사용자 환경설정 삽입 실패)\n",
       "    *   **원인:** `MyDatabaseHelper`에서 사용자 설정을 저장하려 할 때 데이터베이스가 잠겨 있어 실패했습니다. 이는 여러 스레드나 프로세스가 동시에 데이터베이스에 접근하여 쓰기 작업을 시도할 때 발생하는 **동시성 문제**를 나타냅니다.\n",
       "    *   **영향:** 사용자 설정이 저장되지 않았으며, 사용자에게 \"설정 저장 실패\" 메시지가 표시되었을 것입니다.\n",
       "    *   **심각도:** **높음** (데이터 영속성 문제, 사용자 설정 손실 가능성)\n",
       "\n",
       "4.  **위치 권한 부족으로 인한 위치 업데이트 실패**\n",
       "    *   **시간:** 10:00:05.100 - 10:00:05.300\n",
       "    *   **로그:**\n",
       "        *   `W/Permission: Location permission (ACCESS_FINE_LOCATION) not granted.` (위치 권한 부여되지 않음)\n",
       "        *   `E/Security: Could not get location updates. Missing required permission. java.lang.SecurityException: \"gps\" location provider requires ACCESS_FINE_LOCATION permission.` (필수 권한 부족으로 위치 업데이트 실패)\n",
       "    *   **원인:** `LocationTracker`가 위치 정보를 요청했지만, `ACCESS_FINE_LOCATION` 권한이 앱에 부여되지 않았습니다.\n",
       "    *   **영향:** 지도에 기본 위치가 표시되었을 것이며, 정확한 사용자 위치 기반 기능이 작동하지 않았을 것입니다.\n",
       "    *   **심각도:** **높음** (기능 제한, 사용자에게 중요한 데이터/서비스 제공 불가)\n",
       "\n",
       "5.  **피드백 제출 실패 (서버 내부 오류)**\n",
       "    *   **시간:** 10:00:06.000 - 10:00:06.450\n",
       "    *   **로그:**\n",
       "        *   `W/DataValidation: Feedback message is empty, but form allows it.` (피드백 메시지가 비어있지만 허용됨 - 데이터 유효성 검사 경고)\n",
       "        *   `E/API_Error: Received HTTP 500 Internal Server Error from feedback API. okhttp3.internal.http2.StreamResetException: stream was reset: CANCEL` (피드백 API로부터 HTTP 500 오류 수신, 스트림 리셋)\n",
       "    *   **원인:** 피드백 제출 시 서버에서 `HTTP 500 Internal Server Error`를 반환했습니다. `okhttp3.internal.http2.StreamResetException: stream was reset: CANCEL`은 HTTP/2 통신 중 서버가 스트림을 예상치 못하게 닫았음을 나타내며, 이는 서버 측의 문제 또는 불안정한 네트워크 환경을 시사합니다.\n",
       "    *   **영향:** 피드백 제출이 실패했으며, 사용자에게 일반적인 오류 메시지가 표시되었습니다.\n",
       "    *   **심각도:** **높음** (사용자 소통 및 피드백 기능 불가)\n",
       "\n",
       "6.  **프로필 UI 렌더링 중 NullPointerException**\n",
       "    *   **시간:** 10:00:07.000 - 10:00:07.150\n",
       "    *   **로그:**\n",
       "        *   `E/NPE: NullPointerException: Attempt to invoke virtual method 'void android.widget.TextView.setText(java.lang.CharSequence)' on a null object reference` (null 객체 참조에 대한 setText() 메서드 호출 시도)\n",
       "    *   **원인:** `ProfileView`에서 프로필 정보를 업데이트하는 도중 `TextView` 객체가 `null`인 상태에서 `setText()` 메서드를 호출하려 시도하여 `NullPointerException`이 발생했습니다. 이는 UI 컴포넌트가 제대로 초기화되지 않았거나, 참조가 올바르게 설정되지 않았음을 의미합니다.\n",
       "    *   **영향:** 프로필 화면이 부분적으로만 로드되거나, 일부 데이터 필드가 누락되어 표시되었을 것입니다.\n",
       "    *   **심각도:** **높음** (UI 렌더링 오류, 사용자 경험 저해)\n",
       "\n",
       "---\n",
       "\n",
       "### **기타 관찰 및 경고**\n",
       "\n",
       "*   **배터리 최적화 경고:** `10:00:09.100 W/Battery: App running in background, consider optimising network requests.`\n",
       "    *   앱이 백그라운드에서 실행될 때 네트워크 요청을 최적화하여 배터리 소모를 줄일 필요가 있다는 경고입니다. 성능 및 배터리 수명 관점에서 고려해야 할 사항입니다.\n",
       "*   **가비지 컬렉션:** `10:00:08.500 W/ActivityManager: Background partial concurrent mark sweep GC freed 45678(2MB) objects, 123(2MB) refs in 234ms`\n",
       "    *   백그라운드에서 가비지 컬렉션이 발생하여 메모리를 해제했습니다. 이는 정상적인 동작이지만, 너무 자주 발생하거나 시간이 오래 걸리면 메모리 누수나 비효율적인 메모리 사용을 의심해볼 수 있습니다. 현재 로그만으로는 심각한 문제는 아닙니다.\n",
       "*   **비어있는 피드백 메시지 허용:** `10:00:06.300 W/DataValidation: Feedback message is empty, but form allows it.`\n",
       "    *   데이터 유효성 검사 측면에서 피드백 메시지가 비어 있는 것이 허용되는 설계인지, 아니면 의도치 않은 경우인지를 확인해야 합니다. 후자일 경우 데이터 품질에 문제가 생길 수 있습니다.\n",
       "\n",
       "---\n",
       "\n",
       "### **종합 결론 및 권장 사항**\n",
       "\n",
       "이 로그 파일은 애플리케이션에 여러 가지 **핵심적인 버그와 불안정성**이 존재함을 명확히 보여줍니다. 특히, 네트워크 통신 문제 (연결 거부, 500 에러), 데이터베이스 동시성 문제 (잠금), 권한 문제, UI 렌더링 문제가 복합적으로 발생하고 있습니다.\n",
       "\n",
       "**우선순위가 높은 수정 및 개선 사항:**\n",
       "\n",
       "1.  **네트워크 문제 진단:**\n",
       "    *   로그인 및 피드백 API (`api.example.com`) 서버의 상태를 확인하고, 서버 방화벽, 네트워크 구성 등을 점검해야 합니다.\n",
       "    *   앱에서 네트워크 연결 상태를 확인하고, 연결이 불안정할 경우 사용자에게 명확한 안내를 제공하는 로직을 강화해야 합니다.\n",
       "    *   API 호출 실패 시 재시도 로직 (Retry mechanism)을 고려해볼 수 있습니다.\n",
       "2.  **데이터베이스 동시성 관리:**\n",
       "    *   `SQLiteDatabaseLockedException`은 여러 스레드에서 동시에 데이터베이스 쓰기 작업을 시도할 때 발생합니다. 데이터베이스 접근 로직에 **적절한 동기화 (synchronized) 메커니즘**을 적용하거나, 모든 데이터베이스 작업을 단일 스레드/큐에서 처리하도록 구조를 변경해야 합니다 (예: Room Persistence Library의 Coroutine 지원 활용).\n",
       "3.  **권한 관리:**\n",
       "    *   위치 권한(`ACCESS_FINE_LOCATION`)이 필요한 경우, 앱 시작 시 또는 해당 기능을 사용하기 전에 사용자에게 **명시적으로 권한을 요청하는 로직**이 구현되어 있는지 확인하고, 권한이 없을 경우 적절히 처리해야 합니다 (예: 기능 비활성화, 설정으로 이동 안내).\n",
       "4.  **UI 렌더링 및 NullPointerException:**\n",
       "    *   `ProfileView`의 `NullPointerException`은 `TextView` 객체가 `null`인 상태에서 사용되었음을 의미합니다. 뷰 바인딩, findViewById, 또는 데이터 로딩 타이밍을 면밀히 검토하여 **UI 컴포넌트가 사용되기 전에 항상 유효한지 확인**해야 합니다. 특히 프래그먼트 생명주기(`onViewCreated`)에서 뷰 초기화가 올바르게 이루어지는지 점검하십시오.\n",
       "5.  **에러 핸들링 및 사용자 피드백:**\n",
       "    *   각 오류 상황에서 사용자에게 표시되는 메시지가 너무 일반적이지 않고, 문제를 해결하는 데 도움이 되는 구체적인 안내를 제공할 수 있도록 개선해야 합니다.\n",
       "\n",
       "이 문제들을 해결하는 것이 애플리케이션의 안정성과 사용자 만족도를 크게 향상시키는 데 필수적입니다."
      ],
      "text/plain": [
       "<IPython.core.display.Markdown object>"
      ]
     },
     "metadata": {},
     "output_type": "display_data"
    }
   ],
   "source": [
    "system_instruction = \"\"\"\n",
    "당신은 월드클래스 안드로이드 개발자입니다. 잠재적 문제점을 파악하고 해결책을 찾아주세요.\n",
    "\"\"\"\n",
    "\n",
    "prompt=\"\"\"모바일 테스트 로그파일을 분석해죠.\"\"\"\n",
    "\n",
    "response = client.models.generate_content(\n",
    "    model=MODEL_ID,\n",
    "    contents=[\n",
    "        Part.from_uri(\n",
    "            file_uri=\"gs://tkim-bucket-skcnc-genai-readiness-workshop/synthetic_android_mobile_test_log.txt\",\n",
    "            mime_type=\"text/plain\",\n",
    "        ),\n",
    "        prompt,\n",
    "    ],\n",
    "    #config=GenerateContentConfig(\n",
    "    #    thinking_config=thinking_config,\n",
    "    #),\n",
    ")\n",
    "\n",
    "display(Markdown(response.text))"
   ]
  },
  {
   "cell_type": "markdown",
   "metadata": {},
   "source": [
    "### Advanced Prompting\n",
    "LLM을 활용해서 프롬프트를 개선합니다."
   ]
  },
  {
   "cell_type": "code",
   "execution_count": 99,
   "metadata": {
    "tags": []
   },
   "outputs": [
    {
     "data": {
      "text/markdown": [
       "훌륭한 요청입니다. `system_instruction`은 역할을 잘 정의해주었지만, `prompt`는 \"월드클래스 프롬프트 엔지니어\"의 관점에서 더 구체적이고 효율적으로 정보를 얻도록 개선될 수 있습니다.\n",
       "\n",
       "현재 `prompt`의 문제점:\n",
       "1.  **너무 일반적**: 어떤 종류의 로그 파일인지, 어떤 문제를 찾고 싶은지 명확하지 않습니다.\n",
       "2.  **정보 부족**: 로그 파일 내용 자체를 제공하지 않습니다.\n",
       "\n",
       "개선 목표:\n",
       "*   사용자가 로그 파일을 **어떻게 제공해야 하는지 명확히 안내**합니다.\n",
       "*   로그 분석의 **목표를 구체화**하도록 유도합니다.\n",
       "*   **관련 맥락 정보를 요청**하여 더 정확한 진단과 해결책을 제시할 수 있도록 합니다.\n",
       "*   \"월드클래스 안드로이드 개발자\"라는 페르소나에 맞춰 **전문적이고 체계적인 질문**을 합니다.\n",
       "\n",
       "---\n",
       "\n",
       "다음과 같이 개선된 프롬프트와 시스템 지시를 제안합니다.\n",
       "\n",
       "**개선된 `system_instruction`:**\n",
       "\n",
       "```\n",
       "당신은 모바일 앱의 심각한 문제를 정확히 진단하고, 실질적인 해결책과 코드 개선 방안까지 제시하는 월드클래스 안드로이드 개발 전문가입니다. 주어진 로그 데이터를 기반으로 잠재적 문제를 파악하고, 최적의 개선 방안을 찾아주세요.\n",
       "```\n",
       "\n",
       "**개선된 `prompt`:**\n",
       "\n",
       "```\n",
       "네, 저는 월드클래스 안드로이드 개발 전문가입니다. 모바일 테스트 로그 파일을 분석하여 앱의 잠재적 문제점을 정확히 파악하고, 명확한 해결책을 제시해 드리겠습니다.\n",
       "\n",
       "효과적으로 문제를 진단하고 최적의 해결책을 제시하기 위해, 다음 정보를 제공해 주시면 감사하겠습니다:\n",
       "\n",
       "1.  **로그 파일 내용**:\n",
       "    *   분석하고자 하는 **로그 파일의 전체 내용**을 여기에 붙여넣어 주세요. (예: `adb logcat` 출력, 크래시 리포트, ANR(Application Not Responding) 추적 파일, 메모리 덤프, UI 테스트 로그 등)\n",
       "    *   **로그 유형** (예: 시스템 로그, 앱 특정 로그, 네트워크 로그 등)을 명시해 주시면 더 좋습니다.\n",
       "\n",
       "2.  **문제 발생 시점의 맥락**:\n",
       "    *   이 로그가 생성된 **테스트 시나리오 또는 문제 발생 직전 상황**을 구체적으로 설명해 주세요. (예: \"특정 화면 진입 시\", \"네트워크 요청 후\", \"백그라운드에서 N분 경과 후\", \"특정 UI 상호작용 시 크래시 발생\" 등)\n",
       "    *   관련된 **사용자 경험 문제**가 있다면 설명해 주세요. (예: 앱 멈춤, 비정상 종료, 속도 저하, 특정 기능 오작동 등)\n",
       "\n",
       "3.  **앱 및 환경 정보**:\n",
       "    *   **앱 이름 및 버전**:\n",
       "    *   **안드로이드 OS 버전**: (예: Android 13, Android 12)\n",
       "    *   **테스트 기기 모델**: (예: Samsung Galaxy S23, Google Pixel 7)\n",
       "    *   **특정 빌드 유형 또는 개발 환경 정보**: (예: 디버그 빌드, 릴리스 빌드, Flutter/React Native/Native 등)\n",
       "\n",
       "4.  **분석 목표**:\n",
       "    *   이 로그 분석을 통해 **무엇을 얻고자 하는지** 명확히 알려주세요. (예: \"크래시의 근본 원인 파악\", \"메모리 누수 여부 진단\", \"성능 저하 구간 식별\", \"특정 기능의 오작동 원인 분석\", \"네트워크 오류 패턴 확인\", \"보안 취약점 탐색\" 등)\n",
       "\n",
       "이 정보를 기반으로, 저는 다음을 수행할 것입니다:\n",
       "*   주요 오류 메시지, 예외, 경고 식별 및 분석\n",
       "*   잠재적 성능 병목 현상 (ANR, 프레임 드롭, 과도한 CPU/메모리 사용) 진단\n",
       "*   크래시 및 비정상 동작의 근본 원인 파적\n",
       "*   구체적인 해결책, 코드 개선 제안 또는 추가 디버깅 단계 제시\n",
       "\n",
       "로그와 상세한 정보를 기다리겠습니다!\n",
       "```\n",
       "\n",
       "---\n",
       "\n",
       "**개선된 프롬프트의 강점:**\n",
       "\n",
       "1.  **명확한 역할 재확인**: \"월드클래스 안드로이드 개발 전문가\"라는 역할을 다시 한번 강조하며 전문성을 어필합니다.\n",
       "2.  **구체적인 정보 요청**: 단순히 \"로그 파일\"이 아니라, 어떤 종류의 로그인지, 어떤 맥락에서 발생했는지, 앱/환경 정보, 심지어 분석 목표까지 상세히 요청하여 불필요한 질의응답을 줄이고 한 번에 정확한 진단을 가능하게 합니다.\n",
       "3.  **사용자 안내**: 로그 내용을 \"붙여넣어 달라\"는 명확한 지침을 제공하여 사용자가 혼란 없이 데이터를 제공하도록 돕습니다.\n",
       "4.  **예시 제공**: 각 정보 요청 항목에 대한 예시를 들어 사용자가 어떤 형식으로 응답해야 할지 쉽게 이해하도록 돕습니다.\n",
       "5.  **예상 분석 결과 명시**: 제공된 정보를 기반으로 어떤 종류의 분석을 수행할 것인지 미리 알려주어 사용자의 기대치를 설정하고 AI의 역량을 보여줍니다.\n",
       "6.  **체계적인 접근**: 실제 전문가가 문제를 진단할 때 필요한 정보를 체계적으로 요청하는 방식으로, 사용자에게 신뢰감을 줍니다.\n",
       "\n",
       "이 프롬프트는 사용자가 필요한 모든 정보를 한 번에 제공하도록 유도하여, AI가 더 정확하고 깊이 있는 분석을 수행할 수 있게 할 것입니다."
      ],
      "text/plain": [
       "<IPython.core.display.Markdown object>"
      ]
     },
     "metadata": {},
     "output_type": "display_data"
    }
   ],
   "source": [
    "system_instruction = \"당신은 월드클래스 프롬프트 엔지니어입니다. 입력 프롬프트를 개선해주세요.\"\n",
    "\n",
    "prompt=\"\"\"\n",
    "  system_instruction=당신은 월드클래스 안드로이드 개발자입니다. 잠재적 문제점을 파악하고 해결책을 찾아주세요. \n",
    "  prompt=모바일 테스트 로그파일을 분석해죠.\n",
    "\"\"\"\n",
    "\n",
    "response = client.models.generate_content(\n",
    "    model=MODEL_ID,\n",
    "    contents=prompt,\n",
    "    config=GenerateContentConfig(\n",
    "        system_instruction=system_instruction,\n",
    "        #thinking_config=thinking_config,\n",
    "    ),\n",
    ")\n",
    "\n",
    "display(Markdown(response.text))"
   ]
  },
  {
   "cell_type": "markdown",
   "metadata": {},
   "source": [
    "## 개선된 시스템 명령어와 프롬프트를 사용한 로그파일 분석\n",
    "- 개선된 프롬프트의 정보를 입력할 필요가 있습니다.\n",
    "- 이런 정보없이 간단한 프롬프트와 개선된 프롬프트를 사용해서 테스트해봅니다.\n",
    "- 실제 사용 시 요청된 정보를 제공해주시길 권고드립니다."
   ]
  },
  {
   "cell_type": "code",
   "execution_count": 100,
   "metadata": {
    "tags": []
   },
   "outputs": [
    {
     "data": {
      "text/markdown": [
       "제공해주신 모바일 테스트 로그를 분석한 결과, 앱에는 다음과 같은 여러 가지 잠재적인 문제점과 개선이 필요한 영역이 있습니다. 각 문제점에 대한 정확한 파악과 해결책을 제시합니다.\n",
       "\n",
       "---\n",
       "\n",
       "### 모바일 앱 로그 분석 및 해결책\n",
       "\n",
       "**종합 요약:**\n",
       "로그는 네트워크 연결 문제, 서버 측 오류, 데이터베이스 동시성 문제, 권한 누락, UI 초기화 실패 등 다양한 영역에서 여러 개의 심각한 오류와 경고를 보여줍니다. 이는 앱의 안정성, 사용자 경험, 그리고 백엔드 API와의 통합에 상당한 문제를 야기하고 있음을 시사합니다.\n",
       "\n",
       "---\n",
       "\n",
       "#### 1. 로그인 실패 (네트워크 연결 거부)\n",
       "\n",
       "*   **로그 시점:** `03-15 10:00:01.050` ~ `03-15 10:00:02.151`\n",
       "*   **문제 식별:**\n",
       "    *   `W/HttpClient: API response took longer than expected: 1060ms.` (API 응답 지연 경고)\n",
       "    *   `E/HttpClient: Failed to connect to server: Connection refused.` (서버 연결 거부 오류)\n",
       "    *   `E/NetworkError: Failed to authenticate user. Server not reachable.` (사용자 인증 실패, 서버 도달 불가)\n",
       "    *   `java.net.ConnectException: Connection refused: no further information` (연결 거부 예외)\n",
       "*   **원인 추정:**\n",
       "    1.  **서버 문제:** API 서버가 다운되었거나, 해당 포트에서 서비스가 실행되고 있지 않습니다.\n",
       "    2.  **방화벽/네트워크 설정:** 클라이언트(앱) 또는 서버 측 방화벽이 연결을 차단하고 있거나, 네트워크 라우팅 문제일 수 있습니다.\n",
       "    3.  **API 엔드포인트 오류:** API 엔드포인트 URL(`https://api.example.com/auth`)이 잘못되었을 가능성도 있습니다.\n",
       "*   **해결책:**\n",
       "    1.  **백엔드 API 상태 확인:** `https://api.example.com/auth` 엔드포인트의 가용성과 서비스 상태를 즉시 확인하고, 서버 로그를 검토하여 연결 거부의 정확한 원인을 파악합니다.\n",
       "    2.  **네트워크 연결 테스트:** 테스트 기기에서 해당 API 엔드포인트로 `ping` 또는 `curl` 명령을 사용하여 직접 연결 테스트를 수행하여 네트워크 단의 문제 여부를 확인합니다.\n",
       "    3.  **방화벽 설정 검토:** 클라이언트(앱이 실행되는 환경) 및 서버의 방화벽 설정이 필요한 포트(예: 443 for HTTPS)를 허용하는지 확인합니다.\n",
       "    4.  **재시도 로직 구현:** 일시적인 네트워크 문제에 대비하여, 네트워크 요청 시 일정 간격으로 재시도하는 로직(exponential backoff 등)을 구현할 수 있습니다.\n",
       "    5.  **명확한 오류 메시지:** 사용자에게 \"로그인에 실패했습니다. 서버에 연결할 수 없습니다. 잠시 후 다시 시도해주세요.\"와 같이 명확하고 친절한 오류 메시지를 제공합니다.\n",
       "\n",
       "---\n",
       "\n",
       "#### 2. 이미지 로딩 실패 (리소스 찾을 수 없음)\n",
       "\n",
       "*   **로그 시점:** `03-15 10:00:03.010` ~ `03-15 10:00:03.150`\n",
       "*   **문제 식별:**\n",
       "    *   `E/ResourceLoad: Could not load image from URL: ... File not found.` (URL에서 이미지 로드 실패, 파일 찾을 수 없음)\n",
       "    *   `android.content.res.Resources$NotFoundException: Resource not found: ...` (리소스 찾을 수 없음 예외)\n",
       "*   **원인 추정:**\n",
       "    1.  **잘못된 URL:** 이미지 URL(`https://api.example.com/profile_pics/user_id_123.jpg`)이 잘못되었거나, 해당 파일이 서버에 존재하지 않습니다.\n",
       "    2.  **데이터 불일치:** `user_id_123`에 해당하는 프로필 이미지가 실제로 서버에 업로드되지 않았거나, 사용자 ID가 잘못 매핑되었을 수 있습니다.\n",
       "    3.  **서버 파일 권한:** 서버에서 해당 이미지 파일의 접근 권한이 올바르게 설정되지 않아 접근이 거부될 수 있습니다.\n",
       "*   **해결책:**\n",
       "    1.  **URL 유효성 검사:** 해당 이미지 URL을 웹 브라우저나 `curl` 명령어로 직접 접속하여 이미지가 정상적으로 로드되는지 확인합니다.\n",
       "    2.  **백엔드 데이터 확인:** `user_id_123` 사용자에 대한 프로필 이미지 데이터와 실제 서버에 저장된 이미지 파일의 경로 및 존재 여부를 확인합니다.\n",
       "    3.  **에러 핸들링 강화:** 이미지 로드 실패 시 대체 이미지를 표시하는 것은 좋지만, 개발자 로그에 `user_id` 등 더 상세한 정보를 남겨 디버깅을 용이하게 합니다.\n",
       "\n",
       "---\n",
       "\n",
       "#### 3. 데이터베이스 잠금 (동시성 문제)\n",
       "\n",
       "*   **로그 시점:** `03-15 10:00:04.600` ~ `03-15 10:00:04.750`\n",
       "*   **문제 식별:**\n",
       "    *   `W/Database: Attempting to insert new record while another transaction is active. This might cause a lock.` (다른 트랜잭션 활성 중 레코드 삽입 시도 경고)\n",
       "    *   `E/DatabaseError: Failed to insert user preferences. Database is locked.` (사용자 환경설정 삽입 실패, 데이터베이스 잠김)\n",
       "    *   `android.database.sqlite.SQLiteDatabaseLockedException: database is locked (code 5)` (SQLite 데이터베이스 잠김 예외)\n",
       "*   **원인 추정:**\n",
       "    1.  **동시 접근:** 여러 스레드나 프로세스가 동시에 SQLite 데이터베이스에 접근하여 쓰기 작업을 시도하고 있습니다. SQLite는 기본적으로 단일 쓰기 스레드를 지원합니다.\n",
       "    2.  **긴 트랜잭션:** 다른 데이터베이스 작업이 너무 오래 걸리거나, 트랜잭션이 제대로 종료되지 않아 잠금이 해제되지 않고 있습니다.\n",
       "*   **해결책:**\n",
       "    1.  **데이터베이스 동기화:** 모든 데이터베이스 쓰기/읽기 작업에 `synchronized` 블록을 사용하거나, 모든 DB 작업을 처리할 단일 백그라운드 스레드를 생성하여 순차적으로 실행되도록 합니다.\n",
       "    2.  **트랜잭션 관리:** 여러 DB 작업이 묶여 하나의 논리적 단위로 처리되어야 할 경우, 명시적으로 `beginTransaction()`, `setTransactionSuccessful()`, `endTransaction()`을 사용하여 트랜잭션을 관리합니다. `finally` 블록에서 `endTransaction()`을 호출하여 항상 트랜잭션이 닫히도록 합니다.\n",
       "    3.  **비동기 처리:** UI 스레드에서 데이터베이스 작업을 직접 수행하지 않고, WorkManager, Coroutines, RxJava 등을 사용하여 백그라운드에서 비동기적으로 처리하며, UI 스레드에 영향을 주지 않도록 합니다.\n",
       "\n",
       "---\n",
       "\n",
       "#### 4. 위치 권한 미부여\n",
       "\n",
       "*   **로그 시점:** `03-15 10:00:05.100` ~ `03-15 10:00:05.251`\n",
       "*   **문제 식별:**\n",
       "    *   `W/Permission: Location permission (ACCESS_FINE_LOCATION) not granted.` (위치 권한 미부여 경고)\n",
       "    *   `E/Security: Could not get location updates. Missing required permission.` (위치 업데이트 불가, 필수 권한 누락)\n",
       "    *   `java.lang.SecurityException: \"gps\" location provider requires ACCESS_FINE_LOCATION permission.` (보안 예외: GPS 권한 필요)\n",
       "*   **원인 추정:**\n",
       "    1.  **런타임 권한 요청 누락:** Android 6.0(API 23) 이상에서는 Manifest에 권한을 선언하는 것 외에, 런타임에 사용자에게 권한을 요청하는 코드가 누락되었을 수 있습니다.\n",
       "    2.  **사용자 거부:** 사용자가 위치 권한 요청을 거부했습니다.\n",
       "*   **해결책:**\n",
       "    1.  **런타임 권한 요청 구현:** `ACCESS_FINE_LOCATION` 권한이 부여되었는지 확인하고, 부여되지 않았다면 `ActivityCompat.requestPermissions()` 등을 사용하여 사용자에게 권한을 요청하는 로직을 구현합니다.\n",
       "    2.  **권한 요청 설명 (Rationale):** 사용자가 이전에 권한을 거부했거나, 권한이 필요한 이유를 모를 경우, 권한 요청 전에 왜 해당 권한이 필요한지 설명하는 메시지를 제공합니다.\n",
       "    3.  **권한 거부 처리:** 사용자가 권한을 거부했을 때, 위치 기반 기능을 비활성화하거나, 설정에서 수동으로 권한을 활성화하도록 안내하는 등 적절히 처리하여 앱이 크래시되거나 오작동하지 않도록 합니다.\n",
       "\n",
       "---\n",
       "\n",
       "#### 5. 피드백 제출 실패 (HTTP 500 내부 서버 오류)\n",
       "\n",
       "*   **로그 시점:** `03-15 10:00:06.200` ~ `03-15 10:00:06.400`\n",
       "*   **문제 식별:**\n",
       "    *   `W/DataValidation: Feedback message is empty, but form allows it.` (피드백 메시지 공백 허용 경고 - 잠재적 데이터 품질 문제)\n",
       "    *   `E/API_Error: Received HTTP 500 Internal Server Error from feedback API.` (피드백 API로부터 HTTP 500 오류 수신)\n",
       "    *   `okhttp3.internal.http2.StreamResetException: stream was reset: CANCEL` (OkHttp 스트림 리셋 예외 - 서버에서 연결이 끊김)\n",
       "*   **원인 추정:**\n",
       "    1.  **백엔드 서버 오류:** HTTP 500은 서버 내부 오류를 나타냅니다. 피드백 API 처리 과정에서 예상치 못한 문제가 발생했을 가능성이 큽니다.\n",
       "    2.  **데이터 유효성 검사 미흡:** `Feedback message is empty` 경고는 서버가 빈 메시지를 받아서 처리 중 오류가 났을 가능성도 배제할 수 없습니다. (하지만 500은 보통 서버 코드 문제)\n",
       "*   **해결책:**\n",
       "    1.  **백엔드 API 로그 확인:** 피드백 API 서버의 로그를 즉시 확인하여 10:00:06.400 시점에 어떤 오류가 발생했는지 파악하고 수정합니다.\n",
       "    2.  **클라이언트-서버 데이터 유효성 검사:** `Feedback message is empty` 경고를 해결합니다.\n",
       "        *   **클라이언트 측:** 피드백 제출 전에 메시지 필드가 비어있지 않은지 유효성 검사를 수행합니다.\n",
       "        *   **서버 측:** 빈 메시지 처리 로직을 검토하거나, 유효성 검사를 추가하여 400 Bad Request와 같은 적절한 오류 코드를 반환하도록 합니다.\n",
       "    3.  **API 재설계/재시도:** 서버 문제 해결 후, 일시적인 500 오류에 대비하여 클라이언트에서 피드백 제출 시 재시도 로직을 고려할 수 있습니다.\n",
       "\n",
       "---\n",
       "\n",
       "#### 6. 프로필 뷰 NullPointerException (UI 초기화 문제)\n",
       "\n",
       "*   **로그 시점:** `03-15 10:00:07.100`\n",
       "*   **문제 식별:**\n",
       "    *   `E/NPE: NullPointerException: Attempt to invoke virtual method 'void android.widget.TextView.setText(java.lang.CharSequence)' on a null object reference` (널 포인터 예외: Null 객체에 `setText` 호출 시도)\n",
       "*   **원인 추정:**\n",
       "    1.  **뷰 참조 누락/잘못됨:** `ProfileView.updateProfile` 메소드에서 `TextView` 객체를 참조하기 전에 해당 뷰가 올바르게 초기화(예: `findViewById`로 찾거나 View Binding/Data Binding 사용)되지 않았습니다. XML 레이아웃에서 해당 `TextView`의 ID가 잘못되었거나, 뷰 계층이 예상과 다를 수 있습니다.\n",
       "    2.  **생명주기 문제:** Fragment 또는 Activity의 뷰가 완전히 생성되거나 부착되기 전에 `updateProfile`이 호출되었을 수 있습니다.\n",
       "*   **해결책:**\n",
       "    1.  **UI 요소 초기화 검증:** `ProfileView.java:150` 라인과 그 주변 코드에서 `TextView` (또는 오류를 발생시킨 다른 UI 요소)가 제대로 초기화되고 있는지 확인합니다. `findViewById`의 반환 값이 `null`이 아닌지 검사하거나, View Binding/Data Binding을 사용하여 뷰 참조의 안전성을 높입니다.\n",
       "    2.  **생명주기 관리:** Fragment의 `onViewCreated()` 또는 `onCreateView()`와 같은 적절한 생명주기 메서드에서 UI 요소를 초기화하고, `updateProfile`과 같은 UI 업데이트 로직이 뷰가 완전히 준비된 후에 호출되도록 합니다.\n",
       "    3.  **방어적 코딩:** 임시 방편으로, UI 요소에 접근하기 전에 `if (myTextView != null)`과 같은 널 체크를 추가하여 크래시를 방지할 수 있습니다. 그러나 근본적인 원인을 해결하는 것이 중요합니다.\n",
       "\n",
       "---\n",
       "\n",
       "#### 7. 기타 경고 및 고려사항\n",
       "\n",
       "*   **GC 활동 경고:** `03-15 10:00:08.500` `W/ActivityManager: Background partial concurrent mark sweep GC freed ...`\n",
       "    *   단일 GC 로그는 일반적일 수 있지만, 빈번하거나 대규모 GC는 메모리 누수나 비효율적인 메모리 사용을 시사할 수 있습니다.\n",
       "    *   **해결책:** Android Studio의 Memory Profiler를 사용하여 앱의 메모리 사용량을 모니터링하고, 잠재적인 메모리 누수(Context 참조 유지, 대규모 비트맵 처리 등)를 조사합니다. 불필요한 객체 생성/파괴를 줄입니다.\n",
       "*   **배터리 최적화 경고:** `03-15 10:00:09.100` `W/Battery: App running in background, consider optimising network requests.`\n",
       "    *   앱이 백그라운드에서 실행 중일 때 네트워크 요청이 발생하여 배터리 소모를 야기할 수 있다는 경고입니다.\n",
       "    *   **해결책:**\n",
       "        1.  **WorkManager 사용:** 백그라운드에서 네트워크 요청이 필요하다면 WorkManager를 사용하여 작업을 지연시키고 네트워크 상태, 기기 충전 여부 등 조건을 기반으로 실행되도록 합니다.\n",
       "        2.  **데이터 동기화 정책 검토:** 백그라운드 데이터 동기화 주기를 줄이거나, 사용자 설정에 따라 동기화를 비활성화하는 옵션을 제공합니다.\n",
       "        3.  **포그라운드 서비스:** 백그라운드에서 지속적인 네트워크 작업이 필수적인 경우, 사용자에게 해당 작업을 명시적으로 알리는 포그라운드 서비스를 고려할 수 있습니다.\n",
       "\n",
       "---\n",
       "\n",
       "**결론:**\n",
       "로그를 통해 앱의 여러 핵심 기능(로그인, 이미지 로딩, 설정 저장, 위치 서비스, 피드백 제출, 프로필 표시)이 불안정하다는 것을 알 수 있습니다. 이 문제들은 네트워크/서버 인프라, 앱의 데이터베이스 동시성 관리, Android 권한 시스템 통합, 그리고 UI 컴포넌트 생명주기 관리 등 다양한 계층에 걸쳐 있습니다. 가장 시급한 문제는 로그인 및 피드백 전송 실패(서버/네트워크 문제)와 데이터베이스 잠금, NullPointerException과 같은 앱 크래시를 유발할 수 있는 오류들입니다. 이들을 최우선으로 해결해야 합니다."
      ],
      "text/plain": [
       "<IPython.core.display.Markdown object>"
      ]
     },
     "metadata": {},
     "output_type": "display_data"
    }
   ],
   "source": [
    "system_instruction = \"\"\"\n",
    "당신은 모바일 앱의 심각한 문제를 정확히 진단하고, 실질적인 해결책과 코드 개선 방안까지 제시하는 월드클래스 안드로이드 개발 전문가입니다. 주어진 로그 데이터를 기반으로 잠재적 문제를 파악하고, 최적의 개선 방안을 찾아주세요.\n",
    "\"\"\"\n",
    "\n",
    "prompt=\"\"\"모바일 테스트 로그 파일을 분석하여 앱의 잠재적 문제점을 정확히 파악하고, 명확한 해결책을 제시해주세요.\"\"\"\n",
    "\n",
    "response = client.models.generate_content(\n",
    "    model=MODEL_ID,\n",
    "    contents=[\n",
    "        Part.from_uri(\n",
    "            file_uri=\"gs://tkim-bucket-skcnc-genai-readiness-workshop/synthetic_android_mobile_test_log.txt\",\n",
    "            mime_type=\"text/plain\",\n",
    "        ),\n",
    "        prompt,\n",
    "    ],\n",
    "    #config=GenerateContentConfig(\n",
    "    #    thinking_config=thinking_config,\n",
    "    #),\n",
    ")\n",
    "\n",
    "display(Markdown(response.text))"
   ]
  }
 ],
 "metadata": {
  "colab": {
   "collapsed_sections": [
    "rZV2TY5Pa3Dd",
    "mSUWWlrrlR-D",
    "h4syyLEClGcn"
   ],
   "name": "intro_gemini_2_5_flash.ipynb",
   "toc_visible": true
  },
  "environment": {
   "kernel": "conda-base-py",
   "name": "workbench-notebooks.m129",
   "type": "gcloud",
   "uri": "us-docker.pkg.dev/deeplearning-platform-release/gcr.io/workbench-notebooks:m129"
  },
  "kernelspec": {
   "display_name": "Python 3 (ipykernel) (Local)",
   "language": "python",
   "name": "conda-base-py"
  },
  "language_info": {
   "codemirror_mode": {
    "name": "ipython",
    "version": 3
   },
   "file_extension": ".py",
   "mimetype": "text/x-python",
   "name": "python",
   "nbconvert_exporter": "python",
   "pygments_lexer": "ipython3",
   "version": "3.10.16"
  }
 },
 "nbformat": 4,
 "nbformat_minor": 4
}
