{
 "cells": [
  {
   "cell_type": "markdown",
   "id": "d4d2c1f6-cdb1-40df-b5df-2efe81b471a0",
   "metadata": {},
   "source": [
    "## Run the KLUE benchmarks\n",
    "\n"
   ]
  },
  {
   "cell_type": "code",
   "execution_count": 1,
   "id": "efaae47f-aed1-4327-a0af-02905cc78f4c",
   "metadata": {},
   "outputs": [
    {
     "data": {
      "text/plain": [
       "'/usr/local/google/home/thekim/github/aimldl/llm_benchmarks_asian_langs'"
      ]
     },
     "execution_count": 1,
     "metadata": {},
     "output_type": "execute_result"
    }
   ],
   "source": [
    "%pwd"
   ]
  },
  {
   "cell_type": "markdown",
   "id": "d1b5c9da-f630-43ba-8023-ce72825b7ad1",
   "metadata": {},
   "source": [
    "### KLUE DP (Dependency Parsing) Task"
   ]
  },
  {
   "cell_type": "code",
   "execution_count": 2,
   "id": "f990f6ed-17a2-40b6-b1fc-8a34a734c4ea",
   "metadata": {},
   "outputs": [
    {
     "name": "stdout",
     "output_type": "stream",
     "text": [
      "/usr/local/google/home/thekim/github/aimldl/llm_benchmarks_asian_langs/klue_dp\n"
     ]
    }
   ],
   "source": [
    "%cd klue_dp"
   ]
  },
  {
   "cell_type": "code",
   "execution_count": 3,
   "id": "8827fecd-ff3f-41e3-8d14-e1bcb22b8328",
   "metadata": {},
   "outputs": [
    {
     "name": "stdout",
     "output_type": "stream",
     "text": [
      "ABOUT_KLUE_DP.md        \u001b[0m\u001b[01;34meval_dataset\u001b[0m/              \u001b[01;34mresult_analysis\u001b[0m/\n",
      "PERFORMANCE_SUMMARY.md  \u001b[01;32mget_errors.sh\u001b[0m*             \u001b[01;32mrun\u001b[0m*\n",
      "README.md               \u001b[01;32minstall_dependencies.sh\u001b[0m*   \u001b[01;32msetup.sh\u001b[0m*\n",
      "TROUBLESHOOTING.md      klue_dp-gemini2_5flash.py  \u001b[01;32mtest_logging.sh\u001b[0m*\n",
      "VERTEX_AI_SETUP.md      \u001b[01;34mlogs\u001b[0m/                      test_setup.py\n",
      "\u001b[01;34mbenchmark_results\u001b[0m/      requirements.txt           \u001b[01;32mverify_scripts.sh\u001b[0m*\n"
     ]
    }
   ],
   "source": [
    "%ls"
   ]
  },
  {
   "cell_type": "markdown",
   "id": "0c0a306d-ed79-438f-a181-6f973843e1d1",
   "metadata": {},
   "source": [
    "### Set up\n",
    "\n",
    "Run the following command and log into your Google Cloud account.\n",
    "```bash\n",
    "$ gcloud auth login\n",
    "```"
   ]
  },
  {
   "cell_type": "code",
   "execution_count": 6,
   "id": "25b7fdbd-b93d-45cb-af90-dedb6e4f8af2",
   "metadata": {},
   "outputs": [
    {
     "name": "stdout",
     "output_type": "stream",
     "text": [
      "\u001b[0;34m[INFO]\u001b[0m Checking prerequisites...\n",
      "\u001b[0;32m[SUCCESS]\u001b[0m Prerequisites check passed\n",
      "\u001b[0;34m[INFO]\u001b[0m Installing Python dependencies...\n",
      "Requirement already satisfied: google-genai>=0.3.0 in /usr/local/google/home/thekim/anaconda3/envs/klue/lib/python3.11/site-packages (from -r requirements.txt (line 1)) (1.24.0)\n",
      "Requirement already satisfied: datasets>=2.14.0 in /usr/local/google/home/thekim/anaconda3/envs/klue/lib/python3.11/site-packages (from -r requirements.txt (line 2)) (3.6.0)\n",
      "Requirement already satisfied: pandas>=2.0.0 in /usr/local/google/home/thekim/anaconda3/envs/klue/lib/python3.11/site-packages (from -r requirements.txt (line 3)) (2.2.3)\n",
      "Requirement already satisfied: tqdm>=4.65.0 in /usr/local/google/home/thekim/anaconda3/envs/klue/lib/python3.11/site-packages (from -r requirements.txt (line 4)) (4.67.1)\n",
      "Requirement already satisfied: google-cloud-aiplatform>=1.35.0 in /usr/local/google/home/thekim/anaconda3/envs/klue/lib/python3.11/site-packages (from -r requirements.txt (line 5)) (1.101.0)\n",
      "Requirement already satisfied: anyio<5.0.0,>=4.8.0 in /usr/local/google/home/thekim/anaconda3/envs/klue/lib/python3.11/site-packages (from google-genai>=0.3.0->-r requirements.txt (line 1)) (4.9.0)\n",
      "Requirement already satisfied: google-auth<3.0.0,>=2.14.1 in /usr/local/google/home/thekim/anaconda3/envs/klue/lib/python3.11/site-packages (from google-genai>=0.3.0->-r requirements.txt (line 1)) (2.40.3)\n",
      "Requirement already satisfied: httpx<1.0.0,>=0.28.1 in /usr/local/google/home/thekim/anaconda3/envs/klue/lib/python3.11/site-packages (from google-genai>=0.3.0->-r requirements.txt (line 1)) (0.28.1)\n",
      "Requirement already satisfied: pydantic<3.0.0,>=2.0.0 in /usr/local/google/home/thekim/anaconda3/envs/klue/lib/python3.11/site-packages (from google-genai>=0.3.0->-r requirements.txt (line 1)) (2.11.7)\n",
      "Requirement already satisfied: requests<3.0.0,>=2.28.1 in /usr/local/google/home/thekim/anaconda3/envs/klue/lib/python3.11/site-packages (from google-genai>=0.3.0->-r requirements.txt (line 1)) (2.32.3)\n",
      "Requirement already satisfied: tenacity<9.0.0,>=8.2.3 in /usr/local/google/home/thekim/anaconda3/envs/klue/lib/python3.11/site-packages (from google-genai>=0.3.0->-r requirements.txt (line 1)) (8.5.0)\n",
      "Requirement already satisfied: websockets<15.1.0,>=13.0.0 in /usr/local/google/home/thekim/anaconda3/envs/klue/lib/python3.11/site-packages (from google-genai>=0.3.0->-r requirements.txt (line 1)) (15.0.1)\n",
      "Requirement already satisfied: typing-extensions<5.0.0,>=4.11.0 in /usr/local/google/home/thekim/anaconda3/envs/klue/lib/python3.11/site-packages (from google-genai>=0.3.0->-r requirements.txt (line 1)) (4.12.2)\n",
      "Requirement already satisfied: idna>=2.8 in /usr/local/google/home/thekim/anaconda3/envs/klue/lib/python3.11/site-packages (from anyio<5.0.0,>=4.8.0->google-genai>=0.3.0->-r requirements.txt (line 1)) (3.7)\n",
      "Requirement already satisfied: sniffio>=1.1 in /usr/local/google/home/thekim/anaconda3/envs/klue/lib/python3.11/site-packages (from anyio<5.0.0,>=4.8.0->google-genai>=0.3.0->-r requirements.txt (line 1)) (1.3.0)\n",
      "Requirement already satisfied: cachetools<6.0,>=2.0.0 in /usr/local/google/home/thekim/anaconda3/envs/klue/lib/python3.11/site-packages (from google-auth<3.0.0,>=2.14.1->google-genai>=0.3.0->-r requirements.txt (line 1)) (5.5.1)\n",
      "Requirement already satisfied: pyasn1-modules>=0.2.1 in /usr/local/google/home/thekim/anaconda3/envs/klue/lib/python3.11/site-packages (from google-auth<3.0.0,>=2.14.1->google-genai>=0.3.0->-r requirements.txt (line 1)) (0.2.8)\n",
      "Requirement already satisfied: rsa<5,>=3.1.4 in /usr/local/google/home/thekim/anaconda3/envs/klue/lib/python3.11/site-packages (from google-auth<3.0.0,>=2.14.1->google-genai>=0.3.0->-r requirements.txt (line 1)) (4.9.1)\n",
      "Requirement already satisfied: certifi in /usr/local/google/home/thekim/anaconda3/envs/klue/lib/python3.11/site-packages (from httpx<1.0.0,>=0.28.1->google-genai>=0.3.0->-r requirements.txt (line 1)) (2025.4.26)\n",
      "Requirement already satisfied: httpcore==1.* in /usr/local/google/home/thekim/anaconda3/envs/klue/lib/python3.11/site-packages (from httpx<1.0.0,>=0.28.1->google-genai>=0.3.0->-r requirements.txt (line 1)) (1.0.9)\n",
      "Requirement already satisfied: h11>=0.16 in /usr/local/google/home/thekim/anaconda3/envs/klue/lib/python3.11/site-packages (from httpcore==1.*->httpx<1.0.0,>=0.28.1->google-genai>=0.3.0->-r requirements.txt (line 1)) (0.16.0)\n",
      "Requirement already satisfied: annotated-types>=0.6.0 in /usr/local/google/home/thekim/anaconda3/envs/klue/lib/python3.11/site-packages (from pydantic<3.0.0,>=2.0.0->google-genai>=0.3.0->-r requirements.txt (line 1)) (0.7.0)\n",
      "Requirement already satisfied: pydantic-core==2.33.2 in /usr/local/google/home/thekim/anaconda3/envs/klue/lib/python3.11/site-packages (from pydantic<3.0.0,>=2.0.0->google-genai>=0.3.0->-r requirements.txt (line 1)) (2.33.2)\n",
      "Requirement already satisfied: typing-inspection>=0.4.0 in /usr/local/google/home/thekim/anaconda3/envs/klue/lib/python3.11/site-packages (from pydantic<3.0.0,>=2.0.0->google-genai>=0.3.0->-r requirements.txt (line 1)) (0.4.1)\n",
      "Requirement already satisfied: charset-normalizer<4,>=2 in /usr/local/google/home/thekim/anaconda3/envs/klue/lib/python3.11/site-packages (from requests<3.0.0,>=2.28.1->google-genai>=0.3.0->-r requirements.txt (line 1)) (3.3.2)\n",
      "Requirement already satisfied: urllib3<3,>=1.21.1 in /usr/local/google/home/thekim/anaconda3/envs/klue/lib/python3.11/site-packages (from requests<3.0.0,>=2.28.1->google-genai>=0.3.0->-r requirements.txt (line 1)) (2.3.0)\n",
      "Requirement already satisfied: pyasn1>=0.1.3 in /usr/local/google/home/thekim/anaconda3/envs/klue/lib/python3.11/site-packages (from rsa<5,>=3.1.4->google-auth<3.0.0,>=2.14.1->google-genai>=0.3.0->-r requirements.txt (line 1)) (0.4.8)\n",
      "Requirement already satisfied: filelock in /usr/local/google/home/thekim/anaconda3/envs/klue/lib/python3.11/site-packages (from datasets>=2.14.0->-r requirements.txt (line 2)) (3.17.0)\n",
      "Requirement already satisfied: numpy>=1.17 in /usr/local/google/home/thekim/anaconda3/envs/klue/lib/python3.11/site-packages (from datasets>=2.14.0->-r requirements.txt (line 2)) (2.1.3)\n",
      "Requirement already satisfied: pyarrow>=15.0.0 in /usr/local/google/home/thekim/anaconda3/envs/klue/lib/python3.11/site-packages (from datasets>=2.14.0->-r requirements.txt (line 2)) (19.0.0)\n",
      "Requirement already satisfied: dill<0.3.9,>=0.3.0 in /usr/local/google/home/thekim/anaconda3/envs/klue/lib/python3.11/site-packages (from datasets>=2.14.0->-r requirements.txt (line 2)) (0.3.8)\n",
      "Requirement already satisfied: xxhash in /usr/local/google/home/thekim/anaconda3/envs/klue/lib/python3.11/site-packages (from datasets>=2.14.0->-r requirements.txt (line 2)) (3.5.0)\n",
      "Requirement already satisfied: multiprocess<0.70.17 in /usr/local/google/home/thekim/anaconda3/envs/klue/lib/python3.11/site-packages (from datasets>=2.14.0->-r requirements.txt (line 2)) (0.70.16)\n",
      "Requirement already satisfied: fsspec<=2025.3.0,>=2023.1.0 in /usr/local/google/home/thekim/anaconda3/envs/klue/lib/python3.11/site-packages (from fsspec[http]<=2025.3.0,>=2023.1.0->datasets>=2.14.0->-r requirements.txt (line 2)) (2025.3.0)\n",
      "Requirement already satisfied: huggingface-hub>=0.24.0 in /usr/local/google/home/thekim/anaconda3/envs/klue/lib/python3.11/site-packages (from datasets>=2.14.0->-r requirements.txt (line 2)) (0.33.2)\n",
      "Requirement already satisfied: packaging in /usr/local/google/home/thekim/anaconda3/envs/klue/lib/python3.11/site-packages (from datasets>=2.14.0->-r requirements.txt (line 2)) (24.2)\n",
      "Requirement already satisfied: pyyaml>=5.1 in /usr/local/google/home/thekim/anaconda3/envs/klue/lib/python3.11/site-packages (from datasets>=2.14.0->-r requirements.txt (line 2)) (6.0.2)\n",
      "Requirement already satisfied: aiohttp!=4.0.0a0,!=4.0.0a1 in /usr/local/google/home/thekim/anaconda3/envs/klue/lib/python3.11/site-packages (from fsspec[http]<=2025.3.0,>=2023.1.0->datasets>=2.14.0->-r requirements.txt (line 2)) (3.11.10)\n",
      "Requirement already satisfied: python-dateutil>=2.8.2 in /usr/local/google/home/thekim/anaconda3/envs/klue/lib/python3.11/site-packages (from pandas>=2.0.0->-r requirements.txt (line 3)) (2.9.0.post0)\n",
      "Requirement already satisfied: pytz>=2020.1 in /usr/local/google/home/thekim/anaconda3/envs/klue/lib/python3.11/site-packages (from pandas>=2.0.0->-r requirements.txt (line 3)) (2024.1)\n",
      "Requirement already satisfied: tzdata>=2022.7 in /usr/local/google/home/thekim/anaconda3/envs/klue/lib/python3.11/site-packages (from pandas>=2.0.0->-r requirements.txt (line 3)) (2025.2)\n",
      "Requirement already satisfied: google-api-core!=2.0.*,!=2.1.*,!=2.2.*,!=2.3.*,!=2.4.*,!=2.5.*,!=2.6.*,!=2.7.*,<3.0.0,>=1.34.1 in /usr/local/google/home/thekim/anaconda3/envs/klue/lib/python3.11/site-packages (from google-api-core[grpc]!=2.0.*,!=2.1.*,!=2.2.*,!=2.3.*,!=2.4.*,!=2.5.*,!=2.6.*,!=2.7.*,<3.0.0,>=1.34.1->google-cloud-aiplatform>=1.35.0->-r requirements.txt (line 5)) (2.25.1)\n",
      "Requirement already satisfied: proto-plus<2.0.0,>=1.22.3 in /usr/local/google/home/thekim/anaconda3/envs/klue/lib/python3.11/site-packages (from google-cloud-aiplatform>=1.35.0->-r requirements.txt (line 5)) (1.26.1)\n",
      "Requirement already satisfied: protobuf!=4.21.0,!=4.21.1,!=4.21.2,!=4.21.3,!=4.21.4,!=4.21.5,<7.0.0,>=3.20.2 in /usr/local/google/home/thekim/anaconda3/envs/klue/lib/python3.11/site-packages (from google-cloud-aiplatform>=1.35.0->-r requirements.txt (line 5)) (6.31.1)\n",
      "Requirement already satisfied: google-cloud-storage<3.0.0,>=1.32.0 in /usr/local/google/home/thekim/anaconda3/envs/klue/lib/python3.11/site-packages (from google-cloud-aiplatform>=1.35.0->-r requirements.txt (line 5)) (2.19.0)\n",
      "Requirement already satisfied: google-cloud-bigquery!=3.20.0,<4.0.0,>=1.15.0 in /usr/local/google/home/thekim/anaconda3/envs/klue/lib/python3.11/site-packages (from google-cloud-aiplatform>=1.35.0->-r requirements.txt (line 5)) (3.34.0)\n",
      "Requirement already satisfied: google-cloud-resource-manager<3.0.0,>=1.3.3 in /usr/local/google/home/thekim/anaconda3/envs/klue/lib/python3.11/site-packages (from google-cloud-aiplatform>=1.35.0->-r requirements.txt (line 5)) (1.14.2)\n",
      "Requirement already satisfied: shapely<3.0.0 in /usr/local/google/home/thekim/anaconda3/envs/klue/lib/python3.11/site-packages (from google-cloud-aiplatform>=1.35.0->-r requirements.txt (line 5)) (2.1.1)\n",
      "Requirement already satisfied: docstring_parser<1 in /usr/local/google/home/thekim/anaconda3/envs/klue/lib/python3.11/site-packages (from google-cloud-aiplatform>=1.35.0->-r requirements.txt (line 5)) (0.16)\n",
      "Requirement already satisfied: googleapis-common-protos<2.0.0,>=1.56.2 in /usr/local/google/home/thekim/anaconda3/envs/klue/lib/python3.11/site-packages (from google-api-core!=2.0.*,!=2.1.*,!=2.2.*,!=2.3.*,!=2.4.*,!=2.5.*,!=2.6.*,!=2.7.*,<3.0.0,>=1.34.1->google-api-core[grpc]!=2.0.*,!=2.1.*,!=2.2.*,!=2.3.*,!=2.4.*,!=2.5.*,!=2.6.*,!=2.7.*,<3.0.0,>=1.34.1->google-cloud-aiplatform>=1.35.0->-r requirements.txt (line 5)) (1.70.0)\n",
      "Requirement already satisfied: grpcio<2.0.0,>=1.33.2 in /usr/local/google/home/thekim/anaconda3/envs/klue/lib/python3.11/site-packages (from google-api-core[grpc]!=2.0.*,!=2.1.*,!=2.2.*,!=2.3.*,!=2.4.*,!=2.5.*,!=2.6.*,!=2.7.*,<3.0.0,>=1.34.1->google-cloud-aiplatform>=1.35.0->-r requirements.txt (line 5)) (1.73.1)\n",
      "Requirement already satisfied: grpcio-status<2.0.0,>=1.33.2 in /usr/local/google/home/thekim/anaconda3/envs/klue/lib/python3.11/site-packages (from google-api-core[grpc]!=2.0.*,!=2.1.*,!=2.2.*,!=2.3.*,!=2.4.*,!=2.5.*,!=2.6.*,!=2.7.*,<3.0.0,>=1.34.1->google-cloud-aiplatform>=1.35.0->-r requirements.txt (line 5)) (1.73.1)\n",
      "Requirement already satisfied: google-cloud-core<3.0.0,>=2.4.1 in /usr/local/google/home/thekim/anaconda3/envs/klue/lib/python3.11/site-packages (from google-cloud-bigquery!=3.20.0,<4.0.0,>=1.15.0->google-cloud-aiplatform>=1.35.0->-r requirements.txt (line 5)) (2.4.3)\n",
      "Requirement already satisfied: google-resumable-media<3.0.0,>=2.0.0 in /usr/local/google/home/thekim/anaconda3/envs/klue/lib/python3.11/site-packages (from google-cloud-bigquery!=3.20.0,<4.0.0,>=1.15.0->google-cloud-aiplatform>=1.35.0->-r requirements.txt (line 5)) (2.7.2)\n",
      "Requirement already satisfied: grpc-google-iam-v1<1.0.0,>=0.14.0 in /usr/local/google/home/thekim/anaconda3/envs/klue/lib/python3.11/site-packages (from google-cloud-resource-manager<3.0.0,>=1.3.3->google-cloud-aiplatform>=1.35.0->-r requirements.txt (line 5)) (0.14.2)\n",
      "Requirement already satisfied: google-crc32c<2.0dev,>=1.0 in /usr/local/google/home/thekim/anaconda3/envs/klue/lib/python3.11/site-packages (from google-cloud-storage<3.0.0,>=1.32.0->google-cloud-aiplatform>=1.35.0->-r requirements.txt (line 5)) (1.7.1)\n",
      "Requirement already satisfied: six>=1.5 in /usr/local/google/home/thekim/anaconda3/envs/klue/lib/python3.11/site-packages (from python-dateutil>=2.8.2->pandas>=2.0.0->-r requirements.txt (line 3)) (1.17.0)\n",
      "Requirement already satisfied: aiohappyeyeballs>=2.3.0 in /usr/local/google/home/thekim/anaconda3/envs/klue/lib/python3.11/site-packages (from aiohttp!=4.0.0a0,!=4.0.0a1->fsspec[http]<=2025.3.0,>=2023.1.0->datasets>=2.14.0->-r requirements.txt (line 2)) (2.4.4)\n",
      "Requirement already satisfied: aiosignal>=1.1.2 in /usr/local/google/home/thekim/anaconda3/envs/klue/lib/python3.11/site-packages (from aiohttp!=4.0.0a0,!=4.0.0a1->fsspec[http]<=2025.3.0,>=2023.1.0->datasets>=2.14.0->-r requirements.txt (line 2)) (1.2.0)\n",
      "Requirement already satisfied: attrs>=17.3.0 in /usr/local/google/home/thekim/anaconda3/envs/klue/lib/python3.11/site-packages (from aiohttp!=4.0.0a0,!=4.0.0a1->fsspec[http]<=2025.3.0,>=2023.1.0->datasets>=2.14.0->-r requirements.txt (line 2)) (24.3.0)\n",
      "Requirement already satisfied: frozenlist>=1.1.1 in /usr/local/google/home/thekim/anaconda3/envs/klue/lib/python3.11/site-packages (from aiohttp!=4.0.0a0,!=4.0.0a1->fsspec[http]<=2025.3.0,>=2023.1.0->datasets>=2.14.0->-r requirements.txt (line 2)) (1.5.0)\n",
      "Requirement already satisfied: multidict<7.0,>=4.5 in /usr/local/google/home/thekim/anaconda3/envs/klue/lib/python3.11/site-packages (from aiohttp!=4.0.0a0,!=4.0.0a1->fsspec[http]<=2025.3.0,>=2023.1.0->datasets>=2.14.0->-r requirements.txt (line 2)) (6.1.0)\n",
      "Requirement already satisfied: propcache>=0.2.0 in /usr/local/google/home/thekim/anaconda3/envs/klue/lib/python3.11/site-packages (from aiohttp!=4.0.0a0,!=4.0.0a1->fsspec[http]<=2025.3.0,>=2023.1.0->datasets>=2.14.0->-r requirements.txt (line 2)) (0.3.1)\n",
      "Requirement already satisfied: yarl<2.0,>=1.17.0 in /usr/local/google/home/thekim/anaconda3/envs/klue/lib/python3.11/site-packages (from aiohttp!=4.0.0a0,!=4.0.0a1->fsspec[http]<=2025.3.0,>=2023.1.0->datasets>=2.14.0->-r requirements.txt (line 2)) (1.18.0)\n",
      "Requirement already satisfied: hf-xet<2.0.0,>=1.1.2 in /usr/local/google/home/thekim/anaconda3/envs/klue/lib/python3.11/site-packages (from huggingface-hub>=0.24.0->datasets>=2.14.0->-r requirements.txt (line 2)) (1.1.5)\n",
      "\u001b[0;32m[SUCCESS]\u001b[0m Dependencies installed successfully!\n",
      "\u001b[0;34m[INFO]\u001b[0m Testing the setup...\n",
      "============================================================\n",
      "KLUE DP Benchmark Setup Test (Vertex AI)\n",
      "============================================================\n",
      "Testing package imports...\n",
      "✓ google.cloud.aiplatform\n",
      "✓ vertexai\n",
      "✓ datasets\n",
      "✓ pandas\n",
      "✓ tqdm\n",
      "✓ huggingface_hub\n",
      "✓ google.auth\n",
      "\n",
      "✅ All packages imported successfully!\n",
      "\n",
      "Testing environment variables...\n",
      "✓ GOOGLE_CLOUD_PROJECT: vertex-workbench-notebook\n",
      "⚠ GOOGLE_APPLICATION_CREDENTIALS: Not set (using default credentials)\n",
      "\n",
      "Testing KLUE dataset loading...\n",
      "✓ KLUE dp dataset for DP loaded successfully\n",
      "  - Train samples: 10000\n",
      "  - Validation samples: 2000\n",
      "  - Sample from validation set:\n",
      "    - Sentence: 'K팝스타3’ 유희열이 홍정희의 탈락에 눈물을 흘렸다.\n",
      "    - Words: [\"'K팝스타3’\", '유희열이', '홍정희의', '탈락에', '눈물을', '흘렸다.']\n",
      "    - POS tags: ['SS+SL+NNP+SN+SS', 'NNP+JKS', 'NNP+JKG', 'NNG+JKB', 'NNG+JKO', 'VV+EP+EF+SF']\n",
      "    - Heads: [2, 6, 4, 6, 6, 0]\n",
      "    - Dependency relations: ['NP', 'NP_SBJ', 'NP_MOD', 'NP_AJT', 'NP_OBJ', 'VP']\n",
      "\n",
      "Testing Vertex AI authentication...\n",
      "✓ Credentials found\n",
      "  - Project: vertex-workbench-notebook\n",
      "  - Credentials type: Credentials\n",
      "✓ Vertex AI initialization works\n",
      "\n",
      "============================================================\n",
      "Test Summary\n",
      "============================================================\n",
      "✅ All tests passed! Your setup is ready.\n",
      "\n",
      "Next steps:\n",
      "1. Ensure your Google Cloud project has Vertex AI API enabled\n",
      "2. Set project ID: export GOOGLE_CLOUD_PROJECT='your-project-id'\n",
      "3. Run the benchmark: python klue_dp-gemini2_5flash.py --project-id 'your-project-id'\n",
      "\u001b[0;32m[SUCCESS]\u001b[0m Setup test completed successfully!\n",
      "\n",
      "\u001b[0;34m[INFO]\u001b[0m Next steps for Vertex AI setup:\n",
      "1. Install Google Cloud CLI: https://cloud.google.com/sdk/docs/install\n",
      "2. Authenticate with gcloud: gcloud auth login\n",
      "3. Set up application default credentials: gcloud auth application-default login\n",
      "4. Set your project ID: export GOOGLE_CLOUD_PROJECT='your-project-id'\n",
      "5. Enable Vertex AI API: gcloud services enable aiplatform.googleapis.com\n",
      "6. Run the benchmark: ./run test (for small test) or ./run full (for full benchmark)\n",
      "\n",
      "\u001b[0;34m[INFO]\u001b[0m Logging features:\n",
      "- All benchmark runs are automatically logged to the 'logs/' directory\n",
      "- Log files include command headers for easy identification\n",
      "- Separate error logs (.err) are created for focused debugging\n"
     ]
    }
   ],
   "source": [
    "!./setup.sh full"
   ]
  },
  {
   "cell_type": "markdown",
   "id": "703f4682-da37-43c0-b17c-ea8cab072ea9",
   "metadata": {},
   "source": [
    "### Test-Run"
   ]
  },
  {
   "cell_type": "code",
   "execution_count": 7,
   "id": "ea20a12d-e69b-4573-bcba-87aec305e978",
   "metadata": {},
   "outputs": [
    {
     "name": "stdout",
     "output_type": "stream",
     "text": [
      "Running small test with 10 samples...\n",
      "2025-07-13 15:37:46,951 - INFO - Initialized Vertex AI with project: vertex-workbench-notebook, location: us-central1\n",
      "2025-07-13 15:37:46,951 - INFO - Model name set to: gemini-2.5-flash\n",
      "2025-07-13 15:37:46,951 - INFO - Loading KLUE DP dataset for dependency parsing...\n",
      "2025-07-13 15:37:57,582 - INFO - Preparing to load a subset of 10 samples.\n",
      "2025-07-13 15:37:57,584 - INFO - Reached sample limit of 10. Halting data loading.\n",
      "2025-07-13 15:37:57,584 - INFO - ✅ Successfully loaded 10 samples.\n",
      "2025-07-13 15:37:57,584 - INFO - Starting benchmark...\n",
      "project_id: vertex-workbench-notebook\n",
      "Processing samples:   0%|          | 0/10 [00:00<?, ?it/s]2025-07-13 15:37:57,584 - INFO - AFC is enabled with max remote calls: 10.\n",
      "2025-07-13 15:38:25,227 - INFO - HTTP Request: POST https://us-central1-aiplatform.googleapis.com/v1beta1/projects/vertex-workbench-notebook/locations/us-central1/publishers/google/models/gemini-2.5-flash:generateContent \"HTTP/1.1 200 OK\"\n",
      "2025-07-13 15:38:25,228 - INFO - AFC remote call 1 is done.\n",
      "Processing samples:  10%|█         | 1/10 [00:27<04:09, 27.68s/it]2025-07-13 15:38:25,269 - INFO - AFC is enabled with max remote calls: 10.\n",
      "2025-07-13 15:38:48,669 - INFO - HTTP Request: POST https://us-central1-aiplatform.googleapis.com/v1beta1/projects/vertex-workbench-notebook/locations/us-central1/publishers/google/models/gemini-2.5-flash:generateContent \"HTTP/1.1 200 OK\"\n",
      "2025-07-13 15:38:48,670 - INFO - AFC remote call 1 is done.\n",
      "Processing samples:  20%|██        | 2/10 [00:51<03:21, 25.19s/it]2025-07-13 15:38:48,711 - INFO - AFC is enabled with max remote calls: 10.\n",
      "2025-07-13 15:38:59,586 - INFO - HTTP Request: POST https://us-central1-aiplatform.googleapis.com/v1beta1/projects/vertex-workbench-notebook/locations/us-central1/publishers/google/models/gemini-2.5-flash:generateContent \"HTTP/1.1 200 OK\"\n",
      "2025-07-13 15:38:59,587 - INFO - AFC remote call 1 is done.\n",
      "Processing samples:  30%|███       | 3/10 [01:02<02:10, 18.67s/it]2025-07-13 15:38:59,627 - INFO - AFC is enabled with max remote calls: 10.\n",
      "2025-07-13 15:39:23,748 - INFO - HTTP Request: POST https://us-central1-aiplatform.googleapis.com/v1beta1/projects/vertex-workbench-notebook/locations/us-central1/publishers/google/models/gemini-2.5-flash:generateContent \"HTTP/1.1 200 OK\"\n",
      "2025-07-13 15:39:23,749 - INFO - AFC remote call 1 is done.\n",
      "2025-07-13 15:39:23,749 - ERROR - Cannot get the response text.\n",
      "Processing samples:  40%|████      | 4/10 [01:26<02:05, 20.84s/it]2025-07-13 15:39:23,789 - INFO - AFC is enabled with max remote calls: 10.\n",
      "2025-07-13 15:39:45,174 - INFO - HTTP Request: POST https://us-central1-aiplatform.googleapis.com/v1beta1/projects/vertex-workbench-notebook/locations/us-central1/publishers/google/models/gemini-2.5-flash:generateContent \"HTTP/1.1 200 OK\"\n",
      "2025-07-13 15:39:45,175 - INFO - AFC remote call 1 is done.\n",
      "Processing samples:  50%|█████     | 5/10 [01:47<01:45, 21.05s/it]2025-07-13 15:39:45,215 - INFO - AFC is enabled with max remote calls: 10.\n",
      "2025-07-13 15:40:00,728 - INFO - HTTP Request: POST https://us-central1-aiplatform.googleapis.com/v1beta1/projects/vertex-workbench-notebook/locations/us-central1/publishers/google/models/gemini-2.5-flash:generateContent \"HTTP/1.1 200 OK\"\n",
      "2025-07-13 15:40:00,729 - INFO - AFC remote call 1 is done.\n",
      "Processing samples:  60%|██████    | 6/10 [02:03<01:16, 19.18s/it]2025-07-13 15:40:00,770 - INFO - AFC is enabled with max remote calls: 10.\n",
      "2025-07-13 15:40:25,816 - INFO - HTTP Request: POST https://us-central1-aiplatform.googleapis.com/v1beta1/projects/vertex-workbench-notebook/locations/us-central1/publishers/google/models/gemini-2.5-flash:generateContent \"HTTP/1.1 200 OK\"\n",
      "2025-07-13 15:40:25,817 - INFO - AFC remote call 1 is done.\n",
      "2025-07-13 15:40:25,817 - ERROR - Cannot get the response text.\n",
      "Processing samples:  70%|███████   | 7/10 [02:28<01:03, 21.11s/it]2025-07-13 15:40:25,857 - INFO - AFC is enabled with max remote calls: 10.\n",
      "2025-07-13 15:40:51,631 - INFO - HTTP Request: POST https://us-central1-aiplatform.googleapis.com/v1beta1/projects/vertex-workbench-notebook/locations/us-central1/publishers/google/models/gemini-2.5-flash:generateContent \"HTTP/1.1 200 OK\"\n",
      "2025-07-13 15:40:51,632 - INFO - AFC remote call 1 is done.\n",
      "Processing samples:  80%|████████  | 8/10 [02:54<00:45, 22.61s/it]2025-07-13 15:40:51,673 - INFO - AFC is enabled with max remote calls: 10.\n",
      "2025-07-13 15:41:11,207 - INFO - HTTP Request: POST https://us-central1-aiplatform.googleapis.com/v1beta1/projects/vertex-workbench-notebook/locations/us-central1/publishers/google/models/gemini-2.5-flash:generateContent \"HTTP/1.1 200 OK\"\n",
      "2025-07-13 15:41:11,208 - INFO - AFC remote call 1 is done.\n",
      "Processing samples:  90%|█████████ | 9/10 [03:13<00:21, 21.66s/it]2025-07-13 15:41:11,248 - INFO - AFC is enabled with max remote calls: 10.\n",
      "2025-07-13 15:41:34,679 - INFO - HTTP Request: POST https://us-central1-aiplatform.googleapis.com/v1beta1/projects/vertex-workbench-notebook/locations/us-central1/publishers/google/models/gemini-2.5-flash:generateContent \"HTTP/1.1 200 OK\"\n",
      "2025-07-13 15:41:34,680 - INFO - AFC remote call 1 is done.\n",
      "Processing samples: 100%|██████████| 10/10 [03:37<00:00, 21.71s/it]\n",
      "2025-07-13 15:41:34,721 - INFO - Benchmark completed!\n",
      "2025-07-13 15:41:34,721 - INFO - UAS: 0.5985 (82/137)\n",
      "2025-07-13 15:41:34,721 - INFO - LAS: 0.0000 (0/137)\n",
      "2025-07-13 15:41:34,721 - INFO - Total time: 217.14 seconds\n",
      "2025-07-13 15:41:34,721 - INFO - Average time per sample: 21.714 seconds\n",
      "2025-07-13 15:41:34,721 - INFO - Metrics saved to: benchmark_results/klue_dp_metrics_20250713_154134.json\n",
      "2025-07-13 15:41:34,722 - INFO - Detailed results saved to: benchmark_results/klue_dp_results_20250713_154134.json\n",
      "2025-07-13 15:41:34,725 - INFO - Results saved as CSV: benchmark_results/klue_dp_results_20250713_154134.csv\n",
      "2025-07-13 15:41:34,725 - INFO - Error analysis saved to: benchmark_results/klue_dp_error_analysis_20250713_154134.txt\n",
      "============================================================\n",
      "KLUE Dependency Parsing Benchmark Results\n",
      "============================================================\n",
      "Model: gemini-2.5-flash\n",
      "Platform: Google Cloud Vertex AI\n",
      "Project: vertex-workbench-notebook\n",
      "Location: us-central1\n",
      "UAS: 0.5985 (82/137)\n",
      "LAS: 0.0000 (0/137)\n",
      "Total Time: 217.14 seconds\n",
      "Average Time per Sample: 21.714 seconds\n",
      "Samples per Second: 0.05\n",
      "\n",
      "Per-POS Performance:\n",
      "  SS+SL+NNP+SN+SS (SS+SL+NNP+SN+SS): UAS=0.0000, LAS=0.0000 (1 words)\n",
      "  NNP+JKS (NNP+JKS): UAS=0.0000, LAS=0.0000 (1 words)\n",
      "  NNP+JKG (NNP+JKG): UAS=0.0000, LAS=0.0000 (2 words)\n",
      "  NNG+JKB (NNG+JKB): UAS=0.4286, LAS=0.0000 (7 words)\n",
      "  NNG+JKO (NNG+JKO): UAS=0.8000, LAS=0.0000 (10 words)\n",
      "  VV+EP+EF+SF (VV+EP+EF+SF): UAS=1.0000, LAS=0.0000 (2 words)\n",
      "  NNG+JX (NNG+JX): UAS=0.6000, LAS=0.0000 (5 words)\n",
      "  NNG+JKG (NNG+JKG): UAS=0.5000, LAS=0.0000 (2 words)\n",
      "  NNG+XSA+ETM (NNG+XSA+ETM): UAS=0.5000, LAS=0.0000 (2 words)\n",
      "  VV+ETM (VV+ETM): UAS=1.0000, LAS=0.0000 (7 words)\n",
      "  NNG+JKS (NNG+JKS): UAS=0.7500, LAS=0.0000 (4 words)\n",
      "  VV+EC (VV+EC): UAS=0.3333, LAS=0.0000 (6 words)\n",
      "  VX+EC (VX+EC): UAS=0.5000, LAS=0.0000 (2 words)\n",
      "  NNP+NNB+JC (NNP+NNB+JC): UAS=1.0000, LAS=0.0000 (1 words)\n",
      "  NNP+NNB+JKS (NNP+NNB+JKS): UAS=1.0000, LAS=0.0000 (1 words)\n",
      "  NNG+XSN (NNG+XSN): UAS=1.0000, LAS=0.0000 (1 words)\n",
      "  VV+EP+ETM (VV+EP+ETM): UAS=1.0000, LAS=0.0000 (1 words)\n",
      "  NNG+XSV+EP+EF+SF (NNG+XSV+EP+EF+SF): UAS=1.0000, LAS=0.0000 (2 words)\n",
      "  MAG (일반부사): UAS=0.5000, LAS=0.0000 (4 words)\n",
      "  NNG+VCP+EP+EF+SF (NNG+VCP+EP+EF+SF): UAS=1.0000, LAS=0.0000 (1 words)\n",
      "  NNG+JC (NNG+JC): UAS=0.3333, LAS=0.0000 (3 words)\n",
      "  NNG (일반명사): UAS=0.4375, LAS=0.0000 (16 words)\n",
      "  NNG+XSV+ETM (NNG+XSV+ETM): UAS=0.2500, LAS=0.0000 (4 words)\n",
      "  NNG+XSN+JKB (NNG+XSN+JKB): UAS=0.0000, LAS=0.0000 (2 words)\n",
      "  NNG+XSV+EP+EC (NNG+XSV+EP+EC): UAS=0.0000, LAS=0.0000 (1 words)\n",
      "  NP+JX (NP+JX): UAS=0.5000, LAS=0.0000 (2 words)\n",
      "  NNG+JKC (NNG+JKC): UAS=0.0000, LAS=0.0000 (1 words)\n",
      "  VX+EP+EF+SF (VX+EP+EF+SF): UAS=1.0000, LAS=0.0000 (1 words)\n",
      "  NNP (고유명사): UAS=1.0000, LAS=0.0000 (3 words)\n",
      "  MMD (MMD): UAS=0.5000, LAS=0.0000 (2 words)\n",
      "  NNG+XSN+JKS (NNG+XSN+JKS): UAS=1.0000, LAS=0.0000 (1 words)\n",
      "  VV+EC+VV+EC (VV+EC+VV+EC): UAS=1.0000, LAS=0.0000 (1 words)\n",
      "  NNG+XSN+SP (NNG+XSN+SP): UAS=0.0000, LAS=0.0000 (1 words)\n",
      "  NNG+XSN+JKO (NNG+XSN+JKO): UAS=1.0000, LAS=0.0000 (1 words)\n",
      "  NNG+XSV+ETN (NNG+XSV+ETN): UAS=1.0000, LAS=0.0000 (1 words)\n",
      "  VA+ETM (VA+ETM): UAS=1.0000, LAS=0.0000 (2 words)\n",
      "  NNB+JKB (NNB+JKB): UAS=0.7500, LAS=0.0000 (4 words)\n",
      "  NNG+XSV+EP+ETN (NNG+XSV+EP+ETN): UAS=1.0000, LAS=0.0000 (1 words)\n",
      "  NNG+XSV+EF+SF (NNG+XSV+EF+SF): UAS=1.0000, LAS=0.0000 (1 words)\n",
      "  NNG+NNB (NNG+NNB): UAS=0.0000, LAS=0.0000 (1 words)\n",
      "  NNP+JX (NNP+JX): UAS=0.0000, LAS=0.0000 (1 words)\n",
      "  NNB (의존명사): UAS=1.0000, LAS=0.0000 (1 words)\n",
      "  NNG+XSV+EC (NNG+XSV+EC): UAS=0.6000, LAS=0.0000 (5 words)\n",
      "  NNP+XSN+JKO (NNP+XSN+JKO): UAS=1.0000, LAS=0.0000 (1 words)\n",
      "  VV+EC+VX+EP+EF+SF (VV+EC+VX+EP+EF+SF): UAS=1.0000, LAS=0.0000 (1 words)\n",
      "  VA+EC (VA+EC): UAS=0.0000, LAS=0.0000 (1 words)\n",
      "  SN+NNB+JKS (SN+NNB+JKS): UAS=0.0000, LAS=0.0000 (1 words)\n",
      "  VV+EP+EC (VV+EP+EC): UAS=0.0000, LAS=0.0000 (1 words)\n",
      "  SN+NNB (SN+NNB): UAS=0.3333, LAS=0.0000 (3 words)\n",
      "  NNG+SP (NNG+SP): UAS=1.0000, LAS=0.0000 (1 words)\n",
      "  VV+VX+EC (VV+VX+EC): UAS=1.0000, LAS=0.0000 (1 words)\n",
      "  VV+EF+SF (VV+EF+SF): UAS=1.0000, LAS=0.0000 (1 words)\n",
      "  NP+JKO (NP+JKO): UAS=1.0000, LAS=0.0000 (1 words)\n",
      "  NNG+NNG+JKO (NNG+NNG+JKO): UAS=1.0000, LAS=0.0000 (1 words)\n",
      "  VV+ETN (VV+ETN): UAS=1.0000, LAS=0.0000 (1 words)\n",
      "  VX+ETM (VX+ETM): UAS=0.0000, LAS=0.0000 (1 words)\n",
      "  NNB+VCP+EF+SF (NNB+VCP+EF+SF): UAS=1.0000, LAS=0.0000 (1 words)\n",
      "  SN+NNB+JKB (SN+NNB+JKB): UAS=1.0000, LAS=0.0000 (1 words)\n",
      "  SS+NNP+SS (SS+NNP+SS): UAS=1.0000, LAS=0.0000 (1 words)\n",
      "  NNG+NNG+JKB (NNG+NNG+JKB): UAS=0.0000, LAS=0.0000 (1 words)\n",
      "\n",
      "Error Analysis (showing first 5 errors):\n",
      "  1. Sample ID: dp_0\n",
      "     Sentence: 'K팝스타3’ 유희열이 홍정희의 탈락에 눈물을 흘렸다....\n",
      "     Words: 'K팝스타3’ 유희열이 홍정희의 탈락에 눈물을 흘렸다....\n",
      "     UAS: 0.1667 | LAS: 0.0000\n",
      "\n",
      "  2. Sample ID: dp_3\n",
      "     Sentence: 검증과 여과 없이 배포된 기사들에 오판과 여론은 확산되었고 저는 어느새 치욕스러운 범죄자가 되어 버렸습니다....\n",
      "     Words: 검증과 여과 없이 배포된 기사들에 오판과 여론은 확산되었고 저는 어느새...\n",
      "     UAS: 0.0714 | LAS: 0.0000\n",
      "     Error: No response text\n",
      "\n",
      "  3. Sample ID: dp_6\n",
      "     Sentence: 이 불이 빠르게 번지며 주변 점포 5개가 불 탔고 6개 점포는 부분적으로 소실됐다....\n",
      "     Words: 이 불이 빠르게 번지며 주변 점포 5개가 불 탔고 6개...\n",
      "     UAS: 0.0769 | LAS: 0.0000\n",
      "     Error: No response text\n",
      "\n",
      "Log files saved:\n",
      "  Full output: logs/klue_dp_test_20250713_153745.log\n",
      "  Errors only: logs/klue_dp_test_20250713_153745.err\n"
     ]
    }
   ],
   "source": [
    "!./run test"
   ]
  },
  {
   "cell_type": "markdown",
   "id": "57299997-6b57-470d-b7db-d3f382591e48",
   "metadata": {},
   "source": [
    "### Test it with More Samples (after fixing errors)"
   ]
  },
  {
   "cell_type": "code",
   "execution_count": null,
   "id": "46918a17-98c5-44fa-a0bc-95ffad8b34fc",
   "metadata": {},
   "outputs": [],
   "source": [
    "!./run custom 50"
   ]
  },
  {
   "cell_type": "markdown",
   "id": "bfc7c93e-192d-49b7-be8d-1bf61ec0bbab",
   "metadata": {},
   "source": [
    "### Measure the Baseline Performance\n",
    "This section focuses on evaluating baseline performance. The command `./run full` is essential for this assessment, but it is known to require significant processing time, potentially extending overnight or throughout a full workday. To prevent interruptions and ensure the command completes successfully regardless of terminal disconnections, we strongly recommend executing `./run full` within a `tmux` session. \n",
    "\n",
    "```bash\n",
    "# Create and Start a New `tmux` Session\n",
    "tmux new -s klue\n",
    "\n",
    "# Run the target command within the `tmux session`\n",
    "$ ./run full\n",
    "\n",
    "# Detach from the Session\n",
    "Ctrl+b d\n",
    "\n",
    "# Reattach to the `klue` session\n",
    "tmux attach -t klue\n",
    "```\n",
    "For details, refer to [background_processing_with_tmux.md](background_processing_with_tmux.md). \n",
    "\n",
    "For users who prefer a more traditional method, the nohup command can also be used to run the process in the background, allowing it to continue even after you log out of your session."
   ]
  },
  {
   "cell_type": "code",
   "execution_count": null,
   "id": "ad1801ae-892a-4cd3-af92-01335ef5e594",
   "metadata": {},
   "outputs": [],
   "source": [
    "# You may run the target command in this cell, but running the command in the background is recommended.\n",
    "!./run full"
   ]
  },
  {
   "cell_type": "markdown",
   "id": "4ef9c9b6-4f06-430d-ae81-eebe17f2d230",
   "metadata": {},
   "source": [
    "### Improve the Prompt for Better Performance"
   ]
  },
  {
   "cell_type": "markdown",
   "id": "eb48831e-d417-493c-a97b-b2df5b7e6308",
   "metadata": {},
   "source": [
    "#### Test-run"
   ]
  },
  {
   "cell_type": "code",
   "execution_count": null,
   "id": "8fe9b98a-4fc4-4339-9f26-2837f68ee633",
   "metadata": {},
   "outputs": [],
   "source": [
    "!./run test"
   ]
  },
  {
   "cell_type": "markdown",
   "id": "c207c27a-2f54-4fae-bb74-863d8ec8e757",
   "metadata": {},
   "source": [
    "#### Test it with More Samples"
   ]
  },
  {
   "cell_type": "code",
   "execution_count": null,
   "id": "b97db76d-c340-4e7b-9551-2e3ec24e064d",
   "metadata": {},
   "outputs": [],
   "source": [
    "!./run custom 100"
   ]
  },
  {
   "cell_type": "markdown",
   "id": "a882d4c7-93c3-40eb-b27d-7215bd466a8c",
   "metadata": {},
   "source": [
    "### Measure the Improved Performance\n",
    "\n",
    "```bash\n",
    "# Reattach to the `klue` session\n",
    "tmux attach -t klue\n",
    "\n",
    "# Run the target command within the `tmux session`\n",
    "$ ./run full\n",
    "\n",
    "# Detach from the Session\n",
    "Ctrl+b d\n",
    "```"
   ]
  }
 ],
 "metadata": {
  "kernelspec": {
   "display_name": "Python 3 (ipykernel)",
   "language": "python",
   "name": "python3"
  },
  "language_info": {
   "codemirror_mode": {
    "name": "ipython",
    "version": 3
   },
   "file_extension": ".py",
   "mimetype": "text/x-python",
   "name": "python",
   "nbconvert_exporter": "python",
   "pygments_lexer": "ipython3",
   "version": "3.11.13"
  }
 },
 "nbformat": 4,
 "nbformat_minor": 5
}
