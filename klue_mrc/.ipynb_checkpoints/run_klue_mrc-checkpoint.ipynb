{
 "cells": [
  {
   "cell_type": "markdown",
   "id": "d4d2c1f6-cdb1-40df-b5df-2efe81b471a0",
   "metadata": {},
   "source": [
    "# Running the KLUE MRC (Machine Reading Comprehension) Benchmark\n",
    "\n",
    "## Ensure `klue_mrc` is the current working directory\n",
    "\n"
   ]
  },
  {
   "cell_type": "code",
   "execution_count": 4,
   "id": "efaae47f-aed1-4327-a0af-02905cc78f4c",
   "metadata": {},
   "outputs": [
    {
     "data": {
      "text/plain": [
       "'/usr/local/google/home/thekim/github/aimldl/llm_benchmarks_asian_langs/klue_mrc'"
      ]
     },
     "execution_count": 4,
     "metadata": {},
     "output_type": "execute_result"
    }
   ],
   "source": [
    "%pwd"
   ]
  },
  {
   "cell_type": "code",
   "execution_count": 5,
   "id": "8827fecd-ff3f-41e3-8d14-e1bcb22b8328",
   "metadata": {},
   "outputs": [
    {
     "name": "stdout",
     "output_type": "stream",
     "text": [
      "ABOUT_KLUE_MRC.md   \u001b[0m\u001b[01;32minstall_dependencies.sh\u001b[0m*    \u001b[01;32msetup.sh\u001b[0m*\n",
      "README.md           klue_mrc-gemini2_5flash.py  \u001b[01;32mtest_logging.sh\u001b[0m*\n",
      "TROUBLESHOOTING.md  \u001b[01;34mlogs\u001b[0m/                       test_rouge.py\n",
      "VERTEX_AI_SETUP.md  requirements.txt            test_setup.py\n",
      "\u001b[01;34mbenchmark_results\u001b[0m/  \u001b[01;34mresult_analysis\u001b[0m/            \u001b[01;32mverify_scripts.sh\u001b[0m*\n",
      "\u001b[01;34meval_dataset\u001b[0m/       \u001b[01;32mrun\u001b[0m*\n",
      "\u001b[01;32mget_errors.sh\u001b[0m*      run_klue_mrc.ipynb\n"
     ]
    }
   ],
   "source": [
    "%ls"
   ]
  },
  {
   "cell_type": "markdown",
   "id": "a24c70d5-c26c-451d-9381-cf0dc38bf54f",
   "metadata": {},
   "source": [
    "### Set up"
   ]
  },
  {
   "cell_type": "code",
   "execution_count": 6,
   "id": "25b7fdbd-b93d-45cb-af90-dedb6e4f8af2",
   "metadata": {},
   "outputs": [
    {
     "name": "stdout",
     "output_type": "stream",
     "text": [
      "\u001b[0;34m[INFO]\u001b[0m Checking prerequisites...\n",
      "\u001b[0;32m[SUCCESS]\u001b[0m Prerequisites check passed\n",
      "\u001b[0;34m[INFO]\u001b[0m Installing Python dependencies...\n",
      "Requirement already satisfied: google-genai>=0.3.0 in /usr/local/google/home/thekim/anaconda3/envs/klue/lib/python3.11/site-packages (from -r requirements.txt (line 1)) (1.24.0)\n",
      "Requirement already satisfied: datasets>=2.14.0 in /usr/local/google/home/thekim/anaconda3/envs/klue/lib/python3.11/site-packages (from -r requirements.txt (line 2)) (3.6.0)\n",
      "Requirement already satisfied: pandas>=2.0.0 in /usr/local/google/home/thekim/anaconda3/envs/klue/lib/python3.11/site-packages (from -r requirements.txt (line 3)) (2.2.3)\n",
      "Requirement already satisfied: tqdm>=4.65.0 in /usr/local/google/home/thekim/anaconda3/envs/klue/lib/python3.11/site-packages (from -r requirements.txt (line 4)) (4.67.1)\n",
      "Requirement already satisfied: google-cloud-aiplatform>=1.35.0 in /usr/local/google/home/thekim/anaconda3/envs/klue/lib/python3.11/site-packages (from -r requirements.txt (line 5)) (1.101.0)\n",
      "Requirement already satisfied: google-auth>=2.17.0 in /usr/local/google/home/thekim/anaconda3/envs/klue/lib/python3.11/site-packages (from -r requirements.txt (line 6)) (2.40.3)\n",
      "Collecting rouge-score>=0.1.2 (from -r requirements.txt (line 7))\n",
      "  Downloading rouge_score-0.1.2.tar.gz (17 kB)\n",
      "  Preparing metadata (setup.py) ... \u001b[?25ldone\n",
      "\u001b[?25hRequirement already satisfied: anyio<5.0.0,>=4.8.0 in /usr/local/google/home/thekim/anaconda3/envs/klue/lib/python3.11/site-packages (from google-genai>=0.3.0->-r requirements.txt (line 1)) (4.9.0)\n",
      "Requirement already satisfied: httpx<1.0.0,>=0.28.1 in /usr/local/google/home/thekim/anaconda3/envs/klue/lib/python3.11/site-packages (from google-genai>=0.3.0->-r requirements.txt (line 1)) (0.28.1)\n",
      "Requirement already satisfied: pydantic<3.0.0,>=2.0.0 in /usr/local/google/home/thekim/anaconda3/envs/klue/lib/python3.11/site-packages (from google-genai>=0.3.0->-r requirements.txt (line 1)) (2.11.7)\n",
      "Requirement already satisfied: requests<3.0.0,>=2.28.1 in /usr/local/google/home/thekim/anaconda3/envs/klue/lib/python3.11/site-packages (from google-genai>=0.3.0->-r requirements.txt (line 1)) (2.32.3)\n",
      "Requirement already satisfied: tenacity<9.0.0,>=8.2.3 in /usr/local/google/home/thekim/anaconda3/envs/klue/lib/python3.11/site-packages (from google-genai>=0.3.0->-r requirements.txt (line 1)) (8.5.0)\n",
      "Requirement already satisfied: websockets<15.1.0,>=13.0.0 in /usr/local/google/home/thekim/anaconda3/envs/klue/lib/python3.11/site-packages (from google-genai>=0.3.0->-r requirements.txt (line 1)) (15.0.1)\n",
      "Requirement already satisfied: typing-extensions<5.0.0,>=4.11.0 in /usr/local/google/home/thekim/anaconda3/envs/klue/lib/python3.11/site-packages (from google-genai>=0.3.0->-r requirements.txt (line 1)) (4.12.2)\n",
      "Requirement already satisfied: cachetools<6.0,>=2.0.0 in /usr/local/google/home/thekim/anaconda3/envs/klue/lib/python3.11/site-packages (from google-auth>=2.17.0->-r requirements.txt (line 6)) (5.5.1)\n",
      "Requirement already satisfied: pyasn1-modules>=0.2.1 in /usr/local/google/home/thekim/anaconda3/envs/klue/lib/python3.11/site-packages (from google-auth>=2.17.0->-r requirements.txt (line 6)) (0.2.8)\n",
      "Requirement already satisfied: rsa<5,>=3.1.4 in /usr/local/google/home/thekim/anaconda3/envs/klue/lib/python3.11/site-packages (from google-auth>=2.17.0->-r requirements.txt (line 6)) (4.9.1)\n",
      "Requirement already satisfied: idna>=2.8 in /usr/local/google/home/thekim/anaconda3/envs/klue/lib/python3.11/site-packages (from anyio<5.0.0,>=4.8.0->google-genai>=0.3.0->-r requirements.txt (line 1)) (3.7)\n",
      "Requirement already satisfied: sniffio>=1.1 in /usr/local/google/home/thekim/anaconda3/envs/klue/lib/python3.11/site-packages (from anyio<5.0.0,>=4.8.0->google-genai>=0.3.0->-r requirements.txt (line 1)) (1.3.0)\n",
      "Requirement already satisfied: certifi in /usr/local/google/home/thekim/anaconda3/envs/klue/lib/python3.11/site-packages (from httpx<1.0.0,>=0.28.1->google-genai>=0.3.0->-r requirements.txt (line 1)) (2025.4.26)\n",
      "Requirement already satisfied: httpcore==1.* in /usr/local/google/home/thekim/anaconda3/envs/klue/lib/python3.11/site-packages (from httpx<1.0.0,>=0.28.1->google-genai>=0.3.0->-r requirements.txt (line 1)) (1.0.9)\n",
      "Requirement already satisfied: h11>=0.16 in /usr/local/google/home/thekim/anaconda3/envs/klue/lib/python3.11/site-packages (from httpcore==1.*->httpx<1.0.0,>=0.28.1->google-genai>=0.3.0->-r requirements.txt (line 1)) (0.16.0)\n",
      "Requirement already satisfied: annotated-types>=0.6.0 in /usr/local/google/home/thekim/anaconda3/envs/klue/lib/python3.11/site-packages (from pydantic<3.0.0,>=2.0.0->google-genai>=0.3.0->-r requirements.txt (line 1)) (0.7.0)\n",
      "Requirement already satisfied: pydantic-core==2.33.2 in /usr/local/google/home/thekim/anaconda3/envs/klue/lib/python3.11/site-packages (from pydantic<3.0.0,>=2.0.0->google-genai>=0.3.0->-r requirements.txt (line 1)) (2.33.2)\n",
      "Requirement already satisfied: typing-inspection>=0.4.0 in /usr/local/google/home/thekim/anaconda3/envs/klue/lib/python3.11/site-packages (from pydantic<3.0.0,>=2.0.0->google-genai>=0.3.0->-r requirements.txt (line 1)) (0.4.1)\n",
      "Requirement already satisfied: charset-normalizer<4,>=2 in /usr/local/google/home/thekim/anaconda3/envs/klue/lib/python3.11/site-packages (from requests<3.0.0,>=2.28.1->google-genai>=0.3.0->-r requirements.txt (line 1)) (3.3.2)\n",
      "Requirement already satisfied: urllib3<3,>=1.21.1 in /usr/local/google/home/thekim/anaconda3/envs/klue/lib/python3.11/site-packages (from requests<3.0.0,>=2.28.1->google-genai>=0.3.0->-r requirements.txt (line 1)) (2.3.0)\n",
      "Requirement already satisfied: pyasn1>=0.1.3 in /usr/local/google/home/thekim/anaconda3/envs/klue/lib/python3.11/site-packages (from rsa<5,>=3.1.4->google-auth>=2.17.0->-r requirements.txt (line 6)) (0.4.8)\n",
      "Requirement already satisfied: filelock in /usr/local/google/home/thekim/anaconda3/envs/klue/lib/python3.11/site-packages (from datasets>=2.14.0->-r requirements.txt (line 2)) (3.17.0)\n",
      "Requirement already satisfied: numpy>=1.17 in /usr/local/google/home/thekim/anaconda3/envs/klue/lib/python3.11/site-packages (from datasets>=2.14.0->-r requirements.txt (line 2)) (2.1.3)\n",
      "Requirement already satisfied: pyarrow>=15.0.0 in /usr/local/google/home/thekim/anaconda3/envs/klue/lib/python3.11/site-packages (from datasets>=2.14.0->-r requirements.txt (line 2)) (19.0.0)\n",
      "Requirement already satisfied: dill<0.3.9,>=0.3.0 in /usr/local/google/home/thekim/anaconda3/envs/klue/lib/python3.11/site-packages (from datasets>=2.14.0->-r requirements.txt (line 2)) (0.3.8)\n",
      "Requirement already satisfied: xxhash in /usr/local/google/home/thekim/anaconda3/envs/klue/lib/python3.11/site-packages (from datasets>=2.14.0->-r requirements.txt (line 2)) (3.5.0)\n",
      "Requirement already satisfied: multiprocess<0.70.17 in /usr/local/google/home/thekim/anaconda3/envs/klue/lib/python3.11/site-packages (from datasets>=2.14.0->-r requirements.txt (line 2)) (0.70.16)\n",
      "Requirement already satisfied: fsspec<=2025.3.0,>=2023.1.0 in /usr/local/google/home/thekim/anaconda3/envs/klue/lib/python3.11/site-packages (from fsspec[http]<=2025.3.0,>=2023.1.0->datasets>=2.14.0->-r requirements.txt (line 2)) (2025.3.0)\n",
      "Requirement already satisfied: huggingface-hub>=0.24.0 in /usr/local/google/home/thekim/anaconda3/envs/klue/lib/python3.11/site-packages (from datasets>=2.14.0->-r requirements.txt (line 2)) (0.33.2)\n",
      "Requirement already satisfied: packaging in /usr/local/google/home/thekim/anaconda3/envs/klue/lib/python3.11/site-packages (from datasets>=2.14.0->-r requirements.txt (line 2)) (24.2)\n",
      "Requirement already satisfied: pyyaml>=5.1 in /usr/local/google/home/thekim/anaconda3/envs/klue/lib/python3.11/site-packages (from datasets>=2.14.0->-r requirements.txt (line 2)) (6.0.2)\n",
      "Requirement already satisfied: aiohttp!=4.0.0a0,!=4.0.0a1 in /usr/local/google/home/thekim/anaconda3/envs/klue/lib/python3.11/site-packages (from fsspec[http]<=2025.3.0,>=2023.1.0->datasets>=2.14.0->-r requirements.txt (line 2)) (3.11.10)\n",
      "Requirement already satisfied: python-dateutil>=2.8.2 in /usr/local/google/home/thekim/anaconda3/envs/klue/lib/python3.11/site-packages (from pandas>=2.0.0->-r requirements.txt (line 3)) (2.9.0.post0)\n",
      "Requirement already satisfied: pytz>=2020.1 in /usr/local/google/home/thekim/anaconda3/envs/klue/lib/python3.11/site-packages (from pandas>=2.0.0->-r requirements.txt (line 3)) (2024.1)\n",
      "Requirement already satisfied: tzdata>=2022.7 in /usr/local/google/home/thekim/anaconda3/envs/klue/lib/python3.11/site-packages (from pandas>=2.0.0->-r requirements.txt (line 3)) (2025.2)\n",
      "Requirement already satisfied: google-api-core!=2.0.*,!=2.1.*,!=2.2.*,!=2.3.*,!=2.4.*,!=2.5.*,!=2.6.*,!=2.7.*,<3.0.0,>=1.34.1 in /usr/local/google/home/thekim/anaconda3/envs/klue/lib/python3.11/site-packages (from google-api-core[grpc]!=2.0.*,!=2.1.*,!=2.2.*,!=2.3.*,!=2.4.*,!=2.5.*,!=2.6.*,!=2.7.*,<3.0.0,>=1.34.1->google-cloud-aiplatform>=1.35.0->-r requirements.txt (line 5)) (2.25.1)\n",
      "Requirement already satisfied: proto-plus<2.0.0,>=1.22.3 in /usr/local/google/home/thekim/anaconda3/envs/klue/lib/python3.11/site-packages (from google-cloud-aiplatform>=1.35.0->-r requirements.txt (line 5)) (1.26.1)\n",
      "Requirement already satisfied: protobuf!=4.21.0,!=4.21.1,!=4.21.2,!=4.21.3,!=4.21.4,!=4.21.5,<7.0.0,>=3.20.2 in /usr/local/google/home/thekim/anaconda3/envs/klue/lib/python3.11/site-packages (from google-cloud-aiplatform>=1.35.0->-r requirements.txt (line 5)) (6.31.1)\n",
      "Requirement already satisfied: google-cloud-storage<3.0.0,>=1.32.0 in /usr/local/google/home/thekim/anaconda3/envs/klue/lib/python3.11/site-packages (from google-cloud-aiplatform>=1.35.0->-r requirements.txt (line 5)) (2.19.0)\n",
      "Requirement already satisfied: google-cloud-bigquery!=3.20.0,<4.0.0,>=1.15.0 in /usr/local/google/home/thekim/anaconda3/envs/klue/lib/python3.11/site-packages (from google-cloud-aiplatform>=1.35.0->-r requirements.txt (line 5)) (3.34.0)\n",
      "Requirement already satisfied: google-cloud-resource-manager<3.0.0,>=1.3.3 in /usr/local/google/home/thekim/anaconda3/envs/klue/lib/python3.11/site-packages (from google-cloud-aiplatform>=1.35.0->-r requirements.txt (line 5)) (1.14.2)\n",
      "Requirement already satisfied: shapely<3.0.0 in /usr/local/google/home/thekim/anaconda3/envs/klue/lib/python3.11/site-packages (from google-cloud-aiplatform>=1.35.0->-r requirements.txt (line 5)) (2.1.1)\n",
      "Requirement already satisfied: docstring_parser<1 in /usr/local/google/home/thekim/anaconda3/envs/klue/lib/python3.11/site-packages (from google-cloud-aiplatform>=1.35.0->-r requirements.txt (line 5)) (0.16)\n",
      "Requirement already satisfied: googleapis-common-protos<2.0.0,>=1.56.2 in /usr/local/google/home/thekim/anaconda3/envs/klue/lib/python3.11/site-packages (from google-api-core!=2.0.*,!=2.1.*,!=2.2.*,!=2.3.*,!=2.4.*,!=2.5.*,!=2.6.*,!=2.7.*,<3.0.0,>=1.34.1->google-api-core[grpc]!=2.0.*,!=2.1.*,!=2.2.*,!=2.3.*,!=2.4.*,!=2.5.*,!=2.6.*,!=2.7.*,<3.0.0,>=1.34.1->google-cloud-aiplatform>=1.35.0->-r requirements.txt (line 5)) (1.70.0)\n",
      "Requirement already satisfied: grpcio<2.0.0,>=1.33.2 in /usr/local/google/home/thekim/anaconda3/envs/klue/lib/python3.11/site-packages (from google-api-core[grpc]!=2.0.*,!=2.1.*,!=2.2.*,!=2.3.*,!=2.4.*,!=2.5.*,!=2.6.*,!=2.7.*,<3.0.0,>=1.34.1->google-cloud-aiplatform>=1.35.0->-r requirements.txt (line 5)) (1.73.1)\n",
      "Requirement already satisfied: grpcio-status<2.0.0,>=1.33.2 in /usr/local/google/home/thekim/anaconda3/envs/klue/lib/python3.11/site-packages (from google-api-core[grpc]!=2.0.*,!=2.1.*,!=2.2.*,!=2.3.*,!=2.4.*,!=2.5.*,!=2.6.*,!=2.7.*,<3.0.0,>=1.34.1->google-cloud-aiplatform>=1.35.0->-r requirements.txt (line 5)) (1.73.1)\n",
      "Requirement already satisfied: google-cloud-core<3.0.0,>=2.4.1 in /usr/local/google/home/thekim/anaconda3/envs/klue/lib/python3.11/site-packages (from google-cloud-bigquery!=3.20.0,<4.0.0,>=1.15.0->google-cloud-aiplatform>=1.35.0->-r requirements.txt (line 5)) (2.4.3)\n",
      "Requirement already satisfied: google-resumable-media<3.0.0,>=2.0.0 in /usr/local/google/home/thekim/anaconda3/envs/klue/lib/python3.11/site-packages (from google-cloud-bigquery!=3.20.0,<4.0.0,>=1.15.0->google-cloud-aiplatform>=1.35.0->-r requirements.txt (line 5)) (2.7.2)\n",
      "Requirement already satisfied: grpc-google-iam-v1<1.0.0,>=0.14.0 in /usr/local/google/home/thekim/anaconda3/envs/klue/lib/python3.11/site-packages (from google-cloud-resource-manager<3.0.0,>=1.3.3->google-cloud-aiplatform>=1.35.0->-r requirements.txt (line 5)) (0.14.2)\n",
      "Requirement already satisfied: google-crc32c<2.0dev,>=1.0 in /usr/local/google/home/thekim/anaconda3/envs/klue/lib/python3.11/site-packages (from google-cloud-storage<3.0.0,>=1.32.0->google-cloud-aiplatform>=1.35.0->-r requirements.txt (line 5)) (1.7.1)\n",
      "Requirement already satisfied: six>=1.5 in /usr/local/google/home/thekim/anaconda3/envs/klue/lib/python3.11/site-packages (from python-dateutil>=2.8.2->pandas>=2.0.0->-r requirements.txt (line 3)) (1.17.0)\n",
      "Collecting absl-py (from rouge-score>=0.1.2->-r requirements.txt (line 7))\n",
      "  Downloading absl_py-2.3.1-py3-none-any.whl.metadata (3.3 kB)\n",
      "Requirement already satisfied: nltk in /usr/local/google/home/thekim/anaconda3/envs/klue/lib/python3.11/site-packages (from rouge-score>=0.1.2->-r requirements.txt (line 7)) (3.9.1)\n",
      "Requirement already satisfied: aiohappyeyeballs>=2.3.0 in /usr/local/google/home/thekim/anaconda3/envs/klue/lib/python3.11/site-packages (from aiohttp!=4.0.0a0,!=4.0.0a1->fsspec[http]<=2025.3.0,>=2023.1.0->datasets>=2.14.0->-r requirements.txt (line 2)) (2.4.4)\n",
      "Requirement already satisfied: aiosignal>=1.1.2 in /usr/local/google/home/thekim/anaconda3/envs/klue/lib/python3.11/site-packages (from aiohttp!=4.0.0a0,!=4.0.0a1->fsspec[http]<=2025.3.0,>=2023.1.0->datasets>=2.14.0->-r requirements.txt (line 2)) (1.2.0)\n",
      "Requirement already satisfied: attrs>=17.3.0 in /usr/local/google/home/thekim/anaconda3/envs/klue/lib/python3.11/site-packages (from aiohttp!=4.0.0a0,!=4.0.0a1->fsspec[http]<=2025.3.0,>=2023.1.0->datasets>=2.14.0->-r requirements.txt (line 2)) (24.3.0)\n",
      "Requirement already satisfied: frozenlist>=1.1.1 in /usr/local/google/home/thekim/anaconda3/envs/klue/lib/python3.11/site-packages (from aiohttp!=4.0.0a0,!=4.0.0a1->fsspec[http]<=2025.3.0,>=2023.1.0->datasets>=2.14.0->-r requirements.txt (line 2)) (1.5.0)\n",
      "Requirement already satisfied: multidict<7.0,>=4.5 in /usr/local/google/home/thekim/anaconda3/envs/klue/lib/python3.11/site-packages (from aiohttp!=4.0.0a0,!=4.0.0a1->fsspec[http]<=2025.3.0,>=2023.1.0->datasets>=2.14.0->-r requirements.txt (line 2)) (6.1.0)\n",
      "Requirement already satisfied: propcache>=0.2.0 in /usr/local/google/home/thekim/anaconda3/envs/klue/lib/python3.11/site-packages (from aiohttp!=4.0.0a0,!=4.0.0a1->fsspec[http]<=2025.3.0,>=2023.1.0->datasets>=2.14.0->-r requirements.txt (line 2)) (0.3.1)\n",
      "Requirement already satisfied: yarl<2.0,>=1.17.0 in /usr/local/google/home/thekim/anaconda3/envs/klue/lib/python3.11/site-packages (from aiohttp!=4.0.0a0,!=4.0.0a1->fsspec[http]<=2025.3.0,>=2023.1.0->datasets>=2.14.0->-r requirements.txt (line 2)) (1.18.0)\n",
      "Requirement already satisfied: hf-xet<2.0.0,>=1.1.2 in /usr/local/google/home/thekim/anaconda3/envs/klue/lib/python3.11/site-packages (from huggingface-hub>=0.24.0->datasets>=2.14.0->-r requirements.txt (line 2)) (1.1.5)\n",
      "Requirement already satisfied: click in /usr/local/google/home/thekim/anaconda3/envs/klue/lib/python3.11/site-packages (from nltk->rouge-score>=0.1.2->-r requirements.txt (line 7)) (8.1.8)\n",
      "Requirement already satisfied: joblib in /usr/local/google/home/thekim/anaconda3/envs/klue/lib/python3.11/site-packages (from nltk->rouge-score>=0.1.2->-r requirements.txt (line 7)) (1.4.2)\n",
      "Requirement already satisfied: regex>=2021.8.3 in /usr/local/google/home/thekim/anaconda3/envs/klue/lib/python3.11/site-packages (from nltk->rouge-score>=0.1.2->-r requirements.txt (line 7)) (2024.11.6)\n",
      "Downloading absl_py-2.3.1-py3-none-any.whl (135 kB)\n",
      "Building wheels for collected packages: rouge-score\n",
      "\u001b[33m  DEPRECATION: Building 'rouge-score' using the legacy setup.py bdist_wheel mechanism, which will be removed in a future version. pip 25.3 will enforce this behaviour change. A possible replacement is to use the standardized build interface by setting the `--use-pep517` option, (possibly combined with `--no-build-isolation`), or adding a `pyproject.toml` file to the source tree of 'rouge-score'. Discussion can be found at https://github.com/pypa/pip/issues/6334\u001b[0m\u001b[33m\n",
      "  Building wheel for rouge-score (setup.py) ... \u001b[?2done\n",
      "\u001b[?25h  Created wheel for rouge-score: filename=rouge_score-0.1.2-py3-none-any.whl size=24935 sha256=a4b34b6cfba374875abf829daacf1d593388538a738be7f18c75d918f5531079\n",
      "  Stored in directory: /usr/local/google/home/thekim/.cache/pip/wheels/1e/19/43/8a442dc83660ca25e163e1bd1f89919284ab0d0c1475475148\n",
      "Successfully built rouge-score\n",
      "Installing collected packages: absl-py, rouge-score\n",
      "\u001b[2K   \u001b[38;2;114;156;31m━━━━━━━━━━━━━━━━━━━━━━━━━━━━━━━━━━━━━━━━\u001b[0m \u001b[32m2/2\u001b[0m [rouge-score]\n",
      "\u001b[1A\u001b[2KSuccessfully installed absl-py-2.3.1 rouge-score-0.1.2\n",
      "\u001b[0;32m[SUCCESS]\u001b[0m Dependencies installed successfully!\n",
      "\u001b[0;34m[INFO]\u001b[0m Testing the setup...\n",
      "============================================================\n",
      "KLUE MRC Benchmark Setup Test (Vertex AI)\n",
      "============================================================\n",
      "Testing package imports...\n",
      "✓ google.cloud.aiplatform\n",
      "✓ vertexai\n",
      "✓ datasets\n",
      "✓ pandas\n",
      "✓ tqdm\n",
      "✓ huggingface_hub\n",
      "✓ google.auth\n",
      "✓ rouge_score\n",
      "\n",
      "✅ All packages imported successfully!\n",
      "\n",
      "Testing environment variables...\n",
      "✓ GOOGLE_CLOUD_PROJECT: vertex-workbench-notebook\n",
      "⚠ GOOGLE_APPLICATION_CREDENTIALS: Not set (using default credentials)\n",
      "\n",
      "Testing KLUE MRC dataset loading...\n",
      "✓ KLUE mrc dataset for MRC loaded successfully\n",
      "  - Train samples: 17554\n",
      "  - Validation samples: 5841\n",
      "  - Sample from validation set:\n",
      "    - Title: BMW 코리아, 창립 25주년 기념 ‘BMW 코리아 25주년 에디션’ 한정 출시\n",
      "    - Context: BMW 코리아(대표 한상윤)는 창립 25주년을 기념하는 ‘BMW 코리아 25주년 에디션’을 한정 출시한다고 밝혔다. 이번 BMW 코리아 25주년 에디션(이하 25주년 에디션)은 B...\n",
      "    - Question: 말라카이트에서 나온 색깔을 사용한 에디션은?\n",
      "    - Answers: {'answer_start': [666, 666], 'text': ['뉴 740Li 25주년 에디션', '뉴 740Li 25주년']}\n",
      "    - Is Impossible: False\n",
      "\n",
      "Testing Vertex AI authentication...\n",
      "✓ Credentials found\n",
      "  - Project: vertex-workbench-notebook\n",
      "  - Credentials type: Credentials\n",
      "✓ Vertex AI initialization works\n",
      "\n",
      "Testing ROUGE metrics...\n",
      "✓ ROUGE metrics calculation works\n",
      "  - Reference: 노르웨이로 파견되었다\n",
      "  - Prediction: 노르웨이\n",
      "  - ROUGE-1: 0.0000\n",
      "  - ROUGE-2: 0.0000\n",
      "  - ROUGE-L: 0.0000\n",
      "\n",
      "============================================================\n",
      "Test Summary\n",
      "============================================================\n",
      "✅ All tests passed! Your setup is ready.\n",
      "\n",
      "Next steps:\n",
      "1. Ensure your Google Cloud project has Vertex AI API enabled\n",
      "2. Set project ID: export GOOGLE_CLOUD_PROJECT='your-project-id'\n",
      "3. Run the benchmark: python klue_mrc-gemini2_5flash.py --project-id 'your-project-id'\n",
      "\u001b[0;32m[SUCCESS]\u001b[0m Setup test completed successfully!\n",
      "\n",
      "\u001b[0;34m[INFO]\u001b[0m Next steps for Vertex AI setup:\n",
      "1. Install Google Cloud CLI: https://cloud.google.com/sdk/docs/install\n",
      "2. Authenticate with gcloud: gcloud auth login\n",
      "3. Set up application default credentials: gcloud auth application-default login\n",
      "4. Set your project ID: export GOOGLE_CLOUD_PROJECT='your-project-id'\n",
      "5. Enable Vertex AI API: gcloud services enable aiplatform.googleapis.com\n",
      "6. Run the benchmark: ./run test (for small test) or ./run full (for full benchmark)\n",
      "\n",
      "\u001b[0;34m[INFO]\u001b[0m Logging features:\n",
      "- All benchmark runs are automatically logged to the 'logs/' directory\n",
      "- Log files include command headers for easy identification\n",
      "- Separate error logs (.err) are created for focused debugging\n"
     ]
    }
   ],
   "source": [
    "!./setup.sh full"
   ]
  },
  {
   "cell_type": "markdown",
   "id": "f019c70b-c9e5-42ca-9a94-9228a44bcfb5",
   "metadata": {},
   "source": [
    "### Test-run"
   ]
  },
  {
   "cell_type": "code",
   "execution_count": null,
   "id": "eb9dc522-2977-462e-892d-f3c79e94ffad",
   "metadata": {},
   "outputs": [
    {
     "name": "stdout",
     "output_type": "stream",
     "text": [
      "Running test benchmark with 10 samples...\n",
      "2025-07-15 12:53:06,488 - INFO - Initialized Vertex AI with project: vertex-workbench-notebook, location: us-central1\n",
      "2025-07-15 12:53:06,488 - INFO - Model name set to: gemini-2.5-flash\n",
      "2025-07-15 12:53:06,488 - INFO - Loading KLUE MRC dataset for machine reading comprehension...\n"
     ]
    }
   ],
   "source": [
    "!./run test"
   ]
  },
  {
   "cell_type": "markdown",
   "id": "1eb5d028-76a8-4ff0-8737-a2fb73d73b11",
   "metadata": {},
   "source": [
    "#### Test with More Samples"
   ]
  },
  {
   "cell_type": "code",
   "execution_count": 5,
   "id": "47e7096a-3323-4a9b-9f0b-85eebfb0ff82",
   "metadata": {},
   "outputs": [],
   "source": [
    "!./run custom 50"
   ]
  },
  {
   "cell_type": "markdown",
   "id": "842935be-5252-4fba-bf65-7500b0e296f7",
   "metadata": {},
   "source": [
    "#### Test with All Samples"
   ]
  },
  {
   "cell_type": "code",
   "execution_count": null,
   "id": "b97db76d-c340-4e7b-9551-2e3ec24e064d",
   "metadata": {},
   "outputs": [],
   "source": [
    "!./run full"
   ]
  }
 ],
 "metadata": {
  "kernelspec": {
   "display_name": "Python 3 (ipykernel)",
   "language": "python",
   "name": "python3"
  },
  "language_info": {
   "codemirror_mode": {
    "name": "ipython",
    "version": 3
   },
   "file_extension": ".py",
   "mimetype": "text/x-python",
   "name": "python",
   "nbconvert_exporter": "python",
   "pygments_lexer": "ipython3",
   "version": "3.11.13"
  }
 },
 "nbformat": 4,
 "nbformat_minor": 5
}
