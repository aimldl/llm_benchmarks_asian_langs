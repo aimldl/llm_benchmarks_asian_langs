{
 "cells": [
  {
   "cell_type": "markdown",
   "id": "d4d2c1f6-cdb1-40df-b5df-2efe81b471a0",
   "metadata": {},
   "source": [
    "# Running the KLUE TC (Topic Classification) Benchmark\n",
    "\n",
    "## Ensure `klue_tc` is the current working directory\n",
    "\n"
   ]
  },
  {
   "cell_type": "code",
   "execution_count": 1,
   "id": "efaae47f-aed1-4327-a0af-02905cc78f4c",
   "metadata": {},
   "outputs": [],
   "source": [
    "%pwd"
   ]
  },
  {
   "cell_type": "code",
   "execution_count": 2,
   "id": "8827fecd-ff3f-41e3-8d14-e1bcb22b8328",
   "metadata": {},
   "outputs": [],
   "source": [
    "%ls"
   ]
  },
  {
   "cell_type": "markdown",
   "id": "a24c70d5-c26c-451d-9381-cf0dc38bf54f",
   "metadata": {},
   "source": [
    "### Set up"
   ]
  },
  {
   "cell_type": "code",
   "execution_count": 5,
   "id": "25b7fdbd-b93d-45cb-af90-dedb6e4f8af2",
   "metadata": {},
   "outputs": [],
   "source": [
    "!./setup.sh full"
   ]
  },
  {
   "cell_type": "markdown",
   "id": "f019c70b-c9e5-42ca-9a94-9228a44bcfb5",
   "metadata": {},
   "source": [
    "### Test-run"
   ]
  },
  {
   "cell_type": "code",
   "execution_count": 7,
   "id": "eb9dc522-2977-462e-892d-f3c79e94ffad",
   "metadata": {},
   "outputs": [],
   "source": [
    "!./run test"
   ]
  },
  {
   "cell_type": "markdown",
   "id": "1eb5d028-76a8-4ff0-8737-a2fb73d73b11",
   "metadata": {},
   "source": [
    "#### Test with More Samples"
   ]
  },
  {
   "cell_type": "code",
   "execution_count": 5,
   "id": "47e7096a-3323-4a9b-9f0b-85eebfb0ff82",
   "metadata": {},
   "outputs": [],
   "source": [
    "!./run custom 50"
   ]
  },
  {
   "cell_type": "markdown",
   "id": "92386533",
   "metadata": {},
   "source": [
    "### Baseline Performance\n",
    "To evaluate baseline performance, use the `./run full` command. Be aware that this process is time-consuming and may run overnight or for a full workday.\n",
    "\n",
    "To ensure uninterrupted execution, even if your terminal disconnects, we highly recommend running `./run full` within a `tmux` session.\n",
    "\n",
    "#### `tmux` Session Commands:\n",
    "- Create and start a new session: tmux new -s klue\n",
    "- Run the command within the session: ./run full\n",
    "- Detach from the session: Press Ctrl+b then d\n",
    "- Reattach to the klue session: tmux attach -t klue\n",
    "For more detailed information on tmux, refer to background_processing_with_tmux.md\n",
    "\n",
    "Alternatively, you can use the nohup command to run the process in the background, allowing it to continue after you log out of your session.\n",
    "\n",
    "# Running the command in the background is recommended.\n",
    "# Uncomment the following command if you still wish to run it in a cell\n",
    "#!./run full\n"
   ]
  },
  {
   "cell_type": "markdown",
   "id": "842935be-5252-4fba-bf65-7500b0e296f7",
   "metadata": {},
   "source": [
    "#### Test with All Samples"
   ]
  },
  {
   "cell_type": "code",
   "execution_count": null,
   "id": "b97db76d-c340-4e7b-9551-2e3ec24e064d",
   "metadata": {},
   "outputs": [],
   "source": [
    "!./run full"
   ]
  }
 ],
 "metadata": {
  "kernelspec": {
   "display_name": "klue",
   "language": "python",
   "name": "python3"
  },
  "language_info": {
   "codemirror_mode": {
    "name": "ipython",
    "version": 3
   },
   "file_extension": ".py",
   "mimetype": "text/x-python",
   "name": "python",
   "nbconvert_exporter": "python",
   "pygments_lexer": "ipython3",
   "version": "3.11.13"
  }
 },
 "nbformat": 4,
 "nbformat_minor": 5
}
