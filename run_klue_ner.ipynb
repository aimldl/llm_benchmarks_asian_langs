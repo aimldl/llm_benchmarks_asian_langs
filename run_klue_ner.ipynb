{
 "cells": [
  {
   "cell_type": "markdown",
   "id": "d4d2c1f6-cdb1-40df-b5df-2efe81b471a0",
   "metadata": {},
   "source": [
    "## Run the KLUE benchmarks\n",
    "\n"
   ]
  },
  {
   "cell_type": "code",
   "execution_count": 13,
   "id": "efaae47f-aed1-4327-a0af-02905cc78f4c",
   "metadata": {},
   "outputs": [
    {
     "data": {
      "text/plain": [
       "'/home/thekim/github/aimldl/llm_benchmarks_asian_langs/klue_ner'"
      ]
     },
     "execution_count": 13,
     "metadata": {},
     "output_type": "execute_result"
    }
   ],
   "source": [
    "%pwd"
   ]
  },
  {
   "cell_type": "code",
   "execution_count": 17,
   "id": "f7472886-c078-4277-9d43-7236833945f6",
   "metadata": {},
   "outputs": [
    {
     "name": "stdout",
     "output_type": "stream",
     "text": [
      "config.sh\t\t      klue_mrc\tREADME.md\n",
      "cursor_prompts\t\t      klue_ner\trun_klue_ner.ipynb\n",
      "hands-on_intro-to-gemini_2_5  klue_nli\trun_klue_nli.ipynb\n",
      "images\t\t\t      klue_re\trun_klue_tc.ipynb\n",
      "INSTALL-CONDA.md\t      klue_sts\ttask_perf_differences-klue.md\n",
      "klue_dp\t\t\t      klue_tc\n",
      "klue_dst\t\t      LICENSE\n"
     ]
    }
   ],
   "source": [
    "!ls"
   ]
  },
  {
   "cell_type": "code",
   "execution_count": 1,
   "id": "3c27fb88-ee4e-4873-adfc-7a134ba16c3f",
   "metadata": {},
   "outputs": [
    {
     "name": "stdout",
     "output_type": "stream",
     "text": [
      "vertex-workbench-notebook\n"
     ]
    }
   ],
   "source": [
    "!echo $GOOGLE_CLOUD_PROJECT"
   ]
  },
  {
   "cell_type": "markdown",
   "id": "68d1e478-e053-4ce3-abc4-beceee03a9ad",
   "metadata": {},
   "source": [
    "### KLUE NER (Named Entity Recognition) Task"
   ]
  },
  {
   "cell_type": "code",
   "execution_count": 2,
   "id": "f990f6ed-17a2-40b6-b1fc-8a34a734c4ea",
   "metadata": {},
   "outputs": [
    {
     "name": "stdout",
     "output_type": "stream",
     "text": [
      "/home/thekim/github/aimldl/llm_benchmarks_asian_langs/klue_ner\n"
     ]
    }
   ],
   "source": [
    "%cd klue_ner"
   ]
  },
  {
   "cell_type": "code",
   "execution_count": 3,
   "id": "8827fecd-ff3f-41e3-8d14-e1bcb22b8328",
   "metadata": {},
   "outputs": [
    {
     "name": "stdout",
     "output_type": "stream",
     "text": [
      "ABOUT_KLUE_NER.md           \u001b[0m\u001b[01;34mlogs\u001b[0m/             \u001b[01;32msetup.sh\u001b[0m*\n",
      "\u001b[01;34mbenchmark_results\u001b[0m/          \u001b[01;34m__pycache__\u001b[0m/      \u001b[01;32mtest_logging.sh\u001b[0m*\n",
      "\u001b[01;34meval_dataset\u001b[0m/               README.md         test_setup.py\n",
      "\u001b[01;32mget_errors.sh\u001b[0m*              requirements.txt  TROUBLESHOOTING.md\n",
      "\u001b[01;32minstall_dependencies.sh\u001b[0m*    \u001b[01;34mresult_analysis\u001b[0m/  \u001b[01;32mverify_scripts.sh\u001b[0m*\n",
      "klue_ner-gemini2_5flash.py  \u001b[01;32mrun\u001b[0m*              VERTEX_AI_SETUP.md\n"
     ]
    }
   ],
   "source": [
    "%ls"
   ]
  },
  {
   "cell_type": "markdown",
   "id": "a24c70d5-c26c-451d-9381-cf0dc38bf54f",
   "metadata": {},
   "source": [
    "### Set up"
   ]
  },
  {
   "cell_type": "code",
   "execution_count": 4,
   "id": "25b7fdbd-b93d-45cb-af90-dedb6e4f8af2",
   "metadata": {},
   "outputs": [
    {
     "name": "stdout",
     "output_type": "stream",
     "text": [
      "\u001b[0;34m[INFO]\u001b[0m Checking prerequisites...\n",
      "\u001b[0;32m[SUCCESS]\u001b[0m Prerequisites check passed\n",
      "\u001b[0;34m[INFO]\u001b[0m Installing Python dependencies...\n",
      "Requirement already satisfied: google-genai in /home/thekim/anaconda3/envs/klue/lib/python3.13/site-packages (from -r requirements.txt (line 2)) (1.25.0)\n",
      "Requirement already satisfied: datasets>=2.14.0 in /home/thekim/anaconda3/envs/klue/lib/python3.13/site-packages (from -r requirements.txt (line 3)) (4.0.0)\n",
      "Requirement already satisfied: pandas>=1.5.0 in /home/thekim/anaconda3/envs/klue/lib/python3.13/site-packages (from -r requirements.txt (line 4)) (2.3.1)\n",
      "Requirement already satisfied: tqdm>=4.64.0 in /home/thekim/anaconda3/envs/klue/lib/python3.13/site-packages (from -r requirements.txt (line 5)) (4.67.1)\n",
      "Requirement already satisfied: google-cloud-aiplatform>=1.35.0 in /home/thekim/anaconda3/envs/klue/lib/python3.13/site-packages (from -r requirements.txt (line 6)) (1.103.0)\n",
      "Requirement already satisfied: anyio<5.0.0,>=4.8.0 in /home/thekim/anaconda3/envs/klue/lib/python3.13/site-packages (from google-genai->-r requirements.txt (line 2)) (4.9.0)\n",
      "Requirement already satisfied: google-auth<3.0.0,>=2.14.1 in /home/thekim/anaconda3/envs/klue/lib/python3.13/site-packages (from google-genai->-r requirements.txt (line 2)) (2.40.3)\n",
      "Requirement already satisfied: httpx<1.0.0,>=0.28.1 in /home/thekim/anaconda3/envs/klue/lib/python3.13/site-packages (from google-genai->-r requirements.txt (line 2)) (0.28.1)\n",
      "Requirement already satisfied: pydantic<3.0.0,>=2.0.0 in /home/thekim/anaconda3/envs/klue/lib/python3.13/site-packages (from google-genai->-r requirements.txt (line 2)) (2.11.7)\n",
      "Requirement already satisfied: requests<3.0.0,>=2.28.1 in /home/thekim/anaconda3/envs/klue/lib/python3.13/site-packages (from google-genai->-r requirements.txt (line 2)) (2.32.4)\n",
      "Requirement already satisfied: tenacity<9.0.0,>=8.2.3 in /home/thekim/anaconda3/envs/klue/lib/python3.13/site-packages (from google-genai->-r requirements.txt (line 2)) (8.5.0)\n",
      "Requirement already satisfied: websockets<15.1.0,>=13.0.0 in /home/thekim/anaconda3/envs/klue/lib/python3.13/site-packages (from google-genai->-r requirements.txt (line 2)) (15.0.1)\n",
      "Requirement already satisfied: typing-extensions<5.0.0,>=4.11.0 in /home/thekim/anaconda3/envs/klue/lib/python3.13/site-packages (from google-genai->-r requirements.txt (line 2)) (4.14.1)\n",
      "Requirement already satisfied: idna>=2.8 in /home/thekim/anaconda3/envs/klue/lib/python3.13/site-packages (from anyio<5.0.0,>=4.8.0->google-genai->-r requirements.txt (line 2)) (3.10)\n",
      "Requirement already satisfied: sniffio>=1.1 in /home/thekim/anaconda3/envs/klue/lib/python3.13/site-packages (from anyio<5.0.0,>=4.8.0->google-genai->-r requirements.txt (line 2)) (1.3.1)\n",
      "Requirement already satisfied: cachetools<6.0,>=2.0.0 in /home/thekim/anaconda3/envs/klue/lib/python3.13/site-packages (from google-auth<3.0.0,>=2.14.1->google-genai->-r requirements.txt (line 2)) (5.5.2)\n",
      "Requirement already satisfied: pyasn1-modules>=0.2.1 in /home/thekim/anaconda3/envs/klue/lib/python3.13/site-packages (from google-auth<3.0.0,>=2.14.1->google-genai->-r requirements.txt (line 2)) (0.4.2)\n",
      "Requirement already satisfied: rsa<5,>=3.1.4 in /home/thekim/anaconda3/envs/klue/lib/python3.13/site-packages (from google-auth<3.0.0,>=2.14.1->google-genai->-r requirements.txt (line 2)) (4.9.1)\n",
      "Requirement already satisfied: certifi in /home/thekim/anaconda3/envs/klue/lib/python3.13/site-packages (from httpx<1.0.0,>=0.28.1->google-genai->-r requirements.txt (line 2)) (2025.7.9)\n",
      "Requirement already satisfied: httpcore==1.* in /home/thekim/anaconda3/envs/klue/lib/python3.13/site-packages (from httpx<1.0.0,>=0.28.1->google-genai->-r requirements.txt (line 2)) (1.0.9)\n",
      "Requirement already satisfied: h11>=0.16 in /home/thekim/anaconda3/envs/klue/lib/python3.13/site-packages (from httpcore==1.*->httpx<1.0.0,>=0.28.1->google-genai->-r requirements.txt (line 2)) (0.16.0)\n",
      "Requirement already satisfied: annotated-types>=0.6.0 in /home/thekim/anaconda3/envs/klue/lib/python3.13/site-packages (from pydantic<3.0.0,>=2.0.0->google-genai->-r requirements.txt (line 2)) (0.7.0)\n",
      "Requirement already satisfied: pydantic-core==2.33.2 in /home/thekim/anaconda3/envs/klue/lib/python3.13/site-packages (from pydantic<3.0.0,>=2.0.0->google-genai->-r requirements.txt (line 2)) (2.33.2)\n",
      "Requirement already satisfied: typing-inspection>=0.4.0 in /home/thekim/anaconda3/envs/klue/lib/python3.13/site-packages (from pydantic<3.0.0,>=2.0.0->google-genai->-r requirements.txt (line 2)) (0.4.1)\n",
      "Requirement already satisfied: charset_normalizer<4,>=2 in /home/thekim/anaconda3/envs/klue/lib/python3.13/site-packages (from requests<3.0.0,>=2.28.1->google-genai->-r requirements.txt (line 2)) (3.4.2)\n",
      "Requirement already satisfied: urllib3<3,>=1.21.1 in /home/thekim/anaconda3/envs/klue/lib/python3.13/site-packages (from requests<3.0.0,>=2.28.1->google-genai->-r requirements.txt (line 2)) (2.5.0)\n",
      "Requirement already satisfied: pyasn1>=0.1.3 in /home/thekim/anaconda3/envs/klue/lib/python3.13/site-packages (from rsa<5,>=3.1.4->google-auth<3.0.0,>=2.14.1->google-genai->-r requirements.txt (line 2)) (0.6.1)\n",
      "Requirement already satisfied: filelock in /home/thekim/anaconda3/envs/klue/lib/python3.13/site-packages (from datasets>=2.14.0->-r requirements.txt (line 3)) (3.18.0)\n",
      "Requirement already satisfied: numpy>=1.17 in /home/thekim/anaconda3/envs/klue/lib/python3.13/site-packages (from datasets>=2.14.0->-r requirements.txt (line 3)) (2.2.6)\n",
      "Requirement already satisfied: pyarrow>=15.0.0 in /home/thekim/anaconda3/envs/klue/lib/python3.13/site-packages (from datasets>=2.14.0->-r requirements.txt (line 3)) (20.0.0)\n",
      "Requirement already satisfied: dill<0.3.9,>=0.3.0 in /home/thekim/anaconda3/envs/klue/lib/python3.13/site-packages (from datasets>=2.14.0->-r requirements.txt (line 3)) (0.3.8)\n",
      "Requirement already satisfied: xxhash in /home/thekim/anaconda3/envs/klue/lib/python3.13/site-packages (from datasets>=2.14.0->-r requirements.txt (line 3)) (3.5.0)\n",
      "Requirement already satisfied: multiprocess<0.70.17 in /home/thekim/anaconda3/envs/klue/lib/python3.13/site-packages (from datasets>=2.14.0->-r requirements.txt (line 3)) (0.70.16)\n",
      "Requirement already satisfied: fsspec<=2025.3.0,>=2023.1.0 in /home/thekim/anaconda3/envs/klue/lib/python3.13/site-packages (from fsspec[http]<=2025.3.0,>=2023.1.0->datasets>=2.14.0->-r requirements.txt (line 3)) (2025.3.0)\n",
      "Requirement already satisfied: huggingface-hub>=0.24.0 in /home/thekim/anaconda3/envs/klue/lib/python3.13/site-packages (from datasets>=2.14.0->-r requirements.txt (line 3)) (0.33.4)\n",
      "Requirement already satisfied: packaging in /home/thekim/anaconda3/envs/klue/lib/python3.13/site-packages (from datasets>=2.14.0->-r requirements.txt (line 3)) (25.0)\n",
      "Requirement already satisfied: pyyaml>=5.1 in /home/thekim/anaconda3/envs/klue/lib/python3.13/site-packages (from datasets>=2.14.0->-r requirements.txt (line 3)) (6.0.2)\n",
      "Requirement already satisfied: aiohttp!=4.0.0a0,!=4.0.0a1 in /home/thekim/anaconda3/envs/klue/lib/python3.13/site-packages (from fsspec[http]<=2025.3.0,>=2023.1.0->datasets>=2.14.0->-r requirements.txt (line 3)) (3.12.14)\n",
      "Requirement already satisfied: python-dateutil>=2.8.2 in /home/thekim/anaconda3/envs/klue/lib/python3.13/site-packages (from pandas>=1.5.0->-r requirements.txt (line 4)) (2.9.0.post0)\n",
      "Requirement already satisfied: pytz>=2020.1 in /home/thekim/anaconda3/envs/klue/lib/python3.13/site-packages (from pandas>=1.5.0->-r requirements.txt (line 4)) (2025.2)\n",
      "Requirement already satisfied: tzdata>=2022.7 in /home/thekim/anaconda3/envs/klue/lib/python3.13/site-packages (from pandas>=1.5.0->-r requirements.txt (line 4)) (2025.2)\n",
      "Requirement already satisfied: google-api-core!=2.0.*,!=2.1.*,!=2.2.*,!=2.3.*,!=2.4.*,!=2.5.*,!=2.6.*,!=2.7.*,<3.0.0,>=1.34.1 in /home/thekim/anaconda3/envs/klue/lib/python3.13/site-packages (from google-api-core[grpc]!=2.0.*,!=2.1.*,!=2.2.*,!=2.3.*,!=2.4.*,!=2.5.*,!=2.6.*,!=2.7.*,<3.0.0,>=1.34.1->google-cloud-aiplatform>=1.35.0->-r requirements.txt (line 6)) (2.25.1)\n",
      "Requirement already satisfied: proto-plus<2.0.0,>=1.22.3 in /home/thekim/anaconda3/envs/klue/lib/python3.13/site-packages (from google-cloud-aiplatform>=1.35.0->-r requirements.txt (line 6)) (1.26.1)\n",
      "Requirement already satisfied: protobuf!=4.21.0,!=4.21.1,!=4.21.2,!=4.21.3,!=4.21.4,!=4.21.5,<7.0.0,>=3.20.2 in /home/thekim/anaconda3/envs/klue/lib/python3.13/site-packages (from google-cloud-aiplatform>=1.35.0->-r requirements.txt (line 6)) (6.31.1)\n",
      "Requirement already satisfied: google-cloud-storage<3.0.0,>=1.32.0 in /home/thekim/anaconda3/envs/klue/lib/python3.13/site-packages (from google-cloud-aiplatform>=1.35.0->-r requirements.txt (line 6)) (2.19.0)\n",
      "Requirement already satisfied: google-cloud-bigquery!=3.20.0,<4.0.0,>=1.15.0 in /home/thekim/anaconda3/envs/klue/lib/python3.13/site-packages (from google-cloud-aiplatform>=1.35.0->-r requirements.txt (line 6)) (3.34.0)\n",
      "Requirement already satisfied: google-cloud-resource-manager<3.0.0,>=1.3.3 in /home/thekim/anaconda3/envs/klue/lib/python3.13/site-packages (from google-cloud-aiplatform>=1.35.0->-r requirements.txt (line 6)) (1.14.2)\n",
      "Requirement already satisfied: shapely<3.0.0 in /home/thekim/anaconda3/envs/klue/lib/python3.13/site-packages (from google-cloud-aiplatform>=1.35.0->-r requirements.txt (line 6)) (2.1.1)\n",
      "Requirement already satisfied: docstring_parser<1 in /home/thekim/anaconda3/envs/klue/lib/python3.13/site-packages (from google-cloud-aiplatform>=1.35.0->-r requirements.txt (line 6)) (0.16)\n",
      "Requirement already satisfied: googleapis-common-protos<2.0.0,>=1.56.2 in /home/thekim/anaconda3/envs/klue/lib/python3.13/site-packages (from google-api-core!=2.0.*,!=2.1.*,!=2.2.*,!=2.3.*,!=2.4.*,!=2.5.*,!=2.6.*,!=2.7.*,<3.0.0,>=1.34.1->google-api-core[grpc]!=2.0.*,!=2.1.*,!=2.2.*,!=2.3.*,!=2.4.*,!=2.5.*,!=2.6.*,!=2.7.*,<3.0.0,>=1.34.1->google-cloud-aiplatform>=1.35.0->-r requirements.txt (line 6)) (1.70.0)\n",
      "Requirement already satisfied: grpcio<2.0.0,>=1.33.2 in /home/thekim/anaconda3/envs/klue/lib/python3.13/site-packages (from google-api-core[grpc]!=2.0.*,!=2.1.*,!=2.2.*,!=2.3.*,!=2.4.*,!=2.5.*,!=2.6.*,!=2.7.*,<3.0.0,>=1.34.1->google-cloud-aiplatform>=1.35.0->-r requirements.txt (line 6)) (1.73.1)\n",
      "Requirement already satisfied: grpcio-status<2.0.0,>=1.33.2 in /home/thekim/anaconda3/envs/klue/lib/python3.13/site-packages (from google-api-core[grpc]!=2.0.*,!=2.1.*,!=2.2.*,!=2.3.*,!=2.4.*,!=2.5.*,!=2.6.*,!=2.7.*,<3.0.0,>=1.34.1->google-cloud-aiplatform>=1.35.0->-r requirements.txt (line 6)) (1.73.1)\n",
      "Requirement already satisfied: google-cloud-core<3.0.0,>=2.4.1 in /home/thekim/anaconda3/envs/klue/lib/python3.13/site-packages (from google-cloud-bigquery!=3.20.0,<4.0.0,>=1.15.0->google-cloud-aiplatform>=1.35.0->-r requirements.txt (line 6)) (2.4.3)\n",
      "Requirement already satisfied: google-resumable-media<3.0.0,>=2.0.0 in /home/thekim/anaconda3/envs/klue/lib/python3.13/site-packages (from google-cloud-bigquery!=3.20.0,<4.0.0,>=1.15.0->google-cloud-aiplatform>=1.35.0->-r requirements.txt (line 6)) (2.7.2)\n",
      "Requirement already satisfied: grpc-google-iam-v1<1.0.0,>=0.14.0 in /home/thekim/anaconda3/envs/klue/lib/python3.13/site-packages (from google-cloud-resource-manager<3.0.0,>=1.3.3->google-cloud-aiplatform>=1.35.0->-r requirements.txt (line 6)) (0.14.2)\n",
      "Requirement already satisfied: google-crc32c<2.0dev,>=1.0 in /home/thekim/anaconda3/envs/klue/lib/python3.13/site-packages (from google-cloud-storage<3.0.0,>=1.32.0->google-cloud-aiplatform>=1.35.0->-r requirements.txt (line 6)) (1.7.1)\n",
      "Requirement already satisfied: six>=1.5 in /home/thekim/anaconda3/envs/klue/lib/python3.13/site-packages (from python-dateutil>=2.8.2->pandas>=1.5.0->-r requirements.txt (line 4)) (1.17.0)\n",
      "Requirement already satisfied: aiohappyeyeballs>=2.5.0 in /home/thekim/anaconda3/envs/klue/lib/python3.13/site-packages (from aiohttp!=4.0.0a0,!=4.0.0a1->fsspec[http]<=2025.3.0,>=2023.1.0->datasets>=2.14.0->-r requirements.txt (line 3)) (2.6.1)\n",
      "Requirement already satisfied: aiosignal>=1.4.0 in /home/thekim/anaconda3/envs/klue/lib/python3.13/site-packages (from aiohttp!=4.0.0a0,!=4.0.0a1->fsspec[http]<=2025.3.0,>=2023.1.0->datasets>=2.14.0->-r requirements.txt (line 3)) (1.4.0)\n",
      "Requirement already satisfied: attrs>=17.3.0 in /home/thekim/anaconda3/envs/klue/lib/python3.13/site-packages (from aiohttp!=4.0.0a0,!=4.0.0a1->fsspec[http]<=2025.3.0,>=2023.1.0->datasets>=2.14.0->-r requirements.txt (line 3)) (25.3.0)\n",
      "Requirement already satisfied: frozenlist>=1.1.1 in /home/thekim/anaconda3/envs/klue/lib/python3.13/site-packages (from aiohttp!=4.0.0a0,!=4.0.0a1->fsspec[http]<=2025.3.0,>=2023.1.0->datasets>=2.14.0->-r requirements.txt (line 3)) (1.7.0)\n",
      "Requirement already satisfied: multidict<7.0,>=4.5 in /home/thekim/anaconda3/envs/klue/lib/python3.13/site-packages (from aiohttp!=4.0.0a0,!=4.0.0a1->fsspec[http]<=2025.3.0,>=2023.1.0->datasets>=2.14.0->-r requirements.txt (line 3)) (6.6.3)\n",
      "Requirement already satisfied: propcache>=0.2.0 in /home/thekim/anaconda3/envs/klue/lib/python3.13/site-packages (from aiohttp!=4.0.0a0,!=4.0.0a1->fsspec[http]<=2025.3.0,>=2023.1.0->datasets>=2.14.0->-r requirements.txt (line 3)) (0.3.1)\n",
      "Requirement already satisfied: yarl<2.0,>=1.17.0 in /home/thekim/anaconda3/envs/klue/lib/python3.13/site-packages (from aiohttp!=4.0.0a0,!=4.0.0a1->fsspec[http]<=2025.3.0,>=2023.1.0->datasets>=2.14.0->-r requirements.txt (line 3)) (1.20.1)\n",
      "Requirement already satisfied: hf-xet<2.0.0,>=1.1.2 in /home/thekim/anaconda3/envs/klue/lib/python3.13/site-packages (from huggingface-hub>=0.24.0->datasets>=2.14.0->-r requirements.txt (line 3)) (1.1.5)\n",
      "\u001b[0;32m[SUCCESS]\u001b[0m Dependencies installed successfully!\n",
      "\u001b[0;34m[INFO]\u001b[0m Testing the setup...\n",
      "KLUE NER Benchmark Setup Test\n",
      "========================================\n",
      "\n",
      "Package Imports:\n",
      "Testing package imports...\n",
      "  ✓ google.genai\n",
      "  ✓ datasets\n",
      "  ✓ pandas\n",
      "  ✓ tqdm\n",
      "  ✓ google.cloud.aiplatform\n",
      "  All packages imported successfully!\n",
      "\n",
      "Dataset Access:\n",
      "\n",
      "Testing dataset access...\n",
      "  Loading KLUE NER dataset...\n",
      "  ✓ Dataset loaded successfully\n",
      "  ✓ Sample keys: ['sentence', 'tokens', 'ner_tags']\n",
      "  ✓ Tokens: 70 tokens\n",
      "  ✓ NER tags: 70 tags\n",
      "  ✓ All required fields present\n",
      "  ⚠ Note: 'guid' field not available, will generate IDs automatically\n",
      "\n",
      "Google Cloud Setup:\n",
      "\n",
      "Testing Google Cloud setup...\n",
      "  ✓ GOOGLE_CLOUD_PROJECT set to: vertex-workbench-notebook\n",
      "  ✓ google.genai imported successfully\n",
      "\n",
      "NER Script:\n",
      "\n",
      "Testing NER script...\n",
      "  ✓ NER script imported successfully\n",
      "  ✓ Configuration created successfully\n",
      "  ✓ Entity type mapping correct\n",
      "\n",
      "Directory Structure:\n",
      "\n",
      "Testing directory structure...\n",
      "  ✓ logs/\n",
      "  ✓ benchmark_results/\n",
      "  ✓ result_analysis/\n",
      "  ✓ eval_dataset/\n",
      "\n",
      "Script Permissions:\n",
      "\n",
      "Testing script permissions...\n",
      "  ✓ run (executable)\n",
      "  ✓ setup.sh (executable)\n",
      "  ✓ install_dependencies.sh (executable)\n",
      "  ✓ get_errors.sh (executable)\n",
      "  ✓ test_logging.sh (executable)\n",
      "\n",
      "========================================\n",
      "Test Results: 6/6 tests passed\n",
      "🎉 All tests passed! Setup is complete.\n",
      "\n",
      "Next steps:\n",
      "1. Set your Google Cloud project: export GOOGLE_CLOUD_PROJECT='your-project-id'\n",
      "2. Run a test: ./run test\n",
      "3. Run full benchmark: ./run full\n",
      "\u001b[0;32m[SUCCESS]\u001b[0m Setup test completed successfully!\n",
      "\n",
      "\u001b[0;34m[INFO]\u001b[0m Next steps for Vertex AI setup:\n",
      "1. Install Google Cloud CLI: https://cloud.google.com/sdk/docs/install\n",
      "2. Authenticate with gcloud: gcloud auth login\n",
      "3. Set up application default credentials: gcloud auth application-default login\n",
      "4. Set your project ID: export GOOGLE_CLOUD_PROJECT='your-project-id'\n",
      "5. Enable Vertex AI API: gcloud services enable aiplatform.googleapis.com\n",
      "6. Run the benchmark: ./run test (for small test) or ./run full (for full benchmark)\n",
      "\n",
      "\u001b[0;34m[INFO]\u001b[0m Logging features:\n",
      "- All benchmark runs are automatically logged to the 'logs/' directory\n",
      "- Log files include command headers for easy identification\n",
      "- Separate error logs (.err) are created for focused debugging\n"
     ]
    }
   ],
   "source": [
    "!./setup.sh full"
   ]
  },
  {
   "cell_type": "markdown",
   "id": "f019c70b-c9e5-42ca-9a94-9228a44bcfb5",
   "metadata": {},
   "source": [
    "### Test-run"
   ]
  },
  {
   "cell_type": "code",
   "execution_count": 5,
   "id": "eb9dc522-2977-462e-892d-f3c79e94ffad",
   "metadata": {},
   "outputs": [
    {
     "name": "stdout",
     "output_type": "stream",
     "text": [
      "Running small test with 10 samples...\n",
      "2025-07-12 02:23:40,221 - INFO - Initialized Vertex AI with project: vertex-workbench-notebook, location: us-central1\n",
      "2025-07-12 02:23:40,221 - INFO - Model name set to: gemini-2.5-flash\n",
      "2025-07-12 02:23:40,221 - INFO - Loading KLUE NER dataset for named entity recognition...\n",
      "2025-07-12 02:23:50,101 - INFO - Preparing to load a subset of 10 samples.\n",
      "2025-07-12 02:23:50,102 - INFO - Reached sample limit of 10. Halting data loading.\n",
      "2025-07-12 02:23:50,102 - INFO - ✅ Successfully loaded 10 samples.\n",
      "2025-07-12 02:23:50,103 - INFO - Starting benchmark...\n",
      "project_id: vertex-workbench-notebook\n",
      "Processing samples:   0%|                               | 0/10 [00:00<?, ?it/s]2025-07-12 02:23:50,103 - INFO - AFC is enabled with max remote calls: 10.\n",
      "2025-07-12 02:23:57,278 - INFO - HTTP Request: POST https://us-central1-aiplatform.googleapis.com/v1beta1/projects/vertex-workbench-notebook/locations/us-central1/publishers/google/models/gemini-2.5-flash:generateContent \"HTTP/1.1 200 OK\"\n",
      "2025-07-12 02:23:57,281 - INFO - AFC remote call 1 is done.\n",
      "Processing samples:  10%|██▎                    | 1/10 [00:07<01:04,  7.22s/it]2025-07-12 02:23:57,323 - INFO - AFC is enabled with max remote calls: 10.\n",
      "2025-07-12 02:24:01,389 - INFO - HTTP Request: POST https://us-central1-aiplatform.googleapis.com/v1beta1/projects/vertex-workbench-notebook/locations/us-central1/publishers/google/models/gemini-2.5-flash:generateContent \"HTTP/1.1 200 OK\"\n",
      "2025-07-12 02:24:01,394 - INFO - AFC remote call 1 is done.\n",
      "Processing samples:  20%|████▌                  | 2/10 [00:11<00:43,  5.39s/it]2025-07-12 02:24:01,435 - INFO - AFC is enabled with max remote calls: 10.\n",
      "2025-07-12 02:24:05,774 - INFO - HTTP Request: POST https://us-central1-aiplatform.googleapis.com/v1beta1/projects/vertex-workbench-notebook/locations/us-central1/publishers/google/models/gemini-2.5-flash:generateContent \"HTTP/1.1 200 OK\"\n",
      "2025-07-12 02:24:05,778 - INFO - AFC remote call 1 is done.\n",
      "Processing samples:  30%|██████▉                | 3/10 [00:15<00:34,  4.93s/it]2025-07-12 02:24:05,819 - INFO - AFC is enabled with max remote calls: 10.\n",
      "2025-07-12 02:24:17,961 - INFO - HTTP Request: POST https://us-central1-aiplatform.googleapis.com/v1beta1/projects/vertex-workbench-notebook/locations/us-central1/publishers/google/models/gemini-2.5-flash:generateContent \"HTTP/1.1 200 OK\"\n",
      "2025-07-12 02:24:17,964 - INFO - AFC remote call 1 is done.\n",
      "Processing samples:  40%|█████████▏             | 4/10 [00:27<00:46,  7.80s/it]2025-07-12 02:24:18,005 - INFO - AFC is enabled with max remote calls: 10.\n",
      "2025-07-12 02:24:23,080 - INFO - HTTP Request: POST https://us-central1-aiplatform.googleapis.com/v1beta1/projects/vertex-workbench-notebook/locations/us-central1/publishers/google/models/gemini-2.5-flash:generateContent \"HTTP/1.1 200 OK\"\n",
      "2025-07-12 02:24:23,084 - INFO - AFC remote call 1 is done.\n",
      "Processing samples:  50%|███████████▌           | 5/10 [00:33<00:34,  6.83s/it]2025-07-12 02:24:23,125 - INFO - AFC is enabled with max remote calls: 10.\n",
      "2025-07-12 02:24:29,392 - INFO - HTTP Request: POST https://us-central1-aiplatform.googleapis.com/v1beta1/projects/vertex-workbench-notebook/locations/us-central1/publishers/google/models/gemini-2.5-flash:generateContent \"HTTP/1.1 200 OK\"\n",
      "2025-07-12 02:24:29,395 - INFO - AFC remote call 1 is done.\n",
      "Processing samples:  60%|█████████████▊         | 6/10 [00:39<00:26,  6.65s/it]2025-07-12 02:24:29,437 - INFO - AFC is enabled with max remote calls: 10.\n",
      "2025-07-12 02:24:35,370 - INFO - HTTP Request: POST https://us-central1-aiplatform.googleapis.com/v1beta1/projects/vertex-workbench-notebook/locations/us-central1/publishers/google/models/gemini-2.5-flash:generateContent \"HTTP/1.1 200 OK\"\n",
      "2025-07-12 02:24:35,373 - INFO - AFC remote call 1 is done.\n",
      "Processing samples:  70%|████████████████       | 7/10 [00:45<00:19,  6.43s/it]2025-07-12 02:24:35,414 - INFO - AFC is enabled with max remote calls: 10.\n",
      "2025-07-12 02:24:38,544 - INFO - HTTP Request: POST https://us-central1-aiplatform.googleapis.com/v1beta1/projects/vertex-workbench-notebook/locations/us-central1/publishers/google/models/gemini-2.5-flash:generateContent \"HTTP/1.1 200 OK\"\n",
      "2025-07-12 02:24:38,546 - INFO - AFC remote call 1 is done.\n",
      "Processing samples:  80%|██████████████████▍    | 8/10 [00:48<00:10,  5.40s/it]2025-07-12 02:24:38,587 - INFO - AFC is enabled with max remote calls: 10.\n",
      "2025-07-12 02:24:43,850 - INFO - HTTP Request: POST https://us-central1-aiplatform.googleapis.com/v1beta1/projects/vertex-workbench-notebook/locations/us-central1/publishers/google/models/gemini-2.5-flash:generateContent \"HTTP/1.1 200 OK\"\n",
      "2025-07-12 02:24:43,854 - INFO - AFC remote call 1 is done.\n",
      "Processing samples:  90%|████████████████████▋  | 9/10 [00:53<00:05,  5.37s/it]2025-07-12 02:24:43,895 - INFO - AFC is enabled with max remote calls: 10.\n",
      "2025-07-12 02:24:47,453 - INFO - HTTP Request: POST https://us-central1-aiplatform.googleapis.com/v1beta1/projects/vertex-workbench-notebook/locations/us-central1/publishers/google/models/gemini-2.5-flash:generateContent \"HTTP/1.1 200 OK\"\n",
      "2025-07-12 02:24:47,455 - INFO - AFC remote call 1 is done.\n",
      "Processing samples: 100%|██████████████████████| 10/10 [00:57<00:00,  5.74s/it]\n",
      "2025-07-12 02:24:47,496 - INFO - Benchmark completed!\n",
      "2025-07-12 02:24:47,496 - INFO - F1 Score: 0.2029 (7/35)\n",
      "2025-07-12 02:24:47,496 - INFO - Precision: 0.2059\n",
      "2025-07-12 02:24:47,496 - INFO - Recall: 0.2000\n",
      "2025-07-12 02:24:47,496 - INFO - Total time: 57.39 seconds\n",
      "2025-07-12 02:24:47,496 - INFO - Average time per sample: 5.739 seconds\n",
      "2025-07-12 02:24:47,497 - INFO - Metrics saved to: benchmark_results/klue_ner_metrics_20250712_022447.json\n",
      "2025-07-12 02:24:47,497 - INFO - Detailed results saved to: benchmark_results/klue_ner_results_20250712_022447.json\n",
      "2025-07-12 02:24:47,506 - INFO - Results saved as CSV: benchmark_results/klue_ner_results_20250712_022447.csv\n",
      "2025-07-12 02:24:47,506 - INFO - No errors to analyze\n",
      "============================================================\n",
      "KLUE Named Entity Recognition Benchmark Results\n",
      "============================================================\n",
      "Model: gemini-2.5-flash\n",
      "Platform: Google Cloud Vertex AI\n",
      "Project: vertex-workbench-notebook\n",
      "Location: us-central1\n",
      "F1 Score: 0.2029 (7/35)\n",
      "Precision: 0.2059\n",
      "Recall: 0.2000\n",
      "Total Time: 57.39 seconds\n",
      "Average Time per Sample: 5.739 seconds\n",
      "Samples per Second: 0.17\n",
      "\n",
      "Per-entity Type Performance:\n",
      "  OG (기관(Organization)): 0.3333 (1/3)\n",
      "  PS (인물(Person)): 0.4000 (6/15)\n",
      "  QT (수량(Quantity)): 0.0000 (0/12)\n",
      "  DT (날짜(Date)): 0.0000 (0/3)\n",
      "  LC (지명(Location)): 0.0000 (0/2)\n",
      "\n",
      "Log files saved:\n",
      "  Full output: logs/klue_ner_test_20250712_022339.log\n",
      "  Errors only: logs/klue_ner_test_20250712_022339.err\n"
     ]
    }
   ],
   "source": [
    "!./run test"
   ]
  },
  {
   "cell_type": "markdown",
   "id": "842935be-5252-4fba-bf65-7500b0e296f7",
   "metadata": {},
   "source": [
    "The following is one of the earlier test-run with errors. The errors were fixed."
   ]
  },
  {
   "cell_type": "markdown",
   "id": "d9a24f9f-4fee-4ee3-a253-643a57f36adb",
   "metadata": {},
   "source": [
    "#### Test with More Samples"
   ]
  },
  {
   "cell_type": "code",
   "execution_count": null,
   "id": "7e4598e1-e41f-4b8e-b0c5-14fd6de01e97",
   "metadata": {},
   "outputs": [],
   "source": [
    "!./run custom 100"
   ]
  },
  {
   "cell_type": "markdown",
   "id": "1eb5d028-76a8-4ff0-8737-a2fb73d73b11",
   "metadata": {},
   "source": [
    "#### Test with All Samples"
   ]
  },
  {
   "cell_type": "code",
   "execution_count": null,
   "id": "b97db76d-c340-4e7b-9551-2e3ec24e064d",
   "metadata": {},
   "outputs": [],
   "source": [
    "!./run full"
   ]
  }
 ],
 "metadata": {
  "kernelspec": {
   "display_name": "Python 3 (ipykernel)",
   "language": "python",
   "name": "python3"
  },
  "language_info": {
   "codemirror_mode": {
    "name": "ipython",
    "version": 3
   },
   "file_extension": ".py",
   "mimetype": "text/x-python",
   "name": "python",
   "nbconvert_exporter": "python",
   "pygments_lexer": "ipython3",
   "version": "3.13.5"
  }
 },
 "nbformat": 4,
 "nbformat_minor": 5
}
