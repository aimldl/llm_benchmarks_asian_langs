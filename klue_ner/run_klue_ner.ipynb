{
 "cells": [
  {
   "cell_type": "markdown",
   "id": "d4d2c1f6-cdb1-40df-b5df-2efe81b471a0",
   "metadata": {},
   "source": [
    "# Running the KLUE NER (Named Entity Recognition) Benchmark\n",
    "\n",
    "## Ensure `klue_ner` is the current working directory\n",
    "\n"
   ]
  },
  {
   "cell_type": "code",
   "execution_count": 5,
   "id": "efaae47f-aed1-4327-a0af-02905cc78f4c",
   "metadata": {},
   "outputs": [
    {
     "data": {
      "text/plain": [
       "'/usr/local/google/home/thekim/github/aimldl/llm_benchmarks_asian_langs/klue_ner'"
      ]
     },
     "execution_count": 5,
     "metadata": {},
     "output_type": "execute_result"
    }
   ],
   "source": [
    "%pwd"
   ]
  },
  {
   "cell_type": "code",
   "execution_count": 6,
   "id": "8827fecd-ff3f-41e3-8d14-e1bcb22b8328",
   "metadata": {},
   "outputs": [
    {
     "name": "stdout",
     "output_type": "stream",
     "text": [
      "ABOUT_KLUE_NER.md   \u001b[0m\u001b[01;34meval_dataset\u001b[0m/               run_klue_ner.ipynb\n",
      "CHANGELOG.md        \u001b[01;32mget_errors.sh\u001b[0m*              \u001b[01;32msetup.sh\u001b[0m*\n",
      "HISTORY.md          \u001b[01;32minstall_dependencies.sh\u001b[0m*    \u001b[01;32mtest_logging.sh\u001b[0m*\n",
      "README.md           klue_ner-gemini2_5flash.py  test_setup.py\n",
      "TROUBLESHOOTING.md  \u001b[01;34mlogs\u001b[0m/                       \u001b[01;32mtest_verbose_mode.sh\u001b[0m*\n",
      "VERTEX_AI_SETUP.md  requirements.txt            \u001b[01;32mverify_scripts.sh\u001b[0m*\n",
      "\u001b[01;34m__pycache__\u001b[0m/        \u001b[01;34mresult_analysis\u001b[0m/\n",
      "\u001b[01;34mbenchmark_results\u001b[0m/  \u001b[01;32mrun\u001b[0m*\n"
     ]
    }
   ],
   "source": [
    "%ls"
   ]
  },
  {
   "cell_type": "markdown",
   "id": "a24c70d5-c26c-451d-9381-cf0dc38bf54f",
   "metadata": {},
   "source": [
    "### Set up"
   ]
  },
  {
   "cell_type": "code",
   "execution_count": 7,
   "id": "25b7fdbd-b93d-45cb-af90-dedb6e4f8af2",
   "metadata": {},
   "outputs": [
    {
     "name": "stdout",
     "output_type": "stream",
     "text": [
      "\u001b[0;34m[INFO]\u001b[0m Checking prerequisites...\n",
      "\u001b[0;32m[SUCCESS]\u001b[0m Prerequisites check passed\n",
      "\u001b[0;34m[INFO]\u001b[0m Installing Python dependencies...\n",
      "\u001b[0;32m[SUCCESS]\u001b[0m Dependencies installed successfully!\n",
      "\u001b[0;34m[INFO]\u001b[0m Testing the setup...\n",
      "KLUE NER Benchmark Setup Test\n",
      "========================================\n",
      "\n",
      "Package Imports:\n",
      "Testing package imports...\n",
      "  ✓ google.genai\n",
      "  ✓ datasets\n",
      "  ✓ pandas\n",
      "  ✓ tqdm\n",
      "  ✓ google.cloud.aiplatform\n",
      "  All packages imported successfully!\n",
      "\n",
      "Dataset Access:\n",
      "\n",
      "Testing dataset access...\n",
      "  Loading KLUE NER dataset...\n",
      "  ✓ Dataset loaded successfully\n",
      "  ✓ Sample keys: ['sentence', 'tokens', 'ner_tags']\n",
      "  ✓ Tokens: 70 tokens\n",
      "  ✓ NER tags: 70 tags\n",
      "  ✓ All required fields present\n",
      "  ⚠ Note: 'guid' field not available, will generate IDs automatically\n",
      "\n",
      "Google Cloud Setup:\n",
      "\n",
      "Testing Google Cloud setup...\n",
      "  ✓ GOOGLE_CLOUD_PROJECT set to: vertex-workbench-notebook\n",
      "  ✓ google.genai imported successfully\n",
      "\n",
      "NER Script:\n",
      "\n",
      "Testing NER script...\n",
      "  ✓ NER script imported successfully\n",
      "  ✓ Configuration created successfully\n",
      "  ✓ Entity type mapping correct\n",
      "\n",
      "Directory Structure:\n",
      "\n",
      "Testing directory structure...\n",
      "  ✓ logs/\n",
      "  ✓ benchmark_results/\n",
      "  ✓ result_analysis/\n",
      "  ✓ eval_dataset/\n",
      "\n",
      "Script Permissions:\n",
      "\n",
      "Testing script permissions...\n",
      "  ✓ run (executable)\n",
      "  ✓ setup.sh (executable)\n",
      "  ✓ install_dependencies.sh (executable)\n",
      "  ✓ get_errors.sh (executable)\n",
      "  ✓ test_logging.sh (executable)\n",
      "\n",
      "========================================\n",
      "Test Results: 6/6 tests passed\n",
      "🎉 All tests passed! Setup is complete.\n",
      "\n",
      "Next steps:\n",
      "1. Set your Google Cloud project: export GOOGLE_CLOUD_PROJECT='your-project-id'\n",
      "2. Run a test: ./run test\n",
      "3. Run full benchmark: ./run full\n",
      "\u001b[0;32m[SUCCESS]\u001b[0m Setup test completed successfully!\n",
      "\n",
      "\u001b[0;34m[INFO]\u001b[0m Next steps for Vertex AI setup:\n",
      "1. Install Google Cloud CLI: https://cloud.google.com/sdk/docs/install\n",
      "2. Authenticate with gcloud: gcloud auth login\n",
      "3. Set up application default credentials: gcloud auth application-default login\n",
      "4. Set your project ID: export GOOGLE_CLOUD_PROJECT='your-project-id'\n",
      "5. Enable Vertex AI API: gcloud services enable aiplatform.googleapis.com\n",
      "6. Run the benchmark: ./run test (for small test) or ./run full (for full benchmark)\n",
      "\n",
      "\u001b[0;34m[INFO]\u001b[0m Logging features:\n",
      "- All benchmark runs are automatically logged to the 'logs/' directory\n",
      "- Log files include command headers for easy identification\n",
      "- Separate error logs (.err) are created for focused debugging\n"
     ]
    }
   ],
   "source": [
    "!./setup.sh full"
   ]
  },
  {
   "cell_type": "markdown",
   "id": "f019c70b-c9e5-42ca-9a94-9228a44bcfb5",
   "metadata": {},
   "source": [
    "### Test-run"
   ]
  },
  {
   "cell_type": "code",
   "execution_count": 8,
   "id": "eb9dc522-2977-462e-892d-f3c79e94ffad",
   "metadata": {},
   "outputs": [
    {
     "name": "stdout",
     "output_type": "stream",
     "text": [
      "Running test benchmark with 10 samples...\n",
      "2025-07-15 18:29:10,918 - INFO - Initialized Vertex AI with project: vertex-workbench-notebook, location: us-central1\n",
      "2025-07-15 18:29:10,918 - INFO - Model name set to: gemini-2.5-flash\n",
      "2025-07-15 18:29:10,918 - INFO - Loading KLUE NER dataset for named entity recognition...\n",
      "2025-07-15 18:29:21,049 - INFO - Preparing to load a subset of 10 samples.\n",
      "2025-07-15 18:29:21,051 - INFO - Reached sample limit of 10. Halting data loading.\n",
      "2025-07-15 18:29:21,051 - INFO - ✅ Successfully loaded 10 samples.\n",
      "2025-07-15 18:29:21,051 - INFO - Starting benchmark...\n",
      "project_id: vertex-workbench-notebook\n",
      "Processing samples:   0%|          | 0/102025-07-15 18:29:21,052 - INFO - AFC is enabled with max remote calls: 10.\n",
      "2025-07-15 18:29:26,750 - INFO - HTTP Request: POST https://us-central1-aiplatform.googleapis.com/v1beta1/projects/vertex-workbench-notebook/locations/us-central1/publishers/google/models/gemini-2.5-flash:generateContent \"HTTP/1.1 200 OK\"\n",
      "2025-07-15 18:29:26,751 - INFO - AFC remote call 1 is done.\n",
      "/usr/local/google/home/thekim/anaconda3/envs/klue/lib/python3.11/site-packages/seqeval/metrics/sequence_labeling.py:171: UserWarning: OG seems not to be NE tag.\n",
      "  warnings.warn('{} seems not to be NE tag.'.format(chunk))\n",
      "/usr/local/google/home/thekim/anaconda3/envs/klue/lib/python3.11/site-packages/seqeval/metrics/sequence_labeling.py:171: UserWarning: PS seems not to be NE tag.\n",
      "  warnings.warn('{} seems not to be NE tag.'.format(chunk))\n",
      "/usr/local/google/home/thekim/anaconda3/envs/klue/lib/python3.11/site-packages/seqeval/metrics/sequence_labeling.py:171: UserWarning: QT seems not to be NE tag.\n",
      "  warnings.warn('{} seems not to be NE tag.'.format(chunk))\n",
      "2025-07-15 18:29:26,794 - INFO - AFC is enabled with max remote calls: 10.\n",
      "2025-07-15 18:29:31,792 - INFO - HTTP Request: POST https://us-central1-aiplatform.googleapis.com/v1beta1/projects/vertex-workbench-notebook/locations/us-central1/publishers/google/models/gemini-2.5-flash:generateContent \"HTTP/1.1 200 OK\"\n",
      "2025-07-15 18:29:31,793 - INFO - AFC remote call 1 is done.\n",
      "2025-07-15 18:29:31,793 - ERROR - Error processing sample 1: list index out of range\n",
      "Processing samples:  20%|██        | 2/102025-07-15 18:29:31,794 - INFO - AFC is enabled with max remote calls: 10.\n",
      "2025-07-15 18:29:36,341 - INFO - HTTP Request: POST https://us-central1-aiplatform.googleapis.com/v1beta1/projects/vertex-workbench-notebook/locations/us-central1/publishers/google/models/gemini-2.5-flash:generateContent \"HTTP/1.1 200 OK\"\n",
      "2025-07-15 18:29:36,342 - INFO - AFC remote call 1 is done.\n",
      "2025-07-15 18:29:36,342 - ERROR - Error processing sample 2: list index out of range\n",
      "2025-07-15 18:29:36,343 - INFO - AFC is enabled with max remote calls: 10.\n",
      "2025-07-15 18:29:46,170 - INFO - HTTP Request: POST https://us-central1-aiplatform.googleapis.com/v1beta1/projects/vertex-workbench-notebook/locations/us-central1/publishers/google/models/gemini-2.5-flash:generateContent \"HTTP/1.1 200 OK\"\n",
      "2025-07-15 18:29:46,171 - INFO - AFC remote call 1 is done.\n",
      "2025-07-15 18:29:46,172 - ERROR - Error processing sample 3: list index out of range\n",
      "Processing samples:  40%|████      | 4/102025-07-15 18:29:46,172 - INFO - AFC is enabled with max remote calls: 10.\n",
      "2025-07-15 18:29:49,812 - INFO - HTTP Request: POST https://us-central1-aiplatform.googleapis.com/v1beta1/projects/vertex-workbench-notebook/locations/us-central1/publishers/google/models/gemini-2.5-flash:generateContent \"HTTP/1.1 200 OK\"\n",
      "2025-07-15 18:29:49,813 - INFO - AFC remote call 1 is done.\n",
      "2025-07-15 18:29:49,855 - INFO - AFC is enabled with max remote calls: 10.\n",
      "2025-07-15 18:29:57,471 - INFO - HTTP Request: POST https://us-central1-aiplatform.googleapis.com/v1beta1/projects/vertex-workbench-notebook/locations/us-central1/publishers/google/models/gemini-2.5-flash:generateContent \"HTTP/1.1 200 OK\"\n",
      "2025-07-15 18:29:57,472 - INFO - AFC remote call 1 is done.\n",
      "2025-07-15 18:29:57,472 - ERROR - Error processing sample 5: list index out of range\n",
      "Processing samples:  60%|██████    | 6/102025-07-15 18:29:57,473 - INFO - AFC is enabled with max remote calls: 10.\n",
      "2025-07-15 18:30:03,233 - INFO - HTTP Request: POST https://us-central1-aiplatform.googleapis.com/v1beta1/projects/vertex-workbench-notebook/locations/us-central1/publishers/google/models/gemini-2.5-flash:generateContent \"HTTP/1.1 200 OK\"\n",
      "2025-07-15 18:30:03,234 - INFO - AFC remote call 1 is done.\n",
      "2025-07-15 18:30:03,276 - INFO - AFC is enabled with max remote calls: 10.\n",
      "2025-07-15 18:30:06,876 - INFO - HTTP Request: POST https://us-central1-aiplatform.googleapis.com/v1beta1/projects/vertex-workbench-notebook/locations/us-central1/publishers/google/models/gemini-2.5-flash:generateContent \"HTTP/1.1 200 OK\"\n",
      "2025-07-15 18:30:06,877 - INFO - AFC remote call 1 is done.\n",
      "/usr/local/google/home/thekim/anaconda3/envs/klue/lib/python3.11/site-packages/seqeval/metrics/sequence_labeling.py:171: UserWarning: LC seems not to be NE tag.\n",
      "  warnings.warn('{} seems not to be NE tag.'.format(chunk))\n",
      "2025-07-15 18:30:06,918 - INFO - AFC is enabled with max remote calls: 10.\n",
      "2025-07-15 18:30:13,003 - INFO - HTTP Request: POST https://us-central1-aiplatform.googleapis.com/v1beta1/projects/vertex-workbench-notebook/locations/us-central1/publishers/google/models/gemini-2.5-flash:generateContent \"HTTP/1.1 200 OK\"\n",
      "2025-07-15 18:30:13,004 - INFO - AFC remote call 1 is done.\n",
      "Processing samples:  90%|█████████ | 9/102025-07-15 18:30:13,046 - INFO - AFC is enabled with max remote calls: 10.\n",
      "2025-07-15 18:30:16,164 - INFO - HTTP Request: POST https://us-central1-aiplatform.googleapis.com/v1beta1/projects/vertex-workbench-notebook/locations/us-central1/publishers/google/models/gemini-2.5-flash:generateContent \"HTTP/1.1 200 OK\"\n",
      "2025-07-15 18:30:16,165 - INFO - AFC remote call 1 is done.\n",
      "2025-07-15 18:30:16,206 - INFO - Benchmark completed!\n",
      "2025-07-15 18:30:16,206 - INFO - Entity-level F1: 0.0000 (0/19)\n",
      "2025-07-15 18:30:16,206 - INFO - Entity-level Precision: 0.0000\n",
      "2025-07-15 18:30:16,206 - INFO - Entity-level Recall: 0.0000\n",
      "2025-07-15 18:30:16,206 - INFO - Character-level F1: 0.0000 (0/102)\n",
      "2025-07-15 18:30:16,206 - INFO - Character-level Precision: 0.0000\n",
      "2025-07-15 18:30:16,206 - INFO - Character-level Recall: 0.0000\n",
      "2025-07-15 18:30:16,206 - INFO - Total time: 55.15 seconds\n",
      "2025-07-15 18:30:16,206 - INFO - Average time per sample: 5.515 seconds\n",
      "2025-07-15 18:30:16,207 - INFO - Metrics saved to: benchmark_results/klue_ner_metrics_20250715_183016.json\n",
      "2025-07-15 18:30:16,208 - INFO - Detailed results saved to: benchmark_results/klue_ner_results_20250715_183016.json\n",
      "2025-07-15 18:30:16,211 - INFO - Results saved as CSV: benchmark_results/klue_ner_results_20250715_183016.csv\n",
      "2025-07-15 18:30:16,211 - INFO - Error analysis saved to: benchmark_results/klue_ner_error_analysis_20250715_183016.txt\n",
      "============================================================\n",
      "KLUE Named Entity Recognition Benchmark Results\n",
      "============================================================\n",
      "Model: gemini-2.5-flash\n",
      "Platform: Google Cloud Vertex AI\n",
      "Project: vertex-workbench-notebook\n",
      "Location: us-central1\n",
      "Traceback (most recent call last):\n",
      "  File \"/usr/local/google/home/thekim/github/aimldl/llm_benchmarks_asian_langs/klue_ner/klue_ner-gemini2_5flash.py\", line 858, in <module>\n",
      "    main() \n",
      "    ^^^^^^\n",
      "  File \"/usr/local/google/home/thekim/github/aimldl/llm_benchmarks_asian_langs/klue_ner/klue_ner-gemini2_5flash.py\", line 855, in main\n",
      "    benchmark.print_detailed_metrics()\n",
      "  File \"/usr/local/google/home/thekim/github/aimldl/llm_benchmarks_asian_langs/klue_ner/klue_ner-gemini2_5flash.py\", line 769, in print_detailed_metrics\n",
      "    print(f\"F1 Score: {self.metrics['f1']:.4f} ({self.metrics['correct_entities']}/{self.metrics['total_entities']})\")\n",
      "                       ~~~~~~~~~~~~^^^^^^\n",
      "KeyError: 'f1'\n",
      "Log files saved:\n",
      "  Full output: logs/klue_ner_test_20250715_182908.log\n",
      "  Errors only: logs/klue_ner_test_20250715_182908.err\n"
     ]
    }
   ],
   "source": [
    "!./run test"
   ]
  },
  {
   "cell_type": "markdown",
   "id": "1eb5d028-76a8-4ff0-8737-a2fb73d73b11",
   "metadata": {},
   "source": [
    "#### Test with More Samples"
   ]
  },
  {
   "cell_type": "code",
   "execution_count": 5,
   "id": "47e7096a-3323-4a9b-9f0b-85eebfb0ff82",
   "metadata": {},
   "outputs": [],
   "source": [
    "!./run custom 50"
   ]
  },
  {
   "cell_type": "markdown",
   "id": "7b76a22c",
   "metadata": {},
   "source": [
    "### Baseline Performance\n",
    "To evaluate baseline performance, use the `./run full` command. Be aware that this process is time-consuming and may run overnight or for a full workday.\n",
    "\n",
    "To ensure uninterrupted execution, even if your terminal disconnects, we highly recommend running `./run full` within a `tmux` session.\n",
    "\n",
    "#### `tmux` Session Commands:\n",
    "- Create and start a new session: tmux new -s klue\n",
    "- Run the command within the session: ./run full\n",
    "- Detach from the session: Press Ctrl+b then d\n",
    "- Reattach to the klue session: tmux attach -t klue\n",
    "For more detailed information on tmux, refer to background_processing_with_tmux.md\n",
    "\n",
    "Alternatively, you can use the nohup command to run the process in the background, allowing it to continue after you log out of your session.\n",
    "\n",
    "# Running the command in the background is recommended.\n",
    "# Uncomment the following command if you still wish to run it in a cell\n",
    "#!./run full\n"
   ]
  },
  {
   "cell_type": "markdown",
   "id": "842935be-5252-4fba-bf65-7500b0e296f7",
   "metadata": {},
   "source": [
    "#### Test with All Samples"
   ]
  },
  {
   "cell_type": "code",
   "execution_count": null,
   "id": "b97db76d-c340-4e7b-9551-2e3ec24e064d",
   "metadata": {},
   "outputs": [],
   "source": [
    "!./run full"
   ]
  }
 ],
 "metadata": {
  "kernelspec": {
   "display_name": "Python 3 (ipykernel)",
   "language": "python",
   "name": "python3"
  },
  "language_info": {
   "codemirror_mode": {
    "name": "ipython",
    "version": 3
   },
   "file_extension": ".py",
   "mimetype": "text/x-python",
   "name": "python",
   "nbconvert_exporter": "python",
   "pygments_lexer": "ipython3",
   "version": "3.11.13"
  }
 },
 "nbformat": 4,
 "nbformat_minor": 5
}
