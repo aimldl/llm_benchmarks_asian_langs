{
 "cells": [
  {
   "cell_type": "markdown",
   "id": "64ee3a31-00c5-4122-b432-2928037d2a0a",
   "metadata": {},
   "source": [
    "# KLUE-STS with Gemini 2.5 Pro\n",
    "- Created: 2025-06-26 (Thu)\n",
    "- Updated: 2025-06-26 (Thu)"
   ]
  },
  {
   "cell_type": "markdown",
   "id": "da25af0c-ee47-4b5e-bf36-1f02f5fc2a93",
   "metadata": {},
   "source": [
    "## 1. Environment Set-up\n",
    "- scikit-learn is used to evaluate the performance report, e.g. F1 Score"
   ]
  },
  {
   "cell_type": "code",
   "execution_count": 16,
   "id": "a6a2384f-d4fe-4386-a673-583931266080",
   "metadata": {
    "tags": []
   },
   "outputs": [
    {
     "name": "stdout",
     "output_type": "stream",
     "text": [
      "Note: you may need to restart the kernel to use updated packages.\n"
     ]
    }
   ],
   "source": [
    "%pip install --quiet datasets scikit-learn tqdm"
   ]
  },
  {
   "cell_type": "markdown",
   "id": "a4152f71-7db3-49a2-a5da-684238e7d7d5",
   "metadata": {},
   "source": [
    "## 2. Vertex AI Gemini Set-up"
   ]
  },
  {
   "cell_type": "code",
   "execution_count": 17,
   "id": "d145d4d5-8a3d-44ed-a7b9-eda85c42beb7",
   "metadata": {
    "tags": []
   },
   "outputs": [
    {
     "name": "stdout",
     "output_type": "stream",
     "text": [
      "Note: you may need to restart the kernel to use updated packages.\n"
     ]
    }
   ],
   "source": [
    "%pip install --upgrade --quiet google-genai"
   ]
  },
  {
   "cell_type": "markdown",
   "id": "9e3012f1-75aa-4a09-bb1a-9cedcbb13bcc",
   "metadata": {},
   "source": [
    "### Restart kernel after installs so that your environment can access the new packages"
   ]
  },
  {
   "cell_type": "code",
   "execution_count": 2,
   "id": "dff5d11c-0916-4824-9e68-c17a7e75976f",
   "metadata": {
    "tags": []
   },
   "outputs": [
    {
     "data": {
      "text/plain": [
       "{'status': 'ok', 'restart': True}"
      ]
     },
     "execution_count": 2,
     "metadata": {},
     "output_type": "execute_result"
    }
   ],
   "source": [
    "import IPython\n",
    "app = IPython.Application.instance()\n",
    "app.kernel.do_shutdown(True)"
   ]
  },
  {
   "cell_type": "markdown",
   "id": "8bf111c4-369c-42a3-91ef-bcd08a8ea179",
   "metadata": {},
   "source": [
    "- Skip running the following cell if you use Vertex AI Workbench.\n",
    "- Run it only for Colab Enterprise."
   ]
  },
  {
   "cell_type": "code",
   "execution_count": 1,
   "id": "a884d8c3-d62d-49e0-b7d9-f6ef8003b127",
   "metadata": {},
   "outputs": [],
   "source": [
    "# Uncomment for Colab\n",
    "#import sys\n",
    "\n",
    "#if \"google.colab\" in sys.modules:\n",
    "#    from google.colab import auth\n",
    "\n",
    "#    auth.authenticate_user()"
   ]
  },
  {
   "cell_type": "code",
   "execution_count": 1,
   "id": "4c5f77b9-175b-4ae8-8d4f-9a67392254c6",
   "metadata": {
    "tags": []
   },
   "outputs": [
    {
     "name": "stdout",
     "output_type": "stream",
     "text": [
      "PROJECT_ID=vertex-workbench-notebook\n",
      "LOCATION=us-central1\n"
     ]
    }
   ],
   "source": [
    "from IPython.display import HTML, Image, Markdown, display\n",
    "from google import genai\n",
    "from google.genai.types import GenerateContentConfig\n",
    "import os\n",
    "\n",
    "PROJECT_ID = \"[your-project-id]\"  # @param {type: \"string\", placeholder: \"[your-project-id]\", isTemplate: true}\n",
    "if not PROJECT_ID or PROJECT_ID == \"[your-project-id]\":\n",
    "    PROJECT_ID = str(os.environ.get(\"GOOGLE_CLOUD_PROJECT\"))\n",
    "\n",
    "LOCATION = os.environ.get(\"GOOGLE_CLOUD_REGION\", \"global\")\n",
    "\n",
    "print(f\"PROJECT_ID={PROJECT_ID}\")\n",
    "print(f\"LOCATION={LOCATION}\")"
   ]
  },
  {
   "cell_type": "code",
   "execution_count": 2,
   "id": "078673d7-deab-40d8-8401-0f3119450458",
   "metadata": {
    "tags": []
   },
   "outputs": [],
   "source": [
    "client = genai.Client(vertexai=True, project=PROJECT_ID, location=LOCATION)"
   ]
  },
  {
   "cell_type": "markdown",
   "id": "f97dfe17-f7de-4f07-a3c1-2ca7fd467cce",
   "metadata": {},
   "source": [
    "## 3. Load the dataset\n",
    "The total number of samples in KLUE-STS validation is known to be \"519\". \n",
    "However this number will be verified and saved to a variable `total_num_of_samples`.\n",
    "\n",
    "Without this number, it will be difficult to judge how much progress is made with the entire dataset and the user should wait blindlessly.\n",
    "It's a better practice to show the progress like:\n",
    "\n",
    "```bash\n",
    "Processing the full validation dataset...\n",
    "Evaluating gemini-2.5-flash with the entire dataset of (519 samples):   8%|▊         | 41/519 [05:09<54:40,  6.86s/it]  \n",
    "```"
   ]
  },
  {
   "cell_type": "code",
   "execution_count": 3,
   "id": "38df58ad-2936-432d-980d-ec3847bdd3a2",
   "metadata": {
    "tags": []
   },
   "outputs": [
    {
     "name": "stdout",
     "output_type": "stream",
     "text": [
      "The total number of samples in KLUE-STS validation is: 519\n"
     ]
    }
   ],
   "source": [
    "from datasets import load_dataset\n",
    "\n",
    "# Set benchmark dataset and task variables\n",
    "benchmark_dataset = \"klue\"\n",
    "benchmark_task    = \"sts\"\n",
    "\n",
    "# Load the dataset *without* streaming to get its length\n",
    "# This will be necessary to loop through the entire data\n",
    "non_streaming_dataset = load_dataset(benchmark_dataset, benchmark_task, split='validation', streaming=False)\n",
    "total_num_of_samples = len(non_streaming_dataset)\n",
    "\n",
    "print(f\"The total number of samples in {benchmark_dataset.upper()}-{benchmark_task.upper()} validation is: {total_num_of_samples}\")"
   ]
  },
  {
   "cell_type": "code",
   "execution_count": 4,
   "id": "87dfb6dd-b410-4dcf-a278-0a761c23d4e5",
   "metadata": {
    "tags": []
   },
   "outputs": [
    {
     "name": "stdout",
     "output_type": "stream",
     "text": [
      "Loading KLUE-STS validation dataset...\n",
      "IterableDataset({\n",
      "    features: ['guid', 'source', 'sentence1', 'sentence2', 'labels'],\n",
      "    num_shards: 1\n",
      "})\n"
     ]
    }
   ],
   "source": [
    "# Load the dataset *with* streaming\n",
    "print(f\"Loading {benchmark_dataset.upper()}-{benchmark_task.upper()} validation dataset...\")\n",
    "klue_sts_validation = load_dataset(benchmark_dataset, benchmark_task, split='validation', streaming=True)\n",
    "print(klue_sts_validation)"
   ]
  },
  {
   "cell_type": "markdown",
   "id": "374eecf6-701c-4ea4-a4e3-48a6ecc223ad",
   "metadata": {},
   "source": [
    "## 4. Model Set-up"
   ]
  },
  {
   "cell_type": "code",
   "execution_count": 5,
   "id": "18dbbea1-3aa4-4e6c-9e22-772a989d5ef1",
   "metadata": {
    "tags": []
   },
   "outputs": [],
   "source": [
    "MODEL_ID = \"gemini-2.5-pro\"  # @param {type: \"string\"}"
   ]
  },
  {
   "cell_type": "code",
   "execution_count": 6,
   "id": "0cd247f1-a7e8-4e0f-abd6-af675ccd3b2c",
   "metadata": {
    "tags": []
   },
   "outputs": [],
   "source": [
    "system_instruction = \"\"\"\n",
    "[역할 정의]\n",
    "당신은 두 개의 한국어 문장이 주어졌을 때, 두 문장의 '의미'가 얼마나 유사한지를 판단하는 AI 언어 평가 전문가입니다. \n",
    "문장의 구조나 사용된 단어가 다르더라도, 문맥과 핵심 의미를 파악하여 유사성을 평가해야 합니다.\n",
    "\n",
    "[작업 절차]\n",
    "입력으로 주어진 문장 1과 문장 2의 핵심 의미를 각각 분석합니다. \n",
    "아래 **[평가 기준]**에 따라 두 문장의 의미적 관계를 판단합니다.\n",
    "**[출력 형식]**에 맞춰 결과를 한 줄로 생성합니다.\n",
    "\n",
    "[평가 기준]\n",
    "1. Binary Label (0 또는 1)\n",
    "1 (유사): 두 문장의 핵심 의도나 정보가 사실상 동일하다고 볼 수 있는 경우. 한 문장이 다른 문장의 요약, 부연 설명이거나, 같은 사실을 다른 표현으로 말하는 경우를 포함합니다.\n",
    "0 (다름): 두 문장이 전달하는 핵심 정보나 의도가 명백히 다른 경우. 같은 주제를 다루더라도 초점이 다르거나, 서로 관련이 없는 내용을 말하는 경우는 '다름'으로 판단합니다.\n",
    "\n",
    "2. Real-valued Label (0.0 ~ 5.0)\n",
    "5.0: 완전 동일: 문장 부호, 띄어쓰기, 조사 등 사소한 차이만 있을 뿐, 의미가 100% 동일합니다.\n",
    "예: \"나는 밥을 먹는다\" vs \"나는 밥을 먹어\"\n",
    "\n",
    "4.0 ~ 4.9: 거의 동일: 사용된 어휘나 문장 구조는 다르지만, 전달하는 핵심 정보와 뉘앙스가 완전히 동일합니다.\n",
    "예: \"오늘 날씨가 정말 좋다\" vs \"오늘 날씨가 무척 화창하네\"\n",
    "\n",
    "3.0 ~ 3.9: 대체로 유사: 핵심 정보는 같지만, 부가 정보가 추가되거나 생략되어 약간의 의미 차이가 발생합니다.\n",
    "예: \"나는 아침으로 밥을 먹었다\" vs \"나는 밥을 먹었다\"\n",
    "\n",
    "2.0 ~ 2.9: 주제는 같으나 초점은 다름: 같은 주제나 상황에 대해 이야기하지만, 각 문장이 강조하는 지점이나 전달하는 정보가 다릅니다.\n",
    "예: \"배가 고파서 식당에 갔다\" vs \"그 식당의 김치찌개는 정말 맛있다\"\n",
    "\n",
    "1.0 ~ 1.9: 간접적 연관성만 있음: 공통된 단어가 있거나 소재가 겹치지만, 두 문장이 말하고자 하는 바는 완전히 다릅니다.\n",
    "예: \"나는 어제 축구를 봤다\" vs \"손흥민은 대단한 축구 선수다\"\n",
    "\n",
    "0.0 ~ 0.9: 전혀 관련 없음: 두 문장 사이에 어떠한 의미적 연관성도 찾을 수 없습니다.\n",
    "예: \"내일 회의는 3시에 시작합니다\" vs \"고양이는 귀여운 동물이다\"\n",
    "\n",
    "[출력 형식]\n",
    "binary-label 값과 real-label 값을 쉼표(,)로 구분하여 한 줄에 출력합니다.\n",
    "형식: binary-label: [값], real-label: [값]\n",
    "\n",
    "[예시]\n",
    "입력:\n",
    "문장1: \"코로나19의 전 세계적 유행으로 인해 해외여행이 어려워졌다.\"\n",
    "문장2: \"펜데믹 상황 때문에 사람들이 국외로 나가는 것이 힘들어졌다.\"\n",
    "출력:\n",
    "binary-label: 1, real-label: 4.5\n",
    "\n",
    "입력:\n",
    "문장1: \"이 영화 정말 재미있더라.\"\n",
    "문장2: \"그 영화 주인공 연기가 인상 깊었어.\"\n",
    "출력:\n",
    "binary-label: 0, real-label: 2.8\n",
    "\n",
    "입력:\n",
    "문장1: \"노트북 배터리가 거의 다 닳았네.\"\n",
    "문장2: \"오늘 저녁 메뉴는 뭘로 할까?\"\n",
    "출력:\n",
    "binary-label: 0, real-label: 0.0\n",
    "\"\"\""
   ]
  },
  {
   "cell_type": "code",
   "execution_count": 7,
   "id": "891be4ba-6ae3-4363-babe-c7ce0c358777",
   "metadata": {
    "tags": []
   },
   "outputs": [],
   "source": [
    "def create_prompt(sentence1, sentence2):\n",
    "    prompt = f\"\"\"\n",
    "문장1: {sentence1}\n",
    "문장2: {sentence2} \n",
    "\"\"\"\n",
    "    return prompt.strip()"
   ]
  },
  {
   "cell_type": "markdown",
   "id": "98663024-3040-4d46-8c7c-9e60620a86d1",
   "metadata": {},
   "source": [
    "## 5. Test with a sample prompt"
   ]
  },
  {
   "cell_type": "code",
   "execution_count": 8,
   "id": "495f765d-274f-4ff2-9e2c-c4b30d3f0f53",
   "metadata": {
    "tags": []
   },
   "outputs": [
    {
     "name": "stdout",
     "output_type": "stream",
     "text": [
      "문장1: 무엇보다도 호스트분들이 너무 친절하셨습니다.\n",
      "문장2: 무엇보다도, 호스트들은 매우 친절했습니다.\n"
     ]
    }
   ],
   "source": [
    "sample = next(iter(klue_sts_validation))\n",
    "sample_prompt = create_prompt( sample['sentence1'], sample['sentence2'] )\n",
    "print(sample_prompt)"
   ]
  },
  {
   "cell_type": "code",
   "execution_count": 9,
   "id": "6e368f3f-d4ef-4559-83d9-f6ce5962a905",
   "metadata": {
    "tags": []
   },
   "outputs": [],
   "source": [
    "prompt = sample_prompt"
   ]
  },
  {
   "cell_type": "code",
   "execution_count": 10,
   "id": "4b62cab5-2bd6-4a12-94b1-a27829146f66",
   "metadata": {
    "tags": []
   },
   "outputs": [
    {
     "data": {
      "text/markdown": [
       "binary-label: 1, real-label: 4.9"
      ],
      "text/plain": [
       "<IPython.core.display.Markdown object>"
      ]
     },
     "metadata": {},
     "output_type": "display_data"
    }
   ],
   "source": [
    "response = client.models.generate_content(\n",
    "    model=MODEL_ID,\n",
    "    contents=prompt,\n",
    "    config=GenerateContentConfig(\n",
    "        temperature=0.0,  # 0 for consistency\n",
    "        system_instruction=system_instruction,\n",
    "        #top_p=0.95,\n",
    "        #candidate_count=1,\n",
    "        #thinking_config=thinking_config,\n",
    "    ),\n",
    ")\n",
    "display(Markdown(response.text))"
   ]
  },
  {
   "cell_type": "markdown",
   "id": "d94456dc-3fb7-4456-98c7-1aa3f7b46d56",
   "metadata": {},
   "source": [
    "## 6. Test the loop with only ten samples\n",
    "\n",
    "`sleep_interval_between_api_calls = 0.03 # sec` will cause an error.\n",
    "\n",
    "```\n",
    "An error occurred: 429 RESOURCE_EXHAUSTED. {'error': {'code': 429, 'message': 'Resource exhausted. Please try again later. Please refer to https://cloud.google.com/vertex-ai/generative-ai/docs/error-code-429 for more details.', 'status': 'RESOURCE_EXHAUSTED'}}\n",
    "```\n",
    "\n",
    "Set to \n",
    "```\n",
    "sleep_interval_between_api_calls = 2.0 # sec\n",
    "```"
   ]
  },
  {
   "cell_type": "code",
   "execution_count": 11,
   "id": "94893877-6774-405f-8757-750118d0c159",
   "metadata": {
    "tags": []
   },
   "outputs": [],
   "source": [
    "import time\n",
    "import re\n",
    "from tqdm import tqdm  # Show the progress\n",
    "import itertools # Import itertools to safely slice the dataset\n",
    "\n",
    "# Initialize variables\n",
    "binary_predictions = []\n",
    "real_predictions   = []\n",
    "true_binary_labels = []\n",
    "true_real_labels   = []\n",
    "# To store sentences for the results table\n",
    "true_sentences1    = [] \n",
    "true_sentences2    = []\n",
    "\n",
    "error_count = 0\n",
    "num_test_samples = 10\n",
    "sleep_interval_between_api_calls = 2.0 # sec\n",
    "#description = f\"Evaluating with {MODEL_ID}\"\n",
    "description = f\"Evaluating {MODEL_ID} on {num_test_samples} samples\""
   ]
  },
  {
   "cell_type": "code",
   "execution_count": 12,
   "id": "89c1c2b0-86cc-4faa-b5d2-3dce3e3b11fc",
   "metadata": {
    "tags": []
   },
   "outputs": [
    {
     "name": "stderr",
     "output_type": "stream",
     "text": [
      "Evaluating gemini-2.5-pro on 10 samples:  40%|████      | 4/10 [01:13<01:49, 18.31s/it]"
     ]
    },
    {
     "name": "stdout",
     "output_type": "stream",
     "text": [
      "An error occurred: 429 RESOURCE_EXHAUSTED. {'error': {'code': 429, 'message': 'Resource exhausted. Please try again later. Please refer to https://cloud.google.com/vertex-ai/generative-ai/docs/error-code-429 for more details.', 'status': 'RESOURCE_EXHAUSTED'}}\n",
      "\n",
      " Sample 5/10 (API Error)\n",
      "An error occurred: 429 RESOURCE_EXHAUSTED. {'error': {'code': 429, 'message': 'Resource exhausted. Please try again later. Please refer to https://cloud.google.com/vertex-ai/generative-ai/docs/error-code-429 for more details.', 'status': 'RESOURCE_EXHAUSTED'}}\n"
     ]
    },
    {
     "name": "stderr",
     "output_type": "stream",
     "text": [
      "Evaluating gemini-2.5-pro on 10 samples:  70%|███████   | 7/10 [01:48<00:44, 14.80s/it]"
     ]
    },
    {
     "name": "stdout",
     "output_type": "stream",
     "text": [
      "An error occurred: 429 RESOURCE_EXHAUSTED. {'error': {'code': 429, 'message': 'Resource exhausted. Please try again later. Please refer to https://cloud.google.com/vertex-ai/generative-ai/docs/error-code-429 for more details.', 'status': 'RESOURCE_EXHAUSTED'}}\n",
      "\n",
      " Sample 8/10 (API Error)\n",
      "An error occurred: 429 RESOURCE_EXHAUSTED. {'error': {'code': 429, 'message': 'Resource exhausted. Please try again later. Please refer to https://cloud.google.com/vertex-ai/generative-ai/docs/error-code-429 for more details.', 'status': 'RESOURCE_EXHAUSTED'}}\n"
     ]
    },
    {
     "name": "stderr",
     "output_type": "stream",
     "text": [
      "Evaluating gemini-2.5-pro on 10 samples: 100%|██████████| 10/10 [02:26<00:00, 14.60s/it]"
     ]
    },
    {
     "name": "stdout",
     "output_type": "stream",
     "text": [
      "\n",
      "Evaluation Finished.\n",
      "Total samples processed: 10\n",
      "Successful predictions: 8\n",
      "Format errors or API issues: 2\n"
     ]
    },
    {
     "name": "stderr",
     "output_type": "stream",
     "text": [
      "\n"
     ]
    }
   ],
   "source": [
    "# Main evaluation loop\n",
    "for i, sample in enumerate(tqdm(itertools.islice(klue_sts_validation, num_test_samples), desc=description, total=num_test_samples), 1):\n",
    "    sentence1 = sample['sentence1']\n",
    "    sentence2 = sample['sentence2']\n",
    "    sample_prompt = create_prompt(sentence1, sentence2)\n",
    "\n",
    "    ground_truth_binary = sample['labels']['binary-label']\n",
    "    ground_truth_real = sample['labels']['real-label']\n",
    "    \n",
    "    try:\n",
    "        response = client.models.generate_content(\n",
    "            model=MODEL_ID,\n",
    "            contents=sample_prompt,\n",
    "            config=GenerateContentConfig(\n",
    "                temperature=0.0,  # 0 for consistency\n",
    "                system_instruction=system_instruction,\n",
    "            ),\n",
    "        )\n",
    "        model_output = response.text.strip()\n",
    "\n",
    "        # Parse model_output with regular expression\n",
    "        match = re.search(r\"binary-label:\\s*([01])\\s*,\\s*real-label:\\s*([0-9.]+)\", model_output)\n",
    "\n",
    "        if match:\n",
    "            # Extract values and convert types\n",
    "            b_pred = int(match.group(1))\n",
    "            r_pred = float(match.group(2))\n",
    "            \n",
    "            # Append results to lists\n",
    "            binary_predictions.append(b_pred)\n",
    "            real_predictions.append(r_pred)\n",
    "            true_binary_labels.append(ground_truth_binary)\n",
    "            true_real_labels.append(ground_truth_real)\n",
    "            # Store sentences\n",
    "            true_sentences1.append(sentence1)\n",
    "            true_sentences2.append(sentence2)\n",
    "\n",
    "        else:\n",
    "            error_count += 1\n",
    "            print(f\"\\n----- Sample {i}/{num_test_samples} (Format Error) -----\")\n",
    "            print(f\"Mismatched model output: {model_output}\")\n",
    "            \n",
    "    except Exception as e:\n",
    "        print(f\"An error occurred: {e}\")\n",
    "        error_count += 1\n",
    "        print(f\"\\n Sample {i}/{num_test_samples} (API Error)\")\n",
    "        print(f\"An error occurred: {e}\")\n",
    "\n",
    "    # To prevent overloading the API\n",
    "    time.sleep( sleep_interval_between_api_calls )\n",
    "\n",
    "print(f\"\\nEvaluation Finished.\")\n",
    "print(f\"Total samples processed: {len(binary_predictions) + error_count}\")\n",
    "print(f\"Successful predictions: {len(binary_predictions)}\")\n",
    "print(f\"Format errors or API issues: {error_count}\")"
   ]
  },
  {
   "cell_type": "markdown",
   "id": "c5b6914f-8047-4b7b-84f2-619f08535dbc",
   "metadata": {},
   "source": [
    "## 7. Evaluation\n",
    "- For binary-labels, calculate the classification_report. \n",
    "- For real-labels, calculate regression metrics such as mean squared error (MSE) and mean absolute error (MAE)."
   ]
  },
  {
   "cell_type": "code",
   "execution_count": 13,
   "id": "35725163-219e-4edb-af70-864a1e554008",
   "metadata": {},
   "outputs": [
    {
     "name": "stdout",
     "output_type": "stream",
     "text": [
      "\n",
      "===== Sample-by-Sample Comparison Table =====\n",
      "\n",
      "Sample 1/8\n",
      "Sentence 1: 무엇보다도 호스트분들이 너무 친절하셨습니다.\n",
      "Sentence 2: 무엇보다도, 호스트들은 매우 친절했습니다.\n",
      "---------------------------------------------------------\n",
      "  - Ground Truth : Binary=1, Real=4.86\n",
      "  - Prediction   : Binary=1, Real=4.80\n",
      "\n",
      "Sample 2/8\n",
      "Sentence 1: 주요 관광지 모두 걸어서 이동가능합니다.\n",
      "Sentence 2: 위치는 피렌체 중심가까지 걸어서 이동 가능합니다.\n",
      "---------------------------------------------------------\n",
      "  - Ground Truth : Binary=0, Real=1.43\n",
      "  - Prediction   : Binary=0, Real=2.80\n",
      "\n",
      "Sample 3/8\n",
      "Sentence 1: 학생들의 균형 있는 영어능력을 향상시킬 수 있는 학교 수업을 유도하기 위해 2018학년도 수능부터 도입된 영어 영역 절대평가는 올해도 유지한다.\n",
      "Sentence 2: 영어 영역의 경우 학생들이 한글 해석본을 암기하는 문제를 해소하기 위해 2016학년도부터 적용했던 EBS 연계 방식을 올해도 유지한다.\n",
      "---------------------------------------------------------\n",
      "  - Ground Truth : Binary=0, Real=1.29\n",
      "  - Prediction   : Binary=0, Real=2.70\n",
      "\n",
      "Sample 4/8\n",
      "Sentence 1: 다만, 도로와 인접해서 거리의 소음이 들려요.\n",
      "Sentence 2: 하지만, 길과 가깝기 때문에 거리의 소음을 들을 수 있습니다.\n",
      "---------------------------------------------------------\n",
      "  - Ground Truth : Binary=1, Real=3.71\n",
      "  - Prediction   : Binary=1, Real=4.80\n",
      "\n",
      "Sample 5/8\n",
      "Sentence 1: 방안에 필요한 시설이 모두 있어서 매우 편리합니다.\n",
      "Sentence 2: 특히, 숙소 근처에 안전한 실내 주차장이 있어서 편리합니다.\n",
      "---------------------------------------------------------\n",
      "  - Ground Truth : Binary=0, Real=1.14\n",
      "  - Prediction   : Binary=0, Real=2.20\n",
      "\n",
      "Sample 6/8\n",
      "Sentence 1: 최근 국민들의 여행심리 위축 등으로 동남아 등 다른 노선까지 영향을 받는 상황이다.\n",
      "Sentence 2: 동남아시아와 같은 다른 노선은 최근 사람들의 여행 감정의 하락에 영향을 받았습니다.\n",
      "---------------------------------------------------------\n",
      "  - Ground Truth : Binary=1, Real=3.60\n",
      "  - Prediction   : Binary=1, Real=4.50\n",
      "\n",
      "Sample 7/8\n",
      "Sentence 1: 일본종교문화를 잘 이해하시는 분이 이용하시는 게 좋아요\n",
      "Sentence 2: 그리고 슬리퍼를 하나 준비하시는 게 좋아요\n",
      "---------------------------------------------------------\n",
      "  - Ground Truth : Binary=0, Real=0.00\n",
      "  - Prediction   : Binary=0, Real=0.50\n",
      "\n",
      "Sample 8/8\n",
      "Sentence 1: 다음에 도쿄를 또 간다면 무조건 이 곳을 다시 찾을 겁니다.\n",
      "Sentence 2: 독일을 다음에 또간다면 이숙소에 머물겁니다.\n",
      "---------------------------------------------------------\n",
      "  - Ground Truth : Binary=0, Real=2.20\n",
      "  - Prediction   : Binary=0, Real=2.50\n",
      "==========================================================\n",
      "\n",
      "===== Display Evaluation Metrics =====\n",
      "\n",
      "\n",
      "--- gemini-2.5-pro KLUE-STS (Zero-shot) Benchmark Results ---\n",
      "Evaluated on 8 samples.\n",
      "\n",
      "===== Binary Label (Classification) =====\n",
      "\n",
      "Overall Accuracy: 1.0000\n",
      "\n",
      "Classification Report:\n",
      "               precision    recall  f1-score   support\n",
      "\n",
      "Different (0)       1.00      1.00      1.00         5\n",
      "  Similar (1)       1.00      1.00      1.00         3\n",
      "\n",
      "     accuracy                           1.00         8\n",
      "    macro avg       1.00      1.00      1.00         8\n",
      " weighted avg       1.00      1.00      1.00         8\n",
      "\n",
      "\n",
      "===== Real Label (Regression) =====\n",
      "\n",
      "Mean Squared Error (MSE): 0.9163\n",
      "Mean Absolute Error (MAE): 0.8357\n",
      "Pearson Correlation: 0.9471\n"
     ]
    }
   ],
   "source": [
    "import numpy as np\n",
    "import pandas as pd  # To create the results table\n",
    "from sklearn.metrics import (\n",
    "    classification_report,\n",
    "    accuracy_score,\n",
    "    mean_squared_error,\n",
    "    mean_absolute_error,\n",
    ")\n",
    "from scipy.stats import pearsonr\n",
    "\n",
    "import numpy as np\n",
    "from sklearn.metrics import (\n",
    "    classification_report,\n",
    "    accuracy_score,\n",
    "    mean_squared_error,\n",
    "    mean_absolute_error,\n",
    ")\n",
    "from scipy.stats import pearsonr\n",
    "\n",
    "# --- Assume these lists are populated from the previous evaluation loop ---\n",
    "# For demonstration purposes, let's create some dummy data.\n",
    "# In your actual code, these lists will be filled by the loop.\n",
    "# true_sentences1 = ['Sentence 1A', 'Sentence 1B'] \n",
    "# true_sentences2 = ['Sentence 2A', 'Sentence 2B']\n",
    "# true_binary_labels = [1, 0]\n",
    "# true_real_labels = [4.5, 1.2]\n",
    "# binary_predictions = [1, 1]\n",
    "# real_predictions = [4.2, 2.0]\n",
    "\n",
    "print(\"\\n===== Sample-by-Sample Comparison Table =====\")\n",
    "\n",
    "if true_binary_labels and binary_predictions:\n",
    "    # Create a dictionary with the results\n",
    "    results_data = {\n",
    "        'Sentence 1': [s1 for s1, s2 in zip(true_sentences1, true_sentences2)],\n",
    "        'Sentence 2': [s2 for s1, s2 in zip(true_sentences1, true_sentences2)],\n",
    "        'True Binary': true_binary_labels,\n",
    "        'Pred Binary': binary_predictions,\n",
    "        'True Real': [f\"{x:.2f}\" for x in true_real_labels],\n",
    "        'Pred Real': [f\"{x:.2f}\" for x in real_predictions]\n",
    "    }\n",
    "    \n",
    "\n",
    "    # Create and display the pandas DataFrame\n",
    "    results_df = pd.DataFrame(results_data)\n",
    "    \n",
    "    # Set display options to show full text in columns\n",
    "    #pd.set_option('display.max_colwidth', None)\n",
    "    #pd.set_option('display.width', 1000)\n",
    "    #print(results_df.to_string())\n",
    "    # -> The output table looks messy!\n",
    "    \n",
    "    # Iterate over the DataFrame and print each sample in a structured, readable format\n",
    "    for index, row in results_df.iterrows():\n",
    "        print(f\"\\nSample {index + 1}/{len(results_df)}\")\n",
    "        print(f\"Sentence 1: {row['Sentence 1']}\")\n",
    "        print(f\"Sentence 2: {row['Sentence 2']}\")\n",
    "        print(\"---------------------------------------------------------\")\n",
    "        print(f\"  - Ground Truth : Binary={row['True Binary']}, Real={row['True Real']}\")\n",
    "        print(f\"  - Prediction   : Binary={row['Pred Binary']}, Real={row['Pred Real']}\")\n",
    "    print(\"==========================================================\")\n",
    "\n",
    "else:\n",
    "    print(\"\\nNo valid predictions to display in the results table.\")\n",
    "\n",
    "print(\"\\n===== Display Evaluation Metrics =====\")\n",
    "print(f\"\\n\\n--- {MODEL_ID} KLUE-STS (Zero-shot) Benchmark Results ---\")\n",
    "print(f\"Evaluated on {len(true_binary_labels)} samples.\")\n",
    "\n",
    "print(\"\\n===== Binary Label (Classification) =====\")\n",
    "if true_binary_labels and binary_predictions:\n",
    "    accuracy = accuracy_score(true_binary_labels, binary_predictions)\n",
    "    print(f\"\\nOverall Accuracy: {accuracy:.4f}\")\n",
    "\n",
    "    report = classification_report(\n",
    "        true_binary_labels,\n",
    "        binary_predictions,\n",
    "        target_names=['Different (0)', 'Similar (1)'],\n",
    "        zero_division=0\n",
    "    )\n",
    "    print(\"\\nClassification Report:\")\n",
    "    print(report)\n",
    "else:\n",
    "    print(\"\\nCould not calculate classification metrics. No valid binary predictions found.\")\n",
    "\n",
    "    \n",
    "print(\"\\n===== Real Label (Regression) =====\")\n",
    "if true_real_labels and real_predictions:\n",
    "    mse = mean_squared_error(true_real_labels, real_predictions)\n",
    "    print(f\"\\nMean Squared Error (MSE): {mse:.4f}\")\n",
    "\n",
    "    mae = mean_absolute_error(true_real_labels, real_predictions)\n",
    "    print(f\"Mean Absolute Error (MAE): {mae:.4f}\")\n",
    "\n",
    "    pearson_corr, _ = pearsonr(true_real_labels, real_predictions)\n",
    "    print(f\"Pearson Correlation: {pearson_corr:.4f}\")\n",
    "else:\n",
    "    print(\"\\nCould not calculate regression metrics. No valid real-valued predictions found.\")"
   ]
  },
  {
   "cell_type": "markdown",
   "id": "2a925baf-e28a-49b7-a8e4-3f5e342b3d6d",
   "metadata": {},
   "source": [
    "## Interpreting the results\n",
    "### Metrics for Binary Classification\n",
    "- Accuracy: The proportion of total samples for which the model correctly predicted 'similar (1)' or 'different (0)'.\n",
    "- F1-Score: The harmonic mean of Precision and Recall. \n",
    "  - It is a reliable classification performance metric, even when the data is imbalanced. \n",
    "  - The F1-score for the \"similar (1)\" class is typically used as the key metric.\n",
    "\n",
    "### Metrics for Real-valued Regression Metrics\n",
    "- RMSE (Root Mean Squared Error)\n",
    "  - The average magnitude of the error between the model's predicted values and the actual values. \n",
    "  - A value closer to 0 signifies that the model has accurately predicted the fine-grained scores between 0.0 and 5.0. \n",
    "  - This metric is sensitive to outliers.\n",
    "\n",
    "- MAE (Mean Absolute Error)\n",
    "  - The average of the absolute errors. \n",
    "  - It is less sensitive to outliers than RMSE and is useful for intuitively interpreting the actual magnitude of the error. \n",
    "  - For example, an MAE of 0.5 can be understood as the model having an average error of approximately ±0.5 points."
   ]
  },
  {
   "cell_type": "markdown",
   "id": "46885c34-a1ae-4dfc-8c54-2017a9393a2f",
   "metadata": {},
   "source": [
    "## 8. Loop through all the validation dataset"
   ]
  },
  {
   "cell_type": "code",
   "execution_count": 14,
   "id": "84701d1a-d12c-4295-a1ee-6c03a726e354",
   "metadata": {
    "tags": []
   },
   "outputs": [
    {
     "name": "stdout",
     "output_type": "stream",
     "text": [
      "Evaluating gemini-2.5-pro with the entire dataset of (519 samples)\n"
     ]
    }
   ],
   "source": [
    "import time\n",
    "import re\n",
    "from tqdm import tqdm\n",
    "import itertools\n",
    "\n",
    "# Configure output files\n",
    "num_random_samples_to_save = 100 # for quick review\n",
    "random_samples_filename = f\"{benchmark_dataset}-{benchmark_task}-{MODEL_ID}-random_samples_for_review.txt\"\n",
    "full_results_filename = f\"{benchmark_dataset}-{benchmark_task}-{MODEL_ID}-full_evaluation_results.csv\"\n",
    "\n",
    "# Initialize variables\n",
    "binary_predictions = []\n",
    "real_predictions   = []\n",
    "true_binary_labels = []\n",
    "true_real_labels   = []\n",
    "# To store sentences for the results table\n",
    "true_sentences1    = [] \n",
    "true_sentences2    = []\n",
    "\n",
    "error_count = 0\n",
    "sleep_interval_between_api_calls = 0.03 # sec\n",
    "\n",
    "# Get the total number of samples\n",
    "try:\n",
    "    # total_num_of_samples was computed at the beginning BEFORE loading the dataset in the streaming mode\n",
    "    # Note: len(klue_sts_validation) will fail with \"TypeError: object of type 'IterableDataset' has no len()\"\n",
    "    description = f\"Evaluating {MODEL_ID} with the entire dataset of ({total_num_of_samples} samples)\"\n",
    "except TypeError:\n",
    "    # Fallback for datasets that don't have a __len__ method\n",
    "    total_num_of_samples = None\n",
    "    description = f\"Evaluating {MODEL_ID} on full KLUE-STS dataset\"\n",
    "\n",
    "print(description)"
   ]
  },
  {
   "cell_type": "code",
   "execution_count": 15,
   "id": "3be028b8-3e9d-4a8b-a35d-1957af59f67e",
   "metadata": {
    "tags": []
   },
   "outputs": [
    {
     "name": "stdout",
     "output_type": "stream",
     "text": [
      "Processing the full validation dataset...\n"
     ]
    },
    {
     "name": "stderr",
     "output_type": "stream",
     "text": [
      "Evaluating gemini-2.5-pro with the entire dataset of (519 samples):   1%|          | 5/519 [00:50<56:17,  6.57s/it]  "
     ]
    },
    {
     "name": "stdout",
     "output_type": "stream",
     "text": [
      "\n",
      " Sample 4/519 (API Error)\n",
      "An error occurred: 429 RESOURCE_EXHAUSTED. {'error': {'code': 429, 'message': 'Resource exhausted. Please try again later. Please refer to https://cloud.google.com/vertex-ai/generative-ai/docs/error-code-429 for more details.', 'status': 'RESOURCE_EXHAUSTED'}}\n",
      "\n",
      " Sample 5/519 (API Error)\n",
      "An error occurred: 429 RESOURCE_EXHAUSTED. {'error': {'code': 429, 'message': 'Resource exhausted. Please try again later. Please refer to https://cloud.google.com/vertex-ai/generative-ai/docs/error-code-429 for more details.', 'status': 'RESOURCE_EXHAUSTED'}}\n"
     ]
    },
    {
     "name": "stderr",
     "output_type": "stream",
     "text": [
      "Evaluating gemini-2.5-pro with the entire dataset of (519 samples):   1%|▏         | 7/519 [00:51<27:59,  3.28s/it]"
     ]
    },
    {
     "name": "stdout",
     "output_type": "stream",
     "text": [
      "\n",
      " Sample 6/519 (API Error)\n",
      "An error occurred: 429 RESOURCE_EXHAUSTED. {'error': {'code': 429, 'message': 'Resource exhausted. Please try again later. Please refer to https://cloud.google.com/vertex-ai/generative-ai/docs/error-code-429 for more details.', 'status': 'RESOURCE_EXHAUSTED'}}\n",
      "\n",
      " Sample 7/519 (API Error)\n",
      "An error occurred: 429 RESOURCE_EXHAUSTED. {'error': {'code': 429, 'message': 'Resource exhausted. Please try again later. Please refer to https://cloud.google.com/vertex-ai/generative-ai/docs/error-code-429 for more details.', 'status': 'RESOURCE_EXHAUSTED'}}\n",
      "\n",
      " Sample 8/519 (API Error)\n",
      "An error occurred: 429 RESOURCE_EXHAUSTED. {'error': {'code': 429, 'message': 'Resource exhausted. Please try again later. Please refer to https://cloud.google.com/vertex-ai/generative-ai/docs/error-code-429 for more details.', 'status': 'RESOURCE_EXHAUSTED'}}\n"
     ]
    },
    {
     "name": "stderr",
     "output_type": "stream",
     "text": [
      "Evaluating gemini-2.5-pro with the entire dataset of (519 samples):   2%|▏         | 10/519 [00:51<12:57,  1.53s/it]"
     ]
    },
    {
     "name": "stdout",
     "output_type": "stream",
     "text": [
      "\n",
      " Sample 9/519 (API Error)\n",
      "An error occurred: 429 RESOURCE_EXHAUSTED. {'error': {'code': 429, 'message': 'Resource exhausted. Please try again later. Please refer to https://cloud.google.com/vertex-ai/generative-ai/docs/error-code-429 for more details.', 'status': 'RESOURCE_EXHAUSTED'}}\n",
      "\n",
      " Sample 10/519 (API Error)\n",
      "An error occurred: 429 RESOURCE_EXHAUSTED. {'error': {'code': 429, 'message': 'Resource exhausted. Please try again later. Please refer to https://cloud.google.com/vertex-ai/generative-ai/docs/error-code-429 for more details.', 'status': 'RESOURCE_EXHAUSTED'}}\n"
     ]
    },
    {
     "name": "stderr",
     "output_type": "stream",
     "text": [
      "Evaluating gemini-2.5-pro with the entire dataset of (519 samples):   2%|▏         | 12/519 [00:51<07:35,  1.11it/s]"
     ]
    },
    {
     "name": "stdout",
     "output_type": "stream",
     "text": [
      "\n",
      " Sample 11/519 (API Error)\n",
      "An error occurred: 429 RESOURCE_EXHAUSTED. {'error': {'code': 429, 'message': 'Resource exhausted. Please try again later. Please refer to https://cloud.google.com/vertex-ai/generative-ai/docs/error-code-429 for more details.', 'status': 'RESOURCE_EXHAUSTED'}}\n",
      "\n",
      " Sample 12/519 (API Error)\n",
      "An error occurred: 429 RESOURCE_EXHAUSTED. {'error': {'code': 429, 'message': 'Resource exhausted. Please try again later. Please refer to https://cloud.google.com/vertex-ai/generative-ai/docs/error-code-429 for more details.', 'status': 'RESOURCE_EXHAUSTED'}}\n"
     ]
    },
    {
     "name": "stderr",
     "output_type": "stream",
     "text": [
      "Evaluating gemini-2.5-pro with the entire dataset of (519 samples):   3%|▎         | 14/519 [00:51<04:35,  1.83it/s]"
     ]
    },
    {
     "name": "stdout",
     "output_type": "stream",
     "text": [
      "\n",
      " Sample 13/519 (API Error)\n",
      "An error occurred: 429 RESOURCE_EXHAUSTED. {'error': {'code': 429, 'message': 'Resource exhausted. Please try again later. Please refer to https://cloud.google.com/vertex-ai/generative-ai/docs/error-code-429 for more details.', 'status': 'RESOURCE_EXHAUSTED'}}\n",
      "\n",
      " Sample 14/519 (API Error)\n",
      "An error occurred: 429 RESOURCE_EXHAUSTED. {'error': {'code': 429, 'message': 'Resource exhausted. Please try again later. Please refer to https://cloud.google.com/vertex-ai/generative-ai/docs/error-code-429 for more details.', 'status': 'RESOURCE_EXHAUSTED'}}\n",
      "\n",
      " Sample 15/519 (API Error)\n",
      "An error occurred: 429 RESOURCE_EXHAUSTED. {'error': {'code': 429, 'message': 'Resource exhausted. Please try again later. Please refer to https://cloud.google.com/vertex-ai/generative-ai/docs/error-code-429 for more details.', 'status': 'RESOURCE_EXHAUSTED'}}\n"
     ]
    },
    {
     "name": "stderr",
     "output_type": "stream",
     "text": [
      "Evaluating gemini-2.5-pro with the entire dataset of (519 samples):   3%|▎         | 16/519 [00:51<03:05,  2.72it/s]"
     ]
    },
    {
     "name": "stdout",
     "output_type": "stream",
     "text": [
      "\n",
      " Sample 16/519 (API Error)\n",
      "An error occurred: 429 RESOURCE_EXHAUSTED. {'error': {'code': 429, 'message': 'Resource exhausted. Please try again later. Please refer to https://cloud.google.com/vertex-ai/generative-ai/docs/error-code-429 for more details.', 'status': 'RESOURCE_EXHAUSTED'}}\n",
      "\n",
      " Sample 17/519 (API Error)\n",
      "An error occurred: 429 RESOURCE_EXHAUSTED. {'error': {'code': 429, 'message': 'Resource exhausted. Please try again later. Please refer to https://cloud.google.com/vertex-ai/generative-ai/docs/error-code-429 for more details.', 'status': 'RESOURCE_EXHAUSTED'}}\n",
      "\n",
      " Sample 18/519 (API Error)\n",
      "An error occurred: 429 RESOURCE_EXHAUSTED. {'error': {'code': 429, 'message': 'Resource exhausted. Please try again later. Please refer to https://cloud.google.com/vertex-ai/generative-ai/docs/error-code-429 for more details.', 'status': 'RESOURCE_EXHAUSTED'}}\n"
     ]
    },
    {
     "name": "stderr",
     "output_type": "stream",
     "text": [
      "Evaluating gemini-2.5-pro with the entire dataset of (519 samples):   4%|▍         | 20/519 [00:52<01:44,  4.76it/s]"
     ]
    },
    {
     "name": "stdout",
     "output_type": "stream",
     "text": [
      "\n",
      " Sample 19/519 (API Error)\n",
      "An error occurred: 429 RESOURCE_EXHAUSTED. {'error': {'code': 429, 'message': 'Resource exhausted. Please try again later. Please refer to https://cloud.google.com/vertex-ai/generative-ai/docs/error-code-429 for more details.', 'status': 'RESOURCE_EXHAUSTED'}}\n",
      "\n",
      " Sample 20/519 (API Error)\n",
      "An error occurred: 429 RESOURCE_EXHAUSTED. {'error': {'code': 429, 'message': 'Resource exhausted. Please try again later. Please refer to https://cloud.google.com/vertex-ai/generative-ai/docs/error-code-429 for more details.', 'status': 'RESOURCE_EXHAUSTED'}}\n",
      "\n",
      " Sample 21/519 (API Error)\n",
      "An error occurred: 429 RESOURCE_EXHAUSTED. {'error': {'code': 429, 'message': 'Resource exhausted. Please try again later. Please refer to https://cloud.google.com/vertex-ai/generative-ai/docs/error-code-429 for more details.', 'status': 'RESOURCE_EXHAUSTED'}}\n"
     ]
    },
    {
     "name": "stderr",
     "output_type": "stream",
     "text": [
      "Evaluating gemini-2.5-pro with the entire dataset of (519 samples):   5%|▌         | 26/519 [01:41<38:32,  4.69s/it]  "
     ]
    },
    {
     "name": "stdout",
     "output_type": "stream",
     "text": [
      "\n",
      " Sample 25/519 (API Error)\n",
      "An error occurred: 429 RESOURCE_EXHAUSTED. {'error': {'code': 429, 'message': 'Resource exhausted. Please try again later. Please refer to https://cloud.google.com/vertex-ai/generative-ai/docs/error-code-429 for more details.', 'status': 'RESOURCE_EXHAUSTED'}}\n",
      "\n",
      " Sample 26/519 (API Error)\n",
      "An error occurred: 429 RESOURCE_EXHAUSTED. {'error': {'code': 429, 'message': 'Resource exhausted. Please try again later. Please refer to https://cloud.google.com/vertex-ai/generative-ai/docs/error-code-429 for more details.', 'status': 'RESOURCE_EXHAUSTED'}}\n"
     ]
    },
    {
     "name": "stderr",
     "output_type": "stream",
     "text": [
      "Evaluating gemini-2.5-pro with the entire dataset of (519 samples):   5%|▌         | 28/519 [01:41<25:17,  3.09s/it]"
     ]
    },
    {
     "name": "stdout",
     "output_type": "stream",
     "text": [
      "\n",
      " Sample 27/519 (API Error)\n",
      "An error occurred: 429 RESOURCE_EXHAUSTED. {'error': {'code': 429, 'message': 'Resource exhausted. Please try again later. Please refer to https://cloud.google.com/vertex-ai/generative-ai/docs/error-code-429 for more details.', 'status': 'RESOURCE_EXHAUSTED'}}\n",
      "\n",
      " Sample 28/519 (API Error)\n",
      "An error occurred: 429 RESOURCE_EXHAUSTED. {'error': {'code': 429, 'message': 'Resource exhausted. Please try again later. Please refer to https://cloud.google.com/vertex-ai/generative-ai/docs/error-code-429 for more details.', 'status': 'RESOURCE_EXHAUSTED'}}\n"
     ]
    },
    {
     "name": "stderr",
     "output_type": "stream",
     "text": [
      "Evaluating gemini-2.5-pro with the entire dataset of (519 samples):   6%|▌         | 30/519 [01:41<17:05,  2.10s/it]"
     ]
    },
    {
     "name": "stdout",
     "output_type": "stream",
     "text": [
      "\n",
      " Sample 29/519 (API Error)\n",
      "An error occurred: 429 RESOURCE_EXHAUSTED. {'error': {'code': 429, 'message': 'Resource exhausted. Please try again later. Please refer to https://cloud.google.com/vertex-ai/generative-ai/docs/error-code-429 for more details.', 'status': 'RESOURCE_EXHAUSTED'}}\n",
      "\n",
      " Sample 30/519 (API Error)\n",
      "An error occurred: 429 RESOURCE_EXHAUSTED. {'error': {'code': 429, 'message': 'Resource exhausted. Please try again later. Please refer to https://cloud.google.com/vertex-ai/generative-ai/docs/error-code-429 for more details.', 'status': 'RESOURCE_EXHAUSTED'}}\n",
      "\n",
      " Sample 31/519 (API Error)\n",
      "An error occurred: 429 RESOURCE_EXHAUSTED. {'error': {'code': 429, 'message': 'Resource exhausted. Please try again later. Please refer to https://cloud.google.com/vertex-ai/generative-ai/docs/error-code-429 for more details.', 'status': 'RESOURCE_EXHAUSTED'}}\n"
     ]
    },
    {
     "name": "stderr",
     "output_type": "stream",
     "text": [
      "Evaluating gemini-2.5-pro with the entire dataset of (519 samples):   6%|▌         | 32/519 [01:41<11:48,  1.45s/it]"
     ]
    },
    {
     "name": "stdout",
     "output_type": "stream",
     "text": [
      "\n",
      " Sample 32/519 (API Error)\n",
      "An error occurred: 429 RESOURCE_EXHAUSTED. {'error': {'code': 429, 'message': 'Resource exhausted. Please try again later. Please refer to https://cloud.google.com/vertex-ai/generative-ai/docs/error-code-429 for more details.', 'status': 'RESOURCE_EXHAUSTED'}}\n",
      "\n",
      " Sample 33/519 (API Error)\n",
      "An error occurred: 429 RESOURCE_EXHAUSTED. {'error': {'code': 429, 'message': 'Resource exhausted. Please try again later. Please refer to https://cloud.google.com/vertex-ai/generative-ai/docs/error-code-429 for more details.', 'status': 'RESOURCE_EXHAUSTED'}}\n"
     ]
    },
    {
     "name": "stderr",
     "output_type": "stream",
     "text": [
      "Evaluating gemini-2.5-pro with the entire dataset of (519 samples):   7%|▋         | 35/519 [01:42<06:59,  1.15it/s]"
     ]
    },
    {
     "name": "stdout",
     "output_type": "stream",
     "text": [
      "\n",
      " Sample 34/519 (API Error)\n",
      "An error occurred: 429 RESOURCE_EXHAUSTED. {'error': {'code': 429, 'message': 'Resource exhausted. Please try again later. Please refer to https://cloud.google.com/vertex-ai/generative-ai/docs/error-code-429 for more details.', 'status': 'RESOURCE_EXHAUSTED'}}\n",
      "\n",
      " Sample 35/519 (API Error)\n",
      "An error occurred: 429 RESOURCE_EXHAUSTED. {'error': {'code': 429, 'message': 'Resource exhausted. Please try again later. Please refer to https://cloud.google.com/vertex-ai/generative-ai/docs/error-code-429 for more details.', 'status': 'RESOURCE_EXHAUSTED'}}\n"
     ]
    },
    {
     "name": "stderr",
     "output_type": "stream",
     "text": [
      "Evaluating gemini-2.5-pro with the entire dataset of (519 samples):   7%|▋         | 36/519 [01:42<05:42,  1.41it/s]"
     ]
    },
    {
     "name": "stdout",
     "output_type": "stream",
     "text": [
      "\n",
      " Sample 36/519 (API Error)\n",
      "An error occurred: 429 RESOURCE_EXHAUSTED. {'error': {'code': 429, 'message': 'Resource exhausted. Please try again later. Please refer to https://cloud.google.com/vertex-ai/generative-ai/docs/error-code-429 for more details.', 'status': 'RESOURCE_EXHAUSTED'}}\n"
     ]
    },
    {
     "name": "stderr",
     "output_type": "stream",
     "text": [
      "Evaluating gemini-2.5-pro with the entire dataset of (519 samples):   8%|▊         | 41/519 [02:56<1:16:50,  9.65s/it]"
     ]
    },
    {
     "name": "stdout",
     "output_type": "stream",
     "text": [
      "\n",
      " Sample 41/519 (API Error)\n",
      "An error occurred: 429 RESOURCE_EXHAUSTED. {'error': {'code': 429, 'message': 'Resource exhausted. Please try again later. Please refer to https://cloud.google.com/vertex-ai/generative-ai/docs/error-code-429 for more details.', 'status': 'RESOURCE_EXHAUSTED'}}\n"
     ]
    },
    {
     "name": "stderr",
     "output_type": "stream",
     "text": [
      "Evaluating gemini-2.5-pro with the entire dataset of (519 samples):   9%|▉         | 49/519 [04:57<1:16:59,  9.83s/it]"
     ]
    },
    {
     "name": "stdout",
     "output_type": "stream",
     "text": [
      "\n",
      " Sample 48/519 (API Error)\n",
      "An error occurred: 429 RESOURCE_EXHAUSTED. {'error': {'code': 429, 'message': 'Resource exhausted. Please try again later. Please refer to https://cloud.google.com/vertex-ai/generative-ai/docs/error-code-429 for more details.', 'status': 'RESOURCE_EXHAUSTED'}}\n",
      "\n",
      " Sample 49/519 (API Error)\n",
      "An error occurred: 429 RESOURCE_EXHAUSTED. {'error': {'code': 429, 'message': 'Resource exhausted. Please try again later. Please refer to https://cloud.google.com/vertex-ai/generative-ai/docs/error-code-429 for more details.', 'status': 'RESOURCE_EXHAUSTED'}}\n"
     ]
    },
    {
     "name": "stderr",
     "output_type": "stream",
     "text": [
      "Evaluating gemini-2.5-pro with the entire dataset of (519 samples):  10%|▉         | 50/519 [04:57<58:05,  7.43s/it]  "
     ]
    },
    {
     "name": "stdout",
     "output_type": "stream",
     "text": [
      "\n",
      " Sample 50/519 (API Error)\n",
      "An error occurred: 429 RESOURCE_EXHAUSTED. {'error': {'code': 429, 'message': 'Resource exhausted. Please try again later. Please refer to https://cloud.google.com/vertex-ai/generative-ai/docs/error-code-429 for more details.', 'status': 'RESOURCE_EXHAUSTED'}}\n"
     ]
    },
    {
     "name": "stderr",
     "output_type": "stream",
     "text": [
      "Evaluating gemini-2.5-pro with the entire dataset of (519 samples):  10%|█         | 54/519 [05:32<48:47,  6.30s/it]  "
     ]
    },
    {
     "name": "stdout",
     "output_type": "stream",
     "text": [
      "\n",
      " Sample 53/519 (API Error)\n",
      "An error occurred: 429 RESOURCE_EXHAUSTED. {'error': {'code': 429, 'message': 'Resource exhausted. Please try again later. Please refer to https://cloud.google.com/vertex-ai/generative-ai/docs/error-code-429 for more details.', 'status': 'RESOURCE_EXHAUSTED'}}\n",
      "\n",
      " Sample 54/519 (API Error)\n",
      "An error occurred: 429 RESOURCE_EXHAUSTED. {'error': {'code': 429, 'message': 'Resource exhausted. Please try again later. Please refer to https://cloud.google.com/vertex-ai/generative-ai/docs/error-code-429 for more details.', 'status': 'RESOURCE_EXHAUSTED'}}\n"
     ]
    },
    {
     "name": "stderr",
     "output_type": "stream",
     "text": [
      "Evaluating gemini-2.5-pro with the entire dataset of (519 samples):  13%|█▎        | 69/519 [08:51<1:05:11,  8.69s/it]"
     ]
    },
    {
     "name": "stdout",
     "output_type": "stream",
     "text": [
      "\n",
      " Sample 68/519 (API Error)\n",
      "An error occurred: 429 RESOURCE_EXHAUSTED. {'error': {'code': 429, 'message': 'Resource exhausted. Please try again later. Please refer to https://cloud.google.com/vertex-ai/generative-ai/docs/error-code-429 for more details.', 'status': 'RESOURCE_EXHAUSTED'}}\n",
      "\n",
      " Sample 69/519 (API Error)\n",
      "An error occurred: 429 RESOURCE_EXHAUSTED. {'error': {'code': 429, 'message': 'Resource exhausted. Please try again later. Please refer to https://cloud.google.com/vertex-ai/generative-ai/docs/error-code-429 for more details.', 'status': 'RESOURCE_EXHAUSTED'}}\n"
     ]
    },
    {
     "name": "stderr",
     "output_type": "stream",
     "text": [
      "Evaluating gemini-2.5-pro with the entire dataset of (519 samples):  14%|█▎        | 71/519 [08:52<32:17,  4.32s/it]  "
     ]
    },
    {
     "name": "stdout",
     "output_type": "stream",
     "text": [
      "\n",
      " Sample 70/519 (API Error)\n",
      "An error occurred: 429 RESOURCE_EXHAUSTED. {'error': {'code': 429, 'message': 'Resource exhausted. Please try again later. Please refer to https://cloud.google.com/vertex-ai/generative-ai/docs/error-code-429 for more details.', 'status': 'RESOURCE_EXHAUSTED'}}\n",
      "\n",
      " Sample 71/519 (API Error)\n",
      "An error occurred: 429 RESOURCE_EXHAUSTED. {'error': {'code': 429, 'message': 'Resource exhausted. Please try again later. Please refer to https://cloud.google.com/vertex-ai/generative-ai/docs/error-code-429 for more details.', 'status': 'RESOURCE_EXHAUSTED'}}\n"
     ]
    },
    {
     "name": "stderr",
     "output_type": "stream",
     "text": [
      "Evaluating gemini-2.5-pro with the entire dataset of (519 samples):  14%|█▍        | 73/519 [08:52<17:42,  2.38s/it]"
     ]
    },
    {
     "name": "stdout",
     "output_type": "stream",
     "text": [
      "\n",
      " Sample 72/519 (API Error)\n",
      "An error occurred: 429 RESOURCE_EXHAUSTED. {'error': {'code': 429, 'message': 'Resource exhausted. Please try again later. Please refer to https://cloud.google.com/vertex-ai/generative-ai/docs/error-code-429 for more details.', 'status': 'RESOURCE_EXHAUSTED'}}\n",
      "\n",
      " Sample 73/519 (API Error)\n",
      "An error occurred: 429 RESOURCE_EXHAUSTED. {'error': {'code': 429, 'message': 'Resource exhausted. Please try again later. Please refer to https://cloud.google.com/vertex-ai/generative-ai/docs/error-code-429 for more details.', 'status': 'RESOURCE_EXHAUSTED'}}\n"
     ]
    },
    {
     "name": "stderr",
     "output_type": "stream",
     "text": [
      "Evaluating gemini-2.5-pro with the entire dataset of (519 samples):  14%|█▍        | 74/519 [08:52<13:31,  1.82s/it]"
     ]
    },
    {
     "name": "stdout",
     "output_type": "stream",
     "text": [
      "\n",
      " Sample 74/519 (API Error)\n",
      "An error occurred: 429 RESOURCE_EXHAUSTED. {'error': {'code': 429, 'message': 'Resource exhausted. Please try again later. Please refer to https://cloud.google.com/vertex-ai/generative-ai/docs/error-code-429 for more details.', 'status': 'RESOURCE_EXHAUSTED'}}\n"
     ]
    },
    {
     "name": "stderr",
     "output_type": "stream",
     "text": [
      "Evaluating gemini-2.5-pro with the entire dataset of (519 samples):  15%|█▌        | 79/519 [09:37<38:05,  5.19s/it]  "
     ]
    },
    {
     "name": "stdout",
     "output_type": "stream",
     "text": [
      "\n",
      " Sample 78/519 (API Error)\n",
      "An error occurred: 429 RESOURCE_EXHAUSTED. {'error': {'code': 429, 'message': 'Resource exhausted. Please try again later. Please refer to https://cloud.google.com/vertex-ai/generative-ai/docs/error-code-429 for more details.', 'status': 'RESOURCE_EXHAUSTED'}}\n",
      "\n",
      " Sample 79/519 (API Error)\n",
      "An error occurred: 429 RESOURCE_EXHAUSTED. {'error': {'code': 429, 'message': 'Resource exhausted. Please try again later. Please refer to https://cloud.google.com/vertex-ai/generative-ai/docs/error-code-429 for more details.', 'status': 'RESOURCE_EXHAUSTED'}}\n",
      "\n",
      " Sample 80/519 (API Error)\n",
      "An error occurred: 429 RESOURCE_EXHAUSTED. {'error': {'code': 429, 'message': 'Resource exhausted. Please try again later. Please refer to https://cloud.google.com/vertex-ai/generative-ai/docs/error-code-429 for more details.', 'status': 'RESOURCE_EXHAUSTED'}}\n"
     ]
    },
    {
     "name": "stderr",
     "output_type": "stream",
     "text": [
      "Evaluating gemini-2.5-pro with the entire dataset of (519 samples):  16%|█▌        | 83/519 [09:37<15:14,  2.10s/it]"
     ]
    },
    {
     "name": "stdout",
     "output_type": "stream",
     "text": [
      "\n",
      " Sample 81/519 (API Error)\n",
      "An error occurred: 429 RESOURCE_EXHAUSTED. {'error': {'code': 429, 'message': 'Resource exhausted. Please try again later. Please refer to https://cloud.google.com/vertex-ai/generative-ai/docs/error-code-429 for more details.', 'status': 'RESOURCE_EXHAUSTED'}}\n",
      "\n",
      " Sample 82/519 (API Error)\n",
      "An error occurred: 429 RESOURCE_EXHAUSTED. {'error': {'code': 429, 'message': 'Resource exhausted. Please try again later. Please refer to https://cloud.google.com/vertex-ai/generative-ai/docs/error-code-429 for more details.', 'status': 'RESOURCE_EXHAUSTED'}}\n",
      "\n",
      " Sample 83/519 (API Error)\n",
      "An error occurred: 429 RESOURCE_EXHAUSTED. {'error': {'code': 429, 'message': 'Resource exhausted. Please try again later. Please refer to https://cloud.google.com/vertex-ai/generative-ai/docs/error-code-429 for more details.', 'status': 'RESOURCE_EXHAUSTED'}}\n"
     ]
    },
    {
     "name": "stderr",
     "output_type": "stream",
     "text": [
      "Evaluating gemini-2.5-pro with the entire dataset of (519 samples):  17%|█▋        | 87/519 [10:12<33:00,  4.58s/it]"
     ]
    },
    {
     "name": "stdout",
     "output_type": "stream",
     "text": [
      "\n",
      " Sample 86/519 (API Error)\n",
      "An error occurred: 429 RESOURCE_EXHAUSTED. {'error': {'code': 429, 'message': 'Resource exhausted. Please try again later. Please refer to https://cloud.google.com/vertex-ai/generative-ai/docs/error-code-429 for more details.', 'status': 'RESOURCE_EXHAUSTED'}}\n",
      "\n",
      " Sample 87/519 (API Error)\n",
      "An error occurred: 429 RESOURCE_EXHAUSTED. {'error': {'code': 429, 'message': 'Resource exhausted. Please try again later. Please refer to https://cloud.google.com/vertex-ai/generative-ai/docs/error-code-429 for more details.', 'status': 'RESOURCE_EXHAUSTED'}}\n"
     ]
    },
    {
     "name": "stderr",
     "output_type": "stream",
     "text": [
      "Evaluating gemini-2.5-pro with the entire dataset of (519 samples):  17%|█▋        | 89/519 [10:12<19:03,  2.66s/it]"
     ]
    },
    {
     "name": "stdout",
     "output_type": "stream",
     "text": [
      "\n",
      " Sample 88/519 (API Error)\n",
      "An error occurred: 429 RESOURCE_EXHAUSTED. {'error': {'code': 429, 'message': 'Resource exhausted. Please try again later. Please refer to https://cloud.google.com/vertex-ai/generative-ai/docs/error-code-429 for more details.', 'status': 'RESOURCE_EXHAUSTED'}}\n",
      "\n",
      " Sample 89/519 (API Error)\n",
      "An error occurred: 429 RESOURCE_EXHAUSTED. {'error': {'code': 429, 'message': 'Resource exhausted. Please try again later. Please refer to https://cloud.google.com/vertex-ai/generative-ai/docs/error-code-429 for more details.', 'status': 'RESOURCE_EXHAUSTED'}}\n"
     ]
    },
    {
     "name": "stderr",
     "output_type": "stream",
     "text": [
      "Evaluating gemini-2.5-pro with the entire dataset of (519 samples):  17%|█▋        | 90/519 [10:12<14:12,  1.99s/it]"
     ]
    },
    {
     "name": "stdout",
     "output_type": "stream",
     "text": [
      "\n",
      " Sample 90/519 (API Error)\n",
      "An error occurred: 429 RESOURCE_EXHAUSTED. {'error': {'code': 429, 'message': 'Resource exhausted. Please try again later. Please refer to https://cloud.google.com/vertex-ai/generative-ai/docs/error-code-429 for more details.', 'status': 'RESOURCE_EXHAUSTED'}}\n"
     ]
    },
    {
     "name": "stderr",
     "output_type": "stream",
     "text": [
      "Evaluating gemini-2.5-pro with the entire dataset of (519 samples):  18%|█▊        | 91/519 [10:27<39:32,  5.54s/it]"
     ]
    },
    {
     "name": "stdout",
     "output_type": "stream",
     "text": [
      "\n",
      " Sample 92/519 (API Error)\n",
      "An error occurred: 429 RESOURCE_EXHAUSTED. {'error': {'code': 429, 'message': 'Resource exhausted. Please try again later. Please refer to https://cloud.google.com/vertex-ai/generative-ai/docs/error-code-429 for more details.', 'status': 'RESOURCE_EXHAUSTED'}}\n"
     ]
    },
    {
     "name": "stderr",
     "output_type": "stream",
     "text": [
      "Evaluating gemini-2.5-pro with the entire dataset of (519 samples):  18%|█▊        | 95/519 [10:57<44:13,  6.26s/it]"
     ]
    },
    {
     "name": "stdout",
     "output_type": "stream",
     "text": [
      "\n",
      " Sample 95/519 (API Error)\n",
      "An error occurred: 429 RESOURCE_EXHAUSTED. {'error': {'code': 429, 'message': 'Resource exhausted. Please try again later. Please refer to https://cloud.google.com/vertex-ai/generative-ai/docs/error-code-429 for more details.', 'status': 'RESOURCE_EXHAUSTED'}}\n",
      "\n",
      " Sample 96/519 (API Error)\n",
      "An error occurred: 429 RESOURCE_EXHAUSTED. {'error': {'code': 429, 'message': 'Resource exhausted. Please try again later. Please refer to https://cloud.google.com/vertex-ai/generative-ai/docs/error-code-429 for more details.', 'status': 'RESOURCE_EXHAUSTED'}}\n"
     ]
    },
    {
     "name": "stderr",
     "output_type": "stream",
     "text": [
      "Evaluating gemini-2.5-pro with the entire dataset of (519 samples):  19%|█▊        | 97/519 [10:57<25:47,  3.67s/it]"
     ]
    },
    {
     "name": "stdout",
     "output_type": "stream",
     "text": [
      "\n",
      " Sample 97/519 (API Error)\n",
      "An error occurred: 429 RESOURCE_EXHAUSTED. {'error': {'code': 429, 'message': 'Resource exhausted. Please try again later. Please refer to https://cloud.google.com/vertex-ai/generative-ai/docs/error-code-429 for more details.', 'status': 'RESOURCE_EXHAUSTED'}}\n",
      "\n",
      " Sample 98/519 (API Error)\n",
      "An error occurred: 429 RESOURCE_EXHAUSTED. {'error': {'code': 429, 'message': 'Resource exhausted. Please try again later. Please refer to https://cloud.google.com/vertex-ai/generative-ai/docs/error-code-429 for more details.', 'status': 'RESOURCE_EXHAUSTED'}}\n"
     ]
    },
    {
     "name": "stderr",
     "output_type": "stream",
     "text": [
      "Evaluating gemini-2.5-pro with the entire dataset of (519 samples):  20%|█▉        | 103/519 [12:06<1:08:22,  9.86s/it]"
     ]
    },
    {
     "name": "stdout",
     "output_type": "stream",
     "text": [
      "\n",
      " Sample 103/519 (API Error)\n",
      "An error occurred: 429 RESOURCE_EXHAUSTED. {'error': {'code': 429, 'message': 'Resource exhausted. Please try again later. Please refer to https://cloud.google.com/vertex-ai/generative-ai/docs/error-code-429 for more details.', 'status': 'RESOURCE_EXHAUSTED'}}\n"
     ]
    },
    {
     "name": "stderr",
     "output_type": "stream",
     "text": [
      "Evaluating gemini-2.5-pro with the entire dataset of (519 samples):  24%|██▎       | 123/519 [17:10<1:16:53, 11.65s/it]"
     ]
    },
    {
     "name": "stdout",
     "output_type": "stream",
     "text": [
      "\n",
      " Sample 123/519 (API Error)\n",
      "An error occurred: 429 RESOURCE_EXHAUSTED. {'error': {'code': 429, 'message': 'Resource exhausted. Please try again later. Please refer to https://cloud.google.com/vertex-ai/generative-ai/docs/error-code-429 for more details.', 'status': 'RESOURCE_EXHAUSTED'}}\n"
     ]
    },
    {
     "name": "stderr",
     "output_type": "stream",
     "text": [
      "Evaluating gemini-2.5-pro with the entire dataset of (519 samples):  25%|██▍       | 129/519 [18:12<48:00,  7.39s/it]  "
     ]
    },
    {
     "name": "stdout",
     "output_type": "stream",
     "text": [
      "\n",
      " Sample 128/519 (API Error)\n",
      "An error occurred: 429 RESOURCE_EXHAUSTED. {'error': {'code': 429, 'message': 'Resource exhausted. Please try again later. Please refer to https://cloud.google.com/vertex-ai/generative-ai/docs/error-code-429 for more details.', 'status': 'RESOURCE_EXHAUSTED'}}\n",
      "\n",
      " Sample 129/519 (API Error)\n",
      "An error occurred: 429 RESOURCE_EXHAUSTED. {'error': {'code': 429, 'message': 'Resource exhausted. Please try again later. Please refer to https://cloud.google.com/vertex-ai/generative-ai/docs/error-code-429 for more details.', 'status': 'RESOURCE_EXHAUSTED'}}\n"
     ]
    },
    {
     "name": "stderr",
     "output_type": "stream",
     "text": [
      "Evaluating gemini-2.5-pro with the entire dataset of (519 samples):  27%|██▋       | 139/519 [20:26<50:42,  8.01s/it]  "
     ]
    },
    {
     "name": "stdout",
     "output_type": "stream",
     "text": [
      "\n",
      " Sample 138/519 (API Error)\n",
      "An error occurred: 429 RESOURCE_EXHAUSTED. {'error': {'code': 429, 'message': 'Resource exhausted. Please try again later. Please refer to https://cloud.google.com/vertex-ai/generative-ai/docs/error-code-429 for more details.', 'status': 'RESOURCE_EXHAUSTED'}}\n",
      "\n",
      " Sample 139/519 (API Error)\n",
      "An error occurred: 429 RESOURCE_EXHAUSTED. {'error': {'code': 429, 'message': 'Resource exhausted. Please try again later. Please refer to https://cloud.google.com/vertex-ai/generative-ai/docs/error-code-429 for more details.', 'status': 'RESOURCE_EXHAUSTED'}}\n"
     ]
    },
    {
     "name": "stderr",
     "output_type": "stream",
     "text": [
      "Evaluating gemini-2.5-pro with the entire dataset of (519 samples):  27%|██▋       | 141/519 [20:26<25:09,  3.99s/it]"
     ]
    },
    {
     "name": "stdout",
     "output_type": "stream",
     "text": [
      "\n",
      " Sample 140/519 (API Error)\n",
      "An error occurred: 429 RESOURCE_EXHAUSTED. {'error': {'code': 429, 'message': 'Resource exhausted. Please try again later. Please refer to https://cloud.google.com/vertex-ai/generative-ai/docs/error-code-429 for more details.', 'status': 'RESOURCE_EXHAUSTED'}}\n",
      "\n",
      " Sample 141/519 (API Error)\n",
      "An error occurred: 429 RESOURCE_EXHAUSTED. {'error': {'code': 429, 'message': 'Resource exhausted. Please try again later. Please refer to https://cloud.google.com/vertex-ai/generative-ai/docs/error-code-429 for more details.', 'status': 'RESOURCE_EXHAUSTED'}}\n"
     ]
    },
    {
     "name": "stderr",
     "output_type": "stream",
     "text": [
      "Evaluating gemini-2.5-pro with the entire dataset of (519 samples):  28%|██▊       | 143/519 [20:27<13:44,  2.19s/it]"
     ]
    },
    {
     "name": "stdout",
     "output_type": "stream",
     "text": [
      "\n",
      " Sample 142/519 (API Error)\n",
      "An error occurred: 429 RESOURCE_EXHAUSTED. {'error': {'code': 429, 'message': 'Resource exhausted. Please try again later. Please refer to https://cloud.google.com/vertex-ai/generative-ai/docs/error-code-429 for more details.', 'status': 'RESOURCE_EXHAUSTED'}}\n",
      "\n",
      " Sample 143/519 (API Error)\n",
      "An error occurred: 429 RESOURCE_EXHAUSTED. {'error': {'code': 429, 'message': 'Resource exhausted. Please try again later. Please refer to https://cloud.google.com/vertex-ai/generative-ai/docs/error-code-429 for more details.', 'status': 'RESOURCE_EXHAUSTED'}}\n"
     ]
    },
    {
     "name": "stderr",
     "output_type": "stream",
     "text": [
      "Evaluating gemini-2.5-pro with the entire dataset of (519 samples):  28%|██▊       | 145/519 [20:27<07:55,  1.27s/it]"
     ]
    },
    {
     "name": "stdout",
     "output_type": "stream",
     "text": [
      "\n",
      " Sample 144/519 (API Error)\n",
      "An error occurred: 429 RESOURCE_EXHAUSTED. {'error': {'code': 429, 'message': 'Resource exhausted. Please try again later. Please refer to https://cloud.google.com/vertex-ai/generative-ai/docs/error-code-429 for more details.', 'status': 'RESOURCE_EXHAUSTED'}}\n",
      "\n",
      " Sample 145/519 (API Error)\n",
      "An error occurred: 429 RESOURCE_EXHAUSTED. {'error': {'code': 429, 'message': 'Resource exhausted. Please try again later. Please refer to https://cloud.google.com/vertex-ai/generative-ai/docs/error-code-429 for more details.', 'status': 'RESOURCE_EXHAUSTED'}}\n"
     ]
    },
    {
     "name": "stderr",
     "output_type": "stream",
     "text": [
      "Evaluating gemini-2.5-pro with the entire dataset of (519 samples):  31%|███       | 160/519 [23:57<1:24:06, 14.06s/it]"
     ]
    },
    {
     "name": "stdout",
     "output_type": "stream",
     "text": [
      "\n",
      " Sample 161/519 (API Error)\n",
      "An error occurred: 429 RESOURCE_EXHAUSTED. {'error': {'code': 429, 'message': 'Resource exhausted. Please try again later. Please refer to https://cloud.google.com/vertex-ai/generative-ai/docs/error-code-429 for more details.', 'status': 'RESOURCE_EXHAUSTED'}}\n"
     ]
    },
    {
     "name": "stderr",
     "output_type": "stream",
     "text": [
      "Evaluating gemini-2.5-pro with the entire dataset of (519 samples):  33%|███▎      | 171/519 [26:07<47:30,  8.19s/it]  "
     ]
    },
    {
     "name": "stdout",
     "output_type": "stream",
     "text": [
      "\n",
      " Sample 170/519 (API Error)\n",
      "An error occurred: 429 RESOURCE_EXHAUSTED. {'error': {'code': 429, 'message': 'Resource exhausted. Please try again later. Please refer to https://cloud.google.com/vertex-ai/generative-ai/docs/error-code-429 for more details.', 'status': 'RESOURCE_EXHAUSTED'}}\n",
      "\n",
      " Sample 171/519 (API Error)\n",
      "An error occurred: 429 RESOURCE_EXHAUSTED. {'error': {'code': 429, 'message': 'Resource exhausted. Please try again later. Please refer to https://cloud.google.com/vertex-ai/generative-ai/docs/error-code-429 for more details.', 'status': 'RESOURCE_EXHAUSTED'}}\n"
     ]
    },
    {
     "name": "stderr",
     "output_type": "stream",
     "text": [
      "Evaluating gemini-2.5-pro with the entire dataset of (519 samples):  34%|███▍      | 177/519 [27:32<51:49,  9.09s/it]  "
     ]
    },
    {
     "name": "stdout",
     "output_type": "stream",
     "text": [
      "\n",
      " Sample 176/519 (API Error)\n",
      "An error occurred: 429 RESOURCE_EXHAUSTED. {'error': {'code': 429, 'message': 'Resource exhausted. Please try again later. Please refer to https://cloud.google.com/vertex-ai/generative-ai/docs/error-code-429 for more details.', 'status': 'RESOURCE_EXHAUSTED'}}\n",
      "\n",
      " Sample 177/519 (API Error)\n",
      "An error occurred: 429 RESOURCE_EXHAUSTED. {'error': {'code': 429, 'message': 'Resource exhausted. Please try again later. Please refer to https://cloud.google.com/vertex-ai/generative-ai/docs/error-code-429 for more details.', 'status': 'RESOURCE_EXHAUSTED'}}\n"
     ]
    },
    {
     "name": "stderr",
     "output_type": "stream",
     "text": [
      "Evaluating gemini-2.5-pro with the entire dataset of (519 samples):  34%|███▍      | 178/519 [27:32<36:25,  6.41s/it]"
     ]
    },
    {
     "name": "stdout",
     "output_type": "stream",
     "text": [
      "\n",
      " Sample 178/519 (API Error)\n",
      "An error occurred: 429 RESOURCE_EXHAUSTED. {'error': {'code': 429, 'message': 'Resource exhausted. Please try again later. Please refer to https://cloud.google.com/vertex-ai/generative-ai/docs/error-code-429 for more details.', 'status': 'RESOURCE_EXHAUSTED'}}\n"
     ]
    },
    {
     "name": "stderr",
     "output_type": "stream",
     "text": [
      "Evaluating gemini-2.5-pro with the entire dataset of (519 samples):  37%|███▋      | 193/519 [31:12<1:04:21, 11.85s/it]"
     ]
    },
    {
     "name": "stdout",
     "output_type": "stream",
     "text": [
      "\n",
      " Sample 193/519 (API Error)\n",
      "An error occurred: 429 RESOURCE_EXHAUSTED. {'error': {'code': 429, 'message': 'Resource exhausted. Please try again later. Please refer to https://cloud.google.com/vertex-ai/generative-ai/docs/error-code-429 for more details.', 'status': 'RESOURCE_EXHAUSTED'}}\n",
      "\n",
      " Sample 194/519 (API Error)\n",
      "An error occurred: 429 RESOURCE_EXHAUSTED. {'error': {'code': 429, 'message': 'Resource exhausted. Please try again later. Please refer to https://cloud.google.com/vertex-ai/generative-ai/docs/error-code-429 for more details.', 'status': 'RESOURCE_EXHAUSTED'}}\n"
     ]
    },
    {
     "name": "stderr",
     "output_type": "stream",
     "text": [
      "Evaluating gemini-2.5-pro with the entire dataset of (519 samples):  41%|████▏     | 215/519 [36:06<49:19,  9.73s/it]  "
     ]
    },
    {
     "name": "stdout",
     "output_type": "stream",
     "text": [
      "\n",
      " Sample 215/519 (API Error)\n",
      "An error occurred: 429 RESOURCE_EXHAUSTED. {'error': {'code': 429, 'message': 'Resource exhausted. Please try again later. Please refer to https://cloud.google.com/vertex-ai/generative-ai/docs/error-code-429 for more details.', 'status': 'RESOURCE_EXHAUSTED'}}\n",
      "\n",
      " Sample 216/519 (API Error)\n",
      "An error occurred: 429 RESOURCE_EXHAUSTED. {'error': {'code': 429, 'message': 'Resource exhausted. Please try again later. Please refer to https://cloud.google.com/vertex-ai/generative-ai/docs/error-code-429 for more details.', 'status': 'RESOURCE_EXHAUSTED'}}\n"
     ]
    },
    {
     "name": "stderr",
     "output_type": "stream",
     "text": [
      "Evaluating gemini-2.5-pro with the entire dataset of (519 samples):  42%|████▏     | 218/519 [36:06<20:09,  4.02s/it]"
     ]
    },
    {
     "name": "stdout",
     "output_type": "stream",
     "text": [
      "\n",
      " Sample 217/519 (API Error)\n",
      "An error occurred: 429 RESOURCE_EXHAUSTED. {'error': {'code': 429, 'message': 'Resource exhausted. Please try again later. Please refer to https://cloud.google.com/vertex-ai/generative-ai/docs/error-code-429 for more details.', 'status': 'RESOURCE_EXHAUSTED'}}\n",
      "\n",
      " Sample 218/519 (API Error)\n",
      "An error occurred: 429 RESOURCE_EXHAUSTED. {'error': {'code': 429, 'message': 'Resource exhausted. Please try again later. Please refer to https://cloud.google.com/vertex-ai/generative-ai/docs/error-code-429 for more details.', 'status': 'RESOURCE_EXHAUSTED'}}\n"
     ]
    },
    {
     "name": "stderr",
     "output_type": "stream",
     "text": [
      "Evaluating gemini-2.5-pro with the entire dataset of (519 samples):  42%|████▏     | 219/519 [36:07<15:01,  3.00s/it]"
     ]
    },
    {
     "name": "stdout",
     "output_type": "stream",
     "text": [
      "\n",
      " Sample 219/519 (API Error)\n",
      "An error occurred: 429 RESOURCE_EXHAUSTED. {'error': {'code': 429, 'message': 'Resource exhausted. Please try again later. Please refer to https://cloud.google.com/vertex-ai/generative-ai/docs/error-code-429 for more details.', 'status': 'RESOURCE_EXHAUSTED'}}\n",
      "\n",
      " Sample 220/519 (API Error)\n",
      "An error occurred: 429 RESOURCE_EXHAUSTED. {'error': {'code': 429, 'message': 'Resource exhausted. Please try again later. Please refer to https://cloud.google.com/vertex-ai/generative-ai/docs/error-code-429 for more details.', 'status': 'RESOURCE_EXHAUSTED'}}\n",
      "\n",
      " Sample 221/519 (API Error)\n",
      "An error occurred: 429 RESOURCE_EXHAUSTED. {'error': {'code': 429, 'message': 'Resource exhausted. Please try again later. Please refer to https://cloud.google.com/vertex-ai/generative-ai/docs/error-code-429 for more details.', 'status': 'RESOURCE_EXHAUSTED'}}\n"
     ]
    },
    {
     "name": "stderr",
     "output_type": "stream",
     "text": [
      "Evaluating gemini-2.5-pro with the entire dataset of (519 samples):  43%|████▎     | 222/519 [36:07<06:51,  1.39s/it]"
     ]
    },
    {
     "name": "stdout",
     "output_type": "stream",
     "text": [
      "\n",
      " Sample 222/519 (API Error)\n",
      "An error occurred: 429 RESOURCE_EXHAUSTED. {'error': {'code': 429, 'message': 'Resource exhausted. Please try again later. Please refer to https://cloud.google.com/vertex-ai/generative-ai/docs/error-code-429 for more details.', 'status': 'RESOURCE_EXHAUSTED'}}\n"
     ]
    },
    {
     "name": "stderr",
     "output_type": "stream",
     "text": [
      "Evaluating gemini-2.5-pro with the entire dataset of (519 samples):  43%|████▎     | 224/519 [36:29<26:43,  5.43s/it]"
     ]
    },
    {
     "name": "stdout",
     "output_type": "stream",
     "text": [
      "\n",
      " Sample 224/519 (API Error)\n",
      "An error occurred: 429 RESOURCE_EXHAUSTED. {'error': {'code': 429, 'message': 'Resource exhausted. Please try again later. Please refer to https://cloud.google.com/vertex-ai/generative-ai/docs/error-code-429 for more details.', 'status': 'RESOURCE_EXHAUSTED'}}\n"
     ]
    },
    {
     "name": "stderr",
     "output_type": "stream",
     "text": [
      "Evaluating gemini-2.5-pro with the entire dataset of (519 samples):  44%|████▍     | 228/519 [36:59<24:44,  5.10s/it]"
     ]
    },
    {
     "name": "stdout",
     "output_type": "stream",
     "text": [
      "\n",
      " Sample 227/519 (API Error)\n",
      "An error occurred: 429 RESOURCE_EXHAUSTED. {'error': {'code': 429, 'message': 'Resource exhausted. Please try again later. Please refer to https://cloud.google.com/vertex-ai/generative-ai/docs/error-code-429 for more details.', 'status': 'RESOURCE_EXHAUSTED'}}\n",
      "\n",
      " Sample 228/519 (API Error)\n",
      "An error occurred: 429 RESOURCE_EXHAUSTED. {'error': {'code': 429, 'message': 'Resource exhausted. Please try again later. Please refer to https://cloud.google.com/vertex-ai/generative-ai/docs/error-code-429 for more details.', 'status': 'RESOURCE_EXHAUSTED'}}\n"
     ]
    },
    {
     "name": "stderr",
     "output_type": "stream",
     "text": [
      "Evaluating gemini-2.5-pro with the entire dataset of (519 samples):  44%|████▍     | 229/519 [36:59<17:34,  3.64s/it]"
     ]
    },
    {
     "name": "stdout",
     "output_type": "stream",
     "text": [
      "\n",
      " Sample 229/519 (API Error)\n",
      "An error occurred: 429 RESOURCE_EXHAUSTED. {'error': {'code': 429, 'message': 'Resource exhausted. Please try again later. Please refer to https://cloud.google.com/vertex-ai/generative-ai/docs/error-code-429 for more details.', 'status': 'RESOURCE_EXHAUSTED'}}\n",
      "\n",
      " Sample 230/519 (API Error)\n",
      "An error occurred: 429 RESOURCE_EXHAUSTED. {'error': {'code': 429, 'message': 'Resource exhausted. Please try again later. Please refer to https://cloud.google.com/vertex-ai/generative-ai/docs/error-code-429 for more details.', 'status': 'RESOURCE_EXHAUSTED'}}\n"
     ]
    },
    {
     "name": "stderr",
     "output_type": "stream",
     "text": [
      "Evaluating gemini-2.5-pro with the entire dataset of (519 samples):  45%|████▍     | 231/519 [36:59<09:44,  2.03s/it]"
     ]
    },
    {
     "name": "stdout",
     "output_type": "stream",
     "text": [
      "\n",
      " Sample 231/519 (API Error)\n",
      "An error occurred: 429 RESOURCE_EXHAUSTED. {'error': {'code': 429, 'message': 'Resource exhausted. Please try again later. Please refer to https://cloud.google.com/vertex-ai/generative-ai/docs/error-code-429 for more details.', 'status': 'RESOURCE_EXHAUSTED'}}\n",
      "\n",
      " Sample 232/519 (API Error)\n",
      "An error occurred: 429 RESOURCE_EXHAUSTED. {'error': {'code': 429, 'message': 'Resource exhausted. Please try again later. Please refer to https://cloud.google.com/vertex-ai/generative-ai/docs/error-code-429 for more details.', 'status': 'RESOURCE_EXHAUSTED'}}\n",
      "\n",
      " Sample 233/519 (API Error)\n",
      "An error occurred: 429 RESOURCE_EXHAUSTED. {'error': {'code': 429, 'message': 'Resource exhausted. Please try again later. Please refer to https://cloud.google.com/vertex-ai/generative-ai/docs/error-code-429 for more details.', 'status': 'RESOURCE_EXHAUSTED'}}\n"
     ]
    },
    {
     "name": "stderr",
     "output_type": "stream",
     "text": [
      "Evaluating gemini-2.5-pro with the entire dataset of (519 samples):  45%|████▌     | 236/519 [36:59<03:04,  1.53it/s]"
     ]
    },
    {
     "name": "stdout",
     "output_type": "stream",
     "text": [
      "\n",
      " Sample 234/519 (API Error)\n",
      "An error occurred: 429 RESOURCE_EXHAUSTED. {'error': {'code': 429, 'message': 'Resource exhausted. Please try again later. Please refer to https://cloud.google.com/vertex-ai/generative-ai/docs/error-code-429 for more details.', 'status': 'RESOURCE_EXHAUSTED'}}\n",
      "\n",
      " Sample 235/519 (API Error)\n",
      "An error occurred: 429 RESOURCE_EXHAUSTED. {'error': {'code': 429, 'message': 'Resource exhausted. Please try again later. Please refer to https://cloud.google.com/vertex-ai/generative-ai/docs/error-code-429 for more details.', 'status': 'RESOURCE_EXHAUSTED'}}\n",
      "\n",
      " Sample 236/519 (API Error)\n",
      "An error occurred: 429 RESOURCE_EXHAUSTED. {'error': {'code': 429, 'message': 'Resource exhausted. Please try again later. Please refer to https://cloud.google.com/vertex-ai/generative-ai/docs/error-code-429 for more details.', 'status': 'RESOURCE_EXHAUSTED'}}\n"
     ]
    },
    {
     "name": "stderr",
     "output_type": "stream",
     "text": [
      "Evaluating gemini-2.5-pro with the entire dataset of (519 samples):  46%|████▌     | 237/519 [36:59<02:32,  1.85it/s]"
     ]
    },
    {
     "name": "stdout",
     "output_type": "stream",
     "text": [
      "\n",
      " Sample 237/519 (API Error)\n",
      "An error occurred: 429 RESOURCE_EXHAUSTED. {'error': {'code': 429, 'message': 'Resource exhausted. Please try again later. Please refer to https://cloud.google.com/vertex-ai/generative-ai/docs/error-code-429 for more details.', 'status': 'RESOURCE_EXHAUSTED'}}\n",
      "\n",
      " Sample 238/519 (API Error)\n",
      "An error occurred: 429 RESOURCE_EXHAUSTED. {'error': {'code': 429, 'message': 'Resource exhausted. Please try again later. Please refer to https://cloud.google.com/vertex-ai/generative-ai/docs/error-code-429 for more details.', 'status': 'RESOURCE_EXHAUSTED'}}\n",
      "\n",
      " Sample 239/519 (API Error)\n",
      "An error occurred: 429 RESOURCE_EXHAUSTED. {'error': {'code': 429, 'message': 'Resource exhausted. Please try again later. Please refer to https://cloud.google.com/vertex-ai/generative-ai/docs/error-code-429 for more details.', 'status': 'RESOURCE_EXHAUSTED'}}\n"
     ]
    },
    {
     "name": "stderr",
     "output_type": "stream",
     "text": [
      "Evaluating gemini-2.5-pro with the entire dataset of (519 samples):  46%|████▋     | 241/519 [37:00<01:15,  3.66it/s]"
     ]
    },
    {
     "name": "stdout",
     "output_type": "stream",
     "text": [
      "\n",
      " Sample 240/519 (API Error)\n",
      "An error occurred: 429 RESOURCE_EXHAUSTED. {'error': {'code': 429, 'message': 'Resource exhausted. Please try again later. Please refer to https://cloud.google.com/vertex-ai/generative-ai/docs/error-code-429 for more details.', 'status': 'RESOURCE_EXHAUSTED'}}\n",
      "\n",
      " Sample 241/519 (API Error)\n",
      "An error occurred: 429 RESOURCE_EXHAUSTED. {'error': {'code': 429, 'message': 'Resource exhausted. Please try again later. Please refer to https://cloud.google.com/vertex-ai/generative-ai/docs/error-code-429 for more details.', 'status': 'RESOURCE_EXHAUSTED'}}\n"
     ]
    },
    {
     "name": "stderr",
     "output_type": "stream",
     "text": [
      "Evaluating gemini-2.5-pro with the entire dataset of (519 samples):  47%|████▋     | 242/519 [37:00<01:06,  4.16it/s]"
     ]
    },
    {
     "name": "stdout",
     "output_type": "stream",
     "text": [
      "\n",
      " Sample 242/519 (API Error)\n",
      "An error occurred: 429 RESOURCE_EXHAUSTED. {'error': {'code': 429, 'message': 'Resource exhausted. Please try again later. Please refer to https://cloud.google.com/vertex-ai/generative-ai/docs/error-code-429 for more details.', 'status': 'RESOURCE_EXHAUSTED'}}\n",
      "\n",
      " Sample 243/519 (API Error)\n",
      "An error occurred: 429 RESOURCE_EXHAUSTED. {'error': {'code': 429, 'message': 'Resource exhausted. Please try again later. Please refer to https://cloud.google.com/vertex-ai/generative-ai/docs/error-code-429 for more details.', 'status': 'RESOURCE_EXHAUSTED'}}\n"
     ]
    },
    {
     "name": "stderr",
     "output_type": "stream",
     "text": [
      "Evaluating gemini-2.5-pro with the entire dataset of (519 samples):  47%|████▋     | 245/519 [37:00<00:48,  5.67it/s]"
     ]
    },
    {
     "name": "stdout",
     "output_type": "stream",
     "text": [
      "\n",
      " Sample 244/519 (API Error)\n",
      "An error occurred: 429 RESOURCE_EXHAUSTED. {'error': {'code': 429, 'message': 'Resource exhausted. Please try again later. Please refer to https://cloud.google.com/vertex-ai/generative-ai/docs/error-code-429 for more details.', 'status': 'RESOURCE_EXHAUSTED'}}\n",
      "\n",
      " Sample 245/519 (API Error)\n",
      "An error occurred: 429 RESOURCE_EXHAUSTED. {'error': {'code': 429, 'message': 'Resource exhausted. Please try again later. Please refer to https://cloud.google.com/vertex-ai/generative-ai/docs/error-code-429 for more details.', 'status': 'RESOURCE_EXHAUSTED'}}\n"
     ]
    },
    {
     "name": "stderr",
     "output_type": "stream",
     "text": [
      "Evaluating gemini-2.5-pro with the entire dataset of (519 samples):  47%|████▋     | 246/519 [37:00<00:43,  6.23it/s]"
     ]
    },
    {
     "name": "stdout",
     "output_type": "stream",
     "text": [
      "\n",
      " Sample 246/519 (API Error)\n",
      "An error occurred: 429 RESOURCE_EXHAUSTED. {'error': {'code': 429, 'message': 'Resource exhausted. Please try again later. Please refer to https://cloud.google.com/vertex-ai/generative-ai/docs/error-code-429 for more details.', 'status': 'RESOURCE_EXHAUSTED'}}\n",
      "\n",
      " Sample 247/519 (API Error)\n",
      "An error occurred: 429 RESOURCE_EXHAUSTED. {'error': {'code': 429, 'message': 'Resource exhausted. Please try again later. Please refer to https://cloud.google.com/vertex-ai/generative-ai/docs/error-code-429 for more details.', 'status': 'RESOURCE_EXHAUSTED'}}\n",
      "\n",
      " Sample 248/519 (API Error)\n",
      "An error occurred: 429 RESOURCE_EXHAUSTED. {'error': {'code': 429, 'message': 'Resource exhausted. Please try again later. Please refer to https://cloud.google.com/vertex-ai/generative-ai/docs/error-code-429 for more details.', 'status': 'RESOURCE_EXHAUSTED'}}\n"
     ]
    },
    {
     "name": "stderr",
     "output_type": "stream",
     "text": [
      "Evaluating gemini-2.5-pro with the entire dataset of (519 samples):  48%|████▊     | 250/519 [37:01<00:34,  7.81it/s]"
     ]
    },
    {
     "name": "stdout",
     "output_type": "stream",
     "text": [
      "\n",
      " Sample 249/519 (API Error)\n",
      "An error occurred: 429 RESOURCE_EXHAUSTED. {'error': {'code': 429, 'message': 'Resource exhausted. Please try again later. Please refer to https://cloud.google.com/vertex-ai/generative-ai/docs/error-code-429 for more details.', 'status': 'RESOURCE_EXHAUSTED'}}\n",
      "\n",
      " Sample 250/519 (API Error)\n",
      "An error occurred: 429 RESOURCE_EXHAUSTED. {'error': {'code': 429, 'message': 'Resource exhausted. Please try again later. Please refer to https://cloud.google.com/vertex-ai/generative-ai/docs/error-code-429 for more details.', 'status': 'RESOURCE_EXHAUSTED'}}\n"
     ]
    },
    {
     "name": "stderr",
     "output_type": "stream",
     "text": [
      "Evaluating gemini-2.5-pro with the entire dataset of (519 samples):  49%|████▊     | 252/519 [37:01<00:31,  8.58it/s]"
     ]
    },
    {
     "name": "stdout",
     "output_type": "stream",
     "text": [
      "\n",
      " Sample 251/519 (API Error)\n",
      "An error occurred: 429 RESOURCE_EXHAUSTED. {'error': {'code': 429, 'message': 'Resource exhausted. Please try again later. Please refer to https://cloud.google.com/vertex-ai/generative-ai/docs/error-code-429 for more details.', 'status': 'RESOURCE_EXHAUSTED'}}\n",
      "\n",
      " Sample 252/519 (API Error)\n",
      "An error occurred: 429 RESOURCE_EXHAUSTED. {'error': {'code': 429, 'message': 'Resource exhausted. Please try again later. Please refer to https://cloud.google.com/vertex-ai/generative-ai/docs/error-code-429 for more details.', 'status': 'RESOURCE_EXHAUSTED'}}\n"
     ]
    },
    {
     "name": "stderr",
     "output_type": "stream",
     "text": [
      "Evaluating gemini-2.5-pro with the entire dataset of (519 samples):  49%|████▉     | 255/519 [37:01<00:24, 10.71it/s]"
     ]
    },
    {
     "name": "stdout",
     "output_type": "stream",
     "text": [
      "\n",
      " Sample 253/519 (API Error)\n",
      "An error occurred: 429 RESOURCE_EXHAUSTED. {'error': {'code': 429, 'message': 'Resource exhausted. Please try again later. Please refer to https://cloud.google.com/vertex-ai/generative-ai/docs/error-code-429 for more details.', 'status': 'RESOURCE_EXHAUSTED'}}\n",
      "\n",
      " Sample 254/519 (API Error)\n",
      "An error occurred: 429 RESOURCE_EXHAUSTED. {'error': {'code': 429, 'message': 'Resource exhausted. Please try again later. Please refer to https://cloud.google.com/vertex-ai/generative-ai/docs/error-code-429 for more details.', 'status': 'RESOURCE_EXHAUSTED'}}\n",
      "\n",
      " Sample 255/519 (API Error)\n",
      "An error occurred: 429 RESOURCE_EXHAUSTED. {'error': {'code': 429, 'message': 'Resource exhausted. Please try again later. Please refer to https://cloud.google.com/vertex-ai/generative-ai/docs/error-code-429 for more details.', 'status': 'RESOURCE_EXHAUSTED'}}\n",
      "\n",
      " Sample 256/519 (API Error)\n",
      "An error occurred: 429 RESOURCE_EXHAUSTED. {'error': {'code': 429, 'message': 'Resource exhausted. Please try again later. Please refer to https://cloud.google.com/vertex-ai/generative-ai/docs/error-code-429 for more details.', 'status': 'RESOURCE_EXHAUSTED'}}\n"
     ]
    },
    {
     "name": "stderr",
     "output_type": "stream",
     "text": [
      "Evaluating gemini-2.5-pro with the entire dataset of (519 samples):  50%|████▉     | 259/519 [37:02<00:21, 12.07it/s]"
     ]
    },
    {
     "name": "stdout",
     "output_type": "stream",
     "text": [
      "\n",
      " Sample 257/519 (API Error)\n",
      "An error occurred: 429 RESOURCE_EXHAUSTED. {'error': {'code': 429, 'message': 'Resource exhausted. Please try again later. Please refer to https://cloud.google.com/vertex-ai/generative-ai/docs/error-code-429 for more details.', 'status': 'RESOURCE_EXHAUSTED'}}\n",
      "\n",
      " Sample 258/519 (API Error)\n",
      "An error occurred: 429 RESOURCE_EXHAUSTED. {'error': {'code': 429, 'message': 'Resource exhausted. Please try again later. Please refer to https://cloud.google.com/vertex-ai/generative-ai/docs/error-code-429 for more details.', 'status': 'RESOURCE_EXHAUSTED'}}\n",
      "\n",
      " Sample 259/519 (API Error)\n",
      "An error occurred: 429 RESOURCE_EXHAUSTED. {'error': {'code': 429, 'message': 'Resource exhausted. Please try again later. Please refer to https://cloud.google.com/vertex-ai/generative-ai/docs/error-code-429 for more details.', 'status': 'RESOURCE_EXHAUSTED'}}\n"
     ]
    },
    {
     "name": "stderr",
     "output_type": "stream",
     "text": [
      "Evaluating gemini-2.5-pro with the entire dataset of (519 samples):  50%|█████     | 261/519 [37:02<00:22, 11.28it/s]"
     ]
    },
    {
     "name": "stdout",
     "output_type": "stream",
     "text": [
      "\n",
      " Sample 260/519 (API Error)\n",
      "An error occurred: 429 RESOURCE_EXHAUSTED. {'error': {'code': 429, 'message': 'Resource exhausted. Please try again later. Please refer to https://cloud.google.com/vertex-ai/generative-ai/docs/error-code-429 for more details.', 'status': 'RESOURCE_EXHAUSTED'}}\n",
      "\n",
      " Sample 261/519 (API Error)\n",
      "An error occurred: 429 RESOURCE_EXHAUSTED. {'error': {'code': 429, 'message': 'Resource exhausted. Please try again later. Please refer to https://cloud.google.com/vertex-ai/generative-ai/docs/error-code-429 for more details.', 'status': 'RESOURCE_EXHAUSTED'}}\n",
      "\n",
      " Sample 262/519 (API Error)\n",
      "An error occurred: 429 RESOURCE_EXHAUSTED. {'error': {'code': 429, 'message': 'Resource exhausted. Please try again later. Please refer to https://cloud.google.com/vertex-ai/generative-ai/docs/error-code-429 for more details.', 'status': 'RESOURCE_EXHAUSTED'}}\n"
     ]
    },
    {
     "name": "stderr",
     "output_type": "stream",
     "text": [
      "Evaluating gemini-2.5-pro with the entire dataset of (519 samples):  53%|█████▎    | 274/519 [39:27<31:40,  7.76s/it]"
     ]
    },
    {
     "name": "stdout",
     "output_type": "stream",
     "text": [
      "\n",
      " Sample 273/519 (API Error)\n",
      "An error occurred: 429 RESOURCE_EXHAUSTED. {'error': {'code': 429, 'message': 'Resource exhausted. Please try again later. Please refer to https://cloud.google.com/vertex-ai/generative-ai/docs/error-code-429 for more details.', 'status': 'RESOURCE_EXHAUSTED'}}\n",
      "\n",
      " Sample 274/519 (API Error)\n",
      "An error occurred: 429 RESOURCE_EXHAUSTED. {'error': {'code': 429, 'message': 'Resource exhausted. Please try again later. Please refer to https://cloud.google.com/vertex-ai/generative-ai/docs/error-code-429 for more details.', 'status': 'RESOURCE_EXHAUSTED'}}\n",
      "\n",
      " Sample 275/519 (API Error)\n",
      "An error occurred: 429 RESOURCE_EXHAUSTED. {'error': {'code': 429, 'message': 'Resource exhausted. Please try again later. Please refer to https://cloud.google.com/vertex-ai/generative-ai/docs/error-code-429 for more details.', 'status': 'RESOURCE_EXHAUSTED'}}\n"
     ]
    },
    {
     "name": "stderr",
     "output_type": "stream",
     "text": [
      "Evaluating gemini-2.5-pro with the entire dataset of (519 samples):  54%|█████▍    | 279/519 [40:40<56:37, 14.16s/it]"
     ]
    },
    {
     "name": "stdout",
     "output_type": "stream",
     "text": [
      "\n",
      " Sample 279/519 (API Error)\n",
      "An error occurred: 429 RESOURCE_EXHAUSTED. {'error': {'code': 429, 'message': 'Resource exhausted. Please try again later. Please refer to https://cloud.google.com/vertex-ai/generative-ai/docs/error-code-429 for more details.', 'status': 'RESOURCE_EXHAUSTED'}}\n"
     ]
    },
    {
     "name": "stderr",
     "output_type": "stream",
     "text": [
      "Evaluating gemini-2.5-pro with the entire dataset of (519 samples):  56%|█████▋    | 292/519 [43:59<51:26, 13.60s/it]  "
     ]
    },
    {
     "name": "stdout",
     "output_type": "stream",
     "text": [
      "\n",
      " Sample 292/519 (API Error)\n",
      "An error occurred: 429 RESOURCE_EXHAUSTED. {'error': {'code': 429, 'message': 'Resource exhausted. Please try again later. Please refer to https://cloud.google.com/vertex-ai/generative-ai/docs/error-code-429 for more details.', 'status': 'RESOURCE_EXHAUSTED'}}\n"
     ]
    },
    {
     "name": "stderr",
     "output_type": "stream",
     "text": [
      "Evaluating gemini-2.5-pro with the entire dataset of (519 samples):  61%|██████▏   | 318/519 [50:08<33:32, 10.01s/it]"
     ]
    },
    {
     "name": "stdout",
     "output_type": "stream",
     "text": [
      "\n",
      " Sample 318/519 (API Error)\n",
      "An error occurred: 429 RESOURCE_EXHAUSTED. {'error': {'code': 429, 'message': 'Resource exhausted. Please try again later. Please refer to https://cloud.google.com/vertex-ai/generative-ai/docs/error-code-429 for more details.', 'status': 'RESOURCE_EXHAUSTED'}}\n"
     ]
    },
    {
     "name": "stderr",
     "output_type": "stream",
     "text": [
      "Evaluating gemini-2.5-pro with the entire dataset of (519 samples):  66%|██████▋   | 344/519 [56:32<32:00, 10.97s/it]"
     ]
    },
    {
     "name": "stdout",
     "output_type": "stream",
     "text": [
      "\n",
      " Sample 344/519 (API Error)\n",
      "An error occurred: 429 RESOURCE_EXHAUSTED. {'error': {'code': 429, 'message': 'Resource exhausted. Please try again later. Please refer to https://cloud.google.com/vertex-ai/generative-ai/docs/error-code-429 for more details.', 'status': 'RESOURCE_EXHAUSTED'}}\n"
     ]
    },
    {
     "name": "stderr",
     "output_type": "stream",
     "text": [
      "Evaluating gemini-2.5-pro with the entire dataset of (519 samples):  67%|██████▋   | 347/519 [56:47<18:50,  6.57s/it]"
     ]
    },
    {
     "name": "stdout",
     "output_type": "stream",
     "text": [
      "\n",
      " Sample 346/519 (API Error)\n",
      "An error occurred: 429 RESOURCE_EXHAUSTED. {'error': {'code': 429, 'message': 'Resource exhausted. Please try again later. Please refer to https://cloud.google.com/vertex-ai/generative-ai/docs/error-code-429 for more details.', 'status': 'RESOURCE_EXHAUSTED'}}\n",
      "\n",
      " Sample 347/519 (API Error)\n",
      "An error occurred: 429 RESOURCE_EXHAUSTED. {'error': {'code': 429, 'message': 'Resource exhausted. Please try again later. Please refer to https://cloud.google.com/vertex-ai/generative-ai/docs/error-code-429 for more details.', 'status': 'RESOURCE_EXHAUSTED'}}\n"
     ]
    },
    {
     "name": "stderr",
     "output_type": "stream",
     "text": [
      "Evaluating gemini-2.5-pro with the entire dataset of (519 samples):  71%|███████   | 366/519 [1:01:06<21:16,  8.34s/it]"
     ]
    },
    {
     "name": "stdout",
     "output_type": "stream",
     "text": [
      "\n",
      " Sample 365/519 (API Error)\n",
      "An error occurred: 429 RESOURCE_EXHAUSTED. {'error': {'code': 429, 'message': 'Resource exhausted. Please try again later. Please refer to https://cloud.google.com/vertex-ai/generative-ai/docs/error-code-429 for more details.', 'status': 'RESOURCE_EXHAUSTED'}}\n",
      "\n",
      " Sample 366/519 (API Error)\n",
      "An error occurred: 429 RESOURCE_EXHAUSTED. {'error': {'code': 429, 'message': 'Resource exhausted. Please try again later. Please refer to https://cloud.google.com/vertex-ai/generative-ai/docs/error-code-429 for more details.', 'status': 'RESOURCE_EXHAUSTED'}}\n",
      "\n",
      " Sample 367/519 (API Error)\n",
      "An error occurred: 429 RESOURCE_EXHAUSTED. {'error': {'code': 429, 'message': 'Resource exhausted. Please try again later. Please refer to https://cloud.google.com/vertex-ai/generative-ai/docs/error-code-429 for more details.', 'status': 'RESOURCE_EXHAUSTED'}}\n"
     ]
    },
    {
     "name": "stderr",
     "output_type": "stream",
     "text": [
      "Evaluating gemini-2.5-pro with the entire dataset of (519 samples):  71%|███████   | 368/519 [1:01:07<12:44,  5.06s/it]"
     ]
    },
    {
     "name": "stdout",
     "output_type": "stream",
     "text": [
      "\n",
      " Sample 368/519 (API Error)\n",
      "An error occurred: 429 RESOURCE_EXHAUSTED. {'error': {'code': 429, 'message': 'Resource exhausted. Please try again later. Please refer to https://cloud.google.com/vertex-ai/generative-ai/docs/error-code-429 for more details.', 'status': 'RESOURCE_EXHAUSTED'}}\n",
      "\n",
      " Sample 369/519 (API Error)\n",
      "An error occurred: 429 RESOURCE_EXHAUSTED. {'error': {'code': 429, 'message': 'Resource exhausted. Please try again later. Please refer to https://cloud.google.com/vertex-ai/generative-ai/docs/error-code-429 for more details.', 'status': 'RESOURCE_EXHAUSTED'}}\n",
      "\n",
      " Sample 370/519 (API Error)\n",
      "An error occurred: 429 RESOURCE_EXHAUSTED. {'error': {'code': 429, 'message': 'Resource exhausted. Please try again later. Please refer to https://cloud.google.com/vertex-ai/generative-ai/docs/error-code-429 for more details.', 'status': 'RESOURCE_EXHAUSTED'}}\n"
     ]
    },
    {
     "name": "stderr",
     "output_type": "stream",
     "text": [
      "Evaluating gemini-2.5-pro with the entire dataset of (519 samples):  71%|███████▏  | 371/519 [1:01:07<06:28,  2.62s/it]"
     ]
    },
    {
     "name": "stdout",
     "output_type": "stream",
     "text": [
      "\n",
      " Sample 371/519 (API Error)\n",
      "An error occurred: 429 RESOURCE_EXHAUSTED. {'error': {'code': 429, 'message': 'Resource exhausted. Please try again later. Please refer to https://cloud.google.com/vertex-ai/generative-ai/docs/error-code-429 for more details.', 'status': 'RESOURCE_EXHAUSTED'}}\n"
     ]
    },
    {
     "name": "stderr",
     "output_type": "stream",
     "text": [
      "Evaluating gemini-2.5-pro with the entire dataset of (519 samples):  72%|███████▏  | 375/519 [1:01:32<08:52,  3.70s/it]"
     ]
    },
    {
     "name": "stdout",
     "output_type": "stream",
     "text": [
      "\n",
      " Sample 374/519 (API Error)\n",
      "An error occurred: 429 RESOURCE_EXHAUSTED. {'error': {'code': 429, 'message': 'Resource exhausted. Please try again later. Please refer to https://cloud.google.com/vertex-ai/generative-ai/docs/error-code-429 for more details.', 'status': 'RESOURCE_EXHAUSTED'}}\n",
      "\n",
      " Sample 375/519 (API Error)\n",
      "An error occurred: 429 RESOURCE_EXHAUSTED. {'error': {'code': 429, 'message': 'Resource exhausted. Please try again later. Please refer to https://cloud.google.com/vertex-ai/generative-ai/docs/error-code-429 for more details.', 'status': 'RESOURCE_EXHAUSTED'}}\n"
     ]
    },
    {
     "name": "stderr",
     "output_type": "stream",
     "text": [
      "Evaluating gemini-2.5-pro with the entire dataset of (519 samples):  73%|███████▎  | 377/519 [1:01:32<04:39,  1.97s/it]"
     ]
    },
    {
     "name": "stdout",
     "output_type": "stream",
     "text": [
      "\n",
      " Sample 376/519 (API Error)\n",
      "An error occurred: 429 RESOURCE_EXHAUSTED. {'error': {'code': 429, 'message': 'Resource exhausted. Please try again later. Please refer to https://cloud.google.com/vertex-ai/generative-ai/docs/error-code-429 for more details.', 'status': 'RESOURCE_EXHAUSTED'}}\n",
      "\n",
      " Sample 377/519 (API Error)\n",
      "An error occurred: 429 RESOURCE_EXHAUSTED. {'error': {'code': 429, 'message': 'Resource exhausted. Please try again later. Please refer to https://cloud.google.com/vertex-ai/generative-ai/docs/error-code-429 for more details.', 'status': 'RESOURCE_EXHAUSTED'}}\n"
     ]
    },
    {
     "name": "stderr",
     "output_type": "stream",
     "text": [
      "Evaluating gemini-2.5-pro with the entire dataset of (519 samples):  74%|███████▍  | 384/519 [1:02:47<13:13,  5.87s/it]"
     ]
    },
    {
     "name": "stdout",
     "output_type": "stream",
     "text": [
      "\n",
      " Sample 383/519 (API Error)\n",
      "An error occurred: 429 RESOURCE_EXHAUSTED. {'error': {'code': 429, 'message': 'Resource exhausted. Please try again later. Please refer to https://cloud.google.com/vertex-ai/generative-ai/docs/error-code-429 for more details.', 'status': 'RESOURCE_EXHAUSTED'}}\n",
      "\n",
      " Sample 384/519 (API Error)\n",
      "An error occurred: 429 RESOURCE_EXHAUSTED. {'error': {'code': 429, 'message': 'Resource exhausted. Please try again later. Please refer to https://cloud.google.com/vertex-ai/generative-ai/docs/error-code-429 for more details.', 'status': 'RESOURCE_EXHAUSTED'}}\n"
     ]
    },
    {
     "name": "stderr",
     "output_type": "stream",
     "text": [
      "Evaluating gemini-2.5-pro with the entire dataset of (519 samples):  74%|███████▍  | 385/519 [1:02:47<09:16,  4.16s/it]"
     ]
    },
    {
     "name": "stdout",
     "output_type": "stream",
     "text": [
      "\n",
      " Sample 385/519 (API Error)\n",
      "An error occurred: 429 RESOURCE_EXHAUSTED. {'error': {'code': 429, 'message': 'Resource exhausted. Please try again later. Please refer to https://cloud.google.com/vertex-ai/generative-ai/docs/error-code-429 for more details.', 'status': 'RESOURCE_EXHAUSTED'}}\n",
      "\n",
      " Sample 386/519 (API Error)\n",
      "An error occurred: 429 RESOURCE_EXHAUSTED. {'error': {'code': 429, 'message': 'Resource exhausted. Please try again later. Please refer to https://cloud.google.com/vertex-ai/generative-ai/docs/error-code-429 for more details.', 'status': 'RESOURCE_EXHAUSTED'}}\n"
     ]
    },
    {
     "name": "stderr",
     "output_type": "stream",
     "text": [
      "Evaluating gemini-2.5-pro with the entire dataset of (519 samples):  75%|███████▍  | 387/519 [1:02:47<05:02,  2.29s/it]"
     ]
    },
    {
     "name": "stdout",
     "output_type": "stream",
     "text": [
      "\n",
      " Sample 387/519 (API Error)\n",
      "An error occurred: 429 RESOURCE_EXHAUSTED. {'error': {'code': 429, 'message': 'Resource exhausted. Please try again later. Please refer to https://cloud.google.com/vertex-ai/generative-ai/docs/error-code-429 for more details.', 'status': 'RESOURCE_EXHAUSTED'}}\n"
     ]
    },
    {
     "name": "stderr",
     "output_type": "stream",
     "text": [
      "Evaluating gemini-2.5-pro with the entire dataset of (519 samples):  76%|███████▌  | 394/519 [1:04:17<19:09,  9.20s/it]"
     ]
    },
    {
     "name": "stdout",
     "output_type": "stream",
     "text": [
      "\n",
      " Sample 394/519 (API Error)\n",
      "An error occurred: 429 RESOURCE_EXHAUSTED. {'error': {'code': 429, 'message': 'Resource exhausted. Please try again later. Please refer to https://cloud.google.com/vertex-ai/generative-ai/docs/error-code-429 for more details.', 'status': 'RESOURCE_EXHAUSTED'}}\n"
     ]
    },
    {
     "name": "stderr",
     "output_type": "stream",
     "text": [
      "Evaluating gemini-2.5-pro with the entire dataset of (519 samples):  79%|███████▉  | 409/519 [1:07:47<18:46, 10.24s/it]"
     ]
    },
    {
     "name": "stdout",
     "output_type": "stream",
     "text": [
      "\n",
      " Sample 409/519 (API Error)\n",
      "An error occurred: 429 RESOURCE_EXHAUSTED. {'error': {'code': 429, 'message': 'Resource exhausted. Please try again later. Please refer to https://cloud.google.com/vertex-ai/generative-ai/docs/error-code-429 for more details.', 'status': 'RESOURCE_EXHAUSTED'}}\n"
     ]
    },
    {
     "name": "stderr",
     "output_type": "stream",
     "text": [
      "Evaluating gemini-2.5-pro with the entire dataset of (519 samples):  80%|███████▉  | 414/519 [1:08:37<12:23,  7.08s/it]"
     ]
    },
    {
     "name": "stdout",
     "output_type": "stream",
     "text": [
      "\n",
      " Sample 413/519 (API Error)\n",
      "An error occurred: 429 RESOURCE_EXHAUSTED. {'error': {'code': 429, 'message': 'Resource exhausted. Please try again later. Please refer to https://cloud.google.com/vertex-ai/generative-ai/docs/error-code-429 for more details.', 'status': 'RESOURCE_EXHAUSTED'}}\n",
      "\n",
      " Sample 414/519 (API Error)\n",
      "An error occurred: 429 RESOURCE_EXHAUSTED. {'error': {'code': 429, 'message': 'Resource exhausted. Please try again later. Please refer to https://cloud.google.com/vertex-ai/generative-ai/docs/error-code-429 for more details.', 'status': 'RESOURCE_EXHAUSTED'}}\n"
     ]
    },
    {
     "name": "stderr",
     "output_type": "stream",
     "text": [
      "Evaluating gemini-2.5-pro with the entire dataset of (519 samples):  80%|████████  | 416/519 [1:08:37<06:03,  3.53s/it]"
     ]
    },
    {
     "name": "stdout",
     "output_type": "stream",
     "text": [
      "\n",
      " Sample 415/519 (API Error)\n",
      "An error occurred: 429 RESOURCE_EXHAUSTED. {'error': {'code': 429, 'message': 'Resource exhausted. Please try again later. Please refer to https://cloud.google.com/vertex-ai/generative-ai/docs/error-code-429 for more details.', 'status': 'RESOURCE_EXHAUSTED'}}\n",
      "\n",
      " Sample 416/519 (API Error)\n",
      "An error occurred: 429 RESOURCE_EXHAUSTED. {'error': {'code': 429, 'message': 'Resource exhausted. Please try again later. Please refer to https://cloud.google.com/vertex-ai/generative-ai/docs/error-code-429 for more details.', 'status': 'RESOURCE_EXHAUSTED'}}\n"
     ]
    },
    {
     "name": "stderr",
     "output_type": "stream",
     "text": [
      "Evaluating gemini-2.5-pro with the entire dataset of (519 samples):  82%|████████▏ | 423/519 [1:10:26<13:55,  8.71s/it]"
     ]
    },
    {
     "name": "stdout",
     "output_type": "stream",
     "text": [
      "\n",
      " Sample 422/519 (API Error)\n",
      "An error occurred: 429 RESOURCE_EXHAUSTED. {'error': {'code': 429, 'message': 'Resource exhausted. Please try again later. Please refer to https://cloud.google.com/vertex-ai/generative-ai/docs/error-code-429 for more details.', 'status': 'RESOURCE_EXHAUSTED'}}\n",
      "\n",
      " Sample 423/519 (API Error)\n",
      "An error occurred: 429 RESOURCE_EXHAUSTED. {'error': {'code': 429, 'message': 'Resource exhausted. Please try again later. Please refer to https://cloud.google.com/vertex-ai/generative-ai/docs/error-code-429 for more details.', 'status': 'RESOURCE_EXHAUSTED'}}\n"
     ]
    },
    {
     "name": "stderr",
     "output_type": "stream",
     "text": [
      "Evaluating gemini-2.5-pro with the entire dataset of (519 samples):  82%|████████▏ | 425/519 [1:10:27<07:25,  4.74s/it]"
     ]
    },
    {
     "name": "stdout",
     "output_type": "stream",
     "text": [
      "\n",
      " Sample 424/519 (API Error)\n",
      "An error occurred: 429 RESOURCE_EXHAUSTED. {'error': {'code': 429, 'message': 'Resource exhausted. Please try again later. Please refer to https://cloud.google.com/vertex-ai/generative-ai/docs/error-code-429 for more details.', 'status': 'RESOURCE_EXHAUSTED'}}\n",
      "\n",
      " Sample 425/519 (API Error)\n",
      "An error occurred: 429 RESOURCE_EXHAUSTED. {'error': {'code': 429, 'message': 'Resource exhausted. Please try again later. Please refer to https://cloud.google.com/vertex-ai/generative-ai/docs/error-code-429 for more details.', 'status': 'RESOURCE_EXHAUSTED'}}\n"
     ]
    },
    {
     "name": "stderr",
     "output_type": "stream",
     "text": [
      "Evaluating gemini-2.5-pro with the entire dataset of (519 samples):  82%|████████▏ | 426/519 [1:10:27<05:34,  3.59s/it]"
     ]
    },
    {
     "name": "stdout",
     "output_type": "stream",
     "text": [
      "\n",
      " Sample 426/519 (API Error)\n",
      "An error occurred: 429 RESOURCE_EXHAUSTED. {'error': {'code': 429, 'message': 'Resource exhausted. Please try again later. Please refer to https://cloud.google.com/vertex-ai/generative-ai/docs/error-code-429 for more details.', 'status': 'RESOURCE_EXHAUSTED'}}\n"
     ]
    },
    {
     "name": "stderr",
     "output_type": "stream",
     "text": [
      "Evaluating gemini-2.5-pro with the entire dataset of (519 samples):  83%|████████▎ | 429/519 [1:10:42<05:13,  3.48s/it]"
     ]
    },
    {
     "name": "stdout",
     "output_type": "stream",
     "text": [
      "\n",
      " Sample 428/519 (API Error)\n",
      "An error occurred: 429 RESOURCE_EXHAUSTED. {'error': {'code': 429, 'message': 'Resource exhausted. Please try again later. Please refer to https://cloud.google.com/vertex-ai/generative-ai/docs/error-code-429 for more details.', 'status': 'RESOURCE_EXHAUSTED'}}\n",
      "\n",
      " Sample 429/519 (API Error)\n",
      "An error occurred: 429 RESOURCE_EXHAUSTED. {'error': {'code': 429, 'message': 'Resource exhausted. Please try again later. Please refer to https://cloud.google.com/vertex-ai/generative-ai/docs/error-code-429 for more details.', 'status': 'RESOURCE_EXHAUSTED'}}\n"
     ]
    },
    {
     "name": "stderr",
     "output_type": "stream",
     "text": [
      "Evaluating gemini-2.5-pro with the entire dataset of (519 samples):  83%|████████▎ | 431/519 [1:11:07<11:45,  8.02s/it]"
     ]
    },
    {
     "name": "stdout",
     "output_type": "stream",
     "text": [
      "\n",
      " Sample 432/519 (API Error)\n",
      "An error occurred: 429 RESOURCE_EXHAUSTED. {'error': {'code': 429, 'message': 'Resource exhausted. Please try again later. Please refer to https://cloud.google.com/vertex-ai/generative-ai/docs/error-code-429 for more details.', 'status': 'RESOURCE_EXHAUSTED'}}\n"
     ]
    },
    {
     "name": "stderr",
     "output_type": "stream",
     "text": [
      "Evaluating gemini-2.5-pro with the entire dataset of (519 samples):  86%|████████▌ | 447/519 [1:14:02<08:31,  7.10s/it]"
     ]
    },
    {
     "name": "stdout",
     "output_type": "stream",
     "text": [
      "\n",
      " Sample 446/519 (API Error)\n",
      "An error occurred: 429 RESOURCE_EXHAUSTED. {'error': {'code': 429, 'message': 'Resource exhausted. Please try again later. Please refer to https://cloud.google.com/vertex-ai/generative-ai/docs/error-code-429 for more details.', 'status': 'RESOURCE_EXHAUSTED'}}\n",
      "\n",
      " Sample 447/519 (API Error)\n",
      "An error occurred: 429 RESOURCE_EXHAUSTED. {'error': {'code': 429, 'message': 'Resource exhausted. Please try again later. Please refer to https://cloud.google.com/vertex-ai/generative-ai/docs/error-code-429 for more details.', 'status': 'RESOURCE_EXHAUSTED'}}\n"
     ]
    },
    {
     "name": "stderr",
     "output_type": "stream",
     "text": [
      "Evaluating gemini-2.5-pro with the entire dataset of (519 samples):  86%|████████▋ | 448/519 [1:14:02<05:56,  5.02s/it]"
     ]
    },
    {
     "name": "stdout",
     "output_type": "stream",
     "text": [
      "\n",
      " Sample 448/519 (API Error)\n",
      "An error occurred: 429 RESOURCE_EXHAUSTED. {'error': {'code': 429, 'message': 'Resource exhausted. Please try again later. Please refer to https://cloud.google.com/vertex-ai/generative-ai/docs/error-code-429 for more details.', 'status': 'RESOURCE_EXHAUSTED'}}\n"
     ]
    },
    {
     "name": "stderr",
     "output_type": "stream",
     "text": [
      "Evaluating gemini-2.5-pro with the entire dataset of (519 samples):  95%|█████████▍| 491/519 [1:25:12<06:37, 14.20s/it]"
     ]
    },
    {
     "name": "stdout",
     "output_type": "stream",
     "text": [
      "\n",
      " Sample 492/519 (API Error)\n",
      "An error occurred: 429 RESOURCE_EXHAUSTED. {'error': {'code': 429, 'message': 'Resource exhausted. Please try again later. Please refer to https://cloud.google.com/vertex-ai/generative-ai/docs/error-code-429 for more details.', 'status': 'RESOURCE_EXHAUSTED'}}\n"
     ]
    },
    {
     "name": "stderr",
     "output_type": "stream",
     "text": [
      "Evaluating gemini-2.5-pro with the entire dataset of (519 samples):  98%|█████████▊| 509/519 [1:29:27<02:33, 15.36s/it]"
     ]
    },
    {
     "name": "stdout",
     "output_type": "stream",
     "text": [
      "\n",
      " Sample 510/519 (API Error)\n",
      "An error occurred: 429 RESOURCE_EXHAUSTED. {'error': {'code': 429, 'message': 'Resource exhausted. Please try again later. Please refer to https://cloud.google.com/vertex-ai/generative-ai/docs/error-code-429 for more details.', 'status': 'RESOURCE_EXHAUSTED'}}\n"
     ]
    },
    {
     "name": "stderr",
     "output_type": "stream",
     "text": [
      "Evaluating gemini-2.5-pro with the entire dataset of (519 samples):  98%|█████████▊| 511/519 [1:29:31<01:14,  9.35s/it]"
     ]
    },
    {
     "name": "stdout",
     "output_type": "stream",
     "text": [
      "\n",
      " Sample 511/519 (API Error)\n",
      "An error occurred: 429 RESOURCE_EXHAUSTED. {'error': {'code': 429, 'message': 'Resource exhausted. Please try again later. Please refer to https://cloud.google.com/vertex-ai/generative-ai/docs/error-code-429 for more details.', 'status': 'RESOURCE_EXHAUSTED'}}\n"
     ]
    },
    {
     "name": "stderr",
     "output_type": "stream",
     "text": [
      "Evaluating gemini-2.5-pro with the entire dataset of (519 samples):  99%|█████████▊| 512/519 [1:29:32<00:51,  7.30s/it]"
     ]
    },
    {
     "name": "stdout",
     "output_type": "stream",
     "text": [
      "\n",
      " Sample 512/519 (API Error)\n",
      "An error occurred: 429 RESOURCE_EXHAUSTED. {'error': {'code': 429, 'message': 'Resource exhausted. Please try again later. Please refer to https://cloud.google.com/vertex-ai/generative-ai/docs/error-code-429 for more details.', 'status': 'RESOURCE_EXHAUSTED'}}\n"
     ]
    },
    {
     "name": "stderr",
     "output_type": "stream",
     "text": [
      "Evaluating gemini-2.5-pro with the entire dataset of (519 samples): 100%|██████████| 519/519 [1:31:24<00:00, 10.57s/it]"
     ]
    },
    {
     "name": "stdout",
     "output_type": "stream",
     "text": [
      "\n",
      "Evaluation Finished.\n",
      "Total samples processed: 519\n",
      "Successful predictions: 349\n",
      "Format errors or API issues: 170\n"
     ]
    },
    {
     "name": "stderr",
     "output_type": "stream",
     "text": [
      "\n"
     ]
    }
   ],
   "source": [
    "# Main evaluation loop\n",
    "print(\"Processing the full validation dataset...\")\n",
    "for i, sample in enumerate(tqdm(klue_sts_validation, desc=description, total=total_num_of_samples), 1):\n",
    "    sentence1 = sample['sentence1']\n",
    "    sentence2 = sample['sentence2']\n",
    "    sample_prompt = create_prompt(sentence1, sentence2)\n",
    "\n",
    "    ground_truth_binary = sample['labels']['binary-label']\n",
    "    ground_truth_real = sample['labels']['real-label']\n",
    "    \n",
    "    try:\n",
    "        response = client.models.generate_content(\n",
    "            model=MODEL_ID,\n",
    "            contents=sample_prompt,\n",
    "            config=GenerateContentConfig(\n",
    "                temperature=0.0, # 0 for consistency\n",
    "                system_instruction=system_instruction,\n",
    "            ),\n",
    "        )\n",
    "        model_output = response.text.strip()\n",
    "\n",
    "        match = re.search(r\"binary-label:\\s*([01])\\s*,\\s*real-label:\\s*([0-9.]+)\", model_output)\n",
    "\n",
    "        if match:\n",
    "            b_pred = int(match.group(1))\n",
    "            r_pred = float(match.group(2))\n",
    "            \n",
    "            binary_predictions.append(b_pred)\n",
    "            real_predictions.append(r_pred)\n",
    "            true_binary_labels.append(ground_truth_binary)\n",
    "            true_real_labels.append(ground_truth_real)\n",
    "            true_sentences1.append(sentence1) \n",
    "            true_sentences2.append(sentence2)    \n",
    "        else:\n",
    "            error_count += 1\n",
    "            print(f\"\\n Sample {i}/{total_num_of_samples} (Format Error)\")\n",
    "            print(f\"Mismatched model output: {model_output}\")\n",
    "\n",
    "    except Exception as e:\n",
    "        error_count += 1\n",
    "        print(f\"\\n Sample {i}/{total_num_of_samples} (API Error)\")\n",
    "        print(f\"An error occurred: {e}\")\n",
    "\n",
    "    time.sleep(sleep_interval_between_api_calls)\n",
    "\n",
    "print(f\"\\nEvaluation Finished.\")\n",
    "print(f\"Total samples processed: {len(binary_predictions) + error_count}\")\n",
    "print(f\"Successful predictions: {len(binary_predictions)}\")\n",
    "print(f\"Format errors or API issues: {error_count}\")"
   ]
  },
  {
   "cell_type": "code",
   "execution_count": 16,
   "id": "eb0513cc-cd85-44ac-a6a9-e4722bf8e6d3",
   "metadata": {},
   "outputs": [
    {
     "name": "stdout",
     "output_type": "stream",
     "text": [
      "\n",
      "Successfully saved all 349 results to 'klue-sts-gemini-2.5-pro-full_evaluation_results.csv'\n",
      "Successfully saved 100 random samples to 'klue-sts-gemini-2.5-pro-random_samples_for_review.txt'\n",
      "\n",
      "\n",
      " gemini-2.5-pro KLUE-STS (Zero-shot) Benchmark Results\n",
      "\n",
      "===== Binary Label (Classification) =====\n",
      "\n",
      "Overall Accuracy: 0.8510\n",
      "\n",
      "Classification Report:\n",
      "               precision    recall  f1-score   support\n",
      "\n",
      "Different (0)       0.94      0.79      0.86       203\n",
      "  Similar (1)       0.76      0.93      0.84       146\n",
      "\n",
      "     accuracy                           0.85       349\n",
      "    macro avg       0.85      0.86      0.85       349\n",
      " weighted avg       0.87      0.85      0.85       349\n",
      "\n",
      "\n",
      "===== Real Label (Regression) =====\n",
      "\n",
      "Mean Squared Error (MSE): 1.5190\n",
      "Mean Absolute Error (MAE): 1.0161\n",
      "Pearson Correlation: 0.8332\n"
     ]
    }
   ],
   "source": [
    "import numpy as np\n",
    "import pandas as pd\n",
    "from sklearn.metrics import (\n",
    "    classification_report,\n",
    "    accuracy_score,\n",
    "    mean_squared_error,\n",
    "    mean_absolute_error,\n",
    ")\n",
    "from scipy.stats import pearsonr\n",
    "\n",
    "# Create the full results DataFrame\n",
    "if true_binary_labels and binary_predictions:\n",
    "    results_data = {\n",
    "        'Sentence 1': true_sentences1,\n",
    "        'Sentence 2': true_sentences2,\n",
    "        'True Binary': true_binary_labels,\n",
    "        'Pred Binary': binary_predictions,\n",
    "        'True Real': true_real_labels,\n",
    "        'Pred Real': real_predictions\n",
    "    }\n",
    "    results_df = pd.DataFrame(results_data)\n",
    "\n",
    "    # 1. Save ALL results to a CSV file for later analysis\n",
    "    try:\n",
    "        results_df.to_csv(full_results_filename, index=False, encoding='utf-8-sig')\n",
    "        print(f\"\\nSuccessfully saved all {len(results_df)} results to '{full_results_filename}'\")\n",
    "    except Exception as e:\n",
    "        print(f\"\\nError saving full results to CSV: {e}\")\n",
    "\n",
    "    # 2. Save a random selection of samples to a text file for quick review\n",
    "    if not results_df.empty and num_random_samples_to_save > 0:\n",
    "        try:\n",
    "            num_to_sample = min(num_random_samples_to_save, len(results_df))\n",
    "            random_samples_df = results_df.sample(n=num_to_sample)\n",
    "            \n",
    "            with open(random_samples_filename, 'w', encoding='utf-8') as f:\n",
    "                f.write(f\"--- Randomly Selected Samples for Review ({num_to_sample} of {len(results_df)}) ---\\n\")\n",
    "                for index, row in random_samples_df.iterrows():\n",
    "                    f.write(f\"\\n====================== Sample (Original Index: {index}) ======================\\n\")\n",
    "                    f.write(f\"Sentence 1: {row['Sentence 1']}\\n\")\n",
    "                    f.write(f\"Sentence 2: {row['Sentence 2']}\\n\")\n",
    "                    f.write(\"---------------------------------------------------------\\n\")\n",
    "                    f.write(f\"  - Ground Truth : Binary={row['True Binary']}, Real={row['True Real']:.2f}\\n\")\n",
    "                    f.write(f\"  - Prediction   : Binary={row['Pred Binary']}, Real={row['Pred Real']:.2f}\\n\")\n",
    "                f.write(\"\\n==========================================================\\n\")\n",
    "            print(f\"Successfully saved {num_to_sample} random samples to '{random_samples_filename}'\")\n",
    "        except Exception as e:\n",
    "            print(f\"\\nError saving random samples to text file: {e}\")\n",
    "\n",
    "else:\n",
    "    print(\"\\nNo valid predictions were generated to save or analyze.\")\n",
    "\n",
    "\n",
    "# 3. Display Final Evaluation Metrics\n",
    "print(f\"\\n\\n {MODEL_ID} KLUE-STS (Zero-shot) Benchmark Results\")\n",
    "\n",
    "print(\"\\n===== Binary Label (Classification) =====\")\n",
    "if true_binary_labels and binary_predictions:\n",
    "    accuracy = accuracy_score(true_binary_labels, binary_predictions)\n",
    "    print(f\"\\nOverall Accuracy: {accuracy:.4f}\")\n",
    "\n",
    "    report = classification_report(\n",
    "        true_binary_labels,\n",
    "        binary_predictions,\n",
    "        target_names=['Different (0)', 'Similar (1)'],\n",
    "        zero_division=0\n",
    "    )\n",
    "    print(\"\\nClassification Report:\")\n",
    "    print(report)\n",
    "else:\n",
    "    print(\"\\nCould not calculate classification metrics. No valid binary predictions found.\")\n",
    "\n",
    "print(\"\\n===== Real Label (Regression) =====\")\n",
    "if true_real_labels and real_predictions:\n",
    "    mse = mean_squared_error(true_real_labels, real_predictions)\n",
    "    print(f\"\\nMean Squared Error (MSE): {mse:.4f}\")\n",
    "\n",
    "    mae = mean_absolute_error(true_real_labels, real_predictions)\n",
    "    print(f\"Mean Absolute Error (MAE): {mae:.4f}\")\n",
    "\n",
    "    pearson_corr, _ = pearsonr(true_real_labels, real_predictions)\n",
    "    print(f\"Pearson Correlation: {pearson_corr:.4f}\")\n",
    "else:\n",
    "    print(\"\\nCould not calculate regression metrics. No valid real-valued predictions found.\")"
   ]
  },
  {
   "cell_type": "code",
   "execution_count": null,
   "id": "4d49f5d1-1431-4e8c-9561-3772085d9ec6",
   "metadata": {},
   "outputs": [],
   "source": []
  },
  {
   "cell_type": "code",
   "execution_count": null,
   "id": "589400d4-9991-4cac-9d1f-3b55f94386fc",
   "metadata": {},
   "outputs": [],
   "source": []
  }
 ],
 "metadata": {
  "environment": {
   "kernel": "conda-env-pytorch-pytorch",
   "name": "workbench-notebooks.m130",
   "type": "gcloud",
   "uri": "us-docker.pkg.dev/deeplearning-platform-release/gcr.io/workbench-notebooks:m130"
  },
  "kernelspec": {
   "display_name": "PyTorch 1-13 (Local)",
   "language": "python",
   "name": "conda-env-pytorch-pytorch"
  },
  "language_info": {
   "codemirror_mode": {
    "name": "ipython",
    "version": 3
   },
   "file_extension": ".py",
   "mimetype": "text/x-python",
   "name": "python",
   "nbconvert_exporter": "python",
   "pygments_lexer": "ipython3",
   "version": "3.10.18"
  }
 },
 "nbformat": 4,
 "nbformat_minor": 5
}
