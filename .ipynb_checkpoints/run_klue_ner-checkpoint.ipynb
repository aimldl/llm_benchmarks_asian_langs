{
 "cells": [
  {
   "cell_type": "markdown",
   "id": "d4d2c1f6-cdb1-40df-b5df-2efe81b471a0",
   "metadata": {},
   "source": [
    "## Run the KLUE benchmarks\n",
    "\n"
   ]
  },
  {
   "cell_type": "code",
   "execution_count": 18,
   "id": "efaae47f-aed1-4327-a0af-02905cc78f4c",
   "metadata": {},
   "outputs": [
    {
     "name": "stdout",
     "output_type": "stream",
     "text": [
      "/usr/local/google/home/thekim/github/aimldl/llm_benchmarks_asian_langs\n"
     ]
    },
    {
     "data": {
      "text/plain": [
       "'/usr/local/google/home/thekim/github/aimldl/llm_benchmarks_asian_langs'"
      ]
     },
     "execution_count": 18,
     "metadata": {},
     "output_type": "execute_result"
    }
   ],
   "source": [
    "%cd ..\n",
    "%pwd"
   ]
  },
  {
   "cell_type": "code",
   "execution_count": 19,
   "id": "f7472886-c078-4277-9d43-7236833945f6",
   "metadata": {},
   "outputs": [
    {
     "name": "stdout",
     "output_type": "stream",
     "text": [
      "INSTALL-CONDA.md\t      klue_mrc\t\t  run_klue_ner.ipynb\n",
      "LICENSE\t\t\t      klue_ner\t\t  run_klue_ner_backup.ipynb\n",
      "README.md\t\t      klue_nli\t\t  run_klue_nli.ipynb\n",
      "config.sh\t\t      klue_re\t\t  run_klue_re.ipynb\n",
      "cursor_prompts\t\t      klue_sts\t\t  run_klue_sts.ipynb\n",
      "hands-on_intro-to-gemini_2_5  klue_tc\t\t  run_klue_tc.ipynb\n",
      "images\t\t\t      run_klue_dp.ipynb   task_perf_differences-klue.md\n",
      "klue_dp\t\t\t      run_klue_dst.ipynb\n",
      "klue_dst\t\t      run_klue_mrc.ipynb\n"
     ]
    }
   ],
   "source": [
    "!ls"
   ]
  },
  {
   "cell_type": "code",
   "execution_count": 20,
   "id": "3c27fb88-ee4e-4873-adfc-7a134ba16c3f",
   "metadata": {},
   "outputs": [
    {
     "name": "stdout",
     "output_type": "stream",
     "text": [
      "vertex-workbench-notebook\n"
     ]
    }
   ],
   "source": [
    "!echo $GOOGLE_CLOUD_PROJECT"
   ]
  },
  {
   "cell_type": "markdown",
   "id": "68d1e478-e053-4ce3-abc4-beceee03a9ad",
   "metadata": {},
   "source": [
    "### KLUE NER (Named Entity Recognition) Task"
   ]
  },
  {
   "cell_type": "code",
   "execution_count": 21,
   "id": "f990f6ed-17a2-40b6-b1fc-8a34a734c4ea",
   "metadata": {},
   "outputs": [
    {
     "name": "stdout",
     "output_type": "stream",
     "text": [
      "/usr/local/google/home/thekim/github/aimldl/llm_benchmarks_asian_langs/klue_ner\n"
     ]
    }
   ],
   "source": [
    "%cd klue_ner"
   ]
  },
  {
   "cell_type": "code",
   "execution_count": 22,
   "id": "8827fecd-ff3f-41e3-8d14-e1bcb22b8328",
   "metadata": {},
   "outputs": [
    {
     "name": "stdout",
     "output_type": "stream",
     "text": [
      "ABOUT_KLUE_NER.md   \u001b[0m\u001b[01;34mbenchmark_results\u001b[0m/          \u001b[01;34mresult_analysis\u001b[0m/\n",
      "CHANGELOG.md        \u001b[01;34meval_dataset\u001b[0m/               \u001b[01;32mrun\u001b[0m*\n",
      "HISTORY.md          \u001b[01;32mget_errors.sh\u001b[0m*              \u001b[01;32msetup.sh\u001b[0m*\n",
      "README.md           \u001b[01;32minstall_dependencies.sh\u001b[0m*    \u001b[01;32mtest_logging.sh\u001b[0m*\n",
      "TROUBLESHOOTING.md  klue_ner-gemini2_5flash.py  test_setup.py\n",
      "VERTEX_AI_SETUP.md  \u001b[01;34mlogs\u001b[0m/                       \u001b[01;32mtest_verbose_mode.sh\u001b[0m*\n",
      "\u001b[01;34m__pycache__\u001b[0m/        requirements.txt            \u001b[01;32mverify_scripts.sh\u001b[0m*\n"
     ]
    }
   ],
   "source": [
    "%ls"
   ]
  },
  {
   "cell_type": "markdown",
   "id": "a24c70d5-c26c-451d-9381-cf0dc38bf54f",
   "metadata": {},
   "source": [
    "### Set up"
   ]
  },
  {
   "cell_type": "code",
   "execution_count": 6,
   "id": "25b7fdbd-b93d-45cb-af90-dedb6e4f8af2",
   "metadata": {},
   "outputs": [
    {
     "name": "stdout",
     "output_type": "stream",
     "text": [
      "\u001b[0;34m[INFO]\u001b[0m Checking prerequisites...\n",
      "\u001b[0;32m[SUCCESS]\u001b[0m Prerequisites check passed\n",
      "\u001b[0;34m[INFO]\u001b[0m Installing Python dependencies...\n",
      "Requirement already satisfied: google-genai in /usr/local/google/home/thekim/anaconda3/envs/klue/lib/python3.11/site-packages (from -r requirements.txt (line 2)) (1.24.0)\n",
      "Requirement already satisfied: datasets>=2.14.0 in /usr/local/google/home/thekim/anaconda3/envs/klue/lib/python3.11/site-packages (from -r requirements.txt (line 3)) (3.6.0)\n",
      "Requirement already satisfied: pandas>=1.5.0 in /usr/local/google/home/thekim/anaconda3/envs/klue/lib/python3.11/site-packages (from -r requirements.txt (line 4)) (2.2.3)\n",
      "Requirement already satisfied: tqdm>=4.64.0 in /usr/local/google/home/thekim/anaconda3/envs/klue/lib/python3.11/site-packages (from -r requirements.txt (line 5)) (4.67.1)\n",
      "Requirement already satisfied: google-cloud-aiplatform>=1.35.0 in /usr/local/google/home/thekim/anaconda3/envs/klue/lib/python3.11/site-packages (from -r requirements.txt (line 6)) (1.101.0)\n",
      "Requirement already satisfied: anyio<5.0.0,>=4.8.0 in /usr/local/google/home/thekim/anaconda3/envs/klue/lib/python3.11/site-packages (from google-genai->-r requirements.txt (line 2)) (4.9.0)\n",
      "Requirement already satisfied: google-auth<3.0.0,>=2.14.1 in /usr/local/google/home/thekim/anaconda3/envs/klue/lib/python3.11/site-packages (from google-genai->-r requirements.txt (line 2)) (2.40.3)\n",
      "Requirement already satisfied: httpx<1.0.0,>=0.28.1 in /usr/local/google/home/thekim/anaconda3/envs/klue/lib/python3.11/site-packages (from google-genai->-r requirements.txt (line 2)) (0.28.1)\n",
      "Requirement already satisfied: pydantic<3.0.0,>=2.0.0 in /usr/local/google/home/thekim/anaconda3/envs/klue/lib/python3.11/site-packages (from google-genai->-r requirements.txt (line 2)) (2.11.7)\n",
      "Requirement already satisfied: requests<3.0.0,>=2.28.1 in /usr/local/google/home/thekim/anaconda3/envs/klue/lib/python3.11/site-packages (from google-genai->-r requirements.txt (line 2)) (2.32.3)\n",
      "Requirement already satisfied: tenacity<9.0.0,>=8.2.3 in /usr/local/google/home/thekim/anaconda3/envs/klue/lib/python3.11/site-packages (from google-genai->-r requirements.txt (line 2)) (8.5.0)\n",
      "Requirement already satisfied: websockets<15.1.0,>=13.0.0 in /usr/local/google/home/thekim/anaconda3/envs/klue/lib/python3.11/site-packages (from google-genai->-r requirements.txt (line 2)) (15.0.1)\n",
      "Requirement already satisfied: typing-extensions<5.0.0,>=4.11.0 in /usr/local/google/home/thekim/anaconda3/envs/klue/lib/python3.11/site-packages (from google-genai->-r requirements.txt (line 2)) (4.12.2)\n",
      "Requirement already satisfied: idna>=2.8 in /usr/local/google/home/thekim/anaconda3/envs/klue/lib/python3.11/site-packages (from anyio<5.0.0,>=4.8.0->google-genai->-r requirements.txt (line 2)) (3.7)\n",
      "Requirement already satisfied: sniffio>=1.1 in /usr/local/google/home/thekim/anaconda3/envs/klue/lib/python3.11/site-packages (from anyio<5.0.0,>=4.8.0->google-genai->-r requirements.txt (line 2)) (1.3.0)\n",
      "Requirement already satisfied: cachetools<6.0,>=2.0.0 in /usr/local/google/home/thekim/anaconda3/envs/klue/lib/python3.11/site-packages (from google-auth<3.0.0,>=2.14.1->google-genai->-r requirements.txt (line 2)) (5.5.1)\n",
      "Requirement already satisfied: pyasn1-modules>=0.2.1 in /usr/local/google/home/thekim/anaconda3/envs/klue/lib/python3.11/site-packages (from google-auth<3.0.0,>=2.14.1->google-genai->-r requirements.txt (line 2)) (0.2.8)\n",
      "Requirement already satisfied: rsa<5,>=3.1.4 in /usr/local/google/home/thekim/anaconda3/envs/klue/lib/python3.11/site-packages (from google-auth<3.0.0,>=2.14.1->google-genai->-r requirements.txt (line 2)) (4.9.1)\n",
      "Requirement already satisfied: certifi in /usr/local/google/home/thekim/anaconda3/envs/klue/lib/python3.11/site-packages (from httpx<1.0.0,>=0.28.1->google-genai->-r requirements.txt (line 2)) (2025.4.26)\n",
      "Requirement already satisfied: httpcore==1.* in /usr/local/google/home/thekim/anaconda3/envs/klue/lib/python3.11/site-packages (from httpx<1.0.0,>=0.28.1->google-genai->-r requirements.txt (line 2)) (1.0.9)\n",
      "Requirement already satisfied: h11>=0.16 in /usr/local/google/home/thekim/anaconda3/envs/klue/lib/python3.11/site-packages (from httpcore==1.*->httpx<1.0.0,>=0.28.1->google-genai->-r requirements.txt (line 2)) (0.16.0)\n",
      "Requirement already satisfied: annotated-types>=0.6.0 in /usr/local/google/home/thekim/anaconda3/envs/klue/lib/python3.11/site-packages (from pydantic<3.0.0,>=2.0.0->google-genai->-r requirements.txt (line 2)) (0.7.0)\n",
      "Requirement already satisfied: pydantic-core==2.33.2 in /usr/local/google/home/thekim/anaconda3/envs/klue/lib/python3.11/site-packages (from pydantic<3.0.0,>=2.0.0->google-genai->-r requirements.txt (line 2)) (2.33.2)\n",
      "Requirement already satisfied: typing-inspection>=0.4.0 in /usr/local/google/home/thekim/anaconda3/envs/klue/lib/python3.11/site-packages (from pydantic<3.0.0,>=2.0.0->google-genai->-r requirements.txt (line 2)) (0.4.1)\n",
      "Requirement already satisfied: charset-normalizer<4,>=2 in /usr/local/google/home/thekim/anaconda3/envs/klue/lib/python3.11/site-packages (from requests<3.0.0,>=2.28.1->google-genai->-r requirements.txt (line 2)) (3.3.2)\n",
      "Requirement already satisfied: urllib3<3,>=1.21.1 in /usr/local/google/home/thekim/anaconda3/envs/klue/lib/python3.11/site-packages (from requests<3.0.0,>=2.28.1->google-genai->-r requirements.txt (line 2)) (2.3.0)\n",
      "Requirement already satisfied: pyasn1>=0.1.3 in /usr/local/google/home/thekim/anaconda3/envs/klue/lib/python3.11/site-packages (from rsa<5,>=3.1.4->google-auth<3.0.0,>=2.14.1->google-genai->-r requirements.txt (line 2)) (0.4.8)\n",
      "Requirement already satisfied: filelock in /usr/local/google/home/thekim/anaconda3/envs/klue/lib/python3.11/site-packages (from datasets>=2.14.0->-r requirements.txt (line 3)) (3.17.0)\n",
      "Requirement already satisfied: numpy>=1.17 in /usr/local/google/home/thekim/anaconda3/envs/klue/lib/python3.11/site-packages (from datasets>=2.14.0->-r requirements.txt (line 3)) (2.1.3)\n",
      "Requirement already satisfied: pyarrow>=15.0.0 in /usr/local/google/home/thekim/anaconda3/envs/klue/lib/python3.11/site-packages (from datasets>=2.14.0->-r requirements.txt (line 3)) (19.0.0)\n",
      "Requirement already satisfied: dill<0.3.9,>=0.3.0 in /usr/local/google/home/thekim/anaconda3/envs/klue/lib/python3.11/site-packages (from datasets>=2.14.0->-r requirements.txt (line 3)) (0.3.8)\n",
      "Requirement already satisfied: xxhash in /usr/local/google/home/thekim/anaconda3/envs/klue/lib/python3.11/site-packages (from datasets>=2.14.0->-r requirements.txt (line 3)) (3.5.0)\n",
      "Requirement already satisfied: multiprocess<0.70.17 in /usr/local/google/home/thekim/anaconda3/envs/klue/lib/python3.11/site-packages (from datasets>=2.14.0->-r requirements.txt (line 3)) (0.70.16)\n",
      "Requirement already satisfied: fsspec<=2025.3.0,>=2023.1.0 in /usr/local/google/home/thekim/anaconda3/envs/klue/lib/python3.11/site-packages (from fsspec[http]<=2025.3.0,>=2023.1.0->datasets>=2.14.0->-r requirements.txt (line 3)) (2025.3.0)\n",
      "Requirement already satisfied: huggingface-hub>=0.24.0 in /usr/local/google/home/thekim/anaconda3/envs/klue/lib/python3.11/site-packages (from datasets>=2.14.0->-r requirements.txt (line 3)) (0.33.2)\n",
      "Requirement already satisfied: packaging in /usr/local/google/home/thekim/anaconda3/envs/klue/lib/python3.11/site-packages (from datasets>=2.14.0->-r requirements.txt (line 3)) (24.2)\n",
      "Requirement already satisfied: pyyaml>=5.1 in /usr/local/google/home/thekim/anaconda3/envs/klue/lib/python3.11/site-packages (from datasets>=2.14.0->-r requirements.txt (line 3)) (6.0.2)\n",
      "Requirement already satisfied: aiohttp!=4.0.0a0,!=4.0.0a1 in /usr/local/google/home/thekim/anaconda3/envs/klue/lib/python3.11/site-packages (from fsspec[http]<=2025.3.0,>=2023.1.0->datasets>=2.14.0->-r requirements.txt (line 3)) (3.11.10)\n",
      "Requirement already satisfied: python-dateutil>=2.8.2 in /usr/local/google/home/thekim/anaconda3/envs/klue/lib/python3.11/site-packages (from pandas>=1.5.0->-r requirements.txt (line 4)) (2.9.0.post0)\n",
      "Requirement already satisfied: pytz>=2020.1 in /usr/local/google/home/thekim/anaconda3/envs/klue/lib/python3.11/site-packages (from pandas>=1.5.0->-r requirements.txt (line 4)) (2024.1)\n",
      "Requirement already satisfied: tzdata>=2022.7 in /usr/local/google/home/thekim/anaconda3/envs/klue/lib/python3.11/site-packages (from pandas>=1.5.0->-r requirements.txt (line 4)) (2025.2)\n",
      "Requirement already satisfied: google-api-core!=2.0.*,!=2.1.*,!=2.2.*,!=2.3.*,!=2.4.*,!=2.5.*,!=2.6.*,!=2.7.*,<3.0.0,>=1.34.1 in /usr/local/google/home/thekim/anaconda3/envs/klue/lib/python3.11/site-packages (from google-api-core[grpc]!=2.0.*,!=2.1.*,!=2.2.*,!=2.3.*,!=2.4.*,!=2.5.*,!=2.6.*,!=2.7.*,<3.0.0,>=1.34.1->google-cloud-aiplatform>=1.35.0->-r requirements.txt (line 6)) (2.25.1)\n",
      "Requirement already satisfied: proto-plus<2.0.0,>=1.22.3 in /usr/local/google/home/thekim/anaconda3/envs/klue/lib/python3.11/site-packages (from google-cloud-aiplatform>=1.35.0->-r requirements.txt (line 6)) (1.26.1)\n",
      "Requirement already satisfied: protobuf!=4.21.0,!=4.21.1,!=4.21.2,!=4.21.3,!=4.21.4,!=4.21.5,<7.0.0,>=3.20.2 in /usr/local/google/home/thekim/anaconda3/envs/klue/lib/python3.11/site-packages (from google-cloud-aiplatform>=1.35.0->-r requirements.txt (line 6)) (6.31.1)\n",
      "Requirement already satisfied: google-cloud-storage<3.0.0,>=1.32.0 in /usr/local/google/home/thekim/anaconda3/envs/klue/lib/python3.11/site-packages (from google-cloud-aiplatform>=1.35.0->-r requirements.txt (line 6)) (2.19.0)\n",
      "Requirement already satisfied: google-cloud-bigquery!=3.20.0,<4.0.0,>=1.15.0 in /usr/local/google/home/thekim/anaconda3/envs/klue/lib/python3.11/site-packages (from google-cloud-aiplatform>=1.35.0->-r requirements.txt (line 6)) (3.34.0)\n",
      "Requirement already satisfied: google-cloud-resource-manager<3.0.0,>=1.3.3 in /usr/local/google/home/thekim/anaconda3/envs/klue/lib/python3.11/site-packages (from google-cloud-aiplatform>=1.35.0->-r requirements.txt (line 6)) (1.14.2)\n",
      "Requirement already satisfied: shapely<3.0.0 in /usr/local/google/home/thekim/anaconda3/envs/klue/lib/python3.11/site-packages (from google-cloud-aiplatform>=1.35.0->-r requirements.txt (line 6)) (2.1.1)\n",
      "Requirement already satisfied: docstring_parser<1 in /usr/local/google/home/thekim/anaconda3/envs/klue/lib/python3.11/site-packages (from google-cloud-aiplatform>=1.35.0->-r requirements.txt (line 6)) (0.16)\n",
      "Requirement already satisfied: googleapis-common-protos<2.0.0,>=1.56.2 in /usr/local/google/home/thekim/anaconda3/envs/klue/lib/python3.11/site-packages (from google-api-core!=2.0.*,!=2.1.*,!=2.2.*,!=2.3.*,!=2.4.*,!=2.5.*,!=2.6.*,!=2.7.*,<3.0.0,>=1.34.1->google-api-core[grpc]!=2.0.*,!=2.1.*,!=2.2.*,!=2.3.*,!=2.4.*,!=2.5.*,!=2.6.*,!=2.7.*,<3.0.0,>=1.34.1->google-cloud-aiplatform>=1.35.0->-r requirements.txt (line 6)) (1.70.0)\n",
      "Requirement already satisfied: grpcio<2.0.0,>=1.33.2 in /usr/local/google/home/thekim/anaconda3/envs/klue/lib/python3.11/site-packages (from google-api-core[grpc]!=2.0.*,!=2.1.*,!=2.2.*,!=2.3.*,!=2.4.*,!=2.5.*,!=2.6.*,!=2.7.*,<3.0.0,>=1.34.1->google-cloud-aiplatform>=1.35.0->-r requirements.txt (line 6)) (1.73.1)\n",
      "Requirement already satisfied: grpcio-status<2.0.0,>=1.33.2 in /usr/local/google/home/thekim/anaconda3/envs/klue/lib/python3.11/site-packages (from google-api-core[grpc]!=2.0.*,!=2.1.*,!=2.2.*,!=2.3.*,!=2.4.*,!=2.5.*,!=2.6.*,!=2.7.*,<3.0.0,>=1.34.1->google-cloud-aiplatform>=1.35.0->-r requirements.txt (line 6)) (1.73.1)\n",
      "Requirement already satisfied: google-cloud-core<3.0.0,>=2.4.1 in /usr/local/google/home/thekim/anaconda3/envs/klue/lib/python3.11/site-packages (from google-cloud-bigquery!=3.20.0,<4.0.0,>=1.15.0->google-cloud-aiplatform>=1.35.0->-r requirements.txt (line 6)) (2.4.3)\n",
      "Requirement already satisfied: google-resumable-media<3.0.0,>=2.0.0 in /usr/local/google/home/thekim/anaconda3/envs/klue/lib/python3.11/site-packages (from google-cloud-bigquery!=3.20.0,<4.0.0,>=1.15.0->google-cloud-aiplatform>=1.35.0->-r requirements.txt (line 6)) (2.7.2)\n",
      "Requirement already satisfied: grpc-google-iam-v1<1.0.0,>=0.14.0 in /usr/local/google/home/thekim/anaconda3/envs/klue/lib/python3.11/site-packages (from google-cloud-resource-manager<3.0.0,>=1.3.3->google-cloud-aiplatform>=1.35.0->-r requirements.txt (line 6)) (0.14.2)\n",
      "Requirement already satisfied: google-crc32c<2.0dev,>=1.0 in /usr/local/google/home/thekim/anaconda3/envs/klue/lib/python3.11/site-packages (from google-cloud-storage<3.0.0,>=1.32.0->google-cloud-aiplatform>=1.35.0->-r requirements.txt (line 6)) (1.7.1)\n",
      "Requirement already satisfied: six>=1.5 in /usr/local/google/home/thekim/anaconda3/envs/klue/lib/python3.11/site-packages (from python-dateutil>=2.8.2->pandas>=1.5.0->-r requirements.txt (line 4)) (1.17.0)\n",
      "Requirement already satisfied: aiohappyeyeballs>=2.3.0 in /usr/local/google/home/thekim/anaconda3/envs/klue/lib/python3.11/site-packages (from aiohttp!=4.0.0a0,!=4.0.0a1->fsspec[http]<=2025.3.0,>=2023.1.0->datasets>=2.14.0->-r requirements.txt (line 3)) (2.4.4)\n",
      "Requirement already satisfied: aiosignal>=1.1.2 in /usr/local/google/home/thekim/anaconda3/envs/klue/lib/python3.11/site-packages (from aiohttp!=4.0.0a0,!=4.0.0a1->fsspec[http]<=2025.3.0,>=2023.1.0->datasets>=2.14.0->-r requirements.txt (line 3)) (1.2.0)\n",
      "Requirement already satisfied: attrs>=17.3.0 in /usr/local/google/home/thekim/anaconda3/envs/klue/lib/python3.11/site-packages (from aiohttp!=4.0.0a0,!=4.0.0a1->fsspec[http]<=2025.3.0,>=2023.1.0->datasets>=2.14.0->-r requirements.txt (line 3)) (24.3.0)\n",
      "Requirement already satisfied: frozenlist>=1.1.1 in /usr/local/google/home/thekim/anaconda3/envs/klue/lib/python3.11/site-packages (from aiohttp!=4.0.0a0,!=4.0.0a1->fsspec[http]<=2025.3.0,>=2023.1.0->datasets>=2.14.0->-r requirements.txt (line 3)) (1.5.0)\n",
      "Requirement already satisfied: multidict<7.0,>=4.5 in /usr/local/google/home/thekim/anaconda3/envs/klue/lib/python3.11/site-packages (from aiohttp!=4.0.0a0,!=4.0.0a1->fsspec[http]<=2025.3.0,>=2023.1.0->datasets>=2.14.0->-r requirements.txt (line 3)) (6.1.0)\n",
      "Requirement already satisfied: propcache>=0.2.0 in /usr/local/google/home/thekim/anaconda3/envs/klue/lib/python3.11/site-packages (from aiohttp!=4.0.0a0,!=4.0.0a1->fsspec[http]<=2025.3.0,>=2023.1.0->datasets>=2.14.0->-r requirements.txt (line 3)) (0.3.1)\n",
      "Requirement already satisfied: yarl<2.0,>=1.17.0 in /usr/local/google/home/thekim/anaconda3/envs/klue/lib/python3.11/site-packages (from aiohttp!=4.0.0a0,!=4.0.0a1->fsspec[http]<=2025.3.0,>=2023.1.0->datasets>=2.14.0->-r requirements.txt (line 3)) (1.18.0)\n",
      "Requirement already satisfied: hf-xet<2.0.0,>=1.1.2 in /usr/local/google/home/thekim/anaconda3/envs/klue/lib/python3.11/site-packages (from huggingface-hub>=0.24.0->datasets>=2.14.0->-r requirements.txt (line 3)) (1.1.5)\n",
      "\u001b[0;32m[SUCCESS]\u001b[0m Dependencies installed successfully!\n",
      "\u001b[0;34m[INFO]\u001b[0m Testing the setup...\n",
      "KLUE NER Benchmark Setup Test\n",
      "========================================\n",
      "\n",
      "Package Imports:\n",
      "Testing package imports...\n",
      "  ✓ google.genai\n",
      "  ✓ datasets\n",
      "  ✓ pandas\n",
      "  ✓ tqdm\n",
      "  ✓ google.cloud.aiplatform\n",
      "  All packages imported successfully!\n",
      "\n",
      "Dataset Access:\n",
      "\n",
      "Testing dataset access...\n",
      "  Loading KLUE NER dataset...\n",
      "  ✓ Dataset loaded successfully\n",
      "  ✓ Sample keys: ['sentence', 'tokens', 'ner_tags']\n",
      "  ✓ Tokens: 70 tokens\n",
      "  ✓ NER tags: 70 tags\n",
      "  ✓ All required fields present\n",
      "  ⚠ Note: 'guid' field not available, will generate IDs automatically\n",
      "\n",
      "Google Cloud Setup:\n",
      "\n",
      "Testing Google Cloud setup...\n",
      "  ✓ GOOGLE_CLOUD_PROJECT set to: vertex-workbench-notebook\n",
      "  ✓ google.genai imported successfully\n",
      "\n",
      "NER Script:\n",
      "\n",
      "Testing NER script...\n",
      "  ✓ NER script imported successfully\n",
      "  ✓ Configuration created successfully\n",
      "  ✓ Entity type mapping correct\n",
      "\n",
      "Directory Structure:\n",
      "\n",
      "Testing directory structure...\n",
      "  ✓ logs/\n",
      "  ✓ benchmark_results/\n",
      "  ✓ result_analysis/\n",
      "  ✓ eval_dataset/\n",
      "\n",
      "Script Permissions:\n",
      "\n",
      "Testing script permissions...\n",
      "  ✓ run (executable)\n",
      "  ✓ setup.sh (executable)\n",
      "  ✓ install_dependencies.sh (executable)\n",
      "  ✓ get_errors.sh (executable)\n",
      "  ✓ test_logging.sh (executable)\n",
      "\n",
      "========================================\n",
      "Test Results: 6/6 tests passed\n",
      "🎉 All tests passed! Setup is complete.\n",
      "\n",
      "Next steps:\n",
      "1. Set your Google Cloud project: export GOOGLE_CLOUD_PROJECT='your-project-id'\n",
      "2. Run a test: ./run test (clean mode - recommended)\n",
      "3. Run full benchmark: ./run full (clean mode - recommended)\n",
      "4. For debugging: python klue_ner-gemini2_5flash.py --project-id 'your-project-id' --max-samples 10 --verbose\n",
      "\u001b[0;32m[SUCCESS]\u001b[0m Setup test completed successfully!\n",
      "\n",
      "\u001b[0;34m[INFO]\u001b[0m Next steps for Vertex AI setup:\n",
      "1. Install Google Cloud CLI: https://cloud.google.com/sdk/docs/install\n",
      "2. Authenticate with gcloud: gcloud auth login\n",
      "3. Set up application default credentials: gcloud auth application-default login\n",
      "4. Set your project ID: export GOOGLE_CLOUD_PROJECT='your-project-id'\n",
      "5. Enable Vertex AI API: gcloud services enable aiplatform.googleapis.com\n",
      "6. Run the benchmark: ./run test (clean mode) or ./run full (clean mode) or use --verbose flag for debugging\n",
      "\n",
      "\u001b[0;34m[INFO]\u001b[0m Logging features:\n",
      "- All benchmark runs are automatically logged to the 'logs/' directory\n",
      "- Log files include command headers for easy identification\n",
      "- Separate error logs (.err) are created for focused debugging\n"
     ]
    }
   ],
   "source": [
    "!./setup.sh full"
   ]
  },
  {
   "cell_type": "markdown",
   "id": "f019c70b-c9e5-42ca-9a94-9228a44bcfb5",
   "metadata": {},
   "source": [
    "### Recent Improvements\n",
    "\n",
    "The KLUE NER benchmark has been enhanced with several improvements:\n",
    "\n",
    "#### 🎯 **Verbose/Clean Mode System**\n",
    "- **Default Clean Mode**: Minimal output with suppressed Google Cloud logging for better readability\n",
    "- **Verbose Mode**: Full output with all logging details for debugging\n",
    "- **Usage**: `./run test` (clean) or `python klue_ner-gemini2_5flash.py --project-id \"$GOOGLE_CLOUD_PROJECT\" --max-samples 10 --verbose` (verbose)\n",
    "\n",
    "#### 📊 **Enhanced Progress Tracking**\n",
    "- **Reduced Update Frequency**: Progress bar updates less frequently for better readability\n",
    "- **Cleaner Output**: Improved formatting with better visual separation\n",
    "- **Better User Experience**: Less cluttered output while maintaining functionality\n",
    "\n",
    "#### 📁 **CSV File Generation**\n",
    "- **Intermediate Results**: CSV files generated for both intermediate and final results\n",
    "- **Easy Analysis**: CSV format provides quick access to summary statistics\n",
    "- **Consistent Format**: Both JSON and CSV files available for all result saves\n",
    "\n",
    "#### 🧪 **Testing and Verification**\n",
    "- **New Test Script**: `./test_verbose_mode.sh` for comprehensive testing\n",
    "- **Enhanced Verification**: Updated script verification system\n",
    "- **Better Documentation**: Comprehensive guides and troubleshooting\n",
    "\n",
    "**Recommended**: Use the default clean mode for normal operation. Use verbose mode only when debugging issues.\n"
   ]
  },
  {
   "cell_type": "markdown",
   "id": "test-run-section",
   "metadata": {},
   "source": [
    "### Test-run"
   ]
  },
  {
   "cell_type": "code",
   "execution_count": 7,
   "id": "eb9dc522-2977-462e-892d-f3c79e94ffad",
   "metadata": {},
   "outputs": [
    {
     "name": "stdout",
     "output_type": "stream",
     "text": [
      "Running small test with 10 samples...\n",
      "2025-07-11 18:46:06,828 - INFO - Initialized Vertex AI with project: vertex-workbench-notebook, location: us-central1\n",
      "2025-07-11 18:46:06,828 - INFO - Model name set to: gemini-2.5-flash\n",
      "2025-07-11 18:46:06,828 - INFO - Loading KLUE NER dataset for named entity recognition...\n",
      "2025-07-11 18:46:19,916 - INFO - Preparing to load a subset of 10 samples.\n",
      "2025-07-11 18:46:19,918 - INFO - Reached sample limit of 10. Halting data loading.\n",
      "2025-07-11 18:46:19,918 - INFO - ✅ Successfully loaded 10 samples.\n",
      "2025-07-11 18:46:19,918 - INFO - Starting benchmark...\n",
      "project_id: vertex-workbench-notebook\n",
      "Processing samples:   0%|          | 0/10 [00:00<?, ?it/s]2025-07-11 18:46:19,919 - INFO - AFC is enabled with max remote calls: 10.\n",
      "2025-07-11 18:46:25,383 - INFO - HTTP Request: POST https://us-central1-aiplatform.googleapis.com/v1beta1/projects/vertex-workbench-notebook/locations/us-central1/publishers/google/models/gemini-2.5-flash:generateContent \"HTTP/1.1 200 OK\"\n",
      "2025-07-11 18:46:25,385 - INFO - AFC remote call 1 is done.\n",
      "Processing samples:  10%|█         | 1/10 [00:05<00:49,  5.51s/it]2025-07-11 18:46:25,425 - INFO - AFC is enabled with max remote calls: 10.\n",
      "2025-07-11 18:46:28,433 - INFO - HTTP Request: POST https://us-central1-aiplatform.googleapis.com/v1beta1/projects/vertex-workbench-notebook/locations/us-central1/publishers/google/models/gemini-2.5-flash:generateContent \"HTTP/1.1 200 OK\"\n",
      "2025-07-11 18:46:28,434 - INFO - AFC remote call 1 is done.\n",
      "Processing samples:  20%|██        | 2/10 [00:08<00:32,  4.06s/it]2025-07-11 18:46:28,475 - INFO - AFC is enabled with max remote calls: 10.\n",
      "2025-07-11 18:46:34,058 - INFO - HTTP Request: POST https://us-central1-aiplatform.googleapis.com/v1beta1/projects/vertex-workbench-notebook/locations/us-central1/publishers/google/models/gemini-2.5-flash:generateContent \"HTTP/1.1 200 OK\"\n",
      "2025-07-11 18:46:34,059 - INFO - AFC remote call 1 is done.\n",
      "Processing samples:  30%|███       | 3/10 [00:14<00:33,  4.78s/it]2025-07-11 18:46:34,099 - INFO - AFC is enabled with max remote calls: 10.\n",
      "2025-07-11 18:46:47,477 - INFO - HTTP Request: POST https://us-central1-aiplatform.googleapis.com/v1beta1/projects/vertex-workbench-notebook/locations/us-central1/publishers/google/models/gemini-2.5-flash:generateContent \"HTTP/1.1 200 OK\"\n",
      "2025-07-11 18:46:47,478 - INFO - AFC remote call 1 is done.\n",
      "2025-07-11 18:46:47,518 - INFO - AFC is enabled with max remote calls: 10.\n",
      "2025-07-11 18:46:51,978 - INFO - HTTP Request: POST https://us-central1-aiplatform.googleapis.com/v1beta1/projects/vertex-workbench-notebook/locations/us-central1/publishers/google/models/gemini-2.5-flash:generateContent \"HTTP/1.1 200 OK\"\n",
      "2025-07-11 18:46:51,979 - INFO - AFC remote call 1 is done.\n",
      "Processing samples:  50%|█████     | 5/10 [00:32<00:34,  6.86s/it]2025-07-11 18:46:52,019 - INFO - AFC is enabled with max remote calls: 10.\n",
      "2025-07-11 18:46:57,076 - INFO - HTTP Request: POST https://us-central1-aiplatform.googleapis.com/v1beta1/projects/vertex-workbench-notebook/locations/us-central1/publishers/google/models/gemini-2.5-flash:generateContent \"HTTP/1.1 200 OK\"\n",
      "2025-07-11 18:46:57,077 - INFO - AFC remote call 1 is done.\n",
      "Processing samples:  60%|██████    | 6/10 [00:37<00:25,  6.26s/it]2025-07-11 18:46:57,118 - INFO - AFC is enabled with max remote calls: 10.\n",
      "2025-07-11 18:47:05,290 - INFO - HTTP Request: POST https://us-central1-aiplatform.googleapis.com/v1beta1/projects/vertex-workbench-notebook/locations/us-central1/publishers/google/models/gemini-2.5-flash:generateContent \"HTTP/1.1 200 OK\"\n",
      "2025-07-11 18:47:05,291 - INFO - AFC remote call 1 is done.\n",
      "Processing samples:  70%|███████   | 7/10 [00:45<00:20,  6.90s/it]2025-07-11 18:47:05,331 - INFO - AFC is enabled with max remote calls: 10.\n",
      "2025-07-11 18:47:09,284 - INFO - HTTP Request: POST https://us-central1-aiplatform.googleapis.com/v1beta1/projects/vertex-workbench-notebook/locations/us-central1/publishers/google/models/gemini-2.5-flash:generateContent \"HTTP/1.1 200 OK\"\n",
      "2025-07-11 18:47:09,285 - INFO - AFC remote call 1 is done.\n",
      "Processing samples:  80%|████████  | 8/10 [00:49<00:11,  5.97s/it]2025-07-11 18:47:09,325 - INFO - AFC is enabled with max remote calls: 10.\n",
      "2025-07-11 18:47:14,318 - INFO - HTTP Request: POST https://us-central1-aiplatform.googleapis.com/v1beta1/projects/vertex-workbench-notebook/locations/us-central1/publishers/google/models/gemini-2.5-flash:generateContent \"HTTP/1.1 200 OK\"\n",
      "2025-07-11 18:47:14,319 - INFO - AFC remote call 1 is done.\n",
      "Processing samples:  90%|█████████ | 9/10 [00:54<00:05,  5.68s/it]2025-07-11 18:47:14,359 - INFO - AFC is enabled with max remote calls: 10.\n",
      "2025-07-11 18:47:17,852 - INFO - HTTP Request: POST https://us-central1-aiplatform.googleapis.com/v1beta1/projects/vertex-workbench-notebook/locations/us-central1/publishers/google/models/gemini-2.5-flash:generateContent \"HTTP/1.1 200 OK\"\n",
      "2025-07-11 18:47:17,853 - INFO - AFC remote call 1 is done.\n",
      "Processing samples: 100%|██████████| 10/10 [00:57<00:00,  5.80s/it]\n",
      "2025-07-11 18:47:17,893 - INFO - Benchmark completed!\n",
      "2025-07-11 18:47:17,893 - INFO - F1 Score: 0.3478 (12/35)\n",
      "2025-07-11 18:47:17,893 - INFO - Precision: 0.3529\n",
      "2025-07-11 18:47:17,893 - INFO - Recall: 0.3429\n",
      "2025-07-11 18:47:17,893 - INFO - Total time: 57.98 seconds\n",
      "2025-07-11 18:47:17,893 - INFO - Average time per sample: 5.798 seconds\n",
      "2025-07-11 18:47:17,894 - INFO - Metrics saved to: benchmark_results/klue_ner_metrics_20250711_184717.json\n",
      "2025-07-11 18:47:17,894 - INFO - Detailed results saved to: benchmark_results/klue_ner_results_20250711_184717.json\n",
      "2025-07-11 18:47:17,898 - INFO - Results saved as CSV: benchmark_results/klue_ner_results_20250711_184717.csv\n",
      "2025-07-11 18:47:17,898 - INFO - No errors to analyze\n",
      "============================================================\n",
      "KLUE Named Entity Recognition Benchmark Results\n",
      "============================================================\n",
      "Model: gemini-2.5-flash\n",
      "Platform: Google Cloud Vertex AI\n",
      "Project: vertex-workbench-notebook\n",
      "Location: us-central1\n",
      "F1 Score: 0.3478 (12/35)\n",
      "Precision: 0.3529\n",
      "Recall: 0.3429\n",
      "Total Time: 57.98 seconds\n",
      "Average Time per Sample: 5.798 seconds\n",
      "Samples per Second: 0.17\n",
      "\n",
      "Per-entity Type Performance:\n",
      "  OG (기관(Organization)): 0.6667 (2/3)\n",
      "  PS (인물(Person)): 0.4000 (6/15)\n",
      "  QT (수량(Quantity)): 0.3333 (4/12)\n",
      "  DT (날짜(Date)): 0.0000 (0/3)\n",
      "  LC (지명(Location)): 0.0000 (0/2)\n",
      "\n",
      "Log files saved:\n",
      "  Full output: logs/klue_ner_test_20250711_184605.log\n",
      "  Errors only: logs/klue_ner_test_20250711_184605.err\n"
     ]
    }
   ],
   "source": [
    "!./run test"
   ]
  },
  {
   "cell_type": "markdown",
   "id": "verbose-mode-demo",
   "metadata": {},
   "source": [
    "#### Verbose Mode Demo (Optional)\n",
    "\n",
    "For debugging or detailed logging, you can use verbose mode. This shows all Google Cloud logging and detailed information:"
   ]
  },
  {
   "cell_type": "code",
   "execution_count": null,
   "id": "verbose-mode-test",
   "metadata": {},
   "outputs": [],
   "source": [
    "# Uncomment the line below to run in verbose mode (shows all logging details)\n",
    "# !python klue_ner/klue_ner-gemini2_5flash.py --project-id \"$GOOGLE_CLOUD_PROJECT\" --max-samples 2 --verbose"
   ]
  },
  {
   "cell_type": "markdown",
   "id": "d9a24f9f-4fee-4ee3-a253-643a57f36adb",
   "metadata": {},
   "source": [
    "#### Test with More Samples"
   ]
  },
  {
   "cell_type": "code",
   "execution_count": 12,
   "id": "7e4598e1-e41f-4b8e-b0c5-14fd6de01e97",
   "metadata": {},
   "outputs": [
    {
     "name": "stdout",
     "output_type": "stream",
     "text": [
      "Running custom benchmark with 100 samples...\n",
      "2025-07-12 05:30:41,141 - INFO - Initialized Vertex AI with project: vertex-workbench-notebook, location: us-central1\n",
      "2025-07-12 05:30:41,141 - INFO - Model name set to: gemini-2.5-flash\n",
      "2025-07-12 05:30:41,141 - INFO - Loading KLUE NER dataset for named entity recognition...\n",
      "2025-07-12 05:30:55,152 - INFO - Preparing to load a subset of 100 samples.\n",
      "2025-07-12 05:30:55,162 - INFO - Reached sample limit of 100. Halting data loading.\n",
      "2025-07-12 05:30:55,162 - INFO - ✅ Successfully loaded 100 samples.\n",
      "2025-07-12 05:30:55,162 - INFO - Starting benchmark...\n",
      "project_id: vertex-workbench-notebook\n",
      "Processing samples:   0%|          | 0/1002025-07-12 05:30:55,163 - INFO - AFC is enabled with max remote calls: 10.\n",
      "2025-07-12 05:30:59,435 - INFO - HTTP Request: POST https://us-central1-aiplatform.googleapis.com/v1beta1/projects/vertex-workbench-notebook/locations/us-central1/publishers/google/models/gemini-2.5-flash:generateContent \"HTTP/1.1 200 OK\"\n",
      "2025-07-12 05:30:59,436 - INFO - AFC remote call 1 is done.\n",
      "2025-07-12 05:30:59,476 - INFO - AFC is enabled with max remote calls: 10.\n",
      "2025-07-12 05:31:02,677 - INFO - HTTP Request: POST https://us-central1-aiplatform.googleapis.com/v1beta1/projects/vertex-workbench-notebook/locations/us-central1/publishers/google/models/gemini-2.5-flash:generateContent \"HTTP/1.1 200 OK\"\n",
      "2025-07-12 05:31:02,678 - INFO - AFC remote call 1 is done.\n",
      "2025-07-12 05:31:02,719 - INFO - AFC is enabled with max remote calls: 10.\n",
      "2025-07-12 05:31:06,693 - INFO - HTTP Request: POST https://us-central1-aiplatform.googleapis.com/v1beta1/projects/vertex-workbench-notebook/locations/us-central1/publishers/google/models/gemini-2.5-flash:generateContent \"HTTP/1.1 200 OK\"\n",
      "2025-07-12 05:31:06,694 - INFO - AFC remote call 1 is done.\n",
      "Processing samples:   3%|▎         | 3/1002025-07-12 05:31:06,734 - INFO - AFC is enabled with max remote calls: 10.\n",
      "2025-07-12 05:31:12,713 - INFO - HTTP Request: POST https://us-central1-aiplatform.googleapis.com/v1beta1/projects/vertex-workbench-notebook/locations/us-central1/publishers/google/models/gemini-2.5-flash:generateContent \"HTTP/1.1 200 OK\"\n",
      "2025-07-12 05:31:12,714 - INFO - AFC remote call 1 is done.\n",
      "2025-07-12 05:31:12,754 - INFO - AFC is enabled with max remote calls: 10.\n",
      "2025-07-12 05:31:16,303 - INFO - HTTP Request: POST https://us-central1-aiplatform.googleapis.com/v1beta1/projects/vertex-workbench-notebook/locations/us-central1/publishers/google/models/gemini-2.5-flash:generateContent \"HTTP/1.1 200 OK\"\n",
      "2025-07-12 05:31:16,304 - INFO - AFC remote call 1 is done.\n",
      "2025-07-12 05:31:16,344 - INFO - AFC is enabled with max remote calls: 10.\n",
      "^C\n"
     ]
    }
   ],
   "source": [
    "!./run custom 100"
   ]
  },
  {
   "cell_type": "markdown",
   "id": "test-verbose-mode",
   "metadata": {},
   "source": [
    "#### Test New Features\n",
    "\n",
    "You can test the new verbose mode functionality and CSV file generation:"
   ]
  },
  {
   "cell_type": "code",
   "execution_count": null,
   "id": "test-verbose-script",
   "metadata": {},
   "outputs": [],
   "source": [
    "# Test the new verbose mode functionality\n",
    "!cd klue_ner && ./test_verbose_mode.sh"
   ]
  },
  {
   "cell_type": "markdown",
   "id": "1eb5d028-76a8-4ff0-8737-a2fb73d73b11",
   "metadata": {},
   "source": [
    "#### Run with All Samples"
   ]
  },
  {
   "cell_type": "code",
   "execution_count": null,
   "id": "b97db76d-c340-4e7b-9551-2e3ec24e064d",
   "metadata": {
    "scrolled": true
   },
   "outputs": [
    {
     "name": "stdout",
     "output_type": "stream",
     "text": [
      "Running full benchmark...\n",
      "2025-07-12 05:41:57,793 - INFO - Initialized Vertex AI with project: vertex-workbench-notebook, location: us-central1\n",
      "2025-07-12 05:41:57,793 - INFO - Model name set to: gemini-2.5-flash\n",
      "2025-07-12 05:41:57,793 - INFO - Loading KLUE NER dataset for named entity recognition...\n"
     ]
    }
   ],
   "source": [
    "!./run full"
   ]
  },
  {
   "cell_type": "markdown",
   "id": "check-results",
   "metadata": {},
   "source": [
    "#### Check Results and New CSV Files\n",
    "\n",
    "The benchmark now generates both JSON and CSV files for easier analysis:"
   ]
  },
  {
   "cell_type": "code",
   "execution_count": null,
   "id": "list-results",
   "metadata": {},
   "outputs": [],
   "source": [
    "# List the latest results files (both JSON and CSV)\n",
    "!cd klue_ner && ls -la benchmark_results/ | tail -10"
   ]
  },
  {
   "cell_type": "code",
   "execution_count": null,
   "id": "show-csv-headers",
   "metadata": {},
   "outputs": [],
   "source": [
    "# Show the structure of the latest CSV file\n",
    "!cd klue_ner && ls -t benchmark_results/*.csv | head -1 | xargs -I {} head -5 {}"
   ]
  },
  {
   "cell_type": "code",
   "execution_count": null,
   "id": "b6b218b5-9003-47c0-8c53-bd8108ed6e2d",
   "metadata": {},
   "outputs": [],
   "source": []
  },
  {
   "cell_type": "markdown",
   "id": "summary-improvements",
   "metadata": {},
   "source": [
    "## Summary of Improvements\n",
    "\n",
    "The KLUE NER benchmark has been significantly enhanced with the following improvements:\n",
    "\n",
    "### 🎯 **Better User Experience**\n",
    "- **Clean Mode (Default)**: Minimal output with suppressed Google Cloud logging\n",
    "- **Verbose Mode**: Full logging details for debugging\n",
    "- **Improved Progress Bar**: Less frequent updates for better readability\n",
    "\n",
    "### 📊 **Enhanced Result Analysis**\n",
    "- **CSV File Generation**: Both intermediate and final results in CSV format\n",
    "- **Consistent File Structure**: JSON and CSV files for all result saves\n",
    "- **Easy Data Analysis**: Spreadsheet-compatible format for quick review\n",
    "\n",
    "### 🧪 **Testing and Verification**\n",
    "- **New Test Script**: `./test_verbose_mode.sh` for comprehensive testing\n",
    "- **Enhanced Documentation**: Updated guides and troubleshooting\n",
    "- **Backward Compatibility**: All existing functionality preserved\n",
    "\n",
    "### 🚀 **Usage Recommendations**\n",
    "- **Normal Operation**: Use `./run test`, `./run custom N`, or `./run full` (clean mode)\n",
    "- **Debugging**: Use `python klue_ner-gemini2_5flash.py --project-id \"$GOOGLE_CLOUD_PROJECT\" --max-samples N --verbose`\n",
    "- **Testing**: Run `./test_verbose_mode.sh` to verify all features\n",
    "\n",
    "All improvements maintain full backward compatibility while providing a much better user experience!\n"
   ]
  }
 ],
 "metadata": {
  "kernelspec": {
   "display_name": "Python 3 (ipykernel)",
   "language": "python",
   "name": "python3"
  },
  "language_info": {
   "codemirror_mode": {
    "name": "ipython",
    "version": 3
   },
   "file_extension": ".py",
   "mimetype": "text/x-python",
   "name": "python",
   "nbconvert_exporter": "python",
   "pygments_lexer": "ipython3",
   "version": "3.11.13"
  }
 },
 "nbformat": 4,
 "nbformat_minor": 5
}
