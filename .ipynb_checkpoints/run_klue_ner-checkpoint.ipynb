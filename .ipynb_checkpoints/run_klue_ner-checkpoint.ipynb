{
 "cells": [
  {
   "cell_type": "markdown",
   "id": "d4d2c1f6-cdb1-40df-b5df-2efe81b471a0",
   "metadata": {},
   "source": [
    "## Run the KLUE benchmarks\n",
    "\n"
   ]
  },
  {
   "cell_type": "code",
   "execution_count": 5,
   "id": "efaae47f-aed1-4327-a0af-02905cc78f4c",
   "metadata": {},
   "outputs": [
    {
     "data": {
      "text/plain": [
       "'/usr/local/google/home/thekim/github/aimldl/llm_benchmarks_asian_langs/klue_ner'"
      ]
     },
     "execution_count": 5,
     "metadata": {},
     "output_type": "execute_result"
    }
   ],
   "source": [
    "%pwd"
   ]
  },
  {
   "cell_type": "markdown",
   "id": "d1b5c9da-f630-43ba-8023-ce72825b7ad1",
   "metadata": {},
   "source": [
    "### KLUE NER (Named Entity Recognition) Task"
   ]
  },
  {
   "cell_type": "code",
   "execution_count": 6,
   "id": "f990f6ed-17a2-40b6-b1fc-8a34a734c4ea",
   "metadata": {},
   "outputs": [
    {
     "name": "stdout",
     "output_type": "stream",
     "text": [
      "[Errno 2] No such file or directory: 'klue_ner'\n",
      "/usr/local/google/home/thekim/github/aimldl/llm_benchmarks_asian_langs/klue_ner\n"
     ]
    }
   ],
   "source": [
    "%cd klue_ner"
   ]
  },
  {
   "cell_type": "code",
   "execution_count": 7,
   "id": "8827fecd-ff3f-41e3-8d14-e1bcb22b8328",
   "metadata": {},
   "outputs": [
    {
     "name": "stdout",
     "output_type": "stream",
     "text": [
      "ABOUT_KLUE_NER.md   \u001b[0m\u001b[01;34meval_dataset\u001b[0m/               \u001b[01;34mresult_analysis\u001b[0m/\n",
      "README.md           \u001b[01;32mget_errors.sh\u001b[0m*              \u001b[01;32mrun\u001b[0m*\n",
      "TROUBLESHOOTING.md  \u001b[01;32minstall_dependencies.sh\u001b[0m*    \u001b[01;32msetup.sh\u001b[0m*\n",
      "VERTEX_AI_SETUP.md  klue_ner-gemini2_5flash.py  \u001b[01;32mtest_logging.sh\u001b[0m*\n",
      "\u001b[01;34m__pycache__\u001b[0m/        \u001b[01;34mlogs\u001b[0m/                       test_setup.py\n",
      "\u001b[01;34mbenchmark_results\u001b[0m/  requirements.txt            \u001b[01;32mverify_scripts.sh\u001b[0m*\n"
     ]
    }
   ],
   "source": [
    "%ls"
   ]
  },
  {
   "cell_type": "markdown",
   "id": "a24c70d5-c26c-451d-9381-cf0dc38bf54f",
   "metadata": {},
   "source": [
    "### Set up"
   ]
  },
  {
   "cell_type": "code",
   "execution_count": 8,
   "id": "25b7fdbd-b93d-45cb-af90-dedb6e4f8af2",
   "metadata": {},
   "outputs": [
    {
     "name": "stdout",
     "output_type": "stream",
     "text": [
      "\u001b[0;34m[INFO]\u001b[0m Checking prerequisites...\n",
      "\u001b[0;32m[SUCCESS]\u001b[0m Prerequisites check passed\n",
      "\u001b[0;34m[INFO]\u001b[0m Installing Python dependencies...\n",
      "Requirement already satisfied: google-genai in /usr/local/google/home/thekim/anaconda3/envs/klue/lib/python3.11/site-packages (from -r requirements.txt (line 2)) (1.24.0)\n",
      "Requirement already satisfied: datasets>=2.14.0 in /usr/local/google/home/thekim/anaconda3/envs/klue/lib/python3.11/site-packages (from -r requirements.txt (line 3)) (3.6.0)\n",
      "Requirement already satisfied: pandas>=1.5.0 in /usr/local/google/home/thekim/anaconda3/envs/klue/lib/python3.11/site-packages (from -r requirements.txt (line 4)) (2.2.3)\n",
      "Requirement already satisfied: tqdm>=4.64.0 in /usr/local/google/home/thekim/anaconda3/envs/klue/lib/python3.11/site-packages (from -r requirements.txt (line 5)) (4.67.1)\n",
      "Requirement already satisfied: google-cloud-aiplatform>=1.35.0 in /usr/local/google/home/thekim/anaconda3/envs/klue/lib/python3.11/site-packages (from -r requirements.txt (line 6)) (1.101.0)\n",
      "Requirement already satisfied: anyio<5.0.0,>=4.8.0 in /usr/local/google/home/thekim/anaconda3/envs/klue/lib/python3.11/site-packages (from google-genai->-r requirements.txt (line 2)) (4.9.0)\n",
      "Requirement already satisfied: google-auth<3.0.0,>=2.14.1 in /usr/local/google/home/thekim/anaconda3/envs/klue/lib/python3.11/site-packages (from google-genai->-r requirements.txt (line 2)) (2.40.3)\n",
      "Requirement already satisfied: httpx<1.0.0,>=0.28.1 in /usr/local/google/home/thekim/anaconda3/envs/klue/lib/python3.11/site-packages (from google-genai->-r requirements.txt (line 2)) (0.28.1)\n",
      "Requirement already satisfied: pydantic<3.0.0,>=2.0.0 in /usr/local/google/home/thekim/anaconda3/envs/klue/lib/python3.11/site-packages (from google-genai->-r requirements.txt (line 2)) (2.11.7)\n",
      "Requirement already satisfied: requests<3.0.0,>=2.28.1 in /usr/local/google/home/thekim/anaconda3/envs/klue/lib/python3.11/site-packages (from google-genai->-r requirements.txt (line 2)) (2.32.3)\n",
      "Requirement already satisfied: tenacity<9.0.0,>=8.2.3 in /usr/local/google/home/thekim/anaconda3/envs/klue/lib/python3.11/site-packages (from google-genai->-r requirements.txt (line 2)) (8.5.0)\n",
      "Requirement already satisfied: websockets<15.1.0,>=13.0.0 in /usr/local/google/home/thekim/anaconda3/envs/klue/lib/python3.11/site-packages (from google-genai->-r requirements.txt (line 2)) (15.0.1)\n",
      "Requirement already satisfied: typing-extensions<5.0.0,>=4.11.0 in /usr/local/google/home/thekim/anaconda3/envs/klue/lib/python3.11/site-packages (from google-genai->-r requirements.txt (line 2)) (4.12.2)\n",
      "Requirement already satisfied: idna>=2.8 in /usr/local/google/home/thekim/anaconda3/envs/klue/lib/python3.11/site-packages (from anyio<5.0.0,>=4.8.0->google-genai->-r requirements.txt (line 2)) (3.7)\n",
      "Requirement already satisfied: sniffio>=1.1 in /usr/local/google/home/thekim/anaconda3/envs/klue/lib/python3.11/site-packages (from anyio<5.0.0,>=4.8.0->google-genai->-r requirements.txt (line 2)) (1.3.0)\n",
      "Requirement already satisfied: cachetools<6.0,>=2.0.0 in /usr/local/google/home/thekim/anaconda3/envs/klue/lib/python3.11/site-packages (from google-auth<3.0.0,>=2.14.1->google-genai->-r requirements.txt (line 2)) (5.5.1)\n",
      "Requirement already satisfied: pyasn1-modules>=0.2.1 in /usr/local/google/home/thekim/anaconda3/envs/klue/lib/python3.11/site-packages (from google-auth<3.0.0,>=2.14.1->google-genai->-r requirements.txt (line 2)) (0.2.8)\n",
      "Requirement already satisfied: rsa<5,>=3.1.4 in /usr/local/google/home/thekim/anaconda3/envs/klue/lib/python3.11/site-packages (from google-auth<3.0.0,>=2.14.1->google-genai->-r requirements.txt (line 2)) (4.9.1)\n",
      "Requirement already satisfied: certifi in /usr/local/google/home/thekim/anaconda3/envs/klue/lib/python3.11/site-packages (from httpx<1.0.0,>=0.28.1->google-genai->-r requirements.txt (line 2)) (2025.4.26)\n",
      "Requirement already satisfied: httpcore==1.* in /usr/local/google/home/thekim/anaconda3/envs/klue/lib/python3.11/site-packages (from httpx<1.0.0,>=0.28.1->google-genai->-r requirements.txt (line 2)) (1.0.9)\n",
      "Requirement already satisfied: h11>=0.16 in /usr/local/google/home/thekim/anaconda3/envs/klue/lib/python3.11/site-packages (from httpcore==1.*->httpx<1.0.0,>=0.28.1->google-genai->-r requirements.txt (line 2)) (0.16.0)\n",
      "Requirement already satisfied: annotated-types>=0.6.0 in /usr/local/google/home/thekim/anaconda3/envs/klue/lib/python3.11/site-packages (from pydantic<3.0.0,>=2.0.0->google-genai->-r requirements.txt (line 2)) (0.7.0)\n",
      "Requirement already satisfied: pydantic-core==2.33.2 in /usr/local/google/home/thekim/anaconda3/envs/klue/lib/python3.11/site-packages (from pydantic<3.0.0,>=2.0.0->google-genai->-r requirements.txt (line 2)) (2.33.2)\n",
      "Requirement already satisfied: typing-inspection>=0.4.0 in /usr/local/google/home/thekim/anaconda3/envs/klue/lib/python3.11/site-packages (from pydantic<3.0.0,>=2.0.0->google-genai->-r requirements.txt (line 2)) (0.4.1)\n",
      "Requirement already satisfied: charset-normalizer<4,>=2 in /usr/local/google/home/thekim/anaconda3/envs/klue/lib/python3.11/site-packages (from requests<3.0.0,>=2.28.1->google-genai->-r requirements.txt (line 2)) (3.3.2)\n",
      "Requirement already satisfied: urllib3<3,>=1.21.1 in /usr/local/google/home/thekim/anaconda3/envs/klue/lib/python3.11/site-packages (from requests<3.0.0,>=2.28.1->google-genai->-r requirements.txt (line 2)) (2.3.0)\n",
      "Requirement already satisfied: pyasn1>=0.1.3 in /usr/local/google/home/thekim/anaconda3/envs/klue/lib/python3.11/site-packages (from rsa<5,>=3.1.4->google-auth<3.0.0,>=2.14.1->google-genai->-r requirements.txt (line 2)) (0.4.8)\n",
      "Requirement already satisfied: filelock in /usr/local/google/home/thekim/anaconda3/envs/klue/lib/python3.11/site-packages (from datasets>=2.14.0->-r requirements.txt (line 3)) (3.17.0)\n",
      "Requirement already satisfied: numpy>=1.17 in /usr/local/google/home/thekim/anaconda3/envs/klue/lib/python3.11/site-packages (from datasets>=2.14.0->-r requirements.txt (line 3)) (2.1.3)\n",
      "Requirement already satisfied: pyarrow>=15.0.0 in /usr/local/google/home/thekim/anaconda3/envs/klue/lib/python3.11/site-packages (from datasets>=2.14.0->-r requirements.txt (line 3)) (19.0.0)\n",
      "Requirement already satisfied: dill<0.3.9,>=0.3.0 in /usr/local/google/home/thekim/anaconda3/envs/klue/lib/python3.11/site-packages (from datasets>=2.14.0->-r requirements.txt (line 3)) (0.3.8)\n",
      "Requirement already satisfied: xxhash in /usr/local/google/home/thekim/anaconda3/envs/klue/lib/python3.11/site-packages (from datasets>=2.14.0->-r requirements.txt (line 3)) (3.5.0)\n",
      "Requirement already satisfied: multiprocess<0.70.17 in /usr/local/google/home/thekim/anaconda3/envs/klue/lib/python3.11/site-packages (from datasets>=2.14.0->-r requirements.txt (line 3)) (0.70.16)\n",
      "Requirement already satisfied: fsspec<=2025.3.0,>=2023.1.0 in /usr/local/google/home/thekim/anaconda3/envs/klue/lib/python3.11/site-packages (from fsspec[http]<=2025.3.0,>=2023.1.0->datasets>=2.14.0->-r requirements.txt (line 3)) (2025.3.0)\n",
      "Requirement already satisfied: huggingface-hub>=0.24.0 in /usr/local/google/home/thekim/anaconda3/envs/klue/lib/python3.11/site-packages (from datasets>=2.14.0->-r requirements.txt (line 3)) (0.33.2)\n",
      "Requirement already satisfied: packaging in /usr/local/google/home/thekim/anaconda3/envs/klue/lib/python3.11/site-packages (from datasets>=2.14.0->-r requirements.txt (line 3)) (24.2)\n",
      "Requirement already satisfied: pyyaml>=5.1 in /usr/local/google/home/thekim/anaconda3/envs/klue/lib/python3.11/site-packages (from datasets>=2.14.0->-r requirements.txt (line 3)) (6.0.2)\n",
      "Requirement already satisfied: aiohttp!=4.0.0a0,!=4.0.0a1 in /usr/local/google/home/thekim/anaconda3/envs/klue/lib/python3.11/site-packages (from fsspec[http]<=2025.3.0,>=2023.1.0->datasets>=2.14.0->-r requirements.txt (line 3)) (3.11.10)\n",
      "Requirement already satisfied: python-dateutil>=2.8.2 in /usr/local/google/home/thekim/anaconda3/envs/klue/lib/python3.11/site-packages (from pandas>=1.5.0->-r requirements.txt (line 4)) (2.9.0.post0)\n",
      "Requirement already satisfied: pytz>=2020.1 in /usr/local/google/home/thekim/anaconda3/envs/klue/lib/python3.11/site-packages (from pandas>=1.5.0->-r requirements.txt (line 4)) (2024.1)\n",
      "Requirement already satisfied: tzdata>=2022.7 in /usr/local/google/home/thekim/anaconda3/envs/klue/lib/python3.11/site-packages (from pandas>=1.5.0->-r requirements.txt (line 4)) (2025.2)\n",
      "Requirement already satisfied: google-api-core!=2.0.*,!=2.1.*,!=2.2.*,!=2.3.*,!=2.4.*,!=2.5.*,!=2.6.*,!=2.7.*,<3.0.0,>=1.34.1 in /usr/local/google/home/thekim/anaconda3/envs/klue/lib/python3.11/site-packages (from google-api-core[grpc]!=2.0.*,!=2.1.*,!=2.2.*,!=2.3.*,!=2.4.*,!=2.5.*,!=2.6.*,!=2.7.*,<3.0.0,>=1.34.1->google-cloud-aiplatform>=1.35.0->-r requirements.txt (line 6)) (2.25.1)\n",
      "Requirement already satisfied: proto-plus<2.0.0,>=1.22.3 in /usr/local/google/home/thekim/anaconda3/envs/klue/lib/python3.11/site-packages (from google-cloud-aiplatform>=1.35.0->-r requirements.txt (line 6)) (1.26.1)\n",
      "Requirement already satisfied: protobuf!=4.21.0,!=4.21.1,!=4.21.2,!=4.21.3,!=4.21.4,!=4.21.5,<7.0.0,>=3.20.2 in /usr/local/google/home/thekim/anaconda3/envs/klue/lib/python3.11/site-packages (from google-cloud-aiplatform>=1.35.0->-r requirements.txt (line 6)) (6.31.1)\n",
      "Requirement already satisfied: google-cloud-storage<3.0.0,>=1.32.0 in /usr/local/google/home/thekim/anaconda3/envs/klue/lib/python3.11/site-packages (from google-cloud-aiplatform>=1.35.0->-r requirements.txt (line 6)) (2.19.0)\n",
      "Requirement already satisfied: google-cloud-bigquery!=3.20.0,<4.0.0,>=1.15.0 in /usr/local/google/home/thekim/anaconda3/envs/klue/lib/python3.11/site-packages (from google-cloud-aiplatform>=1.35.0->-r requirements.txt (line 6)) (3.34.0)\n",
      "Requirement already satisfied: google-cloud-resource-manager<3.0.0,>=1.3.3 in /usr/local/google/home/thekim/anaconda3/envs/klue/lib/python3.11/site-packages (from google-cloud-aiplatform>=1.35.0->-r requirements.txt (line 6)) (1.14.2)\n",
      "Requirement already satisfied: shapely<3.0.0 in /usr/local/google/home/thekim/anaconda3/envs/klue/lib/python3.11/site-packages (from google-cloud-aiplatform>=1.35.0->-r requirements.txt (line 6)) (2.1.1)\n",
      "Requirement already satisfied: docstring_parser<1 in /usr/local/google/home/thekim/anaconda3/envs/klue/lib/python3.11/site-packages (from google-cloud-aiplatform>=1.35.0->-r requirements.txt (line 6)) (0.16)\n",
      "Requirement already satisfied: googleapis-common-protos<2.0.0,>=1.56.2 in /usr/local/google/home/thekim/anaconda3/envs/klue/lib/python3.11/site-packages (from google-api-core!=2.0.*,!=2.1.*,!=2.2.*,!=2.3.*,!=2.4.*,!=2.5.*,!=2.6.*,!=2.7.*,<3.0.0,>=1.34.1->google-api-core[grpc]!=2.0.*,!=2.1.*,!=2.2.*,!=2.3.*,!=2.4.*,!=2.5.*,!=2.6.*,!=2.7.*,<3.0.0,>=1.34.1->google-cloud-aiplatform>=1.35.0->-r requirements.txt (line 6)) (1.70.0)\n",
      "Requirement already satisfied: grpcio<2.0.0,>=1.33.2 in /usr/local/google/home/thekim/anaconda3/envs/klue/lib/python3.11/site-packages (from google-api-core[grpc]!=2.0.*,!=2.1.*,!=2.2.*,!=2.3.*,!=2.4.*,!=2.5.*,!=2.6.*,!=2.7.*,<3.0.0,>=1.34.1->google-cloud-aiplatform>=1.35.0->-r requirements.txt (line 6)) (1.73.1)\n",
      "Requirement already satisfied: grpcio-status<2.0.0,>=1.33.2 in /usr/local/google/home/thekim/anaconda3/envs/klue/lib/python3.11/site-packages (from google-api-core[grpc]!=2.0.*,!=2.1.*,!=2.2.*,!=2.3.*,!=2.4.*,!=2.5.*,!=2.6.*,!=2.7.*,<3.0.0,>=1.34.1->google-cloud-aiplatform>=1.35.0->-r requirements.txt (line 6)) (1.73.1)\n",
      "Requirement already satisfied: google-cloud-core<3.0.0,>=2.4.1 in /usr/local/google/home/thekim/anaconda3/envs/klue/lib/python3.11/site-packages (from google-cloud-bigquery!=3.20.0,<4.0.0,>=1.15.0->google-cloud-aiplatform>=1.35.0->-r requirements.txt (line 6)) (2.4.3)\n",
      "Requirement already satisfied: google-resumable-media<3.0.0,>=2.0.0 in /usr/local/google/home/thekim/anaconda3/envs/klue/lib/python3.11/site-packages (from google-cloud-bigquery!=3.20.0,<4.0.0,>=1.15.0->google-cloud-aiplatform>=1.35.0->-r requirements.txt (line 6)) (2.7.2)\n",
      "Requirement already satisfied: grpc-google-iam-v1<1.0.0,>=0.14.0 in /usr/local/google/home/thekim/anaconda3/envs/klue/lib/python3.11/site-packages (from google-cloud-resource-manager<3.0.0,>=1.3.3->google-cloud-aiplatform>=1.35.0->-r requirements.txt (line 6)) (0.14.2)\n",
      "Requirement already satisfied: google-crc32c<2.0dev,>=1.0 in /usr/local/google/home/thekim/anaconda3/envs/klue/lib/python3.11/site-packages (from google-cloud-storage<3.0.0,>=1.32.0->google-cloud-aiplatform>=1.35.0->-r requirements.txt (line 6)) (1.7.1)\n",
      "Requirement already satisfied: six>=1.5 in /usr/local/google/home/thekim/anaconda3/envs/klue/lib/python3.11/site-packages (from python-dateutil>=2.8.2->pandas>=1.5.0->-r requirements.txt (line 4)) (1.17.0)\n",
      "Requirement already satisfied: aiohappyeyeballs>=2.3.0 in /usr/local/google/home/thekim/anaconda3/envs/klue/lib/python3.11/site-packages (from aiohttp!=4.0.0a0,!=4.0.0a1->fsspec[http]<=2025.3.0,>=2023.1.0->datasets>=2.14.0->-r requirements.txt (line 3)) (2.4.4)\n",
      "Requirement already satisfied: aiosignal>=1.1.2 in /usr/local/google/home/thekim/anaconda3/envs/klue/lib/python3.11/site-packages (from aiohttp!=4.0.0a0,!=4.0.0a1->fsspec[http]<=2025.3.0,>=2023.1.0->datasets>=2.14.0->-r requirements.txt (line 3)) (1.2.0)\n",
      "Requirement already satisfied: attrs>=17.3.0 in /usr/local/google/home/thekim/anaconda3/envs/klue/lib/python3.11/site-packages (from aiohttp!=4.0.0a0,!=4.0.0a1->fsspec[http]<=2025.3.0,>=2023.1.0->datasets>=2.14.0->-r requirements.txt (line 3)) (24.3.0)\n",
      "Requirement already satisfied: frozenlist>=1.1.1 in /usr/local/google/home/thekim/anaconda3/envs/klue/lib/python3.11/site-packages (from aiohttp!=4.0.0a0,!=4.0.0a1->fsspec[http]<=2025.3.0,>=2023.1.0->datasets>=2.14.0->-r requirements.txt (line 3)) (1.5.0)\n",
      "Requirement already satisfied: multidict<7.0,>=4.5 in /usr/local/google/home/thekim/anaconda3/envs/klue/lib/python3.11/site-packages (from aiohttp!=4.0.0a0,!=4.0.0a1->fsspec[http]<=2025.3.0,>=2023.1.0->datasets>=2.14.0->-r requirements.txt (line 3)) (6.1.0)\n",
      "Requirement already satisfied: propcache>=0.2.0 in /usr/local/google/home/thekim/anaconda3/envs/klue/lib/python3.11/site-packages (from aiohttp!=4.0.0a0,!=4.0.0a1->fsspec[http]<=2025.3.0,>=2023.1.0->datasets>=2.14.0->-r requirements.txt (line 3)) (0.3.1)\n",
      "Requirement already satisfied: yarl<2.0,>=1.17.0 in /usr/local/google/home/thekim/anaconda3/envs/klue/lib/python3.11/site-packages (from aiohttp!=4.0.0a0,!=4.0.0a1->fsspec[http]<=2025.3.0,>=2023.1.0->datasets>=2.14.0->-r requirements.txt (line 3)) (1.18.0)\n",
      "Requirement already satisfied: hf-xet<2.0.0,>=1.1.2 in /usr/local/google/home/thekim/anaconda3/envs/klue/lib/python3.11/site-packages (from huggingface-hub>=0.24.0->datasets>=2.14.0->-r requirements.txt (line 3)) (1.1.5)\n",
      "\u001b[0;32m[SUCCESS]\u001b[0m Dependencies installed successfully!\n",
      "\u001b[0;34m[INFO]\u001b[0m Testing the setup...\n",
      "KLUE NER Benchmark Setup Test\n",
      "========================================\n",
      "\n",
      "Package Imports:\n",
      "Testing package imports...\n",
      "  ✓ google.genai\n",
      "  ✓ datasets\n",
      "  ✓ pandas\n",
      "  ✓ tqdm\n",
      "  ✓ google.cloud.aiplatform\n",
      "  All packages imported successfully!\n",
      "\n",
      "Dataset Access:\n",
      "\n",
      "Testing dataset access...\n",
      "  Loading KLUE NER dataset...\n",
      "  ✓ Dataset loaded successfully\n",
      "  ✓ Sample keys: ['sentence', 'tokens', 'ner_tags']\n",
      "  ✓ Tokens: 70 tokens\n",
      "  ✓ NER tags: 70 tags\n",
      "  ✗ Missing required field: guid\n",
      "  ❌ Dataset Access failed\n",
      "\n",
      "Google Cloud Setup:\n",
      "\n",
      "Testing Google Cloud setup...\n",
      "  ✓ GOOGLE_CLOUD_PROJECT set to: vertex-workbench-notebook\n",
      "  ✓ google.genai imported successfully\n",
      "\n",
      "NER Script:\n",
      "\n",
      "Testing NER script...\n",
      "  ✗ Failed to import NER script: No module named 'klue_ner_gemini2_5flash'\n",
      "  ❌ NER Script failed\n",
      "\n",
      "Directory Structure:\n",
      "\n",
      "Testing directory structure...\n",
      "  ✓ logs/\n",
      "  ✓ benchmark_results/\n",
      "  ✓ result_analysis/\n",
      "  ✓ eval_dataset/\n",
      "\n",
      "Script Permissions:\n",
      "\n",
      "Testing script permissions...\n",
      "  ✓ run (executable)\n",
      "  ✓ setup.sh (executable)\n",
      "  ✓ install_dependencies.sh (executable)\n",
      "  ✓ get_errors.sh (executable)\n",
      "  ✓ test_logging.sh (executable)\n",
      "\n",
      "========================================\n",
      "Test Results: 4/6 tests passed\n",
      "❌ Some tests failed. Please check the errors above.\n",
      "\n",
      "Troubleshooting:\n",
      "1. Run './setup.sh install' to install dependencies\n",
      "2. Check VERTEX_AI_SETUP.md for Google Cloud setup instructions\n",
      "3. Ensure all required files are present\n",
      "\u001b[0;31m[ERROR]\u001b[0m Setup test failed!\n"
     ]
    }
   ],
   "source": [
    "!./setup.sh full"
   ]
  },
  {
   "cell_type": "markdown",
   "id": "f019c70b-c9e5-42ca-9a94-9228a44bcfb5",
   "metadata": {},
   "source": [
    "### Test-run"
   ]
  },
  {
   "cell_type": "code",
   "execution_count": 9,
   "id": "eb9dc522-2977-462e-892d-f3c79e94ffad",
   "metadata": {},
   "outputs": [
    {
     "name": "stdout",
     "output_type": "stream",
     "text": [
      "Running small test with 10 samples...\n",
      "2025-07-11 07:19:15,070 - INFO - Initialized Vertex AI with project: vertex-workbench-notebook, location: us-central1\n",
      "2025-07-11 07:19:15,071 - INFO - Model name set to: gemini-2.5-flash\n",
      "2025-07-11 07:19:15,071 - INFO - Loading KLUE NER dataset for named entity recognition...\n",
      "2025-07-11 07:19:25,689 - INFO - Preparing to load a subset of 10 samples.\n",
      "2025-07-11 07:19:25,690 - ERROR - ❌ A key was not found in the dataset item: 'guid'. The dataset schema may have changed.\n",
      "project_id: vertex-workbench-notebook\n",
      "Traceback (most recent call last):\n",
      "  File \"/usr/local/google/home/thekim/github/aimldl/llm_benchmarks_asian_langs/klue_ner/klue_ner-gemini2_5flash.py\", line 647, in <module>\n",
      "    main() \n",
      "    ^^^^^^\n",
      "  File \"/usr/local/google/home/thekim/github/aimldl/llm_benchmarks_asian_langs/klue_ner/klue_ner-gemini2_5flash.py\", line 635, in main\n",
      "    test_data = benchmark.load_dataset()\n",
      "                ^^^^^^^^^^^^^^^^^^^^^^^^\n",
      "  File \"/usr/local/google/home/thekim/github/aimldl/llm_benchmarks_asian_langs/klue_ner/klue_ner-gemini2_5flash.py\", line 130, in load_dataset\n",
      "    \"id\": item[\"guid\"],\n",
      "          ~~~~^^^^^^^^\n",
      "KeyError: 'guid'\n",
      "Log files saved:\n",
      "  Full output: logs/klue_ner_test_20250711_071913.log\n",
      "  Errors only: logs/klue_ner_test_20250711_071913.err\n"
     ]
    }
   ],
   "source": [
    "!./run test"
   ]
  },
  {
   "cell_type": "markdown",
   "id": "842935be-5252-4fba-bf65-7500b0e296f7",
   "metadata": {},
   "source": [
    "The following is one of the earlier test-run with errors. The errors were fixed."
   ]
  },
  {
   "cell_type": "markdown",
   "id": "d9a24f9f-4fee-4ee3-a253-643a57f36adb",
   "metadata": {},
   "source": [
    "#### Test with More Samples"
   ]
  },
  {
   "cell_type": "code",
   "execution_count": null,
   "id": "7e4598e1-e41f-4b8e-b0c5-14fd6de01e97",
   "metadata": {},
   "outputs": [],
   "source": [
    "!./run custom 100"
   ]
  },
  {
   "cell_type": "markdown",
   "id": "1eb5d028-76a8-4ff0-8737-a2fb73d73b11",
   "metadata": {},
   "source": [
    "#### Test with All Samples"
   ]
  },
  {
   "cell_type": "code",
   "execution_count": null,
   "id": "b97db76d-c340-4e7b-9551-2e3ec24e064d",
   "metadata": {},
   "outputs": [],
   "source": [
    "!./run full"
   ]
  }
 ],
 "metadata": {
  "kernelspec": {
   "display_name": "Python 3 (ipykernel)",
   "language": "python",
   "name": "python3"
  },
  "language_info": {
   "codemirror_mode": {
    "name": "ipython",
    "version": 3
   },
   "file_extension": ".py",
   "mimetype": "text/x-python",
   "name": "python",
   "nbconvert_exporter": "python",
   "pygments_lexer": "ipython3",
   "version": "3.11.13"
  }
 },
 "nbformat": 4,
 "nbformat_minor": 5
}
