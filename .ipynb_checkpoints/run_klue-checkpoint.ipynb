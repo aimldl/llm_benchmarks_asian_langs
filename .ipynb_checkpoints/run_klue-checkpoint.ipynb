{
 "cells": [
  {
   "cell_type": "markdown",
   "id": "d4d2c1f6-cdb1-40df-b5df-2efe81b471a0",
   "metadata": {},
   "source": [
    "## Run the KLUE benchmarks\n",
    "\n"
   ]
  },
  {
   "cell_type": "code",
   "execution_count": 17,
   "id": "93f3d22a-b251-4367-9032-e330b3f48ded",
   "metadata": {},
   "outputs": [
    {
     "name": "stdout",
     "output_type": "stream",
     "text": [
      "\n",
      "You are running on a Google Compute Engine virtual machine.\n",
      "It is recommended that you use service accounts for authentication.\n",
      "\n",
      "You can run:\n",
      "\n",
      "  $ gcloud config set account `ACCOUNT`\n",
      "\n",
      "to switch accounts if necessary.\n",
      "\n",
      "Your credentials may be visible to others with access to this\n",
      "virtual machine. Are you sure you want to authenticate with\n",
      "your personal account?\n",
      "\n",
      "^C you want to continue (Y/n)?  \n",
      "\n",
      "\n",
      "Command killed by keyboard interrupt\n",
      "\n"
     ]
    }
   ],
   "source": [
    "!gcloud auth login"
   ]
  },
  {
   "cell_type": "markdown",
   "id": "d1b5c9da-f630-43ba-8023-ce72825b7ad1",
   "metadata": {},
   "source": [
    "### KLUE Topic Classification Task\n",
    "There are two options to run KLUE-TC.\n",
    "- Option 1. Use this notebook.\n",
    "- Option 2. Use a terminal and follow the instructions in `klue_tc/README.md`.\n",
    "\n",
    "The sub-directory `klue_tc` is designed to run independetly. This notebook runs the same commands, but it's assumed that the following cells are executed in the `klue` environment.\n",
    "\n",
    "For example, running the commands in the following cell \n",
    "\n",
    "```bash\n",
    "cd klue_tc\n",
    "./setup.sh full\n",
    "./run test\n",
    "```\n",
    "\n",
    "is identical to\n",
    "\n",
    "```bash\n",
    "(klue) $ cd klue_tc\n",
    "(klue) $ ./setup.sh full\n",
    "(klue) $ ./run test\n",
    "```"
   ]
  },
  {
   "cell_type": "code",
   "execution_count": 5,
   "id": "efaae47f-aed1-4327-a0af-02905cc78f4c",
   "metadata": {},
   "outputs": [
    {
     "data": {
      "text/plain": [
       "'/usr/local/google/home/thekim/github/aimldl/llm_benchmarks_asian_langs'"
      ]
     },
     "execution_count": 5,
     "metadata": {},
     "output_type": "execute_result"
    }
   ],
   "source": [
    "%pwd"
   ]
  },
  {
   "cell_type": "code",
   "execution_count": 6,
   "id": "f990f6ed-17a2-40b6-b1fc-8a34a734c4ea",
   "metadata": {},
   "outputs": [
    {
     "name": "stdout",
     "output_type": "stream",
     "text": [
      "/usr/local/google/home/thekim/github/aimldl/llm_benchmarks_asian_langs/klue_tc\n"
     ]
    }
   ],
   "source": [
    "%cd klue_tc"
   ]
  },
  {
   "cell_type": "code",
   "execution_count": 14,
   "id": "8827fecd-ff3f-41e3-8d14-e1bcb22b8328",
   "metadata": {},
   "outputs": [
    {
     "name": "stdout",
     "output_type": "stream",
     "text": [
      "ABOUT_KLUE_TC.md    \u001b[0m\u001b[01;34mbenchmark_results\u001b[0m/         \u001b[01;32mrun\u001b[0m*\n",
      "README.md           \u001b[01;34meval_dataset\u001b[0m/              \u001b[01;32msetup.sh\u001b[0m*\n",
      "TROUBLESHOOTING.md  \u001b[01;32minstall_dependencies.sh\u001b[0m*   test_setup.py\n",
      "VERTEX_AI_SETUP.md  klue_tc-gemini2_5flash.py  \u001b[01;32mverify_scripts.sh\u001b[0m*\n",
      "\u001b[01;34m__pycache__\u001b[0m/        requirements.txt\n"
     ]
    }
   ],
   "source": [
    "%ls"
   ]
  },
  {
   "cell_type": "code",
   "execution_count": 16,
   "id": "a902b2fb-8831-4e78-a4c1-3f6bd185d539",
   "metadata": {},
   "outputs": [
    {
     "name": "stdout",
     "output_type": "stream",
     "text": [
      "/usr/local/google/home/thekim/github/aimldl/llm_benchmarks_asian_langs/klue_tc\n"
     ]
    }
   ],
   "source": [
    "!pwd"
   ]
  },
  {
   "cell_type": "code",
   "execution_count": 15,
   "id": "25b7fdbd-b93d-45cb-af90-dedb6e4f8af2",
   "metadata": {},
   "outputs": [
    {
     "name": "stdout",
     "output_type": "stream",
     "text": [
      "\u001b[0;34m[INFO]\u001b[0m Checking prerequisites...\n",
      "\u001b[0;32m[SUCCESS]\u001b[0m Prerequisites check passed\n",
      "\u001b[0;34m[INFO]\u001b[0m Installing Python dependencies...\n",
      "Requirement already satisfied: google-cloud-aiplatform>=1.38.0 in /usr/local/google/home/thekim/anaconda3/envs/klue/lib/python3.11/site-packages (from -r requirements.txt (line 1)) (1.101.0)\n",
      "Requirement already satisfied: vertexai>=0.0.1 in /usr/local/google/home/thekim/anaconda3/envs/klue/lib/python3.11/site-packages (from -r requirements.txt (line 2)) (1.43.0)\n",
      "Requirement already satisfied: datasets>=2.14.0 in /usr/local/google/home/thekim/anaconda3/envs/klue/lib/python3.11/site-packages (from -r requirements.txt (line 3)) (3.6.0)\n",
      "Requirement already satisfied: pandas>=2.0.0 in /usr/local/google/home/thekim/anaconda3/envs/klue/lib/python3.11/site-packages (from -r requirements.txt (line 4)) (2.2.3)\n",
      "Requirement already satisfied: tqdm>=4.65.0 in /usr/local/google/home/thekim/anaconda3/envs/klue/lib/python3.11/site-packages (from -r requirements.txt (line 5)) (4.67.1)\n",
      "Requirement already satisfied: huggingface-hub>=0.16.0 in /usr/local/google/home/thekim/anaconda3/envs/klue/lib/python3.11/site-packages (from -r requirements.txt (line 6)) (0.33.2)\n",
      "Requirement already satisfied: google-auth>=2.17.0 in /usr/local/google/home/thekim/anaconda3/envs/klue/lib/python3.11/site-packages (from -r requirements.txt (line 7)) (2.40.3)\n",
      "Requirement already satisfied: google-api-core!=2.0.*,!=2.1.*,!=2.2.*,!=2.3.*,!=2.4.*,!=2.5.*,!=2.6.*,!=2.7.*,<3.0.0,>=1.34.1 in /usr/local/google/home/thekim/anaconda3/envs/klue/lib/python3.11/site-packages (from google-api-core[grpc]!=2.0.*,!=2.1.*,!=2.2.*,!=2.3.*,!=2.4.*,!=2.5.*,!=2.6.*,!=2.7.*,<3.0.0,>=1.34.1->google-cloud-aiplatform>=1.38.0->-r requirements.txt (line 1)) (2.25.1)\n",
      "Requirement already satisfied: proto-plus<2.0.0,>=1.22.3 in /usr/local/google/home/thekim/anaconda3/envs/klue/lib/python3.11/site-packages (from google-cloud-aiplatform>=1.38.0->-r requirements.txt (line 1)) (1.26.1)\n",
      "Requirement already satisfied: protobuf!=4.21.0,!=4.21.1,!=4.21.2,!=4.21.3,!=4.21.4,!=4.21.5,<7.0.0,>=3.20.2 in /usr/local/google/home/thekim/anaconda3/envs/klue/lib/python3.11/site-packages (from google-cloud-aiplatform>=1.38.0->-r requirements.txt (line 1)) (6.31.1)\n",
      "Requirement already satisfied: packaging>=14.3 in /usr/local/google/home/thekim/anaconda3/envs/klue/lib/python3.11/site-packages (from google-cloud-aiplatform>=1.38.0->-r requirements.txt (line 1)) (24.2)\n",
      "Requirement already satisfied: google-cloud-storage<3.0.0,>=1.32.0 in /usr/local/google/home/thekim/anaconda3/envs/klue/lib/python3.11/site-packages (from google-cloud-aiplatform>=1.38.0->-r requirements.txt (line 1)) (2.19.0)\n",
      "Requirement already satisfied: google-cloud-bigquery!=3.20.0,<4.0.0,>=1.15.0 in /usr/local/google/home/thekim/anaconda3/envs/klue/lib/python3.11/site-packages (from google-cloud-aiplatform>=1.38.0->-r requirements.txt (line 1)) (3.34.0)\n",
      "Requirement already satisfied: google-cloud-resource-manager<3.0.0,>=1.3.3 in /usr/local/google/home/thekim/anaconda3/envs/klue/lib/python3.11/site-packages (from google-cloud-aiplatform>=1.38.0->-r requirements.txt (line 1)) (1.14.2)\n",
      "Requirement already satisfied: shapely<3.0.0 in /usr/local/google/home/thekim/anaconda3/envs/klue/lib/python3.11/site-packages (from google-cloud-aiplatform>=1.38.0->-r requirements.txt (line 1)) (2.1.1)\n",
      "Requirement already satisfied: google-genai<2.0.0,>=1.0.0 in /usr/local/google/home/thekim/anaconda3/envs/klue/lib/python3.11/site-packages (from google-cloud-aiplatform>=1.38.0->-r requirements.txt (line 1)) (1.24.0)\n",
      "Requirement already satisfied: pydantic<3 in /usr/local/google/home/thekim/anaconda3/envs/klue/lib/python3.11/site-packages (from google-cloud-aiplatform>=1.38.0->-r requirements.txt (line 1)) (2.11.7)\n",
      "Requirement already satisfied: typing_extensions in /usr/local/google/home/thekim/anaconda3/envs/klue/lib/python3.11/site-packages (from google-cloud-aiplatform>=1.38.0->-r requirements.txt (line 1)) (4.12.2)\n",
      "Requirement already satisfied: docstring_parser<1 in /usr/local/google/home/thekim/anaconda3/envs/klue/lib/python3.11/site-packages (from google-cloud-aiplatform>=1.38.0->-r requirements.txt (line 1)) (0.16)\n",
      "Requirement already satisfied: cachetools<6.0,>=2.0.0 in /usr/local/google/home/thekim/anaconda3/envs/klue/lib/python3.11/site-packages (from google-auth>=2.17.0->-r requirements.txt (line 7)) (5.5.1)\n",
      "Requirement already satisfied: pyasn1-modules>=0.2.1 in /usr/local/google/home/thekim/anaconda3/envs/klue/lib/python3.11/site-packages (from google-auth>=2.17.0->-r requirements.txt (line 7)) (0.2.8)\n",
      "Requirement already satisfied: rsa<5,>=3.1.4 in /usr/local/google/home/thekim/anaconda3/envs/klue/lib/python3.11/site-packages (from google-auth>=2.17.0->-r requirements.txt (line 7)) (4.9.1)\n",
      "Requirement already satisfied: googleapis-common-protos<2.0.0,>=1.56.2 in /usr/local/google/home/thekim/anaconda3/envs/klue/lib/python3.11/site-packages (from google-api-core!=2.0.*,!=2.1.*,!=2.2.*,!=2.3.*,!=2.4.*,!=2.5.*,!=2.6.*,!=2.7.*,<3.0.0,>=1.34.1->google-api-core[grpc]!=2.0.*,!=2.1.*,!=2.2.*,!=2.3.*,!=2.4.*,!=2.5.*,!=2.6.*,!=2.7.*,<3.0.0,>=1.34.1->google-cloud-aiplatform>=1.38.0->-r requirements.txt (line 1)) (1.70.0)\n",
      "Requirement already satisfied: requests<3.0.0,>=2.18.0 in /usr/local/google/home/thekim/anaconda3/envs/klue/lib/python3.11/site-packages (from google-api-core!=2.0.*,!=2.1.*,!=2.2.*,!=2.3.*,!=2.4.*,!=2.5.*,!=2.6.*,!=2.7.*,<3.0.0,>=1.34.1->google-api-core[grpc]!=2.0.*,!=2.1.*,!=2.2.*,!=2.3.*,!=2.4.*,!=2.5.*,!=2.6.*,!=2.7.*,<3.0.0,>=1.34.1->google-cloud-aiplatform>=1.38.0->-r requirements.txt (line 1)) (2.32.3)\n",
      "Requirement already satisfied: grpcio<2.0.0,>=1.33.2 in /usr/local/google/home/thekim/anaconda3/envs/klue/lib/python3.11/site-packages (from google-api-core[grpc]!=2.0.*,!=2.1.*,!=2.2.*,!=2.3.*,!=2.4.*,!=2.5.*,!=2.6.*,!=2.7.*,<3.0.0,>=1.34.1->google-cloud-aiplatform>=1.38.0->-r requirements.txt (line 1)) (1.73.1)\n",
      "Requirement already satisfied: grpcio-status<2.0.0,>=1.33.2 in /usr/local/google/home/thekim/anaconda3/envs/klue/lib/python3.11/site-packages (from google-api-core[grpc]!=2.0.*,!=2.1.*,!=2.2.*,!=2.3.*,!=2.4.*,!=2.5.*,!=2.6.*,!=2.7.*,<3.0.0,>=1.34.1->google-cloud-aiplatform>=1.38.0->-r requirements.txt (line 1)) (1.73.1)\n",
      "Requirement already satisfied: google-cloud-core<3.0.0,>=2.4.1 in /usr/local/google/home/thekim/anaconda3/envs/klue/lib/python3.11/site-packages (from google-cloud-bigquery!=3.20.0,<4.0.0,>=1.15.0->google-cloud-aiplatform>=1.38.0->-r requirements.txt (line 1)) (2.4.3)\n",
      "Requirement already satisfied: google-resumable-media<3.0.0,>=2.0.0 in /usr/local/google/home/thekim/anaconda3/envs/klue/lib/python3.11/site-packages (from google-cloud-bigquery!=3.20.0,<4.0.0,>=1.15.0->google-cloud-aiplatform>=1.38.0->-r requirements.txt (line 1)) (2.7.2)\n",
      "Requirement already satisfied: python-dateutil<3.0.0,>=2.8.2 in /usr/local/google/home/thekim/anaconda3/envs/klue/lib/python3.11/site-packages (from google-cloud-bigquery!=3.20.0,<4.0.0,>=1.15.0->google-cloud-aiplatform>=1.38.0->-r requirements.txt (line 1)) (2.9.0.post0)\n",
      "Requirement already satisfied: grpc-google-iam-v1<1.0.0,>=0.14.0 in /usr/local/google/home/thekim/anaconda3/envs/klue/lib/python3.11/site-packages (from google-cloud-resource-manager<3.0.0,>=1.3.3->google-cloud-aiplatform>=1.38.0->-r requirements.txt (line 1)) (0.14.2)\n",
      "Requirement already satisfied: google-crc32c<2.0dev,>=1.0 in /usr/local/google/home/thekim/anaconda3/envs/klue/lib/python3.11/site-packages (from google-cloud-storage<3.0.0,>=1.32.0->google-cloud-aiplatform>=1.38.0->-r requirements.txt (line 1)) (1.7.1)\n",
      "Requirement already satisfied: anyio<5.0.0,>=4.8.0 in /usr/local/google/home/thekim/anaconda3/envs/klue/lib/python3.11/site-packages (from google-genai<2.0.0,>=1.0.0->google-cloud-aiplatform>=1.38.0->-r requirements.txt (line 1)) (4.9.0)\n",
      "Requirement already satisfied: httpx<1.0.0,>=0.28.1 in /usr/local/google/home/thekim/anaconda3/envs/klue/lib/python3.11/site-packages (from google-genai<2.0.0,>=1.0.0->google-cloud-aiplatform>=1.38.0->-r requirements.txt (line 1)) (0.28.1)\n",
      "Requirement already satisfied: tenacity<9.0.0,>=8.2.3 in /usr/local/google/home/thekim/anaconda3/envs/klue/lib/python3.11/site-packages (from google-genai<2.0.0,>=1.0.0->google-cloud-aiplatform>=1.38.0->-r requirements.txt (line 1)) (8.5.0)\n",
      "Requirement already satisfied: websockets<15.1.0,>=13.0.0 in /usr/local/google/home/thekim/anaconda3/envs/klue/lib/python3.11/site-packages (from google-genai<2.0.0,>=1.0.0->google-cloud-aiplatform>=1.38.0->-r requirements.txt (line 1)) (15.0.1)\n",
      "Requirement already satisfied: idna>=2.8 in /usr/local/google/home/thekim/anaconda3/envs/klue/lib/python3.11/site-packages (from anyio<5.0.0,>=4.8.0->google-genai<2.0.0,>=1.0.0->google-cloud-aiplatform>=1.38.0->-r requirements.txt (line 1)) (3.7)\n",
      "Requirement already satisfied: sniffio>=1.1 in /usr/local/google/home/thekim/anaconda3/envs/klue/lib/python3.11/site-packages (from anyio<5.0.0,>=4.8.0->google-genai<2.0.0,>=1.0.0->google-cloud-aiplatform>=1.38.0->-r requirements.txt (line 1)) (1.3.0)\n",
      "Requirement already satisfied: certifi in /usr/local/google/home/thekim/anaconda3/envs/klue/lib/python3.11/site-packages (from httpx<1.0.0,>=0.28.1->google-genai<2.0.0,>=1.0.0->google-cloud-aiplatform>=1.38.0->-r requirements.txt (line 1)) (2025.4.26)\n",
      "Requirement already satisfied: httpcore==1.* in /usr/local/google/home/thekim/anaconda3/envs/klue/lib/python3.11/site-packages (from httpx<1.0.0,>=0.28.1->google-genai<2.0.0,>=1.0.0->google-cloud-aiplatform>=1.38.0->-r requirements.txt (line 1)) (1.0.9)\n",
      "Requirement already satisfied: h11>=0.16 in /usr/local/google/home/thekim/anaconda3/envs/klue/lib/python3.11/site-packages (from httpcore==1.*->httpx<1.0.0,>=0.28.1->google-genai<2.0.0,>=1.0.0->google-cloud-aiplatform>=1.38.0->-r requirements.txt (line 1)) (0.16.0)\n",
      "Requirement already satisfied: annotated-types>=0.6.0 in /usr/local/google/home/thekim/anaconda3/envs/klue/lib/python3.11/site-packages (from pydantic<3->google-cloud-aiplatform>=1.38.0->-r requirements.txt (line 1)) (0.7.0)\n",
      "Requirement already satisfied: pydantic-core==2.33.2 in /usr/local/google/home/thekim/anaconda3/envs/klue/lib/python3.11/site-packages (from pydantic<3->google-cloud-aiplatform>=1.38.0->-r requirements.txt (line 1)) (2.33.2)\n",
      "Requirement already satisfied: typing-inspection>=0.4.0 in /usr/local/google/home/thekim/anaconda3/envs/klue/lib/python3.11/site-packages (from pydantic<3->google-cloud-aiplatform>=1.38.0->-r requirements.txt (line 1)) (0.4.1)\n",
      "Requirement already satisfied: six>=1.5 in /usr/local/google/home/thekim/anaconda3/envs/klue/lib/python3.11/site-packages (from python-dateutil<3.0.0,>=2.8.2->google-cloud-bigquery!=3.20.0,<4.0.0,>=1.15.0->google-cloud-aiplatform>=1.38.0->-r requirements.txt (line 1)) (1.17.0)\n",
      "Requirement already satisfied: charset-normalizer<4,>=2 in /usr/local/google/home/thekim/anaconda3/envs/klue/lib/python3.11/site-packages (from requests<3.0.0,>=2.18.0->google-api-core!=2.0.*,!=2.1.*,!=2.2.*,!=2.3.*,!=2.4.*,!=2.5.*,!=2.6.*,!=2.7.*,<3.0.0,>=1.34.1->google-api-core[grpc]!=2.0.*,!=2.1.*,!=2.2.*,!=2.3.*,!=2.4.*,!=2.5.*,!=2.6.*,!=2.7.*,<3.0.0,>=1.34.1->google-cloud-aiplatform>=1.38.0->-r requirements.txt (line 1)) (3.3.2)\n",
      "Requirement already satisfied: urllib3<3,>=1.21.1 in /usr/local/google/home/thekim/anaconda3/envs/klue/lib/python3.11/site-packages (from requests<3.0.0,>=2.18.0->google-api-core!=2.0.*,!=2.1.*,!=2.2.*,!=2.3.*,!=2.4.*,!=2.5.*,!=2.6.*,!=2.7.*,<3.0.0,>=1.34.1->google-api-core[grpc]!=2.0.*,!=2.1.*,!=2.2.*,!=2.3.*,!=2.4.*,!=2.5.*,!=2.6.*,!=2.7.*,<3.0.0,>=1.34.1->google-cloud-aiplatform>=1.38.0->-r requirements.txt (line 1)) (2.3.0)\n",
      "Requirement already satisfied: pyasn1>=0.1.3 in /usr/local/google/home/thekim/anaconda3/envs/klue/lib/python3.11/site-packages (from rsa<5,>=3.1.4->google-auth>=2.17.0->-r requirements.txt (line 7)) (0.4.8)\n",
      "Requirement already satisfied: numpy>=1.21 in /usr/local/google/home/thekim/anaconda3/envs/klue/lib/python3.11/site-packages (from shapely<3.0.0->google-cloud-aiplatform>=1.38.0->-r requirements.txt (line 1)) (2.1.3)\n",
      "Requirement already satisfied: filelock in /usr/local/google/home/thekim/anaconda3/envs/klue/lib/python3.11/site-packages (from datasets>=2.14.0->-r requirements.txt (line 3)) (3.17.0)\n",
      "Requirement already satisfied: pyarrow>=15.0.0 in /usr/local/google/home/thekim/anaconda3/envs/klue/lib/python3.11/site-packages (from datasets>=2.14.0->-r requirements.txt (line 3)) (19.0.0)\n",
      "Requirement already satisfied: dill<0.3.9,>=0.3.0 in /usr/local/google/home/thekim/anaconda3/envs/klue/lib/python3.11/site-packages (from datasets>=2.14.0->-r requirements.txt (line 3)) (0.3.8)\n",
      "Requirement already satisfied: xxhash in /usr/local/google/home/thekim/anaconda3/envs/klue/lib/python3.11/site-packages (from datasets>=2.14.0->-r requirements.txt (line 3)) (3.5.0)\n",
      "Requirement already satisfied: multiprocess<0.70.17 in /usr/local/google/home/thekim/anaconda3/envs/klue/lib/python3.11/site-packages (from datasets>=2.14.0->-r requirements.txt (line 3)) (0.70.16)\n",
      "Requirement already satisfied: fsspec<=2025.3.0,>=2023.1.0 in /usr/local/google/home/thekim/anaconda3/envs/klue/lib/python3.11/site-packages (from fsspec[http]<=2025.3.0,>=2023.1.0->datasets>=2.14.0->-r requirements.txt (line 3)) (2025.3.0)\n",
      "Requirement already satisfied: pyyaml>=5.1 in /usr/local/google/home/thekim/anaconda3/envs/klue/lib/python3.11/site-packages (from datasets>=2.14.0->-r requirements.txt (line 3)) (6.0.2)\n",
      "Requirement already satisfied: aiohttp!=4.0.0a0,!=4.0.0a1 in /usr/local/google/home/thekim/anaconda3/envs/klue/lib/python3.11/site-packages (from fsspec[http]<=2025.3.0,>=2023.1.0->datasets>=2.14.0->-r requirements.txt (line 3)) (3.11.10)\n",
      "Requirement already satisfied: pytz>=2020.1 in /usr/local/google/home/thekim/anaconda3/envs/klue/lib/python3.11/site-packages (from pandas>=2.0.0->-r requirements.txt (line 4)) (2024.1)\n",
      "Requirement already satisfied: tzdata>=2022.7 in /usr/local/google/home/thekim/anaconda3/envs/klue/lib/python3.11/site-packages (from pandas>=2.0.0->-r requirements.txt (line 4)) (2025.2)\n",
      "Requirement already satisfied: hf-xet<2.0.0,>=1.1.2 in /usr/local/google/home/thekim/anaconda3/envs/klue/lib/python3.11/site-packages (from huggingface-hub>=0.16.0->-r requirements.txt (line 6)) (1.1.5)\n",
      "Requirement already satisfied: aiohappyeyeballs>=2.3.0 in /usr/local/google/home/thekim/anaconda3/envs/klue/lib/python3.11/site-packages (from aiohttp!=4.0.0a0,!=4.0.0a1->fsspec[http]<=2025.3.0,>=2023.1.0->datasets>=2.14.0->-r requirements.txt (line 3)) (2.4.4)\n",
      "Requirement already satisfied: aiosignal>=1.1.2 in /usr/local/google/home/thekim/anaconda3/envs/klue/lib/python3.11/site-packages (from aiohttp!=4.0.0a0,!=4.0.0a1->fsspec[http]<=2025.3.0,>=2023.1.0->datasets>=2.14.0->-r requirements.txt (line 3)) (1.2.0)\n",
      "Requirement already satisfied: attrs>=17.3.0 in /usr/local/google/home/thekim/anaconda3/envs/klue/lib/python3.11/site-packages (from aiohttp!=4.0.0a0,!=4.0.0a1->fsspec[http]<=2025.3.0,>=2023.1.0->datasets>=2.14.0->-r requirements.txt (line 3)) (24.3.0)\n",
      "Requirement already satisfied: frozenlist>=1.1.1 in /usr/local/google/home/thekim/anaconda3/envs/klue/lib/python3.11/site-packages (from aiohttp!=4.0.0a0,!=4.0.0a1->fsspec[http]<=2025.3.0,>=2023.1.0->datasets>=2.14.0->-r requirements.txt (line 3)) (1.5.0)\n",
      "Requirement already satisfied: multidict<7.0,>=4.5 in /usr/local/google/home/thekim/anaconda3/envs/klue/lib/python3.11/site-packages (from aiohttp!=4.0.0a0,!=4.0.0a1->fsspec[http]<=2025.3.0,>=2023.1.0->datasets>=2.14.0->-r requirements.txt (line 3)) (6.1.0)\n",
      "Requirement already satisfied: propcache>=0.2.0 in /usr/local/google/home/thekim/anaconda3/envs/klue/lib/python3.11/site-packages (from aiohttp!=4.0.0a0,!=4.0.0a1->fsspec[http]<=2025.3.0,>=2023.1.0->datasets>=2.14.0->-r requirements.txt (line 3)) (0.3.1)\n",
      "Requirement already satisfied: yarl<2.0,>=1.17.0 in /usr/local/google/home/thekim/anaconda3/envs/klue/lib/python3.11/site-packages (from aiohttp!=4.0.0a0,!=4.0.0a1->fsspec[http]<=2025.3.0,>=2023.1.0->datasets>=2.14.0->-r requirements.txt (line 3)) (1.18.0)\n",
      "\u001b[0;32m[SUCCESS]\u001b[0m Dependencies installed successfully!\n",
      "\u001b[0;34m[INFO]\u001b[0m Testing the setup...\n",
      "============================================================\n",
      "KLUE TC Benchmark Setup Test (Vertex AI)\n",
      "============================================================\n",
      "Testing package imports...\n",
      "✓ google.cloud.aiplatform\n",
      "✓ vertexai\n",
      "✓ datasets\n",
      "✓ pandas\n",
      "✓ tqdm\n",
      "✓ huggingface_hub\n",
      "✓ google.auth\n",
      "\n",
      "✅ All packages imported successfully!\n",
      "\n",
      "Testing environment variables...\n",
      "✓ GOOGLE_CLOUD_PROJECT: vertex-workbench-notebook\n",
      "⚠ GOOGLE_APPLICATION_CREDENTIALS: Not set (using default credentials)\n",
      "\n",
      "Testing KLUE dataset loading...\n",
      "✓ KLUE ynat dataset for TC loaded successfully\n",
      "  - Train samples: 45678\n",
      "  - Validation samples: 9107\n",
      "  - Sample from validation set:\n",
      "    - Sample title: 5억원 무이자 융자는 되고 7천만원 이사비는 안된다\n",
      "    - Sample text: N/A...\n",
      "    - Sample label: 2\n",
      "\n",
      "Testing Vertex AI authentication...\n",
      "✓ Credentials found\n",
      "  - Project: vertex-workbench-notebook\n",
      "  - Credentials type: Credentials\n",
      "✓ Vertex AI initialization works\n",
      "\n",
      "============================================================\n",
      "Test Summary\n",
      "============================================================\n",
      "❌ Some tests failed. Please fix the issues above.\n",
      "\u001b[0;31m[ERROR]\u001b[0m Setup test failed!\n"
     ]
    }
   ],
   "source": [
    "!./setup.sh full"
   ]
  },
  {
   "cell_type": "code",
   "execution_count": null,
   "id": "ea20a12d-e69b-4573-bcba-87aec305e978",
   "metadata": {},
   "outputs": [],
   "source": [
    "!./run test"
   ]
  }
 ],
 "metadata": {
  "kernelspec": {
   "display_name": "Python 3 (ipykernel)",
   "language": "python",
   "name": "python3"
  },
  "language_info": {
   "codemirror_mode": {
    "name": "ipython",
    "version": 3
   },
   "file_extension": ".py",
   "mimetype": "text/x-python",
   "name": "python",
   "nbconvert_exporter": "python",
   "pygments_lexer": "ipython3",
   "version": "3.11.13"
  }
 },
 "nbformat": 4,
 "nbformat_minor": 5
}
